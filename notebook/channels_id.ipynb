{
 "cells": [
  {
   "cell_type": "markdown",
   "metadata": {
    "id": "SCPcYSV8Jt1T"
   },
   "source": [
    "# How to find a YouTube channel Id?\n",
    "\n",
    "One way to get a channel Id is to go through the source code of youtube channel page and look for Id. [You can check this post](https://stackoverflow.com/questions/14366648/how-can-i-get-a-channel-id-from-youtube).   \n",
    "Now imagine that you want to retrieve the IDs for a list of youtube channels, which can include one, two or several hundred youtube channels.  Then you should look for a better solution.   \n",
    "An alternative solution is to use the YouTube API, if in the first place we need the id to use it, but we can work around to get the id of the channel, using the [`search`](https://developers.google.com/youtube/v3/guides/implementation/search) requests and the name of the channel. Drawback of this approach, it can return more than one result because the names of the channel are not necessarily unique. In addition, each search request costs 100 units, which can be an issue considering that the quota limit is 10,000 units per day ([quota usage](https://developers.google.com/youtube/v3/getting-started?hl=en#quota)).\n",
    " \n"
   ]
  },
  {
   "cell_type": "code",
   "execution_count": 1,
   "metadata": {
    "id": "JtZLnCAeZi7d"
   },
   "outputs": [],
   "source": [
    "from googleapiclient.discovery import build\n",
    "import pandas as pd\n",
    "import json\n",
    "from dotenv import load_dotenv\n",
    "import os\n",
    "from tqdm import tqdm"
   ]
  },
  {
   "cell_type": "markdown",
   "metadata": {},
   "source": [
    "## Load the data\n",
    "\n",
    "First, we load a dataset of the youtube channels which we are looking for the IDs. The dataset was scraped from [Top Programmer Guru](https://noonies.tech/award/top-programming-guru) web page using the framework [`selenium`](https://github.com/SeleniumHQ/). The code is avaible [here](web_scraping.py)."
   ]
  },
  {
   "cell_type": "code",
   "execution_count": 2,
   "metadata": {
    "id": "kpeL7xdhaBDQ"
   },
   "outputs": [],
   "source": [
    "channelList = pd.read_csv('data/top-programming-guru.csv')"
   ]
  },
  {
   "cell_type": "code",
   "execution_count": 3,
   "metadata": {
    "colab": {
     "base_uri": "https://localhost:8080/",
     "height": 206
    },
    "id": "O-8PwpdbaVcP",
    "outputId": "bcf621e8-8fd5-49cb-b20e-c0e76bdf3f6e"
   },
   "outputs": [
    {
     "data": {
      "text/html": [
       "<div>\n",
       "<style scoped>\n",
       "    .dataframe tbody tr th:only-of-type {\n",
       "        vertical-align: middle;\n",
       "    }\n",
       "\n",
       "    .dataframe tbody tr th {\n",
       "        vertical-align: top;\n",
       "    }\n",
       "\n",
       "    .dataframe thead th {\n",
       "        text-align: right;\n",
       "    }\n",
       "</style>\n",
       "<table border=\"1\" class=\"dataframe\">\n",
       "  <thead>\n",
       "    <tr style=\"text-align: right;\">\n",
       "      <th></th>\n",
       "      <th>channelName</th>\n",
       "      <th>url</th>\n",
       "      <th>rank</th>\n",
       "    </tr>\n",
       "  </thead>\n",
       "  <tbody>\n",
       "    <tr>\n",
       "      <th>0</th>\n",
       "      <td>Programming with Mosh</td>\n",
       "      <td>https://www.youtube.com/c/programmingwithmosh/...</td>\n",
       "      <td>1</td>\n",
       "    </tr>\n",
       "    <tr>\n",
       "      <th>1</th>\n",
       "      <td>Traversy Media</td>\n",
       "      <td>https://www.youtube.com/user/TechGuyWeb</td>\n",
       "      <td>2</td>\n",
       "    </tr>\n",
       "    <tr>\n",
       "      <th>2</th>\n",
       "      <td>Corey Schafer</td>\n",
       "      <td>https://www.youtube.com/user/schafer5</td>\n",
       "      <td>3</td>\n",
       "    </tr>\n",
       "    <tr>\n",
       "      <th>3</th>\n",
       "      <td>Tech With Tim</td>\n",
       "      <td>https://m.youtube.com/channel/UC4JX40jDee_tINb...</td>\n",
       "      <td>4</td>\n",
       "    </tr>\n",
       "    <tr>\n",
       "      <th>4</th>\n",
       "      <td>Krish Naik</td>\n",
       "      <td>https://www.youtube.com/user/krishnaik06/playl...</td>\n",
       "      <td>5</td>\n",
       "    </tr>\n",
       "  </tbody>\n",
       "</table>\n",
       "</div>"
      ],
      "text/plain": [
       "             channelName                                                url  \\\n",
       "0  Programming with Mosh  https://www.youtube.com/c/programmingwithmosh/...   \n",
       "1         Traversy Media            https://www.youtube.com/user/TechGuyWeb   \n",
       "2          Corey Schafer              https://www.youtube.com/user/schafer5   \n",
       "3          Tech With Tim  https://m.youtube.com/channel/UC4JX40jDee_tINb...   \n",
       "4             Krish Naik  https://www.youtube.com/user/krishnaik06/playl...   \n",
       "\n",
       "   rank  \n",
       "0     1  \n",
       "1     2  \n",
       "2     3  \n",
       "3     4  \n",
       "4     5  "
      ]
     },
     "execution_count": 3,
     "metadata": {},
     "output_type": "execute_result"
    }
   ],
   "source": [
    "channelList.head()"
   ]
  },
  {
   "cell_type": "code",
   "execution_count": 4,
   "metadata": {},
   "outputs": [
    {
     "data": {
      "text/plain": [
       "(71, 3)"
      ]
     },
     "execution_count": 4,
     "metadata": {},
     "output_type": "execute_result"
    }
   ],
   "source": [
    "channelList.shape"
   ]
  },
  {
   "cell_type": "markdown",
   "metadata": {},
   "source": [
    "### Clean the data\n",
    "\n",
    "We going to check if theyre in any duplicate in `channelName` colomn then in the `url` colomn."
   ]
  },
  {
   "cell_type": "code",
   "execution_count": 5,
   "metadata": {
    "scrolled": true
   },
   "outputs": [
    {
     "data": {
      "text/plain": [
       "michael reeves              2\n",
       "the coding train            2\n",
       "maximilian schwarzmüller    1\n",
       "chuck severance             1\n",
       "naveen reddy                1\n",
       "                           ..\n",
       "thomas kim                  1\n",
       "durga software solutions    1\n",
       "fazt                        1\n",
       "angelsix                    1\n",
       "code basics                 1\n",
       "Name: channelName, Length: 69, dtype: int64"
      ]
     },
     "execution_count": 5,
     "metadata": {},
     "output_type": "execute_result"
    }
   ],
   "source": [
    "channelList['channelName'].str.lower().value_counts() #[channelList.channelName.value_counts()>1]"
   ]
  },
  {
   "cell_type": "markdown",
   "metadata": {},
   "source": [
    "We find two duplicate, we are going to remove"
   ]
  },
  {
   "cell_type": "code",
   "execution_count": 6,
   "metadata": {
    "scrolled": true
   },
   "outputs": [
    {
     "data": {
      "text/plain": [
       "14      Michael Reeves\n",
       "16    The Coding Train\n",
       "48    the coding train\n",
       "68      Michael Reeves\n",
       "Name: channelName, dtype: object"
      ]
     },
     "execution_count": 6,
     "metadata": {},
     "output_type": "execute_result"
    }
   ],
   "source": [
    "channelList.channelName[(channelList['channelName'].str.lower() == 'michael reeves') |\n",
    "                        (channelList['channelName'].str.lower() == 'the coding train')]"
   ]
  },
  {
   "cell_type": "markdown",
   "metadata": {},
   "source": [
    "We can use [`drop_duplicates`](https://pandas.pydata.org/pandas-docs/stable/reference/api/pandas.DataFrame.drop_duplicates.html) method, but this going to  work only for one channel. Instead we are going to use the [`drop`](https://pandas.pydata.org/pandas-docs/stable/reference/api/pandas.DataFrame.drop.html) method to remove the seconde duplicate."
   ]
  },
  {
   "cell_type": "code",
   "execution_count": 7,
   "metadata": {},
   "outputs": [],
   "source": [
    "channelList.drop(labels=[48, 68], inplace=True)"
   ]
  },
  {
   "cell_type": "code",
   "execution_count": 8,
   "metadata": {},
   "outputs": [
    {
     "data": {
      "text/plain": [
       "(69, 3)"
      ]
     },
     "execution_count": 8,
     "metadata": {},
     "output_type": "execute_result"
    }
   ],
   "source": [
    "channelList.shape"
   ]
  },
  {
   "cell_type": "markdown",
   "metadata": {},
   "source": [
    "Let's check the `url` column."
   ]
  },
  {
   "cell_type": "code",
   "execution_count": 9,
   "metadata": {
    "scrolled": true
   },
   "outputs": [
    {
     "data": {
      "text/plain": [
       "https://www.youtube.com/c/Telusko                               3\n",
       "https://www.youtube.com/c/HusseinNasser-software-engineering    2\n",
       "https://www.youtube.com/dataschool                              1\n",
       "https://m.youtube.com/results?search_query=code+with+harry      1\n",
       "https://www.youtube.com/results?search_query=gaurav+sen         1\n",
       "Name: url, dtype: int64"
      ]
     },
     "execution_count": 9,
     "metadata": {},
     "output_type": "execute_result"
    }
   ],
   "source": [
    "channelList.url.value_counts().head()"
   ]
  },
  {
   "cell_type": "code",
   "execution_count": 10,
   "metadata": {
    "scrolled": true
   },
   "outputs": [
    {
     "data": {
      "text/plain": [
       "Index(['https://www.youtube.com/c/Telusko', 'https://www.youtube.com/c/HusseinNasser-software-engineering'], dtype='object')"
      ]
     },
     "execution_count": 10,
     "metadata": {},
     "output_type": "execute_result"
    }
   ],
   "source": [
    "duplicate_url = channelList.url.value_counts()[channelList.url.value_counts()>1].index\n",
    "duplicate_url"
   ]
  },
  {
   "cell_type": "code",
   "execution_count": 11,
   "metadata": {
    "scrolled": true
   },
   "outputs": [
    {
     "data": {
      "text/plain": [
       "Index(['https://www.youtube.com/c/Telusko', 'https://www.youtube.com/c/HusseinNasser-software-engineering'], dtype='object')"
      ]
     },
     "execution_count": 11,
     "metadata": {},
     "output_type": "execute_result"
    }
   ],
   "source": [
    "duplicate_url"
   ]
  },
  {
   "cell_type": "code",
   "execution_count": 12,
   "metadata": {
    "scrolled": true
   },
   "outputs": [
    {
     "data": {
      "text/html": [
       "<div>\n",
       "<style scoped>\n",
       "    .dataframe tbody tr th:only-of-type {\n",
       "        vertical-align: middle;\n",
       "    }\n",
       "\n",
       "    .dataframe tbody tr th {\n",
       "        vertical-align: top;\n",
       "    }\n",
       "\n",
       "    .dataframe thead th {\n",
       "        text-align: right;\n",
       "    }\n",
       "</style>\n",
       "<table border=\"1\" class=\"dataframe\">\n",
       "  <thead>\n",
       "    <tr style=\"text-align: right;\">\n",
       "      <th></th>\n",
       "      <th>channelName</th>\n",
       "      <th>url</th>\n",
       "      <th>rank</th>\n",
       "    </tr>\n",
       "  </thead>\n",
       "  <tbody>\n",
       "    <tr>\n",
       "      <th>10</th>\n",
       "      <td>naveen Reddy</td>\n",
       "      <td>https://www.youtube.com/c/Telusko</td>\n",
       "      <td>11</td>\n",
       "    </tr>\n",
       "    <tr>\n",
       "      <th>27</th>\n",
       "      <td>Telusko</td>\n",
       "      <td>https://www.youtube.com/c/Telusko</td>\n",
       "      <td>28</td>\n",
       "    </tr>\n",
       "    <tr>\n",
       "      <th>44</th>\n",
       "      <td>Keith Galli</td>\n",
       "      <td>https://www.youtube.com/c/Telusko</td>\n",
       "      <td>45</td>\n",
       "    </tr>\n",
       "  </tbody>\n",
       "</table>\n",
       "</div>"
      ],
      "text/plain": [
       "     channelName                                url  rank\n",
       "10  naveen Reddy  https://www.youtube.com/c/Telusko    11\n",
       "27       Telusko  https://www.youtube.com/c/Telusko    28\n",
       "44   Keith Galli  https://www.youtube.com/c/Telusko    45"
      ]
     },
     "execution_count": 12,
     "metadata": {},
     "output_type": "execute_result"
    }
   ],
   "source": [
    "channelList[channelList.url == duplicate_url[0]]"
   ]
  },
  {
   "cell_type": "markdown",
   "metadata": {},
   "source": [
    "We notice that three different channels have the same url, after a quick search on YouTube, we found that `naveeb Reddy` and `Telusko` should reference the same channel, the one run by `Navin Reddy`.  For [`Keith Galli`](https://www.youtube.com/c/KGMIT/featured) channel we will to look in YouTube for the correct url."
   ]
  },
  {
   "cell_type": "code",
   "execution_count": 13,
   "metadata": {},
   "outputs": [],
   "source": [
    "channelList.loc[44, 'url'] = 'https://www.youtube.com/c/KGMIT/featured'"
   ]
  },
  {
   "cell_type": "code",
   "execution_count": 14,
   "metadata": {
    "scrolled": true
   },
   "outputs": [
    {
     "data": {
      "text/html": [
       "<div>\n",
       "<style scoped>\n",
       "    .dataframe tbody tr th:only-of-type {\n",
       "        vertical-align: middle;\n",
       "    }\n",
       "\n",
       "    .dataframe tbody tr th {\n",
       "        vertical-align: top;\n",
       "    }\n",
       "\n",
       "    .dataframe thead th {\n",
       "        text-align: right;\n",
       "    }\n",
       "</style>\n",
       "<table border=\"1\" class=\"dataframe\">\n",
       "  <thead>\n",
       "    <tr style=\"text-align: right;\">\n",
       "      <th></th>\n",
       "      <th>channelName</th>\n",
       "      <th>url</th>\n",
       "      <th>rank</th>\n",
       "    </tr>\n",
       "  </thead>\n",
       "  <tbody>\n",
       "    <tr>\n",
       "      <th>26</th>\n",
       "      <td>Ben Awad</td>\n",
       "      <td>https://www.youtube.com/c/HusseinNasser-softwa...</td>\n",
       "      <td>27</td>\n",
       "    </tr>\n",
       "    <tr>\n",
       "      <th>29</th>\n",
       "      <td>Hussein Nasser</td>\n",
       "      <td>https://www.youtube.com/c/HusseinNasser-softwa...</td>\n",
       "      <td>30</td>\n",
       "    </tr>\n",
       "  </tbody>\n",
       "</table>\n",
       "</div>"
      ],
      "text/plain": [
       "       channelName                                                url  rank\n",
       "26        Ben Awad  https://www.youtube.com/c/HusseinNasser-softwa...    27\n",
       "29  Hussein Nasser  https://www.youtube.com/c/HusseinNasser-softwa...    30"
      ]
     },
     "execution_count": 14,
     "metadata": {},
     "output_type": "execute_result"
    }
   ],
   "source": [
    "channelList[channelList.url == duplicate_url[1]]"
   ]
  },
  {
   "cell_type": "markdown",
   "metadata": {},
   "source": [
    "We will correct the url for `Ben Awad` channel."
   ]
  },
  {
   "cell_type": "code",
   "execution_count": 15,
   "metadata": {},
   "outputs": [],
   "source": [
    "channelList.loc[26, 'url'] = 'https://www.youtube.com/c/BenAwad97/featured'"
   ]
  },
  {
   "cell_type": "markdown",
   "metadata": {},
   "source": [
    "After the correction of the wrong url, we will delete any remaining duplicates."
   ]
  },
  {
   "cell_type": "code",
   "execution_count": 16,
   "metadata": {},
   "outputs": [],
   "source": [
    "channelList.drop_duplicates(subset='url',ignore_index=True, inplace=True)"
   ]
  },
  {
   "cell_type": "code",
   "execution_count": 17,
   "metadata": {
    "colab": {
     "base_uri": "https://localhost:8080/"
    },
    "id": "K8QFPNX2bV09",
    "outputId": "bc0acddf-5940-4d68-afad-885aee18a46b"
   },
   "outputs": [
    {
     "name": "stdout",
     "output_type": "stream",
     "text": [
      "<class 'pandas.core.frame.DataFrame'>\n",
      "RangeIndex: 68 entries, 0 to 67\n",
      "Data columns (total 3 columns):\n",
      " #   Column       Non-Null Count  Dtype \n",
      "---  ------       --------------  ----- \n",
      " 0   channelName  68 non-null     object\n",
      " 1   url          68 non-null     object\n",
      " 2   rank         68 non-null     int64 \n",
      "dtypes: int64(1), object(2)\n",
      "memory usage: 1.7+ KB\n"
     ]
    }
   ],
   "source": [
    "channelList.info()"
   ]
  },
  {
   "cell_type": "markdown",
   "metadata": {},
   "source": [
    "### Save the data\n",
    "After removing the duplicate rows, we save the clean data in a new `csv` file.  "
   ]
  },
  {
   "cell_type": "code",
   "execution_count": 19,
   "metadata": {},
   "outputs": [],
   "source": [
    "channelList.to_csv('data/channelListDB.csv', index=False)"
   ]
  },
  {
   "cell_type": "code",
   "execution_count": 20,
   "metadata": {
    "id": "j1XPt939ayCB"
   },
   "outputs": [],
   "source": [
    "# we store channels title in list\n",
    "channels = channelList.channelName.values"
   ]
  },
  {
   "cell_type": "markdown",
   "metadata": {},
   "source": [
    "## Load the API key"
   ]
  },
  {
   "cell_type": "code",
   "execution_count": 21,
   "metadata": {
    "id": "E9LPNn1fbcz3"
   },
   "outputs": [],
   "source": [
    "load_dotenv()\n",
    "API_KEY = os.getenv('api_key2')\n",
    "youtube = build('youtube', 'v3', developerKey=API_KEY)"
   ]
  },
  {
   "cell_type": "code",
   "execution_count": 25,
   "metadata": {
    "colab": {
     "base_uri": "https://localhost:8080/"
    },
    "id": "MBsjkh5gcNZQ",
    "outputId": "5ee645b8-3f6a-4a20-b14f-d12bb5fa1eea",
    "scrolled": true
   },
   "outputs": [],
   "source": [
    "request = youtube.search().list(\n",
    "        part=\"snippet\",\n",
    "        maxResults=1, # limit the search to one result\n",
    "        q=\"Programming with Mosh\",\n",
    "        type=\"channel\", # we going to look only for a youtube channels\n",
    "    )\n",
    "response = request.execute()\n"
   ]
  },
  {
   "cell_type": "code",
   "execution_count": 27,
   "metadata": {
    "scrolled": true
   },
   "outputs": [
    {
     "name": "stdout",
     "output_type": "stream",
     "text": [
      "{\n",
      "    \"kind\": \"youtube#searchListResponse\",\n",
      "    \"etag\": \"HacBt_2AqJV_Iu-Pp4VTDMJDkrE\",\n",
      "    \"nextPageToken\": \"CAEQAA\",\n",
      "    \"regionCode\": \"FR\",\n",
      "    \"pageInfo\": {\n",
      "        \"totalResults\": 484,\n",
      "        \"resultsPerPage\": 1\n",
      "    },\n",
      "    \"items\": [\n",
      "        {\n",
      "            \"kind\": \"youtube#searchResult\",\n",
      "            \"etag\": \"gX6q_SxI_mOFL3iiHS8UQX-pAA8\",\n",
      "            \"id\": {\n",
      "                \"kind\": \"youtube#channel\",\n",
      "                \"channelId\": \"UCWv7vMbMWH4-V0ZXdmDpPBA\"\n",
      "            },\n",
      "            \"snippet\": {\n",
      "                \"publishedAt\": \"2014-10-07T00:40:53Z\",\n",
      "                \"channelId\": \"UCWv7vMbMWH4-V0ZXdmDpPBA\",\n",
      "                \"title\": \"Programming with Mosh\",\n",
      "                \"description\": \"I train professional software engineers that companies love to hire. My courses: http://codewithmosh.com My blog: http://programmingwithmosh.com Connect on ...\",\n",
      "                \"thumbnails\": {\n",
      "                    \"default\": {\n",
      "                        \"url\": \"https://yt3.ggpht.com/ytc/AKedOLQ09D8wVCdgWoCN3IPrvVKWi48-R2QZ_yJkCmKh-A=s88-c-k-c0xffffffff-no-rj-mo\"\n",
      "                    },\n",
      "                    \"medium\": {\n",
      "                        \"url\": \"https://yt3.ggpht.com/ytc/AKedOLQ09D8wVCdgWoCN3IPrvVKWi48-R2QZ_yJkCmKh-A=s240-c-k-c0xffffffff-no-rj-mo\"\n",
      "                    },\n",
      "                    \"high\": {\n",
      "                        \"url\": \"https://yt3.ggpht.com/ytc/AKedOLQ09D8wVCdgWoCN3IPrvVKWi48-R2QZ_yJkCmKh-A=s800-c-k-c0xffffffff-no-rj-mo\"\n",
      "                    }\n",
      "                },\n",
      "                \"channelTitle\": \"Programming with Mosh\",\n",
      "                \"liveBroadcastContent\": \"upcoming\",\n",
      "                \"publishTime\": \"2014-10-07T00:40:53Z\"\n",
      "            }\n",
      "        }\n",
      "    ]\n",
      "}\n"
     ]
    }
   ],
   "source": [
    "print(json.dumps(response,indent=4))"
   ]
  },
  {
   "cell_type": "code",
   "execution_count": 28,
   "metadata": {
    "colab": {
     "base_uri": "https://localhost:8080/",
     "height": 35
    },
    "id": "gCCzaac7eir7",
    "outputId": "2f143946-6373-48a4-98a7-34e5b171bdbf",
    "scrolled": true
   },
   "outputs": [
    {
     "data": {
      "text/plain": [
       "'UCWv7vMbMWH4-V0ZXdmDpPBA'"
      ]
     },
     "execution_count": 28,
     "metadata": {},
     "output_type": "execute_result"
    }
   ],
   "source": [
    "response['items'][0]['snippet']['channelId']"
   ]
  },
  {
   "cell_type": "markdown",
   "metadata": {},
   "source": [
    "### Display the result of the first request"
   ]
  },
  {
   "cell_type": "code",
   "execution_count": 29,
   "metadata": {
    "colab": {
     "base_uri": "https://localhost:8080/"
    },
    "id": "hzbYr-SIfFqV",
    "outputId": "e54ee4c5-038a-48ea-e0c7-985c3218bb3b"
   },
   "outputs": [
    {
     "name": "stdout",
     "output_type": "stream",
     "text": [
      "Programming with Mosh\n",
      "UCWv7vMbMWH4-V0ZXdmDpPBA\n",
      "youtube#channel\n",
      "**********\n"
     ]
    }
   ],
   "source": [
    "for item in response['items']:\n",
    "    print(item['snippet']['title'])\n",
    "    print(item['snippet']['channelId'])\n",
    "    print(item['id']['kind'])\n",
    "    print('*' * 10)"
   ]
  },
  {
   "cell_type": "markdown",
   "metadata": {},
   "source": [
    "### Initialize dictionary to store the results"
   ]
  },
  {
   "cell_type": "code",
   "execution_count": 30,
   "metadata": {
    "id": "56EvjwTjfZYH"
   },
   "outputs": [],
   "source": [
    "data = {'channelName': [], 'title': [], 'id':[], 'kind':[]}"
   ]
  },
  {
   "cell_type": "markdown",
   "metadata": {},
   "source": [
    "### Add the first result to dictionary "
   ]
  },
  {
   "cell_type": "code",
   "execution_count": 31,
   "metadata": {
    "id": "fNktO2AVjHp8"
   },
   "outputs": [],
   "source": [
    "id = response['items'][0]['snippet']['channelId']\n",
    "title = response['items'][0]['snippet']['title']\n",
    "kind = response['items'][0]['id']['kind']"
   ]
  },
  {
   "cell_type": "code",
   "execution_count": 32,
   "metadata": {
    "colab": {
     "base_uri": "https://localhost:8080/",
     "height": 35
    },
    "id": "dpdfdNVzjQ3A",
    "outputId": "3f691a49-cb4b-4a77-9173-c145ecd997b5"
   },
   "outputs": [
    {
     "data": {
      "text/plain": [
       "'Programming with Mosh'"
      ]
     },
     "execution_count": 32,
     "metadata": {},
     "output_type": "execute_result"
    }
   ],
   "source": [
    "channel = channelList.loc[0, 'channelName']\n",
    "channel"
   ]
  },
  {
   "cell_type": "code",
   "execution_count": 33,
   "metadata": {
    "id": "BKyiZZ2Ljazk"
   },
   "outputs": [],
   "source": [
    "data['channelName'].append(channel)\n",
    "data['title'].append(title)\n",
    "data['id'].append(id)\n",
    "data['kind'].append(kind)"
   ]
  },
  {
   "cell_type": "code",
   "execution_count": 34,
   "metadata": {
    "colab": {
     "base_uri": "https://localhost:8080/"
    },
    "id": "ZQGRqxbnkBVE",
    "outputId": "90c367ca-4a40-4681-e4c7-576249950d70"
   },
   "outputs": [
    {
     "data": {
      "text/plain": [
       "{'channelName': ['Programming with Mosh'],\n",
       " 'title': ['Programming with Mosh'],\n",
       " 'id': ['UCWv7vMbMWH4-V0ZXdmDpPBA'],\n",
       " 'kind': ['youtube#channel']}"
      ]
     },
     "execution_count": 34,
     "metadata": {},
     "output_type": "execute_result"
    }
   ],
   "source": [
    "data"
   ]
  },
  {
   "cell_type": "markdown",
   "metadata": {},
   "source": [
    "### Retrive the Id for each channel in dataset"
   ]
  },
  {
   "cell_type": "code",
   "execution_count": 36,
   "metadata": {
    "id": "nwA5ooMEkKXx"
   },
   "outputs": [
    {
     "name": "stderr",
     "output_type": "stream",
     "text": [
      "100%|██████████| 67/67 [00:26<00:00,  2.48it/s]\n"
     ]
    }
   ],
   "source": [
    "for channel in tqdm(channels[1:]):\n",
    "\n",
    "  request = youtube.search().list(\n",
    "        part=\"snippet\",\n",
    "        maxResults=1,\n",
    "        q=channel,\n",
    "        type=\"channel\"\n",
    "    )\n",
    "  \n",
    "  response = request.execute()\n",
    "\n",
    "  id = response['items'][0]['snippet']['channelId']\n",
    "  title = response['items'][0]['snippet']['title']\n",
    "  kind = response['items'][0]['id']['kind']\n",
    "\n",
    "  data['channelName'].append(channel)\n",
    "  data['title'].append(title)\n",
    "  data['id'].append(id)\n",
    "  data['kind'].append(kind)"
   ]
  },
  {
   "cell_type": "code",
   "execution_count": 37,
   "metadata": {
    "id": "79bD4GCwk0gt",
    "scrolled": true
   },
   "outputs": [
    {
     "data": {
      "text/plain": [
       "{'channelName': ['Programming with Mosh',\n",
       "  'Traversy Media',\n",
       "  'Corey Schafer',\n",
       "  'Tech With Tim',\n",
       "  'Krish Naik',\n",
       "  'freeCodeCamp.org',\n",
       "  'Hitesh Choudhary',\n",
       "  'Clever Programmer',\n",
       "  'Caleb Curry',\n",
       "  'programming Hero',\n",
       "  'naveen Reddy',\n",
       "  'Code Basics',\n",
       "  'Maximilian Schwarzmüller',\n",
       "  'sentdex',\n",
       "  'Michael Reeves',\n",
       "  'Dani',\n",
       "  'The Coding Train',\n",
       "  'Dennis Ivy',\n",
       "  'CS Dojo',\n",
       "  'Code with Harry',\n",
       "  'Kalle Hallden',\n",
       "  'Fireship',\n",
       "  'Tim Corey',\n",
       "  'TechLead',\n",
       "  'WesBos',\n",
       "  'Gajesh S. Naik',\n",
       "  'Ben Awad',\n",
       "  'Codevolution',\n",
       "  'Hussein Nasser',\n",
       "  'Dev Ed',\n",
       "  'Brackeys',\n",
       "  'Rachit Jain',\n",
       "  'Kyle Cook',\n",
       "  'Scott Hansellman',\n",
       "  'PortEXE',\n",
       "  'Joshua Fluke',\n",
       "  'Web Dev Simplified',\n",
       "  'Joma',\n",
       "  'Tren Black',\n",
       "  'Nick Chapsas',\n",
       "  'CodingEntrepreneurs',\n",
       "  'Programming With ERik',\n",
       "  'Forest Knight',\n",
       "  'Keith Galli',\n",
       "  'Pretty Printed',\n",
       "  'Derek Banas',\n",
       "  'The Cherno',\n",
       "  'Angelsix',\n",
       "  'CodingWithMitch',\n",
       "  'Chris Hawkes',\n",
       "  'Chris Coyier',\n",
       "  'Fazt',\n",
       "  'Prajwal NH ',\n",
       "  'Life of Luba',\n",
       "  'chuck severance',\n",
       "  'Will Kwan',\n",
       "  'codingphase',\n",
       "  'Pasja informatyki',\n",
       "  'Thomas Kim',\n",
       "  'Life Of Boris',\n",
       "  'Data School',\n",
       "  'Abhishek Thakur ',\n",
       "  'gaurav sen',\n",
       "  'Ryan Dhungel',\n",
       "  'RealTough Candy',\n",
       "  'Papaya Coders',\n",
       "  'durga software solutions',\n",
       "  'perfect web solutions'],\n",
       " 'title': ['Programming with Mosh',\n",
       "  'Traversy Media',\n",
       "  'Corey Schafer',\n",
       "  'Tech With Tim',\n",
       "  'Krish Naik',\n",
       "  'freeCodeCamp.org',\n",
       "  'Hitesh Choudhary',\n",
       "  'Clever Programmer',\n",
       "  'Caleb Curry',\n",
       "  'Programming Hero',\n",
       "  'Telusko',\n",
       "  'codebasics',\n",
       "  'Academind',\n",
       "  'sentdex',\n",
       "  'Michael Reeves',\n",
       "  'Dani',\n",
       "  'The Coding Train',\n",
       "  'Dennis Ivy',\n",
       "  'CS Dojo',\n",
       "  'CodeWithHarry',\n",
       "  'Kalle Hallden',\n",
       "  'Fireship',\n",
       "  'IAmTimCorey',\n",
       "  'TechLead',\n",
       "  'Wes Bos',\n",
       "  'Gajesh S Naik',\n",
       "  'Ben Awad',\n",
       "  'Codevolution',\n",
       "  'Hussein Nasser',\n",
       "  'Dev Ed',\n",
       "  'Brackeys',\n",
       "  'Rachit Jain',\n",
       "  'Kyle Cook',\n",
       "  'Scott Hanselman',\n",
       "  'PortEXE',\n",
       "  'Joshua Fluke',\n",
       "  'Web Dev Simplified',\n",
       "  'Joma Tech',\n",
       "  'Tren Black',\n",
       "  'Nick Chapsas',\n",
       "  'CodingEntrepreneurs',\n",
       "  'Program With Erik',\n",
       "  'ForrestKnight',\n",
       "  'Keith Galli',\n",
       "  'Pretty Printed',\n",
       "  'Derek Banas',\n",
       "  'The Cherno',\n",
       "  'AngelSix',\n",
       "  'CodingWithMitch',\n",
       "  'Chris Hawkes',\n",
       "  'Chris Coyier',\n",
       "  'Fazt',\n",
       "  'Prajwal N H',\n",
       "  'Life of Luba',\n",
       "  'Chuck Severance',\n",
       "  'Will Kwan',\n",
       "  'CodingPhase',\n",
       "  'Pasja informatyki',\n",
       "  'Thomas Kim',\n",
       "  'Life of Boris',\n",
       "  'Data School',\n",
       "  'Abhishek Thakur',\n",
       "  'Gaurav Sen',\n",
       "  'Ryan Dhungel',\n",
       "  'RealToughCandy',\n",
       "  'Papaya Coders',\n",
       "  'Durga Software Solutions',\n",
       "  'Perfect Web Solutions'],\n",
       " 'id': ['UCWv7vMbMWH4-V0ZXdmDpPBA',\n",
       "  'UC29ju8bIPH5as8OGnQzwJyA',\n",
       "  'UCCezIgC97PvUuR4_gbFUs5g',\n",
       "  'UC4JX40jDee_tINbkjycV4Sg',\n",
       "  'UCNU_lfiiWBdtULKOw6X0Dig',\n",
       "  'UC8butISFwT-Wl7EV0hUK0BQ',\n",
       "  'UCXgGY0wkgOzynnHvSEVmE3A',\n",
       "  'UCqrILQNl5Ed9Dz6CGMyvMTQ',\n",
       "  'UCZUyPT9DkJWmS_DzdOi7RIA',\n",
       "  'UCStj-ORBZ7TGK1FwtGAUgbQ',\n",
       "  'UC59K-uG2A5ogwIrHw4bmlEg',\n",
       "  'UCh9nVJoWXmFb7sLApWGcLPQ',\n",
       "  'UCSJbGtTlrDami-tDGPUV9-w',\n",
       "  'UCfzlCWGWYyIQ0aLC5w48gBQ',\n",
       "  'UCtHaxi4GTYDpJgMSGy7AeSw',\n",
       "  'UCIabPXjvT5BVTxRDPCBBOOQ',\n",
       "  'UCvjgXvBlbQiydffZU7m1_aw',\n",
       "  'UCTZRcDjjkVajGL6wd76UnGg',\n",
       "  'UCxX9wt5FWQUAAz4UrysqK9A',\n",
       "  'UCeVMnSShP_Iviwkknt83cww',\n",
       "  'UCWr0mx597DnSGLFk1WfvSkQ',\n",
       "  'UCsBjURrPoezykLs9EqgamOA',\n",
       "  'UC-ptWR16ITQyYOglXyQmpzw',\n",
       "  'UC4xKdmAXFh4ACyhpiQ_3qBw',\n",
       "  'UCoebwHSTvwalADTJhps0emA',\n",
       "  'UC7PWnwwqMSqAXQkKXqxRkMw',\n",
       "  'UC-8QAzbLcRglXeN_MY9blyw',\n",
       "  'UC80PWRj_ZU8Zu0HSMNVwKWw',\n",
       "  'UC_ML5xP23TOWKUcc-oAE_Eg',\n",
       "  'UClb90NQQcskPUGDIXsQEz5Q',\n",
       "  'UCYbK_tjZ2OrIZFBvU6CCMiA',\n",
       "  'UC9fDC_eBh9e_bogw87DbGKQ',\n",
       "  'UC_ov4ZPZej97M9kN1_lgtMg',\n",
       "  'UCL-fHOdarou-CR2XUmK48Og',\n",
       "  'UCjGQyJCSU_VVMTu5nigonqg',\n",
       "  'UC-91UA-Xy2Cvb98deRXuggA',\n",
       "  'UCFbNIlppjAuEX4znoulh0Cw',\n",
       "  'UCV0qA-eDDICsRR9rPcnG7tw',\n",
       "  'UCSSBvqWNPq_qO3_W4EJiOAA',\n",
       "  'UCrkPsvLGln62OMZRO6K-llg',\n",
       "  'UCWEHue8kksIaktO8KTTN_zg',\n",
       "  'UCshZ3rdoCLjDYuTR_RBubzw',\n",
       "  'UC2WHjPDvbE6O328n17ZGcfg',\n",
       "  'UCq6XkhO5SZ66N04IcPbqNcw',\n",
       "  'UC-QDfvrRIDB6F0bIO4I4HkQ',\n",
       "  'UCwRXb5dUK4cvsHbx-rGzSgw',\n",
       "  'UCQ-W1KE9EYfdxhL6S4twUNw',\n",
       "  'UCJ3AxeCHGPZkMi3kRfCuiHw',\n",
       "  'UCoNZZLhPuuRteu02rh7bzsw',\n",
       "  'UCfV36TX5AejfAGIbtwTc7Zw',\n",
       "  'UCADyUOnhyEoQqrw_RrsGleA',\n",
       "  'UCX9NJ471o7Wie1DQe94RVIg',\n",
       "  'UCeSmzr04ZButj0te4PS7azw',\n",
       "  'UCgzKCeDYLRzPhQ64R6AKyBQ',\n",
       "  'UChYfrRp_CWyqOt-ZYJGOgmA',\n",
       "  'UCTjPBE9BNsmv44wgxWEy2zw',\n",
       "  'UC46wWUso9H5KPQcoL9iE3Ug',\n",
       "  'UCzn6vAfspIcagLax1fck_jw',\n",
       "  'UCpQ9kTWohSlFgXIKJmFc4kA',\n",
       "  'UCS5tt2z_DFvG7-39J3aE-bQ',\n",
       "  'UCnVzApLJE2ljPZSeQylSEyg',\n",
       "  'UCBPRJjIWfyNG4X-CRbnv78A',\n",
       "  'UCRPMAqdtSgd0Ipeef7iFsKw',\n",
       "  'UCu47q4mYoq9t0bINCWaTsgA',\n",
       "  'UC54NcJvLCvM2CNaBjd5j6HA',\n",
       "  'UCm8jfNyHA7FIrFdYQTOpy0g',\n",
       "  'UCbjozK_PYCTLEluFlrJ8UZg',\n",
       "  'UCjM2CgqAXgXQuFjJa732IRw'],\n",
       " 'kind': ['youtube#channel',\n",
       "  'youtube#channel',\n",
       "  'youtube#channel',\n",
       "  'youtube#channel',\n",
       "  'youtube#channel',\n",
       "  'youtube#channel',\n",
       "  'youtube#channel',\n",
       "  'youtube#channel',\n",
       "  'youtube#channel',\n",
       "  'youtube#channel',\n",
       "  'youtube#channel',\n",
       "  'youtube#channel',\n",
       "  'youtube#channel',\n",
       "  'youtube#channel',\n",
       "  'youtube#channel',\n",
       "  'youtube#channel',\n",
       "  'youtube#channel',\n",
       "  'youtube#channel',\n",
       "  'youtube#channel',\n",
       "  'youtube#channel',\n",
       "  'youtube#channel',\n",
       "  'youtube#channel',\n",
       "  'youtube#channel',\n",
       "  'youtube#channel',\n",
       "  'youtube#channel',\n",
       "  'youtube#channel',\n",
       "  'youtube#channel',\n",
       "  'youtube#channel',\n",
       "  'youtube#channel',\n",
       "  'youtube#channel',\n",
       "  'youtube#channel',\n",
       "  'youtube#channel',\n",
       "  'youtube#channel',\n",
       "  'youtube#channel',\n",
       "  'youtube#channel',\n",
       "  'youtube#channel',\n",
       "  'youtube#channel',\n",
       "  'youtube#channel',\n",
       "  'youtube#channel',\n",
       "  'youtube#channel',\n",
       "  'youtube#channel',\n",
       "  'youtube#channel',\n",
       "  'youtube#channel',\n",
       "  'youtube#channel',\n",
       "  'youtube#channel',\n",
       "  'youtube#channel',\n",
       "  'youtube#channel',\n",
       "  'youtube#channel',\n",
       "  'youtube#channel',\n",
       "  'youtube#channel',\n",
       "  'youtube#channel',\n",
       "  'youtube#channel',\n",
       "  'youtube#channel',\n",
       "  'youtube#channel',\n",
       "  'youtube#channel',\n",
       "  'youtube#channel',\n",
       "  'youtube#channel',\n",
       "  'youtube#channel',\n",
       "  'youtube#channel',\n",
       "  'youtube#channel',\n",
       "  'youtube#channel',\n",
       "  'youtube#channel',\n",
       "  'youtube#channel',\n",
       "  'youtube#channel',\n",
       "  'youtube#channel',\n",
       "  'youtube#channel',\n",
       "  'youtube#channel',\n",
       "  'youtube#channel']}"
      ]
     },
     "execution_count": 37,
     "metadata": {},
     "output_type": "execute_result"
    }
   ],
   "source": [
    "data"
   ]
  },
  {
   "cell_type": "code",
   "execution_count": 38,
   "metadata": {
    "id": "v-gArCmuk54Q"
   },
   "outputs": [],
   "source": [
    "df = pd.DataFrame.from_dict(data)"
   ]
  },
  {
   "cell_type": "code",
   "execution_count": 39,
   "metadata": {
    "colab": {
     "base_uri": "https://localhost:8080/",
     "height": 206
    },
    "id": "yVjjv2PTlOfV",
    "outputId": "146e8aa9-f7c6-4d62-e813-4964838be393"
   },
   "outputs": [
    {
     "data": {
      "text/html": [
       "<div>\n",
       "<style scoped>\n",
       "    .dataframe tbody tr th:only-of-type {\n",
       "        vertical-align: middle;\n",
       "    }\n",
       "\n",
       "    .dataframe tbody tr th {\n",
       "        vertical-align: top;\n",
       "    }\n",
       "\n",
       "    .dataframe thead th {\n",
       "        text-align: right;\n",
       "    }\n",
       "</style>\n",
       "<table border=\"1\" class=\"dataframe\">\n",
       "  <thead>\n",
       "    <tr style=\"text-align: right;\">\n",
       "      <th></th>\n",
       "      <th>channelName</th>\n",
       "      <th>title</th>\n",
       "      <th>id</th>\n",
       "      <th>kind</th>\n",
       "    </tr>\n",
       "  </thead>\n",
       "  <tbody>\n",
       "    <tr>\n",
       "      <th>0</th>\n",
       "      <td>Programming with Mosh</td>\n",
       "      <td>Programming with Mosh</td>\n",
       "      <td>UCWv7vMbMWH4-V0ZXdmDpPBA</td>\n",
       "      <td>youtube#channel</td>\n",
       "    </tr>\n",
       "    <tr>\n",
       "      <th>1</th>\n",
       "      <td>Traversy Media</td>\n",
       "      <td>Traversy Media</td>\n",
       "      <td>UC29ju8bIPH5as8OGnQzwJyA</td>\n",
       "      <td>youtube#channel</td>\n",
       "    </tr>\n",
       "    <tr>\n",
       "      <th>2</th>\n",
       "      <td>Corey Schafer</td>\n",
       "      <td>Corey Schafer</td>\n",
       "      <td>UCCezIgC97PvUuR4_gbFUs5g</td>\n",
       "      <td>youtube#channel</td>\n",
       "    </tr>\n",
       "    <tr>\n",
       "      <th>3</th>\n",
       "      <td>Tech With Tim</td>\n",
       "      <td>Tech With Tim</td>\n",
       "      <td>UC4JX40jDee_tINbkjycV4Sg</td>\n",
       "      <td>youtube#channel</td>\n",
       "    </tr>\n",
       "    <tr>\n",
       "      <th>4</th>\n",
       "      <td>Krish Naik</td>\n",
       "      <td>Krish Naik</td>\n",
       "      <td>UCNU_lfiiWBdtULKOw6X0Dig</td>\n",
       "      <td>youtube#channel</td>\n",
       "    </tr>\n",
       "  </tbody>\n",
       "</table>\n",
       "</div>"
      ],
      "text/plain": [
       "             channelName                  title                        id  \\\n",
       "0  Programming with Mosh  Programming with Mosh  UCWv7vMbMWH4-V0ZXdmDpPBA   \n",
       "1         Traversy Media         Traversy Media  UC29ju8bIPH5as8OGnQzwJyA   \n",
       "2          Corey Schafer          Corey Schafer  UCCezIgC97PvUuR4_gbFUs5g   \n",
       "3          Tech With Tim          Tech With Tim  UC4JX40jDee_tINbkjycV4Sg   \n",
       "4             Krish Naik             Krish Naik  UCNU_lfiiWBdtULKOw6X0Dig   \n",
       "\n",
       "              kind  \n",
       "0  youtube#channel  \n",
       "1  youtube#channel  \n",
       "2  youtube#channel  \n",
       "3  youtube#channel  \n",
       "4  youtube#channel  "
      ]
     },
     "execution_count": 39,
     "metadata": {},
     "output_type": "execute_result"
    }
   ],
   "source": [
    "df.head()"
   ]
  },
  {
   "cell_type": "code",
   "execution_count": 40,
   "metadata": {
    "colab": {
     "base_uri": "https://localhost:8080/"
    },
    "id": "LxfBIQWDlTFo",
    "outputId": "3a5486df-7411-4012-fb3c-078096ee3c03"
   },
   "outputs": [
    {
     "data": {
      "text/plain": [
       "array(['youtube#channel'], dtype=object)"
      ]
     },
     "execution_count": 40,
     "metadata": {},
     "output_type": "execute_result"
    }
   ],
   "source": [
    "df['kind'].unique()"
   ]
  },
  {
   "cell_type": "code",
   "execution_count": 41,
   "metadata": {},
   "outputs": [
    {
     "data": {
      "text/plain": [
       "(68, 4)"
      ]
     },
     "execution_count": 41,
     "metadata": {},
     "output_type": "execute_result"
    }
   ],
   "source": [
    "df.shape"
   ]
  },
  {
   "cell_type": "markdown",
   "metadata": {},
   "source": [
    "Let's check if there is a difference between the channel name and the title."
   ]
  },
  {
   "cell_type": "code",
   "execution_count": 42,
   "metadata": {
    "colab": {
     "base_uri": "https://localhost:8080/"
    },
    "id": "vQkkLr0-lZxm",
    "outputId": "6617fa83-fedf-4fd5-ecc5-3ba50667afac"
   },
   "outputs": [
    {
     "data": {
      "text/plain": [
       "22"
      ]
     },
     "execution_count": 42,
     "metadata": {},
     "output_type": "execute_result"
    }
   ],
   "source": [
    "(df.channelName != df.title).sum()"
   ]
  },
  {
   "cell_type": "markdown",
   "metadata": {},
   "source": [
    "Let's display the rows where the `channelName` and the `title` are different."
   ]
  },
  {
   "cell_type": "code",
   "execution_count": 46,
   "metadata": {
    "colab": {
     "base_uri": "https://localhost:8080/",
     "height": 771
    },
    "id": "kX3HLyWVllDQ",
    "outputId": "be42f35d-14b9-4d4c-fd4a-c20f7c6a67cb",
    "scrolled": false
   },
   "outputs": [
    {
     "data": {
      "text/html": [
       "<div>\n",
       "<style scoped>\n",
       "    .dataframe tbody tr th:only-of-type {\n",
       "        vertical-align: middle;\n",
       "    }\n",
       "\n",
       "    .dataframe tbody tr th {\n",
       "        vertical-align: top;\n",
       "    }\n",
       "\n",
       "    .dataframe thead th {\n",
       "        text-align: right;\n",
       "    }\n",
       "</style>\n",
       "<table border=\"1\" class=\"dataframe\">\n",
       "  <thead>\n",
       "    <tr style=\"text-align: right;\">\n",
       "      <th></th>\n",
       "      <th>channelName</th>\n",
       "      <th>title</th>\n",
       "      <th>id</th>\n",
       "      <th>kind</th>\n",
       "    </tr>\n",
       "  </thead>\n",
       "  <tbody>\n",
       "    <tr>\n",
       "      <th>9</th>\n",
       "      <td>programming Hero</td>\n",
       "      <td>Programming Hero</td>\n",
       "      <td>UCStj-ORBZ7TGK1FwtGAUgbQ</td>\n",
       "      <td>youtube#channel</td>\n",
       "    </tr>\n",
       "    <tr>\n",
       "      <th>10</th>\n",
       "      <td>naveen Reddy</td>\n",
       "      <td>Telusko</td>\n",
       "      <td>UC59K-uG2A5ogwIrHw4bmlEg</td>\n",
       "      <td>youtube#channel</td>\n",
       "    </tr>\n",
       "    <tr>\n",
       "      <th>11</th>\n",
       "      <td>Code Basics</td>\n",
       "      <td>codebasics</td>\n",
       "      <td>UCh9nVJoWXmFb7sLApWGcLPQ</td>\n",
       "      <td>youtube#channel</td>\n",
       "    </tr>\n",
       "    <tr>\n",
       "      <th>12</th>\n",
       "      <td>Maximilian Schwarzmüller</td>\n",
       "      <td>Academind</td>\n",
       "      <td>UCSJbGtTlrDami-tDGPUV9-w</td>\n",
       "      <td>youtube#channel</td>\n",
       "    </tr>\n",
       "    <tr>\n",
       "      <th>19</th>\n",
       "      <td>Code with Harry</td>\n",
       "      <td>CodeWithHarry</td>\n",
       "      <td>UCeVMnSShP_Iviwkknt83cww</td>\n",
       "      <td>youtube#channel</td>\n",
       "    </tr>\n",
       "    <tr>\n",
       "      <th>22</th>\n",
       "      <td>Tim Corey</td>\n",
       "      <td>IAmTimCorey</td>\n",
       "      <td>UC-ptWR16ITQyYOglXyQmpzw</td>\n",
       "      <td>youtube#channel</td>\n",
       "    </tr>\n",
       "    <tr>\n",
       "      <th>24</th>\n",
       "      <td>WesBos</td>\n",
       "      <td>Wes Bos</td>\n",
       "      <td>UCoebwHSTvwalADTJhps0emA</td>\n",
       "      <td>youtube#channel</td>\n",
       "    </tr>\n",
       "    <tr>\n",
       "      <th>25</th>\n",
       "      <td>Gajesh S. Naik</td>\n",
       "      <td>Gajesh S Naik</td>\n",
       "      <td>UC7PWnwwqMSqAXQkKXqxRkMw</td>\n",
       "      <td>youtube#channel</td>\n",
       "    </tr>\n",
       "    <tr>\n",
       "      <th>33</th>\n",
       "      <td>Scott Hansellman</td>\n",
       "      <td>Scott Hanselman</td>\n",
       "      <td>UCL-fHOdarou-CR2XUmK48Og</td>\n",
       "      <td>youtube#channel</td>\n",
       "    </tr>\n",
       "    <tr>\n",
       "      <th>37</th>\n",
       "      <td>Joma</td>\n",
       "      <td>Joma Tech</td>\n",
       "      <td>UCV0qA-eDDICsRR9rPcnG7tw</td>\n",
       "      <td>youtube#channel</td>\n",
       "    </tr>\n",
       "    <tr>\n",
       "      <th>41</th>\n",
       "      <td>Programming With ERik</td>\n",
       "      <td>Program With Erik</td>\n",
       "      <td>UCshZ3rdoCLjDYuTR_RBubzw</td>\n",
       "      <td>youtube#channel</td>\n",
       "    </tr>\n",
       "    <tr>\n",
       "      <th>42</th>\n",
       "      <td>Forest Knight</td>\n",
       "      <td>ForrestKnight</td>\n",
       "      <td>UC2WHjPDvbE6O328n17ZGcfg</td>\n",
       "      <td>youtube#channel</td>\n",
       "    </tr>\n",
       "    <tr>\n",
       "      <th>47</th>\n",
       "      <td>Angelsix</td>\n",
       "      <td>AngelSix</td>\n",
       "      <td>UCJ3AxeCHGPZkMi3kRfCuiHw</td>\n",
       "      <td>youtube#channel</td>\n",
       "    </tr>\n",
       "    <tr>\n",
       "      <th>52</th>\n",
       "      <td>Prajwal NH</td>\n",
       "      <td>Prajwal N H</td>\n",
       "      <td>UCeSmzr04ZButj0te4PS7azw</td>\n",
       "      <td>youtube#channel</td>\n",
       "    </tr>\n",
       "    <tr>\n",
       "      <th>54</th>\n",
       "      <td>chuck severance</td>\n",
       "      <td>Chuck Severance</td>\n",
       "      <td>UChYfrRp_CWyqOt-ZYJGOgmA</td>\n",
       "      <td>youtube#channel</td>\n",
       "    </tr>\n",
       "    <tr>\n",
       "      <th>56</th>\n",
       "      <td>codingphase</td>\n",
       "      <td>CodingPhase</td>\n",
       "      <td>UC46wWUso9H5KPQcoL9iE3Ug</td>\n",
       "      <td>youtube#channel</td>\n",
       "    </tr>\n",
       "    <tr>\n",
       "      <th>59</th>\n",
       "      <td>Life Of Boris</td>\n",
       "      <td>Life of Boris</td>\n",
       "      <td>UCS5tt2z_DFvG7-39J3aE-bQ</td>\n",
       "      <td>youtube#channel</td>\n",
       "    </tr>\n",
       "    <tr>\n",
       "      <th>61</th>\n",
       "      <td>Abhishek Thakur</td>\n",
       "      <td>Abhishek Thakur</td>\n",
       "      <td>UCBPRJjIWfyNG4X-CRbnv78A</td>\n",
       "      <td>youtube#channel</td>\n",
       "    </tr>\n",
       "    <tr>\n",
       "      <th>62</th>\n",
       "      <td>gaurav sen</td>\n",
       "      <td>Gaurav Sen</td>\n",
       "      <td>UCRPMAqdtSgd0Ipeef7iFsKw</td>\n",
       "      <td>youtube#channel</td>\n",
       "    </tr>\n",
       "    <tr>\n",
       "      <th>64</th>\n",
       "      <td>RealTough Candy</td>\n",
       "      <td>RealToughCandy</td>\n",
       "      <td>UC54NcJvLCvM2CNaBjd5j6HA</td>\n",
       "      <td>youtube#channel</td>\n",
       "    </tr>\n",
       "    <tr>\n",
       "      <th>66</th>\n",
       "      <td>durga software solutions</td>\n",
       "      <td>Durga Software Solutions</td>\n",
       "      <td>UCbjozK_PYCTLEluFlrJ8UZg</td>\n",
       "      <td>youtube#channel</td>\n",
       "    </tr>\n",
       "    <tr>\n",
       "      <th>67</th>\n",
       "      <td>perfect web solutions</td>\n",
       "      <td>Perfect Web Solutions</td>\n",
       "      <td>UCjM2CgqAXgXQuFjJa732IRw</td>\n",
       "      <td>youtube#channel</td>\n",
       "    </tr>\n",
       "  </tbody>\n",
       "</table>\n",
       "</div>"
      ],
      "text/plain": [
       "                 channelName                     title  \\\n",
       "9           programming Hero          Programming Hero   \n",
       "10              naveen Reddy                   Telusko   \n",
       "11               Code Basics                codebasics   \n",
       "12  Maximilian Schwarzmüller                 Academind   \n",
       "19           Code with Harry             CodeWithHarry   \n",
       "22                 Tim Corey               IAmTimCorey   \n",
       "24                    WesBos                   Wes Bos   \n",
       "25            Gajesh S. Naik             Gajesh S Naik   \n",
       "33          Scott Hansellman           Scott Hanselman   \n",
       "37                      Joma                 Joma Tech   \n",
       "41     Programming With ERik         Program With Erik   \n",
       "42             Forest Knight             ForrestKnight   \n",
       "47                  Angelsix                  AngelSix   \n",
       "52               Prajwal NH                Prajwal N H   \n",
       "54           chuck severance           Chuck Severance   \n",
       "56               codingphase               CodingPhase   \n",
       "59             Life Of Boris             Life of Boris   \n",
       "61          Abhishek Thakur            Abhishek Thakur   \n",
       "62                gaurav sen                Gaurav Sen   \n",
       "64           RealTough Candy            RealToughCandy   \n",
       "66  durga software solutions  Durga Software Solutions   \n",
       "67     perfect web solutions     Perfect Web Solutions   \n",
       "\n",
       "                          id             kind  \n",
       "9   UCStj-ORBZ7TGK1FwtGAUgbQ  youtube#channel  \n",
       "10  UC59K-uG2A5ogwIrHw4bmlEg  youtube#channel  \n",
       "11  UCh9nVJoWXmFb7sLApWGcLPQ  youtube#channel  \n",
       "12  UCSJbGtTlrDami-tDGPUV9-w  youtube#channel  \n",
       "19  UCeVMnSShP_Iviwkknt83cww  youtube#channel  \n",
       "22  UC-ptWR16ITQyYOglXyQmpzw  youtube#channel  \n",
       "24  UCoebwHSTvwalADTJhps0emA  youtube#channel  \n",
       "25  UC7PWnwwqMSqAXQkKXqxRkMw  youtube#channel  \n",
       "33  UCL-fHOdarou-CR2XUmK48Og  youtube#channel  \n",
       "37  UCV0qA-eDDICsRR9rPcnG7tw  youtube#channel  \n",
       "41  UCshZ3rdoCLjDYuTR_RBubzw  youtube#channel  \n",
       "42  UC2WHjPDvbE6O328n17ZGcfg  youtube#channel  \n",
       "47  UCJ3AxeCHGPZkMi3kRfCuiHw  youtube#channel  \n",
       "52  UCeSmzr04ZButj0te4PS7azw  youtube#channel  \n",
       "54  UChYfrRp_CWyqOt-ZYJGOgmA  youtube#channel  \n",
       "56  UC46wWUso9H5KPQcoL9iE3Ug  youtube#channel  \n",
       "59  UCS5tt2z_DFvG7-39J3aE-bQ  youtube#channel  \n",
       "61  UCBPRJjIWfyNG4X-CRbnv78A  youtube#channel  \n",
       "62  UCRPMAqdtSgd0Ipeef7iFsKw  youtube#channel  \n",
       "64  UC54NcJvLCvM2CNaBjd5j6HA  youtube#channel  \n",
       "66  UCbjozK_PYCTLEluFlrJ8UZg  youtube#channel  \n",
       "67  UCjM2CgqAXgXQuFjJa732IRw  youtube#channel  "
      ]
     },
     "execution_count": 46,
     "metadata": {},
     "output_type": "execute_result"
    }
   ],
   "source": [
    "df[df.channelName != df.title]"
   ]
  },
  {
   "cell_type": "markdown",
   "metadata": {},
   "source": [
    "There are 22 rows where the value of the `channelName` column is different from the value of the `title` column, One of the reasons is that in the web page [Top Programmer Guru](https://noonies.tech/award/top-programming-guru)  the name of the channel owner is used as `channelName` instead of the official `title`, another reasons is case sensitivity.  \n",
    "We are performing this verification because, as we mentioned at the beginning of the research method, it can return more than one result, so we need to make sure that we get the right channel ID.   \n",
    "We check again the difference between the `channelName` column  and the `title` column but this time ignoring the case sensitivity."
   ]
  },
  {
   "cell_type": "code",
   "execution_count": 47,
   "metadata": {
    "colab": {
     "base_uri": "https://localhost:8080/"
    },
    "id": "CncXB1clq3yy",
    "outputId": "f60844fa-05df-4a81-ccd0-836b335d4c16"
   },
   "outputs": [
    {
     "data": {
      "text/plain": [
       "14"
      ]
     },
     "execution_count": 47,
     "metadata": {},
     "output_type": "execute_result"
    }
   ],
   "source": [
    "(df.channelName.str.lower() != df.title.str.lower()).sum()"
   ]
  },
  {
   "cell_type": "code",
   "execution_count": 48,
   "metadata": {
    "colab": {
     "base_uri": "https://localhost:8080/",
     "height": 489
    },
    "id": "noLLIUAPPupK",
    "outputId": "fd1a54b3-b4d7-4d3c-c087-a60e49d30808",
    "scrolled": true
   },
   "outputs": [
    {
     "data": {
      "text/html": [
       "<div>\n",
       "<style scoped>\n",
       "    .dataframe tbody tr th:only-of-type {\n",
       "        vertical-align: middle;\n",
       "    }\n",
       "\n",
       "    .dataframe tbody tr th {\n",
       "        vertical-align: top;\n",
       "    }\n",
       "\n",
       "    .dataframe thead th {\n",
       "        text-align: right;\n",
       "    }\n",
       "</style>\n",
       "<table border=\"1\" class=\"dataframe\">\n",
       "  <thead>\n",
       "    <tr style=\"text-align: right;\">\n",
       "      <th></th>\n",
       "      <th>channelName</th>\n",
       "      <th>title</th>\n",
       "      <th>id</th>\n",
       "      <th>kind</th>\n",
       "    </tr>\n",
       "  </thead>\n",
       "  <tbody>\n",
       "    <tr>\n",
       "      <th>10</th>\n",
       "      <td>naveen Reddy</td>\n",
       "      <td>Telusko</td>\n",
       "      <td>UC59K-uG2A5ogwIrHw4bmlEg</td>\n",
       "      <td>youtube#channel</td>\n",
       "    </tr>\n",
       "    <tr>\n",
       "      <th>11</th>\n",
       "      <td>Code Basics</td>\n",
       "      <td>codebasics</td>\n",
       "      <td>UCh9nVJoWXmFb7sLApWGcLPQ</td>\n",
       "      <td>youtube#channel</td>\n",
       "    </tr>\n",
       "    <tr>\n",
       "      <th>12</th>\n",
       "      <td>Maximilian Schwarzmüller</td>\n",
       "      <td>Academind</td>\n",
       "      <td>UCSJbGtTlrDami-tDGPUV9-w</td>\n",
       "      <td>youtube#channel</td>\n",
       "    </tr>\n",
       "    <tr>\n",
       "      <th>19</th>\n",
       "      <td>Code with Harry</td>\n",
       "      <td>CodeWithHarry</td>\n",
       "      <td>UCeVMnSShP_Iviwkknt83cww</td>\n",
       "      <td>youtube#channel</td>\n",
       "    </tr>\n",
       "    <tr>\n",
       "      <th>22</th>\n",
       "      <td>Tim Corey</td>\n",
       "      <td>IAmTimCorey</td>\n",
       "      <td>UC-ptWR16ITQyYOglXyQmpzw</td>\n",
       "      <td>youtube#channel</td>\n",
       "    </tr>\n",
       "    <tr>\n",
       "      <th>24</th>\n",
       "      <td>WesBos</td>\n",
       "      <td>Wes Bos</td>\n",
       "      <td>UCoebwHSTvwalADTJhps0emA</td>\n",
       "      <td>youtube#channel</td>\n",
       "    </tr>\n",
       "    <tr>\n",
       "      <th>25</th>\n",
       "      <td>Gajesh S. Naik</td>\n",
       "      <td>Gajesh S Naik</td>\n",
       "      <td>UC7PWnwwqMSqAXQkKXqxRkMw</td>\n",
       "      <td>youtube#channel</td>\n",
       "    </tr>\n",
       "    <tr>\n",
       "      <th>33</th>\n",
       "      <td>Scott Hansellman</td>\n",
       "      <td>Scott Hanselman</td>\n",
       "      <td>UCL-fHOdarou-CR2XUmK48Og</td>\n",
       "      <td>youtube#channel</td>\n",
       "    </tr>\n",
       "    <tr>\n",
       "      <th>37</th>\n",
       "      <td>Joma</td>\n",
       "      <td>Joma Tech</td>\n",
       "      <td>UCV0qA-eDDICsRR9rPcnG7tw</td>\n",
       "      <td>youtube#channel</td>\n",
       "    </tr>\n",
       "    <tr>\n",
       "      <th>41</th>\n",
       "      <td>Programming With ERik</td>\n",
       "      <td>Program With Erik</td>\n",
       "      <td>UCshZ3rdoCLjDYuTR_RBubzw</td>\n",
       "      <td>youtube#channel</td>\n",
       "    </tr>\n",
       "    <tr>\n",
       "      <th>42</th>\n",
       "      <td>Forest Knight</td>\n",
       "      <td>ForrestKnight</td>\n",
       "      <td>UC2WHjPDvbE6O328n17ZGcfg</td>\n",
       "      <td>youtube#channel</td>\n",
       "    </tr>\n",
       "    <tr>\n",
       "      <th>52</th>\n",
       "      <td>Prajwal NH</td>\n",
       "      <td>Prajwal N H</td>\n",
       "      <td>UCeSmzr04ZButj0te4PS7azw</td>\n",
       "      <td>youtube#channel</td>\n",
       "    </tr>\n",
       "    <tr>\n",
       "      <th>61</th>\n",
       "      <td>Abhishek Thakur</td>\n",
       "      <td>Abhishek Thakur</td>\n",
       "      <td>UCBPRJjIWfyNG4X-CRbnv78A</td>\n",
       "      <td>youtube#channel</td>\n",
       "    </tr>\n",
       "    <tr>\n",
       "      <th>64</th>\n",
       "      <td>RealTough Candy</td>\n",
       "      <td>RealToughCandy</td>\n",
       "      <td>UC54NcJvLCvM2CNaBjd5j6HA</td>\n",
       "      <td>youtube#channel</td>\n",
       "    </tr>\n",
       "  </tbody>\n",
       "</table>\n",
       "</div>"
      ],
      "text/plain": [
       "                 channelName              title                        id  \\\n",
       "10              naveen Reddy            Telusko  UC59K-uG2A5ogwIrHw4bmlEg   \n",
       "11               Code Basics         codebasics  UCh9nVJoWXmFb7sLApWGcLPQ   \n",
       "12  Maximilian Schwarzmüller          Academind  UCSJbGtTlrDami-tDGPUV9-w   \n",
       "19           Code with Harry      CodeWithHarry  UCeVMnSShP_Iviwkknt83cww   \n",
       "22                 Tim Corey        IAmTimCorey  UC-ptWR16ITQyYOglXyQmpzw   \n",
       "24                    WesBos            Wes Bos  UCoebwHSTvwalADTJhps0emA   \n",
       "25            Gajesh S. Naik      Gajesh S Naik  UC7PWnwwqMSqAXQkKXqxRkMw   \n",
       "33          Scott Hansellman    Scott Hanselman  UCL-fHOdarou-CR2XUmK48Og   \n",
       "37                      Joma          Joma Tech  UCV0qA-eDDICsRR9rPcnG7tw   \n",
       "41     Programming With ERik  Program With Erik  UCshZ3rdoCLjDYuTR_RBubzw   \n",
       "42             Forest Knight      ForrestKnight  UC2WHjPDvbE6O328n17ZGcfg   \n",
       "52               Prajwal NH         Prajwal N H  UCeSmzr04ZButj0te4PS7azw   \n",
       "61          Abhishek Thakur     Abhishek Thakur  UCBPRJjIWfyNG4X-CRbnv78A   \n",
       "64           RealTough Candy     RealToughCandy  UC54NcJvLCvM2CNaBjd5j6HA   \n",
       "\n",
       "               kind  \n",
       "10  youtube#channel  \n",
       "11  youtube#channel  \n",
       "12  youtube#channel  \n",
       "19  youtube#channel  \n",
       "22  youtube#channel  \n",
       "24  youtube#channel  \n",
       "25  youtube#channel  \n",
       "33  youtube#channel  \n",
       "37  youtube#channel  \n",
       "41  youtube#channel  \n",
       "42  youtube#channel  \n",
       "52  youtube#channel  \n",
       "61  youtube#channel  \n",
       "64  youtube#channel  "
      ]
     },
     "execution_count": 48,
     "metadata": {},
     "output_type": "execute_result"
    }
   ],
   "source": [
    "df[df.channelName.str.lower() != df.title.str.lower()]"
   ]
  },
  {
   "cell_type": "markdown",
   "metadata": {},
   "source": [
    "Now we only have `13` rows left to verify. Quick check in Youtube and we see that there is only one error, it is in row 52. Let's correct the error and save the data."
   ]
  },
  {
   "cell_type": "code",
   "execution_count": 49,
   "metadata": {
    "id": "OEmuwozUP-UN"
   },
   "outputs": [],
   "source": [
    "channle_52 = {'title': 'IIMB Inventors Inventing Machine Business', 'id':'UCWym_j-OGCzIfz8K4vXtU6g'}"
   ]
  },
  {
   "cell_type": "code",
   "execution_count": 50,
   "metadata": {
    "id": "an29rSYrUIQ7"
   },
   "outputs": [],
   "source": [
    "df.loc[52, 'title'] = 'IIMB Inventors Inventing Machine Business'\n",
    "df.loc[52, 'id'] = 'UCWym_j-OGCzIfz8K4vXtU6g'"
   ]
  },
  {
   "cell_type": "code",
   "execution_count": 51,
   "metadata": {
    "colab": {
     "base_uri": "https://localhost:8080/"
    },
    "id": "L0LGrD3rUw-C",
    "outputId": "d6c6819d-85a6-47df-925a-dd73d0e54690"
   },
   "outputs": [
    {
     "data": {
      "text/plain": [
       "channelName                                  Prajwal NH \n",
       "title          IIMB Inventors Inventing Machine Business\n",
       "id                              UCWym_j-OGCzIfz8K4vXtU6g\n",
       "kind                                     youtube#channel\n",
       "Name: 52, dtype: object"
      ]
     },
     "execution_count": 51,
     "metadata": {},
     "output_type": "execute_result"
    }
   ],
   "source": [
    "df.loc[52]"
   ]
  },
  {
   "cell_type": "markdown",
   "metadata": {},
   "source": [
    "We going to store data in `csv` file"
   ]
  },
  {
   "cell_type": "code",
   "execution_count": 52,
   "metadata": {
    "id": "x7DtnPf7U3CJ"
   },
   "outputs": [],
   "source": [
    "df.to_csv('data/channelsID.csv', index=False)"
   ]
  },
  {
   "cell_type": "code",
   "execution_count": 9,
   "metadata": {},
   "outputs": [],
   "source": [
    "channelsID = pd.read_csv('data/channelsID.csv')\n",
    "channelList = pd.read_csv('data/channelListDB.csv')"
   ]
  },
  {
   "cell_type": "code",
   "execution_count": 10,
   "metadata": {},
   "outputs": [
    {
     "data": {
      "text/plain": [
       "(68, 4)"
      ]
     },
     "execution_count": 10,
     "metadata": {},
     "output_type": "execute_result"
    }
   ],
   "source": [
    "channelsID.shape"
   ]
  },
  {
   "cell_type": "code",
   "execution_count": 11,
   "metadata": {},
   "outputs": [
    {
     "data": {
      "text/plain": [
       "(68, 3)"
      ]
     },
     "execution_count": 11,
     "metadata": {},
     "output_type": "execute_result"
    }
   ],
   "source": [
    "channelList.shape"
   ]
  },
  {
   "cell_type": "markdown",
   "metadata": {},
   "source": [
    "When we merge the two datasets above to form a single dataset.  "
   ]
  },
  {
   "cell_type": "code",
   "execution_count": 12,
   "metadata": {},
   "outputs": [
    {
     "data": {
      "text/html": [
       "<div>\n",
       "<style scoped>\n",
       "    .dataframe tbody tr th:only-of-type {\n",
       "        vertical-align: middle;\n",
       "    }\n",
       "\n",
       "    .dataframe tbody tr th {\n",
       "        vertical-align: top;\n",
       "    }\n",
       "\n",
       "    .dataframe thead th {\n",
       "        text-align: right;\n",
       "    }\n",
       "</style>\n",
       "<table border=\"1\" class=\"dataframe\">\n",
       "  <thead>\n",
       "    <tr style=\"text-align: right;\">\n",
       "      <th></th>\n",
       "      <th>channelName</th>\n",
       "      <th>title</th>\n",
       "      <th>id</th>\n",
       "      <th>kind</th>\n",
       "      <th>url</th>\n",
       "      <th>rank</th>\n",
       "    </tr>\n",
       "  </thead>\n",
       "  <tbody>\n",
       "    <tr>\n",
       "      <th>0</th>\n",
       "      <td>Programming with Mosh</td>\n",
       "      <td>Programming with Mosh</td>\n",
       "      <td>UCWv7vMbMWH4-V0ZXdmDpPBA</td>\n",
       "      <td>youtube#channel</td>\n",
       "      <td>https://www.youtube.com/c/programmingwithmosh/...</td>\n",
       "      <td>1</td>\n",
       "    </tr>\n",
       "    <tr>\n",
       "      <th>1</th>\n",
       "      <td>Traversy Media</td>\n",
       "      <td>Traversy Media</td>\n",
       "      <td>UC29ju8bIPH5as8OGnQzwJyA</td>\n",
       "      <td>youtube#channel</td>\n",
       "      <td>https://www.youtube.com/user/TechGuyWeb</td>\n",
       "      <td>2</td>\n",
       "    </tr>\n",
       "    <tr>\n",
       "      <th>2</th>\n",
       "      <td>Corey Schafer</td>\n",
       "      <td>Corey Schafer</td>\n",
       "      <td>UCCezIgC97PvUuR4_gbFUs5g</td>\n",
       "      <td>youtube#channel</td>\n",
       "      <td>https://www.youtube.com/user/schafer5</td>\n",
       "      <td>3</td>\n",
       "    </tr>\n",
       "    <tr>\n",
       "      <th>3</th>\n",
       "      <td>Tech With Tim</td>\n",
       "      <td>Tech With Tim</td>\n",
       "      <td>UC4JX40jDee_tINbkjycV4Sg</td>\n",
       "      <td>youtube#channel</td>\n",
       "      <td>https://m.youtube.com/channel/UC4JX40jDee_tINb...</td>\n",
       "      <td>4</td>\n",
       "    </tr>\n",
       "    <tr>\n",
       "      <th>4</th>\n",
       "      <td>Krish Naik</td>\n",
       "      <td>Krish Naik</td>\n",
       "      <td>UCNU_lfiiWBdtULKOw6X0Dig</td>\n",
       "      <td>youtube#channel</td>\n",
       "      <td>https://www.youtube.com/user/krishnaik06/playl...</td>\n",
       "      <td>5</td>\n",
       "    </tr>\n",
       "    <tr>\n",
       "      <th>5</th>\n",
       "      <td>freeCodeCamp.org</td>\n",
       "      <td>freeCodeCamp.org</td>\n",
       "      <td>UC8butISFwT-Wl7EV0hUK0BQ</td>\n",
       "      <td>youtube#channel</td>\n",
       "      <td>https://www.youtube.com/channel/UC8butISFwT-Wl...</td>\n",
       "      <td>6</td>\n",
       "    </tr>\n",
       "    <tr>\n",
       "      <th>6</th>\n",
       "      <td>Hitesh Choudhary</td>\n",
       "      <td>Hitesh Choudhary</td>\n",
       "      <td>UCXgGY0wkgOzynnHvSEVmE3A</td>\n",
       "      <td>youtube#channel</td>\n",
       "      <td>https://www.youtube.com/c/HiteshChoudharydotcom</td>\n",
       "      <td>7</td>\n",
       "    </tr>\n",
       "    <tr>\n",
       "      <th>7</th>\n",
       "      <td>Clever Programmer</td>\n",
       "      <td>Clever Programmer</td>\n",
       "      <td>UCqrILQNl5Ed9Dz6CGMyvMTQ</td>\n",
       "      <td>youtube#channel</td>\n",
       "      <td>https://m.youtube.com/cleverprogrammer?uid=qrI...</td>\n",
       "      <td>8</td>\n",
       "    </tr>\n",
       "    <tr>\n",
       "      <th>8</th>\n",
       "      <td>Caleb Curry</td>\n",
       "      <td>Caleb Curry</td>\n",
       "      <td>UCZUyPT9DkJWmS_DzdOi7RIA</td>\n",
       "      <td>youtube#channel</td>\n",
       "      <td>https://www.youtube.com/user/CalebTheVideoMaker2</td>\n",
       "      <td>9</td>\n",
       "    </tr>\n",
       "    <tr>\n",
       "      <th>9</th>\n",
       "      <td>programming Hero</td>\n",
       "      <td>Programming Hero</td>\n",
       "      <td>UCStj-ORBZ7TGK1FwtGAUgbQ</td>\n",
       "      <td>youtube#channel</td>\n",
       "      <td>https://www.youtube.com/channel/UCStj-ORBZ7TGK...</td>\n",
       "      <td>10</td>\n",
       "    </tr>\n",
       "  </tbody>\n",
       "</table>\n",
       "</div>"
      ],
      "text/plain": [
       "             channelName                  title                        id  \\\n",
       "0  Programming with Mosh  Programming with Mosh  UCWv7vMbMWH4-V0ZXdmDpPBA   \n",
       "1         Traversy Media         Traversy Media  UC29ju8bIPH5as8OGnQzwJyA   \n",
       "2          Corey Schafer          Corey Schafer  UCCezIgC97PvUuR4_gbFUs5g   \n",
       "3          Tech With Tim          Tech With Tim  UC4JX40jDee_tINbkjycV4Sg   \n",
       "4             Krish Naik             Krish Naik  UCNU_lfiiWBdtULKOw6X0Dig   \n",
       "5       freeCodeCamp.org       freeCodeCamp.org  UC8butISFwT-Wl7EV0hUK0BQ   \n",
       "6       Hitesh Choudhary       Hitesh Choudhary  UCXgGY0wkgOzynnHvSEVmE3A   \n",
       "7      Clever Programmer      Clever Programmer  UCqrILQNl5Ed9Dz6CGMyvMTQ   \n",
       "8            Caleb Curry            Caleb Curry  UCZUyPT9DkJWmS_DzdOi7RIA   \n",
       "9       programming Hero       Programming Hero  UCStj-ORBZ7TGK1FwtGAUgbQ   \n",
       "\n",
       "              kind                                                url  rank  \n",
       "0  youtube#channel  https://www.youtube.com/c/programmingwithmosh/...     1  \n",
       "1  youtube#channel            https://www.youtube.com/user/TechGuyWeb     2  \n",
       "2  youtube#channel              https://www.youtube.com/user/schafer5     3  \n",
       "3  youtube#channel  https://m.youtube.com/channel/UC4JX40jDee_tINb...     4  \n",
       "4  youtube#channel  https://www.youtube.com/user/krishnaik06/playl...     5  \n",
       "5  youtube#channel  https://www.youtube.com/channel/UC8butISFwT-Wl...     6  \n",
       "6  youtube#channel    https://www.youtube.com/c/HiteshChoudharydotcom     7  \n",
       "7  youtube#channel  https://m.youtube.com/cleverprogrammer?uid=qrI...     8  \n",
       "8  youtube#channel   https://www.youtube.com/user/CalebTheVideoMaker2     9  \n",
       "9  youtube#channel  https://www.youtube.com/channel/UCStj-ORBZ7TGK...    10  "
      ]
     },
     "execution_count": 12,
     "metadata": {},
     "output_type": "execute_result"
    }
   ],
   "source": [
    "df = pd.merge(channelsID, channelList, on='channelName')\n",
    "df.head(10)"
   ]
  },
  {
   "cell_type": "code",
   "execution_count": 13,
   "metadata": {},
   "outputs": [
    {
     "data": {
      "text/html": [
       "<div>\n",
       "<style scoped>\n",
       "    .dataframe tbody tr th:only-of-type {\n",
       "        vertical-align: middle;\n",
       "    }\n",
       "\n",
       "    .dataframe tbody tr th {\n",
       "        vertical-align: top;\n",
       "    }\n",
       "\n",
       "    .dataframe thead th {\n",
       "        text-align: right;\n",
       "    }\n",
       "</style>\n",
       "<table border=\"1\" class=\"dataframe\">\n",
       "  <thead>\n",
       "    <tr style=\"text-align: right;\">\n",
       "      <th></th>\n",
       "      <th>channelName</th>\n",
       "      <th>title</th>\n",
       "      <th>channelId</th>\n",
       "      <th>kind</th>\n",
       "      <th>url</th>\n",
       "      <th>rank</th>\n",
       "    </tr>\n",
       "  </thead>\n",
       "  <tbody>\n",
       "    <tr>\n",
       "      <th>0</th>\n",
       "      <td>Programming with Mosh</td>\n",
       "      <td>Programming with Mosh</td>\n",
       "      <td>UCWv7vMbMWH4-V0ZXdmDpPBA</td>\n",
       "      <td>youtube#channel</td>\n",
       "      <td>https://www.youtube.com/c/programmingwithmosh/...</td>\n",
       "      <td>1</td>\n",
       "    </tr>\n",
       "    <tr>\n",
       "      <th>1</th>\n",
       "      <td>Traversy Media</td>\n",
       "      <td>Traversy Media</td>\n",
       "      <td>UC29ju8bIPH5as8OGnQzwJyA</td>\n",
       "      <td>youtube#channel</td>\n",
       "      <td>https://www.youtube.com/user/TechGuyWeb</td>\n",
       "      <td>2</td>\n",
       "    </tr>\n",
       "    <tr>\n",
       "      <th>2</th>\n",
       "      <td>Corey Schafer</td>\n",
       "      <td>Corey Schafer</td>\n",
       "      <td>UCCezIgC97PvUuR4_gbFUs5g</td>\n",
       "      <td>youtube#channel</td>\n",
       "      <td>https://www.youtube.com/user/schafer5</td>\n",
       "      <td>3</td>\n",
       "    </tr>\n",
       "    <tr>\n",
       "      <th>3</th>\n",
       "      <td>Tech With Tim</td>\n",
       "      <td>Tech With Tim</td>\n",
       "      <td>UC4JX40jDee_tINbkjycV4Sg</td>\n",
       "      <td>youtube#channel</td>\n",
       "      <td>https://m.youtube.com/channel/UC4JX40jDee_tINb...</td>\n",
       "      <td>4</td>\n",
       "    </tr>\n",
       "    <tr>\n",
       "      <th>4</th>\n",
       "      <td>Krish Naik</td>\n",
       "      <td>Krish Naik</td>\n",
       "      <td>UCNU_lfiiWBdtULKOw6X0Dig</td>\n",
       "      <td>youtube#channel</td>\n",
       "      <td>https://www.youtube.com/user/krishnaik06/playl...</td>\n",
       "      <td>5</td>\n",
       "    </tr>\n",
       "  </tbody>\n",
       "</table>\n",
       "</div>"
      ],
      "text/plain": [
       "             channelName                  title                 channelId  \\\n",
       "0  Programming with Mosh  Programming with Mosh  UCWv7vMbMWH4-V0ZXdmDpPBA   \n",
       "1         Traversy Media         Traversy Media  UC29ju8bIPH5as8OGnQzwJyA   \n",
       "2          Corey Schafer          Corey Schafer  UCCezIgC97PvUuR4_gbFUs5g   \n",
       "3          Tech With Tim          Tech With Tim  UC4JX40jDee_tINbkjycV4Sg   \n",
       "4             Krish Naik             Krish Naik  UCNU_lfiiWBdtULKOw6X0Dig   \n",
       "\n",
       "              kind                                                url  rank  \n",
       "0  youtube#channel  https://www.youtube.com/c/programmingwithmosh/...     1  \n",
       "1  youtube#channel            https://www.youtube.com/user/TechGuyWeb     2  \n",
       "2  youtube#channel              https://www.youtube.com/user/schafer5     3  \n",
       "3  youtube#channel  https://m.youtube.com/channel/UC4JX40jDee_tINb...     4  \n",
       "4  youtube#channel  https://www.youtube.com/user/krishnaik06/playl...     5  "
      ]
     },
     "execution_count": 13,
     "metadata": {},
     "output_type": "execute_result"
    }
   ],
   "source": [
    "df.rename({'id':'channelId'}, inplace=True, axis=1)\n",
    "df.head()"
   ]
  },
  {
   "cell_type": "code",
   "execution_count": 14,
   "metadata": {},
   "outputs": [],
   "source": [
    "df.to_csv('data/channelsMergeDB.csv', index=False)"
   ]
  },
  {
   "cell_type": "markdown",
   "metadata": {},
   "source": [
    "Before contiune in the project,  we  will to verife many each and new column. save the final dataset in `channelsList.csv`"
   ]
  },
  {
   "cell_type": "code",
   "execution_count": 15,
   "metadata": {},
   "outputs": [],
   "source": [
    "channelList = pd.read_csv('data/channelsList.csv')"
   ]
  },
  {
   "cell_type": "code",
   "execution_count": 16,
   "metadata": {},
   "outputs": [
    {
     "data": {
      "text/html": [
       "<div>\n",
       "<style scoped>\n",
       "    .dataframe tbody tr th:only-of-type {\n",
       "        vertical-align: middle;\n",
       "    }\n",
       "\n",
       "    .dataframe tbody tr th {\n",
       "        vertical-align: top;\n",
       "    }\n",
       "\n",
       "    .dataframe thead th {\n",
       "        text-align: right;\n",
       "    }\n",
       "</style>\n",
       "<table border=\"1\" class=\"dataframe\">\n",
       "  <thead>\n",
       "    <tr style=\"text-align: right;\">\n",
       "      <th></th>\n",
       "      <th>channelName</th>\n",
       "      <th>title</th>\n",
       "      <th>channelId</th>\n",
       "      <th>kind</th>\n",
       "      <th>url</th>\n",
       "      <th>gender</th>\n",
       "      <th>rank</th>\n",
       "    </tr>\n",
       "  </thead>\n",
       "  <tbody>\n",
       "    <tr>\n",
       "      <th>0</th>\n",
       "      <td>Programming with Mosh</td>\n",
       "      <td>Programming with Mosh</td>\n",
       "      <td>UCWv7vMbMWH4-V0ZXdmDpPBA</td>\n",
       "      <td>youtube#channel</td>\n",
       "      <td>https://www.youtube.com/c/programmingwithmosh/...</td>\n",
       "      <td>Male</td>\n",
       "      <td>1</td>\n",
       "    </tr>\n",
       "    <tr>\n",
       "      <th>1</th>\n",
       "      <td>Traversy Media</td>\n",
       "      <td>Traversy Media</td>\n",
       "      <td>UC29ju8bIPH5as8OGnQzwJyA</td>\n",
       "      <td>youtube#channel</td>\n",
       "      <td>https://www.youtube.com/user/TechGuyWeb</td>\n",
       "      <td>Male</td>\n",
       "      <td>2</td>\n",
       "    </tr>\n",
       "    <tr>\n",
       "      <th>2</th>\n",
       "      <td>Corey Schafer</td>\n",
       "      <td>Corey Schafer</td>\n",
       "      <td>UCCezIgC97PvUuR4_gbFUs5g</td>\n",
       "      <td>youtube#channel</td>\n",
       "      <td>https://www.youtube.com/user/schafer5</td>\n",
       "      <td>Male</td>\n",
       "      <td>3</td>\n",
       "    </tr>\n",
       "    <tr>\n",
       "      <th>3</th>\n",
       "      <td>Tech With Tim</td>\n",
       "      <td>Tech With Tim</td>\n",
       "      <td>UC4JX40jDee_tINbkjycV4Sg</td>\n",
       "      <td>youtube#channel</td>\n",
       "      <td>https://m.youtube.com/channel/UC4JX40jDee_tINb...</td>\n",
       "      <td>Male</td>\n",
       "      <td>4</td>\n",
       "    </tr>\n",
       "    <tr>\n",
       "      <th>4</th>\n",
       "      <td>Krish Naik</td>\n",
       "      <td>Krish Naik</td>\n",
       "      <td>UCNU_lfiiWBdtULKOw6X0Dig</td>\n",
       "      <td>youtube#channel</td>\n",
       "      <td>https://www.youtube.com/user/krishnaik06/playl...</td>\n",
       "      <td>Male</td>\n",
       "      <td>5</td>\n",
       "    </tr>\n",
       "  </tbody>\n",
       "</table>\n",
       "</div>"
      ],
      "text/plain": [
       "             channelName                  title                 channelId  \\\n",
       "0  Programming with Mosh  Programming with Mosh  UCWv7vMbMWH4-V0ZXdmDpPBA   \n",
       "1         Traversy Media         Traversy Media  UC29ju8bIPH5as8OGnQzwJyA   \n",
       "2          Corey Schafer          Corey Schafer  UCCezIgC97PvUuR4_gbFUs5g   \n",
       "3          Tech With Tim          Tech With Tim  UC4JX40jDee_tINbkjycV4Sg   \n",
       "4             Krish Naik             Krish Naik  UCNU_lfiiWBdtULKOw6X0Dig   \n",
       "\n",
       "              kind                                                url gender  \\\n",
       "0  youtube#channel  https://www.youtube.com/c/programmingwithmosh/...   Male   \n",
       "1  youtube#channel            https://www.youtube.com/user/TechGuyWeb   Male   \n",
       "2  youtube#channel              https://www.youtube.com/user/schafer5   Male   \n",
       "3  youtube#channel  https://m.youtube.com/channel/UC4JX40jDee_tINb...   Male   \n",
       "4  youtube#channel  https://www.youtube.com/user/krishnaik06/playl...   Male   \n",
       "\n",
       "   rank  \n",
       "0     1  \n",
       "1     2  \n",
       "2     3  \n",
       "3     4  \n",
       "4     5  "
      ]
     },
     "execution_count": 16,
     "metadata": {},
     "output_type": "execute_result"
    }
   ],
   "source": [
    "channelList.head()"
   ]
  }
 ],
 "metadata": {
  "colab": {
   "collapsed_sections": [],
   "name": "channel_id.ipynb",
   "provenance": []
  },
  "kernelspec": {
   "display_name": "Python 3",
   "language": "python",
   "name": "python3"
  },
  "language_info": {
   "codemirror_mode": {
    "name": "ipython",
    "version": 3
   },
   "file_extension": ".py",
   "mimetype": "text/x-python",
   "name": "python",
   "nbconvert_exporter": "python",
   "pygments_lexer": "ipython3",
   "version": "3.8.10"
  }
 },
 "nbformat": 4,
 "nbformat_minor": 1
}
