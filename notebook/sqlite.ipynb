{
 "cells": [
  {
   "cell_type": "code",
   "execution_count": 8,
   "id": "be7eded8",
   "metadata": {},
   "outputs": [],
   "source": [
    "import sqlite3\n",
    "import pandas as pd"
   ]
  },
  {
   "cell_type": "code",
   "execution_count": 2,
   "id": "93785fa7",
   "metadata": {},
   "outputs": [
    {
     "data": {
      "text/plain": [
       "<sqlite3.Connection at 0x7faf1db37990>"
      ]
     },
     "execution_count": 2,
     "metadata": {},
     "output_type": "execute_result"
    }
   ],
   "source": [
    "sqlite3.connect('topProgrammingGuru.db')"
   ]
  },
  {
   "cell_type": "code",
   "execution_count": 3,
   "id": "9833cade",
   "metadata": {},
   "outputs": [],
   "source": [
    "conn = sqlite3.connect('topProgrammingGuru.db')"
   ]
  },
  {
   "cell_type": "code",
   "execution_count": 4,
   "id": "f44fb6ae",
   "metadata": {},
   "outputs": [],
   "source": [
    "c = conn.cursor()"
   ]
  },
  {
   "cell_type": "code",
   "execution_count": 5,
   "id": "29ed5b68",
   "metadata": {},
   "outputs": [
    {
     "data": {
      "text/plain": [
       "<sqlite3.Cursor at 0x7faf1c23f260>"
      ]
     },
     "execution_count": 5,
     "metadata": {},
     "output_type": "execute_result"
    }
   ],
   "source": [
    "c.execute(\"CREATE TABLE topProgrammingGuru ([channelName] text,[url] text, [rank] integer PRIMARY KEY)\")"
   ]
  },
  {
   "cell_type": "code",
   "execution_count": 6,
   "id": "41bfa565",
   "metadata": {},
   "outputs": [],
   "source": [
    "conn.commit()"
   ]
  },
  {
   "cell_type": "code",
   "execution_count": 9,
   "id": "b89a49cf",
   "metadata": {},
   "outputs": [],
   "source": [
    "df = pd.read_csv('../data/top-programming-guru.csv')"
   ]
  },
  {
   "cell_type": "code",
   "execution_count": 10,
   "id": "726e0c2d",
   "metadata": {},
   "outputs": [
    {
     "data": {
      "text/html": [
       "<div>\n",
       "<style scoped>\n",
       "    .dataframe tbody tr th:only-of-type {\n",
       "        vertical-align: middle;\n",
       "    }\n",
       "\n",
       "    .dataframe tbody tr th {\n",
       "        vertical-align: top;\n",
       "    }\n",
       "\n",
       "    .dataframe thead th {\n",
       "        text-align: right;\n",
       "    }\n",
       "</style>\n",
       "<table border=\"1\" class=\"dataframe\">\n",
       "  <thead>\n",
       "    <tr style=\"text-align: right;\">\n",
       "      <th></th>\n",
       "      <th>channelName</th>\n",
       "      <th>url</th>\n",
       "      <th>rank</th>\n",
       "    </tr>\n",
       "  </thead>\n",
       "  <tbody>\n",
       "    <tr>\n",
       "      <th>0</th>\n",
       "      <td>Programming with Mosh</td>\n",
       "      <td>https://www.youtube.com/c/programmingwithmosh/...</td>\n",
       "      <td>1</td>\n",
       "    </tr>\n",
       "    <tr>\n",
       "      <th>1</th>\n",
       "      <td>Traversy Media</td>\n",
       "      <td>https://www.youtube.com/user/TechGuyWeb</td>\n",
       "      <td>2</td>\n",
       "    </tr>\n",
       "    <tr>\n",
       "      <th>2</th>\n",
       "      <td>Corey Schafer</td>\n",
       "      <td>https://www.youtube.com/user/schafer5</td>\n",
       "      <td>3</td>\n",
       "    </tr>\n",
       "    <tr>\n",
       "      <th>3</th>\n",
       "      <td>Tech With Tim</td>\n",
       "      <td>https://m.youtube.com/channel/UC4JX40jDee_tINb...</td>\n",
       "      <td>4</td>\n",
       "    </tr>\n",
       "    <tr>\n",
       "      <th>4</th>\n",
       "      <td>Krish Naik</td>\n",
       "      <td>https://www.youtube.com/user/krishnaik06/playl...</td>\n",
       "      <td>5</td>\n",
       "    </tr>\n",
       "  </tbody>\n",
       "</table>\n",
       "</div>"
      ],
      "text/plain": [
       "             channelName                                                url  \\\n",
       "0  Programming with Mosh  https://www.youtube.com/c/programmingwithmosh/...   \n",
       "1         Traversy Media            https://www.youtube.com/user/TechGuyWeb   \n",
       "2          Corey Schafer              https://www.youtube.com/user/schafer5   \n",
       "3          Tech With Tim  https://m.youtube.com/channel/UC4JX40jDee_tINb...   \n",
       "4             Krish Naik  https://www.youtube.com/user/krishnaik06/playl...   \n",
       "\n",
       "   rank  \n",
       "0     1  \n",
       "1     2  \n",
       "2     3  \n",
       "3     4  \n",
       "4     5  "
      ]
     },
     "execution_count": 10,
     "metadata": {},
     "output_type": "execute_result"
    }
   ],
   "source": [
    "df.head()"
   ]
  },
  {
   "cell_type": "code",
   "execution_count": 11,
   "id": "d9d4db6f",
   "metadata": {},
   "outputs": [],
   "source": [
    "df.to_sql('topProgrammingGuru', conn, if_exists='replace', index = False) "
   ]
  },
  {
   "cell_type": "code",
   "execution_count": 16,
   "id": "efdd667f",
   "metadata": {},
   "outputs": [
    {
     "data": {
      "text/plain": [
       "<sqlite3.Cursor at 0x7faf1c23f260>"
      ]
     },
     "execution_count": 16,
     "metadata": {},
     "output_type": "execute_result"
    }
   ],
   "source": [
    "c.execute('SELECT * FROM topProgrammingGuru')"
   ]
  },
  {
   "cell_type": "code",
   "execution_count": 17,
   "id": "60723ad7",
   "metadata": {},
   "outputs": [
    {
     "name": "stdout",
     "output_type": "stream",
     "text": [
      "('Programming with Mosh', 'https://www.youtube.com/c/programmingwithmosh/videos', 1)\n"
     ]
    }
   ],
   "source": [
    "print(c.fetchall()[0])"
   ]
  },
  {
   "cell_type": "code",
   "execution_count": 18,
   "id": "2ad19717",
   "metadata": {},
   "outputs": [],
   "source": [
    "conn.commit()"
   ]
  },
  {
   "cell_type": "code",
   "execution_count": 19,
   "id": "1c080ef4",
   "metadata": {},
   "outputs": [],
   "source": [
    "df = pd.read_csv('../data/channelStatistic.csv')"
   ]
  },
  {
   "cell_type": "code",
   "execution_count": 20,
   "id": "3e0bb7cf",
   "metadata": {},
   "outputs": [
    {
     "data": {
      "text/html": [
       "<div>\n",
       "<style scoped>\n",
       "    .dataframe tbody tr th:only-of-type {\n",
       "        vertical-align: middle;\n",
       "    }\n",
       "\n",
       "    .dataframe tbody tr th {\n",
       "        vertical-align: top;\n",
       "    }\n",
       "\n",
       "    .dataframe thead th {\n",
       "        text-align: right;\n",
       "    }\n",
       "</style>\n",
       "<table border=\"1\" class=\"dataframe\">\n",
       "  <thead>\n",
       "    <tr style=\"text-align: right;\">\n",
       "      <th></th>\n",
       "      <th>channelName</th>\n",
       "      <th>title</th>\n",
       "      <th>channelId</th>\n",
       "      <th>url</th>\n",
       "      <th>gender</th>\n",
       "      <th>rank</th>\n",
       "      <th>description</th>\n",
       "      <th>countryCode</th>\n",
       "      <th>viewCount</th>\n",
       "      <th>subscriberCount</th>\n",
       "      <th>videoCount</th>\n",
       "      <th>publishedAt</th>\n",
       "      <th>uploads</th>\n",
       "      <th>publishedDate</th>\n",
       "      <th>country</th>\n",
       "      <th>countryOther</th>\n",
       "      <th>continent</th>\n",
       "      <th>year</th>\n",
       "      <th>yearClass</th>\n",
       "      <th>subscriberCountClass</th>\n",
       "    </tr>\n",
       "  </thead>\n",
       "  <tbody>\n",
       "    <tr>\n",
       "      <th>0</th>\n",
       "      <td>Programming with Mosh</td>\n",
       "      <td>Programming with Mosh</td>\n",
       "      <td>UCWv7vMbMWH4-V0ZXdmDpPBA</td>\n",
       "      <td>https://www.youtube.com/c/programmingwithmosh/...</td>\n",
       "      <td>Male</td>\n",
       "      <td>1</td>\n",
       "      <td>I train professional software engineers that c...</td>\n",
       "      <td>AU</td>\n",
       "      <td>82263182</td>\n",
       "      <td>1830000</td>\n",
       "      <td>161</td>\n",
       "      <td>2014-10-07T00:40:53Z</td>\n",
       "      <td>UUWv7vMbMWH4-V0ZXdmDpPBA</td>\n",
       "      <td>2014-10-07</td>\n",
       "      <td>Australia</td>\n",
       "      <td>Australia</td>\n",
       "      <td>Oceania</td>\n",
       "      <td>2014</td>\n",
       "      <td>(2010.0, 2015.0]</td>\n",
       "      <td>(683500.0, 2460000.0]</td>\n",
       "    </tr>\n",
       "    <tr>\n",
       "      <th>1</th>\n",
       "      <td>Traversy Media</td>\n",
       "      <td>Traversy Media</td>\n",
       "      <td>UC29ju8bIPH5as8OGnQzwJyA</td>\n",
       "      <td>https://www.youtube.com/user/TechGuyWeb</td>\n",
       "      <td>Male</td>\n",
       "      <td>2</td>\n",
       "      <td>Traversy Media features the best online web de...</td>\n",
       "      <td>US</td>\n",
       "      <td>142390124</td>\n",
       "      <td>1560000</td>\n",
       "      <td>881</td>\n",
       "      <td>2009-10-30T21:33:14Z</td>\n",
       "      <td>UU29ju8bIPH5as8OGnQzwJyA</td>\n",
       "      <td>2009-10-30</td>\n",
       "      <td>United States</td>\n",
       "      <td>United States</td>\n",
       "      <td>North america</td>\n",
       "      <td>2009</td>\n",
       "      <td>(2005.999, 2010.0]</td>\n",
       "      <td>(683500.0, 2460000.0]</td>\n",
       "    </tr>\n",
       "    <tr>\n",
       "      <th>2</th>\n",
       "      <td>Corey Schafer</td>\n",
       "      <td>Corey Schafer</td>\n",
       "      <td>UCCezIgC97PvUuR4_gbFUs5g</td>\n",
       "      <td>https://www.youtube.com/user/schafer5</td>\n",
       "      <td>Male</td>\n",
       "      <td>3</td>\n",
       "      <td>Welcome to my Channel. This channel is focused...</td>\n",
       "      <td>US</td>\n",
       "      <td>58863870</td>\n",
       "      <td>792000</td>\n",
       "      <td>230</td>\n",
       "      <td>2006-05-31T22:49:22Z</td>\n",
       "      <td>UUCezIgC97PvUuR4_gbFUs5g</td>\n",
       "      <td>2006-05-31</td>\n",
       "      <td>United States</td>\n",
       "      <td>United States</td>\n",
       "      <td>North america</td>\n",
       "      <td>2006</td>\n",
       "      <td>(2005.999, 2010.0]</td>\n",
       "      <td>(683500.0, 2460000.0]</td>\n",
       "    </tr>\n",
       "    <tr>\n",
       "      <th>3</th>\n",
       "      <td>Tech With Tim</td>\n",
       "      <td>Tech With Tim</td>\n",
       "      <td>UC4JX40jDee_tINbkjycV4Sg</td>\n",
       "      <td>https://m.youtube.com/channel/UC4JX40jDee_tINb...</td>\n",
       "      <td>Male</td>\n",
       "      <td>4</td>\n",
       "      <td>Learn programming, software engineering, machi...</td>\n",
       "      <td>CA</td>\n",
       "      <td>51968790</td>\n",
       "      <td>680000</td>\n",
       "      <td>602</td>\n",
       "      <td>2014-04-23T01:57:10Z</td>\n",
       "      <td>UU4JX40jDee_tINbkjycV4Sg</td>\n",
       "      <td>2014-04-23</td>\n",
       "      <td>Canada</td>\n",
       "      <td>Canada</td>\n",
       "      <td>North america</td>\n",
       "      <td>2014</td>\n",
       "      <td>(2010.0, 2015.0]</td>\n",
       "      <td>(97250.0, 683500.0]</td>\n",
       "    </tr>\n",
       "    <tr>\n",
       "      <th>4</th>\n",
       "      <td>Krish Naik</td>\n",
       "      <td>Krish Naik</td>\n",
       "      <td>UCNU_lfiiWBdtULKOw6X0Dig</td>\n",
       "      <td>https://www.youtube.com/user/krishnaik06/playl...</td>\n",
       "      <td>Male</td>\n",
       "      <td>5</td>\n",
       "      <td>I work as a Lead Data Scientist, pioneering in...</td>\n",
       "      <td>IN</td>\n",
       "      <td>28303465</td>\n",
       "      <td>390000</td>\n",
       "      <td>1102</td>\n",
       "      <td>2012-02-11T04:05:06Z</td>\n",
       "      <td>UUNU_lfiiWBdtULKOw6X0Dig</td>\n",
       "      <td>2012-02-11</td>\n",
       "      <td>India</td>\n",
       "      <td>India</td>\n",
       "      <td>Asia</td>\n",
       "      <td>2012</td>\n",
       "      <td>(2010.0, 2015.0]</td>\n",
       "      <td>(97250.0, 683500.0]</td>\n",
       "    </tr>\n",
       "  </tbody>\n",
       "</table>\n",
       "</div>"
      ],
      "text/plain": [
       "             channelName                  title                 channelId  \\\n",
       "0  Programming with Mosh  Programming with Mosh  UCWv7vMbMWH4-V0ZXdmDpPBA   \n",
       "1         Traversy Media         Traversy Media  UC29ju8bIPH5as8OGnQzwJyA   \n",
       "2          Corey Schafer          Corey Schafer  UCCezIgC97PvUuR4_gbFUs5g   \n",
       "3          Tech With Tim          Tech With Tim  UC4JX40jDee_tINbkjycV4Sg   \n",
       "4             Krish Naik             Krish Naik  UCNU_lfiiWBdtULKOw6X0Dig   \n",
       "\n",
       "                                                 url gender  rank  \\\n",
       "0  https://www.youtube.com/c/programmingwithmosh/...   Male     1   \n",
       "1            https://www.youtube.com/user/TechGuyWeb   Male     2   \n",
       "2              https://www.youtube.com/user/schafer5   Male     3   \n",
       "3  https://m.youtube.com/channel/UC4JX40jDee_tINb...   Male     4   \n",
       "4  https://www.youtube.com/user/krishnaik06/playl...   Male     5   \n",
       "\n",
       "                                         description countryCode  viewCount  \\\n",
       "0  I train professional software engineers that c...          AU   82263182   \n",
       "1  Traversy Media features the best online web de...          US  142390124   \n",
       "2  Welcome to my Channel. This channel is focused...          US   58863870   \n",
       "3  Learn programming, software engineering, machi...          CA   51968790   \n",
       "4  I work as a Lead Data Scientist, pioneering in...          IN   28303465   \n",
       "\n",
       "   subscriberCount  videoCount           publishedAt  \\\n",
       "0          1830000         161  2014-10-07T00:40:53Z   \n",
       "1          1560000         881  2009-10-30T21:33:14Z   \n",
       "2           792000         230  2006-05-31T22:49:22Z   \n",
       "3           680000         602  2014-04-23T01:57:10Z   \n",
       "4           390000        1102  2012-02-11T04:05:06Z   \n",
       "\n",
       "                    uploads publishedDate        country   countryOther  \\\n",
       "0  UUWv7vMbMWH4-V0ZXdmDpPBA    2014-10-07      Australia      Australia   \n",
       "1  UU29ju8bIPH5as8OGnQzwJyA    2009-10-30  United States  United States   \n",
       "2  UUCezIgC97PvUuR4_gbFUs5g    2006-05-31  United States  United States   \n",
       "3  UU4JX40jDee_tINbkjycV4Sg    2014-04-23         Canada         Canada   \n",
       "4  UUNU_lfiiWBdtULKOw6X0Dig    2012-02-11          India          India   \n",
       "\n",
       "       continent  year           yearClass   subscriberCountClass  \n",
       "0        Oceania  2014    (2010.0, 2015.0]  (683500.0, 2460000.0]  \n",
       "1  North america  2009  (2005.999, 2010.0]  (683500.0, 2460000.0]  \n",
       "2  North america  2006  (2005.999, 2010.0]  (683500.0, 2460000.0]  \n",
       "3  North america  2014    (2010.0, 2015.0]    (97250.0, 683500.0]  \n",
       "4           Asia  2012    (2010.0, 2015.0]    (97250.0, 683500.0]  "
      ]
     },
     "execution_count": 20,
     "metadata": {},
     "output_type": "execute_result"
    }
   ],
   "source": [
    "df.head()"
   ]
  },
  {
   "cell_type": "code",
   "execution_count": 36,
   "id": "4bbf817f",
   "metadata": {},
   "outputs": [
    {
     "data": {
      "text/plain": [
       "Index(['channelName', 'title', 'channelId', 'url', 'gender', 'rank',\n",
       "       'description', 'countryCode', 'viewCount', 'subscriberCount',\n",
       "       'videoCount', 'publishedAt', 'uploads'],\n",
       "      dtype='object')"
      ]
     },
     "execution_count": 36,
     "metadata": {},
     "output_type": "execute_result"
    }
   ],
   "source": [
    "columns = df.columns[:13]\n",
    "columns"
   ]
  },
  {
   "cell_type": "code",
   "execution_count": 38,
   "id": "44fbedc2",
   "metadata": {},
   "outputs": [],
   "source": [
    "query = \"CREATE TABLE channelStatistic ([channelName] text, [title] text, [channelId] text PRIMARY KEY,[url] text, [gender] text,[rank] integer, [description] text, [countryCode] text, [viewCount] integer,[subscriberCount] integer,[videoCount] integer,[publishedAt] text,[uploads] text)\"\n"
   ]
  },
  {
   "cell_type": "code",
   "execution_count": 39,
   "id": "c7c97f52",
   "metadata": {},
   "outputs": [
    {
     "data": {
      "text/plain": [
       "'CREATE TABLE channelStatistic ([channelName] text, [title] text, [channelId] text PRIMARY KEY,[url] text, [gender] text,[rank] integer, [description] text, [countryCode] text, [viewCount] integer,[subscriberCount] integer,[videoCount] integer,[publishedAt] text,[uploads] text)'"
      ]
     },
     "execution_count": 39,
     "metadata": {},
     "output_type": "execute_result"
    }
   ],
   "source": [
    "query"
   ]
  },
  {
   "cell_type": "code",
   "execution_count": 40,
   "id": "0fd5a2a6",
   "metadata": {},
   "outputs": [
    {
     "data": {
      "text/plain": [
       "<sqlite3.Cursor at 0x7faf1c23f260>"
      ]
     },
     "execution_count": 40,
     "metadata": {},
     "output_type": "execute_result"
    }
   ],
   "source": [
    "c.execute(query)"
   ]
  },
  {
   "cell_type": "code",
   "execution_count": 41,
   "id": "41b59e6a",
   "metadata": {},
   "outputs": [],
   "source": [
    "df[columns].to_sql('channelStatistic', conn, if_exists='replace', index = False) "
   ]
  },
  {
   "cell_type": "code",
   "execution_count": 42,
   "id": "cae1a22d",
   "metadata": {},
   "outputs": [
    {
     "data": {
      "text/plain": [
       "<sqlite3.Cursor at 0x7faf1c23f260>"
      ]
     },
     "execution_count": 42,
     "metadata": {},
     "output_type": "execute_result"
    }
   ],
   "source": [
    "c.execute('SELECT * FROM channelStatistic')"
   ]
  },
  {
   "cell_type": "code",
   "execution_count": 43,
   "id": "6e3f25da",
   "metadata": {},
   "outputs": [
    {
     "name": "stdout",
     "output_type": "stream",
     "text": [
      "[('Programming with Mosh', 'Programming with Mosh', 'UCWv7vMbMWH4-V0ZXdmDpPBA', 'https://www.youtube.com/c/programmingwithmosh/videos', 'Male', 1, 'I train professional software engineers that companies love to hire. \\n\\nMy courses: http://codewithmosh.com \\n\\nMy blog: http://programmingwithmosh.com\\n\\nConnect on social media: \\n\\nhttp://www.twitter.com/moshhamedani\\n\\nhttps://www.facebook.com/programmingwithmosh\\n\\n#python #javascript #chsarp', 'AU', 82263182, 1830000, 161, '2014-10-07T00:40:53Z', 'UUWv7vMbMWH4-V0ZXdmDpPBA'), ('Traversy Media', 'Traversy Media', 'UC29ju8bIPH5as8OGnQzwJyA', 'https://www.youtube.com/user/TechGuyWeb', 'Male', 2, 'Traversy Media features the best online web development and programming tutorials for all of the latest web technologies from the building blocks of HTML, CSS & JavaScript to frontend frameworks like React and Vue to backend technologies like Node.js, Python and PHP', 'US', 142390124, 1560000, 881, '2009-10-30T21:33:14Z', 'UU29ju8bIPH5as8OGnQzwJyA'), ('Corey Schafer', 'Corey Schafer', 'UCCezIgC97PvUuR4_gbFUs5g', 'https://www.youtube.com/user/schafer5', 'Male', 3, \"Welcome to my Channel. This channel is focused on creating tutorials and walkthroughs for software developers, programmers, and engineers. We cover topics for all different skill levels, so whether you are a beginner or have many years of experience, this channel will have something for you.\\n\\nWe've already released a wide variety of videos on topics that include: Python, Git, Development Environments, Terminal Commands, SQL, Programming Terms, JavaScript, Computer Science Fundamentals, and plenty of other tips and tricks which will help you in your career.\\n\\n\\nIf you enjoy these videos and would like to support my channel, I would greatly appreciate any assistance through my Patreon account:\\nhttps://www.patreon.com/coreyms\\n\\n\\nYou can find me on:\\nMy website - http://coreyms.com/\\nFacebook - https://www.facebook.com/CoreyMSchafer\\nTwitter - https://twitter.com/CoreyMSchafer\\nGoogle Plus - https://plus.google.com/+CoreySchafer44/posts\\nTumblr - https://www.tumblr.com/blog/mycms\", 'US', 58863870, 792000, 230, '2006-05-31T22:49:22Z', 'UUCezIgC97PvUuR4_gbFUs5g'), ('Tech With Tim', 'Tech With Tim', 'UC4JX40jDee_tINbkjycV4Sg', 'https://m.youtube.com/channel/UC4JX40jDee_tINbkjycV4Sg', 'Male', 4, 'Learn programming, software engineering, machine learning and everything tech from this channel. With a special emphasis on python and javascript my channel aims to give you free resources so that you can learn to code and dive into the software engineering and programming industry. My goal is to provide the highest quality programming and tech videos on the internet! ', 'CA', 51968790, 680000, 602, '2014-04-23T01:57:10Z', 'UU4JX40jDee_tINbkjycV4Sg'), ('Krish Naik', 'Krish Naik', 'UCNU_lfiiWBdtULKOw6X0Dig', 'https://www.youtube.com/user/krishnaik06/playlists', 'Male', 5, \"I work as a Lead Data Scientist, pioneering in machine learning, deep learning, and computer vision,an educator, and a mentor, with over 8 years' experience in the industry. This is my YouTube channel where I explain various topics on machine learning, deep learning, and AI with many real-world problem scenarios. I have delivered over 30 tech talks on data science, machine learning, and AI at various meet-ups, technical institutions, and community-arranged forums. My main aim is to make everyone familiar of ML and AI.Please subscribe and support the channel. As i love new technology, all these videos are free and I promise to make more interesting content as we go ahead.\\n\\nPlease free to drop a mail for Product unboxing, GPU's unboxing and any other collaboration\", 'IN', 28303465, 390000, 1102, '2012-02-11T04:05:06Z', 'UUNU_lfiiWBdtULKOw6X0Dig'), ('Hitesh Choudhary', 'Hitesh Choudhary', 'UCXgGY0wkgOzynnHvSEVmE3A', 'https://www.youtube.com/c/HiteshChoudharydotcom', 'Male', 7, \"Website: https://courses.LearnCodeOnline.in\\nHey there everyone, Hitesh here back again with another video!\\nThis means I create a lot of videos, every single week. I cover a wide range of subjects like programming, what's latest in tech, new frameworks, open-source products etc. I keep my interest in a wide area of tech like Javascript, Python, PHP, Machine Learning, etc.\\n\\n\\nFor the Business purpose, Sponsorships and invitation, reach out at hitesh@lco.dev\\n\\nNOTE: Personal questions and code-related questions are not answered at this email. Post them in the course discussion section or react me out at social platforms.\\n\\n#iWriteCode\\n\\nInstagram: https://instagram.com/hiteshchoudharyofficial\\nFacebook: www.fb.com/HiteshChoudharyPage\", 'IN', 38006103, 641000, 1023, '2011-10-24T10:25:16Z', 'UUXgGY0wkgOzynnHvSEVmE3A'), ('Clever Programmer', 'Clever Programmer', 'UCqrILQNl5Ed9Dz6CGMyvMTQ', 'https://m.youtube.com/cleverprogrammer?uid=qrILQNl5Ed9Dz6CGMyvMTQ', 'Male', 8, 'You can find awesome programming lessons here! Also, expect programming tips and tricks that will take your coding skills to the next level.', 'US', 41675095, 978000, 599, '2016-03-12T08:59:15Z', 'UUqrILQNl5Ed9Dz6CGMyvMTQ'), ('Caleb Curry', 'Caleb Curry', 'UCZUyPT9DkJWmS_DzdOi7RIA', 'https://www.youtube.com/user/CalebTheVideoMaker2', 'Male', 9, \"Programming Made Fun and Simple  \\n\\nHigh quality tutorials that are fun, educational, and easy to follow.  Teaching programming is my passion!  I find joy in making complex material easy to understand.\\n\\nI've decided that it is only right to upload videos of great quality and value.  Here you will find videos on C++, JavaScript, C, database design, SQL, and more!  As a side note, many videos contain horribly cheesy jokes and random stories...you've been warned.\\n\\nAs an Amazon Associate I earn from qualifying purchases.\\n\\nBusiness inquiries: hello@calebcurry.com \\n\", 'US', 28464740, 385000, 1387, '2009-08-18T18:32:42Z', 'UUZUyPT9DkJWmS_DzdOi7RIA'), ('programming Hero', 'Programming Hero', 'UCStj-ORBZ7TGK1FwtGAUgbQ', 'https://www.youtube.com/channel/UCStj-ORBZ7TGK1FwtGAUgbQ', 'Male', 10, 'Learning is boring? Not any more. \\nProgramming is frustrating? No longer.\\n\\nGo watch any of our videos and you\\'ll start having a romantic perspective on programming. \\n\\n\"Coding Just Got Fun With Programming Hero!\" — Every Aspiring Programmer 😎\\n\\nStay tuned every week for fun, cool, and exciting programming tutorials, tips & tricks, advice & suggestion videos right onto your lap with hot Grandma. ❤️\\n\\n(Hidden Message: We get beaten if we don\\'t get nice subscribers even after eye-shattering views) Save us from Grandma by subscribing to this channel if you enjoyed even one video. 😁\\n\\nHit us with any kind of query on our Discord server (link below) and if needed we\\'ll cut the call with our significant other to reply to you. \\n\\nRegards,\\nGrandma\\'s First GrandKids 😉\\n\\n', 'US', 5186511, 212000, 37, '2019-04-13T16:32:45Z', 'UUStj-ORBZ7TGK1FwtGAUgbQ'), ('naveen Reddy', 'Telusko', 'UC59K-uG2A5ogwIrHw4bmlEg', 'https://www.youtube.com/c/Telusko', 'Male', 11, 'Hey Aliens!!!\\nI make free programming tutorials from beginner to advanced level\\nThat includes Java for beginner, Advanced Java, Python, Android, Blockchain, JavaScript, Kotlin, Scala, Spring Framework, Hibernate, C programming, Data Structures, Networking, REST API, and many more.\\nSometimes I make videos on motivation and take sessions with Tech industry experts.\\nThere is something for everyone here. \\n\\nIf my videos have helped you in any way do support Telusko to make more content.\\nFor Donation \\nPayPal: https://goo.gl/ko8KrB\\nPatreon: https://goo.gl/rYLSCs\\nInstamojo: https://goo.gl/YSaZKT', 'IN', 156108357, 1400000, 1469, '2014-04-29T08:23:17Z', 'UU59K-uG2A5ogwIrHw4bmlEg'), ('Code Basics', 'codebasics', 'UCh9nVJoWXmFb7sLApWGcLPQ', 'https://www.youtube.com/c/codebasics', 'Male', 12, 'I am Dhaval Patel, a software engineer by profession and a teacher by heart. I\\'ve worked with Nvidia and Bloomberg. I strongly believe \"Anyone Can Code\" ! No matter what your background and past skill set is, you can learn programming if it is taught in a simplistic and intuitive way. The goal of this channel is to fulfill this vision by teaching the programming in most simplest and intuitive manner.\\nI teach simple programming, data science, data analytics, artificial intelligence, machine learning, data structures, software architecture etc on my channel.\\n\\nDisclaimer: All the content and opinion expressed on this channel are of my own and not of my employer\\'s.', 'US', 20562153, 343000, 406, '2015-11-07T17:29:46Z', 'UUh9nVJoWXmFb7sLApWGcLPQ'), ('Maximilian Schwarzmüller', 'Academind', 'UCSJbGtTlrDami-tDGPUV9-w', 'https://www.youtube.com/channel/UCSJbGtTlrDami-tDGPUV9-w', 'Male', 13, \"There's always something to learn!\\nWe (Max & Manuel) create courses and tutorials that teach you everything related to web development. No matter if it's programming languages like JavaScript, runtimes like NodeJS or popular frameworks like ReactJS, Angular or VueJS (and much more!). We got you covered. :-)\\n\\n• Explore our content on www.academind.com\\n• Follow @maxedapps and @academind_real on Twitter\\n• Follow @academind_real on Instagram: https://www.instagram.com/academind_real\\n• Join our Facebook community on https://www.facebook.com/academindchannel\\n\\nSee you in the videos!\\n\\nImprint: https://academind.com/impressum/en\\nPlease only send business inquiries to the email address, support or video-related questions can not be answered.\", 'DE', 53714369, 687000, 618, '2015-12-04T12:55:40Z', 'UUSJbGtTlrDami-tDGPUV9-w'), ('sentdex', 'sentdex', 'UCfzlCWGWYyIQ0aLC5w48gBQ', 'https://www.youtube.com/c/sentdex', 'Male', 14, 'Python Programming tutorials, going further than just the basics. Learn about machine learning, finance, data analysis, robotics, web development, game development and more.\\n\\nI have ~1000 videos, all of which do not fit on the front page. Try searching on the channel page, or via https://pythonprogramming.net. If you cannot find something, just ask! \\n\\nBitcoin donations: 1GV7srgR4NJx4vrk7avCmmVQQrqmv87ty6\\nPaypal donations: HSKinsley@gmail.com', 'US', 95374613, 1050000, 1226, '2012-12-16T20:49:11Z', 'UUfzlCWGWYyIQ0aLC5w48gBQ'), ('Dani', 'Dani', 'UCIabPXjvT5BVTxRDPCBBOOQ', 'https://www.youtube.com/c/DaniDev/featured', 'Male', 16, 'haha yes games', 'NO', 160512683, 2460000, 65, '2018-10-17T18:40:23Z', 'UUIabPXjvT5BVTxRDPCBBOOQ'), ('The Coding Train', 'The Coding Train', 'UCvjgXvBlbQiydffZU7m1_aw', 'https://www.youtube.com/c/TheCodingTrain/videos', 'Male', 17, 'All aboard! The Coding Train is on its way with creative coding video tutorials on subjects ranging from the basics of programming languages like JavaScript to algorithmic art, machine learning, simulation, generative poetry, and more. Choo choo!', 'US', 86904612, 1280000, 1117, '2006-07-03T18:24:29Z', 'UUvjgXvBlbQiydffZU7m1_aw'), ('Dennis Ivy', 'Dennis Ivy', 'UCTZRcDjjkVajGL6wd76UnGg', 'https://www.youtube.com/c/DennisIvy', 'Male', 18, 'Sharing what I know about Full Stack Web development with the primary Focus being Python, Django & Javascript at the time. I will be creating Project based tutorials for these Languages/Frameworks/Libraries along with sharing my personal experience.', 'US', 7266335, 121000, 129, '2017-10-24T12:05:18Z', 'UUTZRcDjjkVajGL6wd76UnGg'), ('CS Dojo', 'CS Dojo', 'UCxX9wt5FWQUAAz4UrysqK9A', 'https://www.youtube.com/channel/UCxX9wt5FWQUAAz4UrysqK9A', 'Male', 19, 'Hello! My name is YK, and I usually make videos about programming and computer science here :)\\n\\nBusiness email: https://www.csdojo.io/contact/\\nThe logo was made by: my friend Youdong Zhang\\n', 'CA', 64562396, 1680000, 96, '2016-02-26T01:49:30Z', 'UUxX9wt5FWQUAAz4UrysqK9A'), ('Code with Harry', 'CodeWithHarry', 'UCeVMnSShP_Iviwkknt83cww', 'https://www.youtube.com/c/CodeWithHarry/featured', 'Male', 20, 'Code With Harry is my attempt to teach basics and those coding techniques to people in short time which took me ages to learn.\\nAt Code With Harry, I provide a quick and to the point demo along with resources of anything and everything I teach. Source code and other resources are hosted on my website CodeWithHarry.com. I provide source code(if any) in the description of every video.\\nQuality programming videos in Hindi :)', 'IN', 130857401, 1540000, 1271, '2018-04-28T14:50:54Z', 'UUeVMnSShP_Iviwkknt83cww'), ('Kalle Hallden', 'Kalle Hallden', 'UCWr0mx597DnSGLFk1WfvSkQ', 'https://www.youtube.com/channel/UCWr0mx597DnSGLFk1WfvSkQ', 'Male', 21, \"Hi, I am 300 moons old. I count everything in moons, it is very confusing for people.\\nI like to build stuff with code so that's mostly what I do in my videos\", 'US', 33062991, 514000, 190, '2015-10-18T20:39:56Z', 'UUWr0mx597DnSGLFk1WfvSkQ'), ('Fireship', 'Fireship', 'UCsBjURrPoezykLs9EqgamOA', 'https://m.youtube.com/channel/UCsBjURrPoezykLs9EqgamOA', 'Male', 22, 'High-intensity ⚡ code tutorials to help you build & ship your app faster. Subscribe for new videos every week covering intermediate to advanced lessons about JavaScript, Flutter, Firebase, and modern app development.\\n\\nThe original home of #100SecondsOfCode and #CodeThisNotThat. Created by Jeff Delaney. \\n\\nBuilding an app? Get project support, advanced full courses, and more at https://fireship.io', 'US', 46455926, 723000, 333, '2017-04-07T18:17:23Z', 'UUsBjURrPoezykLs9EqgamOA'), ('Tim Corey', 'IAmTimCorey', 'UC-ptWR16ITQyYOglXyQmpzw', 'https://www.youtube.com/user/IAmTimCorey', 'Male', 23, \"My goal is to make your life easier, specifically when it comes to learning software development. I remember what it was like to not know even what questions to ask. In every video I do, I try to answer those questions. You will notice that I don't usually do quick videos. That's because I would rather help you understand rather than just padding my watch percentages. If you want more in-depth training, feel free to head over to my website (https://www.iamtimcorey.com) where I have courses dedicated to C#, SQL, and more.\", 'US', 16971576, 243000, 276, '2011-10-14T18:24:47Z', 'UU-ptWR16ITQyYOglXyQmpzw'), ('TechLead', 'TechLead', 'UC4xKdmAXFh4ACyhpiQ_3qBw', 'https://www.youtube.com/channel/UC4xKdmAXFh4ACyhpiQ_3qBw', 'Male', 24, \"Ex-Google/ex-Facebook tech lead, multi-millionaire app entrepreneur, digital nomad traveler, software engineer. ☕️ 👌\\n\\nIf you're looking for help landing a job as a software engineer, resume critique, and mentorship, join me at:\\nhttp://techinterviewpro.com/\\nhttp://coderpro.com/\\n\\nLearn the secrets of YouTube success with me here:\\nhttp://youtubebackstage.com/\\n\\nAdd me here:\\nhttp://instagram.com/techleadhd\\nhttp://twitter.com/techleadhd\\nhttps://www.linkedin.com/in/patrickshyu/\\n\\nBusiness Inquiries: techleadhd@gmail.com\", 'US', 90766355, 1090000, 281, '2016-09-20T15:57:20Z', 'UU4xKdmAXFh4ACyhpiQ_3qBw'), ('WesBos', 'Wes Bos', 'UCoebwHSTvwalADTJhps0emA', 'https://www.youtube.com/user/wesbos', 'Male', 25, 'HTML, CSS, JavaScript and WordPress web development tutorials!', 'CA', 6822618, 132000, 233, '2006-01-26T04:15:36Z', 'UUoebwHSTvwalADTJhps0emA'), ('Gajesh S. Naik', 'Gajesh S Naik', 'UC7PWnwwqMSqAXQkKXqxRkMw', 'https://youtube.com/gajeshsnaik', 'Male', 26, 'I am Gajesh Naik, 13 y/o. Besides the curriculum, I keep an interest in Computer Science and Emerging Technologies. My channel has viewership from 120+ countries across seven continents. I have learned Scratch, C, C++, Java, JSP, HTML, CSS, JavaScript, Solidity, WordPress, Web3.js and React.js\\n\\nI am a propounder of open source technology including the Linux operating system. At my leisure, I experiment on the Arduino Board in my own Mini Laboratory. I have a modest collection of Books relating to Computer Science and related topics. \\n\\nFor Business inquiry:\\nrobogajesh@gmail.com', 'IN', 537810, 11100, 89, '2016-07-29T11:04:06Z', 'UU7PWnwwqMSqAXQkKXqxRkMw'), ('Ben Awad', 'Ben Awad', 'UC-8QAzbLcRglXeN_MY9blyw', 'https://www.youtube.com/c/BenAwad97/featured', 'Male', 27, \"I'm a software developer who makes videos about React, React Native, GraphQL, Typescript, Node.js, PostgreSQL, Python, and all things coding.\", 'US', 27919674, 322000, 1085, '2011-10-01T14:10:47Z', 'UU-8QAzbLcRglXeN_MY9blyw'), ('Codevolution', 'Codevolution', 'UC80PWRj_ZU8Zu0HSMNVwKWw', 'https://www.youtube.com/channel/UC80PWRj_ZU8Zu0HSMNVwKWw', 'Male', 29, 'Tutorials on the latest tech in web development!', 'IN', 47646233, 288000, 840, '2015-11-20T09:21:06Z', 'UU80PWRj_ZU8Zu0HSMNVwKWw'), ('Hussein Nasser', 'Hussein Nasser', 'UC_ML5xP23TOWKUcc-oAE_Eg', 'https://www.youtube.com/c/HusseinNasser-software-engineering', 'Male', 30, \"Join me as we discuss various software engineering topics with examples and adding fun elements to them. We always try to learn by example here in this educational Youtube channel which we believe is the right way to learn. I love Software engineering (especially the backend) and I strive to be a better software engineer every day. Join me on this journey and let us learn together.  \\n\\nAll opinions, suggestions, and tips I provide in all of this channel's content are my own. Information provided is for educational purposes only. \\n\\nConsider becoming a member to support the channel\\nhttps://www.youtube.com/channel/UC_ML5xP23TOWKUcc-oAE_Eg/join\\n\\nStay awesome!\\nHussein Nasser,\\nhttp://www.husseinnasser.com\\nFeel free to shoot me an email h@husseinnasser.com\\ntwitter: @hnasr\", 'US', 7217498, 146000, 644, '2014-08-19T07:33:42Z', 'UU_ML5xP23TOWKUcc-oAE_Eg'), ('Dev Ed', 'Dev Ed', 'UClb90NQQcskPUGDIXsQEz5Q', 'https://www.youtube.com/channel/UClb90NQQcskPUGDIXsQEz5Q', 'Male', 31, 'Learn web development, web design, 3d modelling, tools like figma and more without getting bored!\\n\\nThe goes of this channel is to get you to become as creative you can be!\\n\\nSo if you like to create video games in Unity or develop an application in node.js, stick around and have fun!', 'RO', 34508614, 661000, 205, '2018-05-27T14:48:23Z', 'UUlb90NQQcskPUGDIXsQEz5Q'), ('Brackeys', 'Brackeys', 'UCYbK_tjZ2OrIZFBvU6CCMiA', 'https://www.youtube.com/c/Brackeys', 'Male', 32, 'Learn how to make video games!\\n\\nTop-quality game development tutorials on everything from Unity and programming to game design. If you want to become a developer this channel will help guide you through it!\\n\\nJoin us on Discord: https://discord.gg/brackeys', 'DK', 154469605, 1410000, 461, '2012-12-22T23:21:35Z', 'UUYbK_tjZ2OrIZFBvU6CCMiA'), ('Rachit Jain', 'Rachit Jain', 'UC9fDC_eBh9e_bogw87DbGKQ', 'https://www.youtube.com/c/RachitJain', 'Male', 33, 'I am Rachit Jain, an IIT Roorkee Alumnus, and a Software Engineer at Microsoft.  \\n\\nI talk about - \\n1. Data Structures and Algorithms\\n2. Competitive Programming\\n3. Problem Solving\\n4. Motivation\\n5. Learning Mindset\\n6. Success and Winning\\n7. Failures and Reactions\\n8. Cracking Interviews\\n\\nI have given lots and lots of interviews with Google, Microsoft, Goldman Sachs, Directi, Hackerrank and received job offers from all of them, except for one ;)    \\nI have worked with Microsoft, Flipkart, Grofers, HackerEarth, Codechef and also delivered lectures in IIIT-H about problem solving and logical reasoning.  \\n\\nSubscribe, watch video and comment so that we learn from each other! \\n\\nIf you want to invite me as a speaker for some event, contact me at my Facebook page, LinkedIn profile.', 'IN', 7913906, 173000, 146, '2015-07-01T08:17:37Z', 'UU9fDC_eBh9e_bogw87DbGKQ'), ('Kyle Cook', 'Web Dev Simplified', 'UCFbNIlppjAuEX4znoulh0Cw', 'https://www.youtube.com/c/WebDevSimplified', 'Male', 34, 'Web Dev Simplified is all about teaching web development skills and techniques in an efficient and practical manner. If you are just getting started in web development Web Dev Simplified has all the tools you need to learn the newest and most popular technologies to convert you from a no stack to full stack developer. Web Dev Simplified also deep dives into advanced topics using the latest best practices for you seasoned web developers.\\n\\nI started Web Dev Simplified in order to share my passion for web development, and do what I truly love. Teach and inspire new web developers. I have been in love with full stack web development since 2015 when I did my first internship as a web developer. Ever since then I have pursued my passion, learning everything there is to know about web development. Over the years I have taught many colleagues and friends the joys of web development, and cannot wait to teach you.\\n\\nThank you for watching!', 'US', 30860644, 582000, 320, '2018-05-24T16:26:39Z', 'UUFbNIlppjAuEX4znoulh0Cw'), ('Scott Hansellman', 'Scott Hanselman', 'UCL-fHOdarou-CR2XUmK48Og', 'https://www.youtube.com/user/shanselman', 'Male', 35, \"I'm a teacher. I speak all over to whomever will listen. I have written code that you've likely used. I've been blogging for over a decade and podcasting for about half that. I speak, code, write, empower, promote, learn and listen - usually not in that order.\", 'US', 8995924, 125000, 313, '2006-03-15T10:14:39Z', 'UUL-fHOdarou-CR2XUmK48Og'), ('PortEXE', 'PortEXE', 'UCjGQyJCSU_VVMTu5nigonqg', 'https://www.youtube.com/channel/UCjGQyJCSU_VVMTu5nigonqg', 'Male', 36, 'PortEXE is an executable port whose job is to teach you programming; no matter what your skill level is. Subscribe and be part of a growing community of people interested in software. Much more to come!', 'US', 606212, 11700, 112, '2017-12-03T16:54:46Z', 'UUjGQyJCSU_VVMTu5nigonqg'), ('Joshua Fluke', 'Joshua Fluke', 'UC-91UA-Xy2Cvb98deRXuggA', 'https://www.youtube.com/user/Tychos1', 'Male', 37, \"I make a variety of content. I'm always having these wild ideas.\", 'US', 56407801, 454000, 1004, '2010-03-30T16:49:47Z', 'UU-91UA-Xy2Cvb98deRXuggA'), ('Joma', 'Joma Tech', 'UCV0qA-eDDICsRR9rPcnG7tw', 'https://www.youtube.com/channel/UCV0qA-eDDICsRR9rPcnG7tw', 'Male', 39, 'I talk about life in Silicon Valley, big tech companies, data science and software engineering.\\n\\nJoma Startup: A web series about me starting a startup called Notvine, an app that allows you to share 6.1 second looping videos\\n\\nFollow me on:\\n\\nInstagram: http://instagram.com/jomaoppa\\nFacebook: https://www.facebook.com/jomaoppa/\\nTwitter: https://twitter.com/jomaoppa\\nWebsite: https:/joma.io/\\n\\nPersonal Email: hello@joma.io\\nBusiness Only: business@joma.io', 'US', 82643586, 1260000, 86, '2016-08-31T22:22:07Z', 'UUV0qA-eDDICsRR9rPcnG7tw'), ('Tren Black', 'Tren Black', 'UCSSBvqWNPq_qO3_W4EJiOAA', 'https://www.youtube.com/channel/UCSSBvqWNPq_qO3_W4EJiOAA', 'Male', 40, 'making dumb things and sometimes complaining', 'US', 6177337, 124000, 28, '2019-06-24T08:19:06Z', 'UUSSBvqWNPq_qO3_W4EJiOAA'), ('Nick Chapsas', 'Nick Chapsas', 'UCrkPsvLGln62OMZRO6K-llg', 'https://www.youtube.com/c/Elfocrash', 'Male', 41, 'Microsoft MVP | Software Engineer | Blogger | OSS Maintainer\\n\\nNick is a Software Engineer living in London. He is passionate about .NET development technologies such as .NET Core and  Azure and he may or may not have a really special relationship with CosmosDB. He is an Open-Source maintainer and a technical blogger and he tends to speak about himself in the third person.', 'GB', 3528491, 50300, 148, '2011-11-29T12:17:30Z', 'UUrkPsvLGln62OMZRO6K-llg'), ('CodingEntrepreneurs', 'CodingEntrepreneurs', 'UCWEHue8kksIaktO8KTTN_zg', 'https://www.youtube.com/user/CodingEntrepreneurs', 'Male', 42, 'Coding for Entrepreneurs is a Programming Series for Non-Technical Founders. Learn Django, Python, APIs, Accepting Payments, Stripe, JQuery, Twitter Bootstrap, and much more. \\n\\nBuild great products with code: http://joincfe.com/\\n\\nFor a list of Full Premium Courses on Udemy: http://bit.ly/16u7a45\\nSign up for Free on Udemy: http://bit.ly/1e4F6Wz', 'US', 15831903, 179000, 671, '2013-06-30T00:56:13Z', 'UUWEHue8kksIaktO8KTTN_zg'), ('Programming With ERik', 'Program With Erik', 'UCshZ3rdoCLjDYuTR_RBubzw', 'https://www.youtube.com/channel/UCshZ3rdoCLjDYuTR_RBubzw', 'Male', 43, 'My name is Erik Hanchett and I\\'m a web and Java developer from Reno, Nevada. I\\'ve been a programmer for many years now and I\\'ve always been wanting to give back to the community. I started this channel, and my website (www.programwitherik.com) as a way to teach people what I know. \\n\\nSurprisingly, I only started learning web development seriously in early 2015, before that I strictly programmed in Java.  I worked many nights and weekends getting up to speed and I blogged about my journey. I decided to focus on Ember.js and after about a year I wrote my first book on it! (http://goo.gl/LEIdSc  )!  Now a days I work in Ember.js/Vue.js/Phoenix and more!\\n\\nStick around this channel, I do tutorials, advice and occasionaly I vlog! If you got this far please tweet me the words \"I read it\" at twitter.com/ERIKCH - That would make my day!', 'US', 6666152, 91500, 581, '2013-07-05T21:44:58Z', 'UUshZ3rdoCLjDYuTR_RBubzw'), ('Forest Knight', 'ForrestKnight', 'UC2WHjPDvbE6O328n17ZGcfg', 'https://www.youtube.com/channel/UC2WHjPDvbE6O328n17ZGcfg', 'Male', 44, 'Behind the scenes of real software development. I film what I code.\\n\\n🐱\\u200d🚀 GitHub: https://github.com/forrestknight\\n🎥 Twitch: https://www.twitch.tv/forrestknight\\n🐦 Twitter: https://www.twitter.com/forrestpknight\\n📸 Instagram: https://www.instagram.com/forrestpknight\\n\\n⚓ First Supply Coffee:  https://bit.ly/firstsupplycoffee\\n👨\\u200d💻 My Coding Gear:  https://bit.ly/my-coding-gear\\n\\n📓 Learning Resources: \\nMy Favorite Machine Learning Course:  https://bit.ly/coursera-forrest\\nOpen Source Computer Science Degree:  https://bit.ly/open-source-forrest\\nPython Open Source Computer Science Degree:  https://bit.ly/python-open-source\\nSolid for Algorithms & Coding Interviews (use code \"forrest\"):  https://bit.ly/algoexpert-forrest\\n', 'US', 15636029, 303000, 220, '2016-07-01T02:50:31Z', 'UU2WHjPDvbE6O328n17ZGcfg'), ('Keith Galli', 'Keith Galli', 'UCq6XkhO5SZ66N04IcPbqNcw', 'https://www.youtube.com/c/KGMIT/featured', 'Male', 45, 'Recent MIT Graduate. I make educational videos on Computer Science, Programming,  Board Games, and more!\\n\\nI found online videos to be extremely helpful as I progressed through the educational system growing up so I decided to make a channel of my own. Let me know what I should make next!\\n\\n-Keith :)', 'US', 7509282, 119000, 67, '2016-12-27T20:18:51Z', 'UUq6XkhO5SZ66N04IcPbqNcw'), ('Pretty Printed', 'Pretty Printed', 'UC-QDfvrRIDB6F0bIO4I4HkQ', 'https://www.youtube.com/c/PrettyPrintedTutorials', 'Male', 46, \"I'm Anthony. I make programming videos.\\n\\nFeel free to send any requests for videos.\", 'US', 9909751, 72700, 432, '2015-11-18T21:40:58Z', 'UU-QDfvrRIDB6F0bIO4I4HkQ'), ('Derek Banas', 'Derek Banas', 'UCwRXb5dUK4cvsHbx-rGzSgw', 'https://www.youtube.com/c/derekbanas', 'Male', 47, \"I make tutorials based on your requests. I will cover any topic you can imagine. I upload new videos everyday. I'm currently teaching a series on data science and machine learning.\", 'US', 107655257, 1130000, 1160, '2008-08-12T15:35:35Z', 'UUwRXb5dUK4cvsHbx-rGzSgw'), ('The Cherno', 'The Cherno', 'UCQ-W1KE9EYfdxhL6S4twUNw', 'https://www.youtube.com/c/TheChernoProject', 'Male', 48, 'I like to make videos.', 'AU', 39025282, 383000, 684, '2012-02-23T07:29:55Z', 'UUQ-W1KE9EYfdxhL6S4twUNw'), ('Angelsix', 'AngelSix', 'UCJ3AxeCHGPZkMi3kRfCuiHw', 'https://www.youtube.com/c/AngelSix', 'Male', 50, 'I develop software and hardware systems in a huge variety of areas\\n \\nHere is where I give away my knowledge for free. Learn anything from C# to Xamarin to soldering, hardware design and more.\\n\\nwww.angelsix.com', 'GB', 7803103, 51300, 208, '2016-12-23T10:09:26Z', 'UUJ3AxeCHGPZkMi3kRfCuiHw'), ('CodingWithMitch', 'CodingWithMitch', 'UCoNZZLhPuuRteu02rh7bzsw', 'https://www.youtube.com/c/CodingWithMitch', 'Male', 51, 'Learning to code by making real Android projects.\\n\\nWant some extra help? Check out our courses: https://codingwithmitch.com/courses/', 'CA', 13727544, 116000, 684, '2016-02-22T23:53:42Z', 'UUoNZZLhPuuRteu02rh7bzsw'), ('Chris Hawkes', 'Chris Hawkes', 'UCfV36TX5AejfAGIbtwTc7Zw', 'https://www.youtube.com/user/noobtoprofessional', 'Male', 52, \"We're going to learn about programming, web design, responsive web design, Reactjs, Django, Python, web scraping, games, forms applications and more!  Thank you for subscribing!  \\n\\nPatreon - https://www.patreon.com/chrishawkes\\n\\nSubscribe to my newsletter - http://codehawke.com/\\n\\nThanks, \\n\\nChris\", 'US', 19886675, 175000, 994, '2013-02-19T01:07:23Z', 'UUfV36TX5AejfAGIbtwTc7Zw'), ('Chris Coyier', 'Chris Coyier', 'UCADyUOnhyEoQqrw_RrsGleA', 'https://www.youtube.com/user/realcsstricks', 'Male', 53, 'This is the official YouTube channel for CSS-Tricks, a web design community curated by Chris Coyier. https://css-tricks.com', 'US', 3651883, 59600, 292, '2011-05-12T01:53:15Z', 'UUADyUOnhyEoQqrw_RrsGleA'), ('Fazt', 'Fazt', 'UCX9NJ471o7Wie1DQe94RVIg', 'https://www.youtube.com/channel/UCX9NJ471o7Wie1DQe94RVIg', 'Male', 54, 'Fazt es un canal en donde podrás encontrar una variedad de videos de programación, desarrollo Web y muchos otros temas relacionados al mundo de la informática en general. Desde aprender las bases de un lenguaje de programacion hasta subir tu sitio o aplicación Web. Bienvenido al mundo de la web, un mundo en el que la información es libre, al igual que la información de este canal.', 'PE', 29814805, 371000, 348, '2015-08-07T19:52:57Z', 'UUX9NJ471o7Wie1DQe94RVIg'), ('Prajwal NH', 'IIMB Inventors Inventing Machine Business', 'UCWym_j-OGCzIfz8K4vXtU6g', 'https://www.youtube.com/channel/UCWym_j-OGCzIfz8K4vXtU6g', 'Male', 55, \"The IIMB stands for Inventor's Inventing Machine Business. \\nThis channel relates to hardware and software information provided by us. We shall provide you with a whole lot of innovative projects and ton of technical info on this channel. \\nGo building.\\nGo inventing.\\n\\nYou can visit my website to know more:\\nhttps://www.prajwal-iimb.com/\", 'IN', 5709, 86, 24, '2018-11-18T12:23:23Z', 'UUWym_j-OGCzIfz8K4vXtU6g'), ('Life of Luba', 'Life of Luba', 'UCgzKCeDYLRzPhQ64R6AKyBQ', 'https://www.youtube.com/channel/UCgzKCeDYLRzPhQ64R6AKyBQ', 'Female', 56, \"I'm Luba and on my channel, you can expect things about entrepreneurship, motivation, and lifestyle! \\n\\nMy goal is to help as many people as possible realize their own potential and motivate them to reach for their dreams. I also spend time singing opera, reading about productivity, and mentoring startups.\\n\\nI spent the last 6 years working in tech for companies like Airbnb and Yelp, where I worked as a Software Engineer, Chief of Staff, and most recently, Product Manager.\\n\\nOriginally from Belarus, at the age of 17, I studied Chemical Engineering and Computer Science at the University of Waterloo in Canada and Technical University of Munich. \\n\\nNow I'm on a path to run my own businesses. Visit https://www.loka.dev/ if you want to hire the best Eastern European engineers for your fast-growing company. \\n\\nVideos come out weekly most of the time :)\\n\\nThank you for tuning in!\\n♥ Luba\\n\", 'US', 4924304, 103000, 112, '2018-03-02T23:31:14Z', 'UUgzKCeDYLRzPhQ64R6AKyBQ'), ('chuck severance', 'Chuck Severance', 'UChYfrRp_CWyqOt-ZYJGOgmA', 'https://m.youtube.com/user/csev', 'Male', 57, None, 'US', 7776775, 62100, 878, '2006-08-19T14:24:00Z', 'UUhYfrRp_CWyqOt-ZYJGOgmA'), ('Will Kwan', 'Will Kwan', 'UCTjPBE9BNsmv44wgxWEy2zw', 'https://www.youtube.com/channel/UCTjPBE9BNsmv44wgxWEy2zw', 'Male', 58, \"trying to build cool stuff but it's sometimes bad\", 'CA', 7264253, 133000, 32, '2017-06-04T22:17:54Z', 'UUTjPBE9BNsmv44wgxWEy2zw'), ('codingphase', 'CodingPhase', 'UC46wWUso9H5KPQcoL9iE3Ug', 'https://www.youtube.com/codingphase', 'Male', 59, 'javascript, tutorial, javascript (programming language), learn javascript, how to, javascript tutorial, code, programming language (software genre), lesson, help, javascript tutorial for beginners, html, programming, java, css, custom, notepad, mac, windows, site, development, language, markup, text, hyper, internet, to-do, interactive, online, cambridge, quick, dynamic, program, build, from scratch, website, make, science, computer, wright', 'US', 5362262, 77000, 952, '2016-01-25T01:16:48Z', 'UU46wWUso9H5KPQcoL9iE3Ug'), ('Pasja informatyki', 'Pasja informatyki', 'UCzn6vAfspIcagLax1fck_jw', 'https://www.youtube.com/c/Pasjainformatykitutoriale', 'Male', 60, 'Mirosław Zelent i Damian Stelmach - zmieniamy naukę informatyki na bardziej przystępną. Wierzymy w nauczanie, które rozpala pasję, a nie takie, które wynika z przymusu. Tworzymy dopracowane tutoriale video, artykuły tekstowe, podcasty, testy i zadania do rozwiązania dostępne dla wszystkich za darmo. Naszym celem jest osiągać wielokrotnie zadziwiający stopień przyswajalności materiału - taki, który pozwoli każdemu, kto tylko zechce popracować, stawać się o mały krok lepszym w tym co robi. Temat po temacie, film po filmie, wykład po wykładzie. \\n\\nChcesz wesprzeć ten kanał? Zajrzyj tutaj: patronite.pl/pasja-informatyki\\nMasz pytanie dotyczące odcinka? Nie pytaj w komentarzach, zadaj je na forum: forum.pasja-informatyki.pl \\nWspółpraca reklamowa: http://miroslawzelent.pl/wspolpraca/\\n\\nNie odpisujemy na pw na YT, ani na  osobistych profilach na FB. \\nKontakt (jedynie w celach biznesowych): kontakt@pasja-informatyki.pl\\nNasz content dostarczamy na zasadzie \"as is\".', 'PL', 45526551, 324000, 200, '2012-02-05T10:44:16Z', 'UUzn6vAfspIcagLax1fck_jw'), ('Thomas Kim', 'Thomas Kim', 'UCpQ9kTWohSlFgXIKJmFc4kA', 'https://www.youtube.com/channel/UCpQ9kTWohSlFgXIKJmFc4kA', 'Male', 61, 'For those who like programming.', 'KR', 749633, 3210, 1041, '2010-09-18T22:21:17Z', 'UUpQ9kTWohSlFgXIKJmFc4kA'), ('Data School', 'Data School', 'UCnVzApLJE2ljPZSeQylSEyg', 'https://www.youtube.com/dataschool', 'Male', 63, 'Are you trying to learn data science so that you can get your first data science job? You\\'re probably confused about what you\\'re \"supposed\" to learn, and then you have the hardest time actually finding lessons you can understand!\\n\\nData School focuses you on the topics you need to master first, and offers in-depth tutorials that you can understand regardless of your educational background.\\n\\nMy name is Kevin Markham, and I\\'m the founder of Data School. I\\'ve taught data science using the Python programming language to hundreds of students in the classroom, and hundreds of thousands of students (like you) online.\\n\\nFinding the right teacher was so important to my data science education, and so I sincerely hope that I can be the right data science teacher for you.\\n\\nPlease click the SUBSCRIBE button to be notified of my new data science tutorials! I look forward to interacting with you in the comments :)', 'US', 8660601, 176000, 104, '2014-04-30T18:49:17Z', 'UUnVzApLJE2ljPZSeQylSEyg'), ('Abhishek Thakur', 'Abhishek Thakur', 'UCBPRJjIWfyNG4X-CRbnv78A', 'https://www.youtube.com/c/AbhishekThakurAbhi', 'Male', 64, \"I make videos about applied machine learning, deep learning and data science.\\nI am the world's first 4x grandmaster on Kaggle.\\n\\nBuy my book:\\n\\nOriginal B&W Copy:\\nINDIA: https://bit.ly/aamlpothi\\nUSA: https://www.amazon.com/dp/8269211508\\nUK: https://www.amazon.co.uk/dp/8269211508\\nGermany: https://www.amazon.de/dp/8269211508\\nFrance: https://www.amazon.fr/dp/8269211508\\nSpain: https://www.amazon.es/dp/8269211508\\nItaly: https://www.amazon.it/dp/8269211508\\nJapan: https://www.amazon.co.jp/dp/8269211508\\nCanada: https://www.amazon.ca/dp/8269211508\\n\\n\\nColor / special collector's edition:\\nINDIA: https://bit.ly/aamlpothicolor\\nUSA: https://www.amazon.com/dp/B08DC3ZFZZ\\nUK: https://www.amazon.co.uk/dp/B08DC3ZFZZ\\nJapan: https://www.amazon.co.jp/dp/B08DC3ZFZZ\\nGermany: https://www.amazon.de/dp/B08DC3ZFZZ\\nFrance: https://www.amazon.fr/dp/B08DC3ZFZZ\\nItaly: https://www.amazon.it/dp/B08DC3ZFZZ\\nSpain: https://www.amazon.es/dp/B08DC3ZFZZ\\nCanada: https://www.amazon.ca/dp/B08DC3ZFZZ\", 'NO', 987742, 48300, 96, '2009-05-24T11:41:32Z', 'UUBPRJjIWfyNG4X-CRbnv78A'), ('gaurav sen', 'Gaurav Sen', 'UCRPMAqdtSgd0Ipeef7iFsKw', 'https://www.youtube.com/c/GauravSensei/featured', 'Male', 65, 'Algorithms and System Design makes a powerful combination! \\nHere are some things I talk about: \\n1) System design\\n2) Competitive programming\\n3) Artificial intelligence\\n\\nSubscribe for the latest updates!\\nYou can catch me in the links mentioned below.', 'IN', 15329535, 358000, 188, '2012-04-20T10:37:45Z', 'UURPMAqdtSgd0Ipeef7iFsKw'), ('Ryan Dhungel', 'Ryan Dhungel', 'UCu47q4mYoq9t0bINCWaTsgA', 'https://www.youtube.com/c/narayandhungel', 'Male', 66, 'Simplified Web Development Tutorials on PHP, Laravel, Bootstrap, WordPress and more', 'AU', 252230, 2020, 162, '2007-03-30T18:08:53Z', 'UUu47q4mYoq9t0bINCWaTsgA'), ('RealTough Candy', 'RealToughCandy', 'UC54NcJvLCvM2CNaBjd5j6HA', 'https://www.youtube.com/channel/UC54NcJvLCvM2CNaBjd5j6HA', 'Female', 67, \"Are you ready to get into the tech industry as a software developer? You've come to the right spot! \\n\\nRealToughCandy is your home for REAL-WORLD development education. Everything I share here is based on real-life situations, and I'm here to tell you how the industry really works. I've helped over a million people and I'm excited to help millions more.\\n\\nSome of the tech I feature includes HTML, CSS & JavaScript; React; PHP; Linux + LAMP stack, MERN stack & more. I also teach people how to become freelance web developers.\\n\\nIf you want to change your life for the better and work in an exciting, high-paying career field, subscribe NOW.\\n\\n👉👉👉Check out my #1 course Freelance Newbie that has helped over a THOUSAND people start their freelance web development careers: https://realtoughcandy.io/p/freelance-newbie-become-a-freelance-web-developer\\n\\n👉👉👉I'm the author of FIVE TOP RATED books: https://amzn.to/2RLwsay\\n\\n👉👉👉 Where I review tech stuff: www.realtoughcandy.com\\n\", 'US', 1921572, 45300, 159, '2015-03-25T00:36:49Z', 'UU54NcJvLCvM2CNaBjd5j6HA'), ('Papaya Coders', 'Papaya Coders', 'UCm8jfNyHA7FIrFdYQTOpy0g', 'https://youtube.com/papayacoders', 'Male', 68, 'We, Papaya Coders are trying to provide our best for your betterment. We are here for all of your programming needs. Services that we provide are:\\nYouTube videos for beginners in programming.\\nCrash courses for different technologies.\\nProject oriented YouTube videos\\nProgramming guides.\\nAn interface to solve your errors using insta-tele-whatsapp.\\nWe also develop application and website for you using your favourite technology.\\nWe would like to hire students as freelancers.\\n\\nWe all know that the time is tough. Our Doctors, Nurses, Police, Soldiers and Government are trying their best for the country. When we stand together, we win together. \\nStay home, Stay connected.\\n', 'IN', 351410, 3430, 301, '2020-03-07T09:02:15.347561Z', 'UUm8jfNyHA7FIrFdYQTOpy0g'), ('perfect web solutions', 'Perfect Web Solutions', 'UCjM2CgqAXgXQuFjJa732IRw', 'https://youtube.com/perfectwebsolutions', 'Male', 71, 'Perfect web solutions provide Quality Tutorials on Web Development, Web Design, using ( WordPress, Laravel, CodeIgniter, PHP & MySQL ) and we are currently working on preparing Tutorials on Artificial Intelligence, Machine Learning using Python and Packages like Tensorflow, Keras, Pandas, NumPy and some other Cool Web Development Packages like Django and Flask.\\n\\nFor business inquiries: itsmeleo.qureshi@gmail.com\\n\\nVisit our Fan Page on Facebook: https://www.facebook.com/pwspkjlm\\n\\nOur Group on Facebook: https://www.facebook.com/groups/1279782712164479/\\n\\nVisit our Fan Page on Twitter: @pwsjlmpk\\n\\nJoin me on Instagram: @perfectwebsolutionspk\\n\\nour WhatsApp group: https://chat.whatsapp.com/6tSVUlX2ltCIsWe6b3UtlU\\n\\nVisit our Website: http://www.bestsoftpro.com\\n\\nVisit our Official Website: https://perfectwebsolutions.info\\n\\nThank You!\\n@Perfect Web Solutions', 'PK', 2729147, 28500, 1286, '2015-06-26T22:35:34Z', 'UUjM2CgqAXgXQuFjJa732IRw')]\n"
     ]
    }
   ],
   "source": [
    "print(c.fetchall())"
   ]
  },
  {
   "cell_type": "code",
   "execution_count": 44,
   "id": "922e1c50",
   "metadata": {},
   "outputs": [],
   "source": [
    "conn.commit()"
   ]
  },
  {
   "cell_type": "code",
   "execution_count": 45,
   "id": "dbdec2bb",
   "metadata": {},
   "outputs": [],
   "source": [
    "df = pd.read_csv('../data/playlistDB.csv')"
   ]
  },
  {
   "cell_type": "code",
   "execution_count": 46,
   "id": "82ee4e18",
   "metadata": {},
   "outputs": [
    {
     "data": {
      "text/html": [
       "<div>\n",
       "<style scoped>\n",
       "    .dataframe tbody tr th:only-of-type {\n",
       "        vertical-align: middle;\n",
       "    }\n",
       "\n",
       "    .dataframe tbody tr th {\n",
       "        vertical-align: top;\n",
       "    }\n",
       "\n",
       "    .dataframe thead th {\n",
       "        text-align: right;\n",
       "    }\n",
       "</style>\n",
       "<table border=\"1\" class=\"dataframe\">\n",
       "  <thead>\n",
       "    <tr style=\"text-align: right;\">\n",
       "      <th></th>\n",
       "      <th>playlistId</th>\n",
       "      <th>title</th>\n",
       "      <th>description</th>\n",
       "      <th>itmCount</th>\n",
       "      <th>publishedAt</th>\n",
       "      <th>channelId</th>\n",
       "    </tr>\n",
       "  </thead>\n",
       "  <tbody>\n",
       "    <tr>\n",
       "      <th>0</th>\n",
       "      <td>PLTjRvDozrdlxzQet01qZBt-sRG8bbDggv</td>\n",
       "      <td>Mobile Development</td>\n",
       "      <td>NaN</td>\n",
       "      <td>6</td>\n",
       "      <td>2020-06-14T18:44:27Z</td>\n",
       "      <td>UCWv7vMbMWH4-V0ZXdmDpPBA</td>\n",
       "    </tr>\n",
       "    <tr>\n",
       "      <th>1</th>\n",
       "      <td>PLTjRvDozrdlxlMnoG9_yJKPMxMJu8FWRK</td>\n",
       "      <td>Job Interview Preparation Videos</td>\n",
       "      <td>NaN</td>\n",
       "      <td>6</td>\n",
       "      <td>2019-12-10T03:20:31Z</td>\n",
       "      <td>UCWv7vMbMWH4-V0ZXdmDpPBA</td>\n",
       "    </tr>\n",
       "    <tr>\n",
       "      <th>2</th>\n",
       "      <td>PLTjRvDozrdlxCs_3gaqd120LcGxmfe8rG</td>\n",
       "      <td>Programming Languages</td>\n",
       "      <td>NaN</td>\n",
       "      <td>8</td>\n",
       "      <td>2019-07-15T01:00:50Z</td>\n",
       "      <td>UCWv7vMbMWH4-V0ZXdmDpPBA</td>\n",
       "    </tr>\n",
       "    <tr>\n",
       "      <th>3</th>\n",
       "      <td>PLTjRvDozrdlw5En5v2xrBr_EqieHf7hGs</td>\n",
       "      <td>Front-end Development</td>\n",
       "      <td>NaN</td>\n",
       "      <td>11</td>\n",
       "      <td>2019-03-23T20:17:05Z</td>\n",
       "      <td>UCWv7vMbMWH4-V0ZXdmDpPBA</td>\n",
       "    </tr>\n",
       "    <tr>\n",
       "      <th>4</th>\n",
       "      <td>PLTjRvDozrdlynYXGUfyyMZdrQ0Sz27aud</td>\n",
       "      <td>Back-end Development</td>\n",
       "      <td>All the essential tutorials to learn back-end ...</td>\n",
       "      <td>16</td>\n",
       "      <td>2019-03-23T20:08:38Z</td>\n",
       "      <td>UCWv7vMbMWH4-V0ZXdmDpPBA</td>\n",
       "    </tr>\n",
       "  </tbody>\n",
       "</table>\n",
       "</div>"
      ],
      "text/plain": [
       "                           playlistId                             title  \\\n",
       "0  PLTjRvDozrdlxzQet01qZBt-sRG8bbDggv                Mobile Development   \n",
       "1  PLTjRvDozrdlxlMnoG9_yJKPMxMJu8FWRK  Job Interview Preparation Videos   \n",
       "2  PLTjRvDozrdlxCs_3gaqd120LcGxmfe8rG             Programming Languages   \n",
       "3  PLTjRvDozrdlw5En5v2xrBr_EqieHf7hGs             Front-end Development   \n",
       "4  PLTjRvDozrdlynYXGUfyyMZdrQ0Sz27aud              Back-end Development   \n",
       "\n",
       "                                         description  itmCount  \\\n",
       "0                                                NaN         6   \n",
       "1                                                NaN         6   \n",
       "2                                                NaN         8   \n",
       "3                                                NaN        11   \n",
       "4  All the essential tutorials to learn back-end ...        16   \n",
       "\n",
       "            publishedAt                 channelId  \n",
       "0  2020-06-14T18:44:27Z  UCWv7vMbMWH4-V0ZXdmDpPBA  \n",
       "1  2019-12-10T03:20:31Z  UCWv7vMbMWH4-V0ZXdmDpPBA  \n",
       "2  2019-07-15T01:00:50Z  UCWv7vMbMWH4-V0ZXdmDpPBA  \n",
       "3  2019-03-23T20:17:05Z  UCWv7vMbMWH4-V0ZXdmDpPBA  \n",
       "4  2019-03-23T20:08:38Z  UCWv7vMbMWH4-V0ZXdmDpPBA  "
      ]
     },
     "execution_count": 46,
     "metadata": {},
     "output_type": "execute_result"
    }
   ],
   "source": [
    "df.head()"
   ]
  },
  {
   "cell_type": "code",
   "execution_count": 51,
   "id": "cba37dab",
   "metadata": {},
   "outputs": [
    {
     "data": {
      "text/plain": [
       "'CREATE TABLE playlist ([playlistId] text PRIMARY KEY, [title] text, [description] text, [itemCount] integer, [publishedAt] text,[channelId] text)'"
      ]
     },
     "execution_count": 51,
     "metadata": {},
     "output_type": "execute_result"
    }
   ],
   "source": [
    "query = \"CREATE TABLE playlist ([playlistId] text PRIMARY KEY, [title] text, [description] text, [itemCount] integer, [publishedAt] text,[channelId] text)\"\n",
    "query "
   ]
  },
  {
   "cell_type": "code",
   "execution_count": 52,
   "id": "5193d324",
   "metadata": {},
   "outputs": [
    {
     "data": {
      "text/plain": [
       "<sqlite3.Cursor at 0x7faf1c23f260>"
      ]
     },
     "execution_count": 52,
     "metadata": {},
     "output_type": "execute_result"
    }
   ],
   "source": [
    "c.execute(query)"
   ]
  },
  {
   "cell_type": "code",
   "execution_count": 53,
   "id": "edbb534e",
   "metadata": {},
   "outputs": [],
   "source": [
    "df.to_sql('playlist', conn, if_exists='replace', index = False) "
   ]
  },
  {
   "cell_type": "code",
   "execution_count": 54,
   "id": "aacc8618",
   "metadata": {},
   "outputs": [],
   "source": [
    "conn.commit()"
   ]
  },
  {
   "cell_type": "code",
   "execution_count": 59,
   "id": "c39aa735",
   "metadata": {},
   "outputs": [],
   "source": [
    "def createTable(df,name,query, index=False):\n",
    "    \n",
    "    c.execute(query)\n",
    "    df.to_sql(name, conn, if_exists='replace', index =index) \n",
    "    conn.commit()"
   ]
  },
  {
   "cell_type": "code",
   "execution_count": 57,
   "id": "fd30d069",
   "metadata": {},
   "outputs": [
    {
     "data": {
      "text/html": [
       "<div>\n",
       "<style scoped>\n",
       "    .dataframe tbody tr th:only-of-type {\n",
       "        vertical-align: middle;\n",
       "    }\n",
       "\n",
       "    .dataframe tbody tr th {\n",
       "        vertical-align: top;\n",
       "    }\n",
       "\n",
       "    .dataframe thead th {\n",
       "        text-align: right;\n",
       "    }\n",
       "</style>\n",
       "<table border=\"1\" class=\"dataframe\">\n",
       "  <thead>\n",
       "    <tr style=\"text-align: right;\">\n",
       "      <th></th>\n",
       "      <th>videoId</th>\n",
       "      <th>playlistId</th>\n",
       "    </tr>\n",
       "  </thead>\n",
       "  <tbody>\n",
       "    <tr>\n",
       "      <th>0</th>\n",
       "      <td>0-S5a0eXPoc</td>\n",
       "      <td>PLTjRvDozrdlxzQet01qZBt-sRG8bbDggv</td>\n",
       "    </tr>\n",
       "    <tr>\n",
       "      <th>1</th>\n",
       "      <td>SLwpqD8n3d0</td>\n",
       "      <td>PLTjRvDozrdlxzQet01qZBt-sRG8bbDggv</td>\n",
       "    </tr>\n",
       "    <tr>\n",
       "      <th>2</th>\n",
       "      <td>93ZU6j59wL4</td>\n",
       "      <td>PLTjRvDozrdlxzQet01qZBt-sRG8bbDggv</td>\n",
       "    </tr>\n",
       "    <tr>\n",
       "      <th>3</th>\n",
       "      <td>uxZZzmeCoLE</td>\n",
       "      <td>PLTjRvDozrdlxzQet01qZBt-sRG8bbDggv</td>\n",
       "    </tr>\n",
       "    <tr>\n",
       "      <th>4</th>\n",
       "      <td>8JJ101D3knE</td>\n",
       "      <td>PLTjRvDozrdlxzQet01qZBt-sRG8bbDggv</td>\n",
       "    </tr>\n",
       "  </tbody>\n",
       "</table>\n",
       "</div>"
      ],
      "text/plain": [
       "       videoId                          playlistId\n",
       "0  0-S5a0eXPoc  PLTjRvDozrdlxzQet01qZBt-sRG8bbDggv\n",
       "1  SLwpqD8n3d0  PLTjRvDozrdlxzQet01qZBt-sRG8bbDggv\n",
       "2  93ZU6j59wL4  PLTjRvDozrdlxzQet01qZBt-sRG8bbDggv\n",
       "3  uxZZzmeCoLE  PLTjRvDozrdlxzQet01qZBt-sRG8bbDggv\n",
       "4  8JJ101D3knE  PLTjRvDozrdlxzQet01qZBt-sRG8bbDggv"
      ]
     },
     "execution_count": 57,
     "metadata": {},
     "output_type": "execute_result"
    }
   ],
   "source": [
    "df = pd.read_csv('../data/playlistItemsDB.csv')\n",
    "df.head()"
   ]
  },
  {
   "cell_type": "code",
   "execution_count": 58,
   "id": "b9ad8707",
   "metadata": {},
   "outputs": [
    {
     "data": {
      "text/plain": [
       "'CREATE TABLE playlistItems ([videoId] text,[playlistId] text)'"
      ]
     },
     "execution_count": 58,
     "metadata": {},
     "output_type": "execute_result"
    }
   ],
   "source": [
    "query = \"CREATE TABLE playlistItems ([videoId] text,[playlistId] text)\"\n",
    "query "
   ]
  },
  {
   "cell_type": "code",
   "execution_count": 61,
   "id": "17764a93",
   "metadata": {},
   "outputs": [],
   "source": [
    "createTable(df,'playlistItems',query, index=True)"
   ]
  },
  {
   "cell_type": "code",
   "execution_count": 65,
   "id": "e7487026",
   "metadata": {},
   "outputs": [
    {
     "data": {
      "text/html": [
       "<div>\n",
       "<style scoped>\n",
       "    .dataframe tbody tr th:only-of-type {\n",
       "        vertical-align: middle;\n",
       "    }\n",
       "\n",
       "    .dataframe tbody tr th {\n",
       "        vertical-align: top;\n",
       "    }\n",
       "\n",
       "    .dataframe thead th {\n",
       "        text-align: right;\n",
       "    }\n",
       "</style>\n",
       "<table border=\"1\" class=\"dataframe\">\n",
       "  <thead>\n",
       "    <tr style=\"text-align: right;\">\n",
       "      <th></th>\n",
       "      <th>videoId</th>\n",
       "      <th>title</th>\n",
       "      <th>tags</th>\n",
       "      <th>viewCount</th>\n",
       "      <th>likeCount</th>\n",
       "      <th>dislikeCount</th>\n",
       "      <th>commentCount</th>\n",
       "      <th>duration</th>\n",
       "      <th>channelId</th>\n",
       "      <th>defaultAudioLanguage</th>\n",
       "      <th>publishedAt</th>\n",
       "      <th>description</th>\n",
       "    </tr>\n",
       "  </thead>\n",
       "  <tbody>\n",
       "    <tr>\n",
       "      <th>0</th>\n",
       "      <td>rHux0gMZ3Eg</td>\n",
       "      <td>Django Tutorial for Beginners [2021]</td>\n",
       "      <td>['django tutorial', 'django', 'learn django', ...</td>\n",
       "      <td>51981</td>\n",
       "      <td>2970</td>\n",
       "      <td>28</td>\n",
       "      <td>514</td>\n",
       "      <td>3756</td>\n",
       "      <td>UCWv7vMbMWH4-V0ZXdmDpPBA</td>\n",
       "      <td>en</td>\n",
       "      <td>2021-06-28</td>\n",
       "      <td>Django Tutorial for Beginners - Learn Django f...</td>\n",
       "    </tr>\n",
       "    <tr>\n",
       "      <th>1</th>\n",
       "      <td>pTFZFxd4hOI</td>\n",
       "      <td>Docker Tutorial for Beginners [2021]</td>\n",
       "      <td>['docker tutorial', 'docker', 'learn docker', ...</td>\n",
       "      <td>285783</td>\n",
       "      <td>8734</td>\n",
       "      <td>314</td>\n",
       "      <td>632</td>\n",
       "      <td>3364</td>\n",
       "      <td>UCWv7vMbMWH4-V0ZXdmDpPBA</td>\n",
       "      <td>en</td>\n",
       "      <td>2021-03-30</td>\n",
       "      <td>Docker Tutorial for Beginners - Learn Docker f...</td>\n",
       "    </tr>\n",
       "    <tr>\n",
       "      <th>2</th>\n",
       "      <td>Eo90IEphG_M</td>\n",
       "      <td>Docker course is coming!</td>\n",
       "      <td>NaN</td>\n",
       "      <td>28449</td>\n",
       "      <td>1794</td>\n",
       "      <td>11</td>\n",
       "      <td>231</td>\n",
       "      <td>49</td>\n",
       "      <td>UCWv7vMbMWH4-V0ZXdmDpPBA</td>\n",
       "      <td>en</td>\n",
       "      <td>2021-03-25</td>\n",
       "      <td>NaN</td>\n",
       "    </tr>\n",
       "    <tr>\n",
       "      <th>3</th>\n",
       "      <td>qz0aGYrrlhU</td>\n",
       "      <td>HTML Tutorial for Beginners: HTML Crash Course...</td>\n",
       "      <td>['html tutorial', 'html5 tutorial', 'html', 'h...</td>\n",
       "      <td>983673</td>\n",
       "      <td>29773</td>\n",
       "      <td>386</td>\n",
       "      <td>1655</td>\n",
       "      <td>4174</td>\n",
       "      <td>UCWv7vMbMWH4-V0ZXdmDpPBA</td>\n",
       "      <td>en</td>\n",
       "      <td>2021-01-11</td>\n",
       "      <td>HTML Tutorial for Beginners - Learn HTML for a...</td>\n",
       "    </tr>\n",
       "    <tr>\n",
       "      <th>4</th>\n",
       "      <td>-_X6PhkjpzU</td>\n",
       "      <td>5 Front-end Development Skills to Land Your Fi...</td>\n",
       "      <td>['front-end development', 'front end developme...</td>\n",
       "      <td>399842</td>\n",
       "      <td>22398</td>\n",
       "      <td>153</td>\n",
       "      <td>643</td>\n",
       "      <td>542</td>\n",
       "      <td>UCWv7vMbMWH4-V0ZXdmDpPBA</td>\n",
       "      <td>en</td>\n",
       "      <td>2021-01-07</td>\n",
       "      <td>Everything you need to know in a simple path t...</td>\n",
       "    </tr>\n",
       "  </tbody>\n",
       "</table>\n",
       "</div>"
      ],
      "text/plain": [
       "       videoId                                              title  \\\n",
       "0  rHux0gMZ3Eg               Django Tutorial for Beginners [2021]   \n",
       "1  pTFZFxd4hOI               Docker Tutorial for Beginners [2021]   \n",
       "2  Eo90IEphG_M                           Docker course is coming!   \n",
       "3  qz0aGYrrlhU  HTML Tutorial for Beginners: HTML Crash Course...   \n",
       "4  -_X6PhkjpzU  5 Front-end Development Skills to Land Your Fi...   \n",
       "\n",
       "                                                tags  viewCount  likeCount  \\\n",
       "0  ['django tutorial', 'django', 'learn django', ...      51981       2970   \n",
       "1  ['docker tutorial', 'docker', 'learn docker', ...     285783       8734   \n",
       "2                                                NaN      28449       1794   \n",
       "3  ['html tutorial', 'html5 tutorial', 'html', 'h...     983673      29773   \n",
       "4  ['front-end development', 'front end developme...     399842      22398   \n",
       "\n",
       "   dislikeCount  commentCount  duration                 channelId  \\\n",
       "0            28           514      3756  UCWv7vMbMWH4-V0ZXdmDpPBA   \n",
       "1           314           632      3364  UCWv7vMbMWH4-V0ZXdmDpPBA   \n",
       "2            11           231        49  UCWv7vMbMWH4-V0ZXdmDpPBA   \n",
       "3           386          1655      4174  UCWv7vMbMWH4-V0ZXdmDpPBA   \n",
       "4           153           643       542  UCWv7vMbMWH4-V0ZXdmDpPBA   \n",
       "\n",
       "  defaultAudioLanguage publishedAt  \\\n",
       "0                   en  2021-06-28   \n",
       "1                   en  2021-03-30   \n",
       "2                   en  2021-03-25   \n",
       "3                   en  2021-01-11   \n",
       "4                   en  2021-01-07   \n",
       "\n",
       "                                         description  \n",
       "0  Django Tutorial for Beginners - Learn Django f...  \n",
       "1  Docker Tutorial for Beginners - Learn Docker f...  \n",
       "2                                                NaN  \n",
       "3  HTML Tutorial for Beginners - Learn HTML for a...  \n",
       "4  Everything you need to know in a simple path t...  "
      ]
     },
     "execution_count": 65,
     "metadata": {},
     "output_type": "execute_result"
    }
   ],
   "source": [
    "df = pd.read_csv('../data/video.csv')\n",
    "df.head()"
   ]
  },
  {
   "cell_type": "code",
   "execution_count": 69,
   "id": "2b0b1148",
   "metadata": {},
   "outputs": [
    {
     "data": {
      "text/plain": [
       "'CREATE TABLE video ([videoId] text PRIMARY KEY, [title] text, [tags] text, [viewCount] integer,[likeCount] integer,[dislikeCount] integer,[commentCount] integer,[duration] integer, [channelId] text ,[defaultAudioLanguage] text,[publishedAt] text,[description] text)'"
      ]
     },
     "execution_count": 69,
     "metadata": {},
     "output_type": "execute_result"
    }
   ],
   "source": [
    "query = \"CREATE TABLE video ([videoId] text PRIMARY KEY, [title] text, [tags] text, [viewCount] integer,[likeCount] integer,[dislikeCount] integer,[commentCount] integer,[duration] integer, [channelId] text ,[defaultAudioLanguage] text,[publishedAt] text,[description] text)\"\n",
    "query"
   ]
  },
  {
   "cell_type": "code",
   "execution_count": 70,
   "id": "5774bf62",
   "metadata": {},
   "outputs": [],
   "source": [
    "createTable(df,'video',query)"
   ]
  },
  {
   "cell_type": "code",
   "execution_count": null,
   "id": "3e4c6356",
   "metadata": {},
   "outputs": [],
   "source": []
  }
 ],
 "metadata": {
  "kernelspec": {
   "display_name": "Python 3",
   "language": "python",
   "name": "python3"
  },
  "language_info": {
   "codemirror_mode": {
    "name": "ipython",
    "version": 3
   },
   "file_extension": ".py",
   "mimetype": "text/x-python",
   "name": "python",
   "nbconvert_exporter": "python",
   "pygments_lexer": "ipython3",
   "version": "3.8.10"
  }
 },
 "nbformat": 4,
 "nbformat_minor": 5
}
