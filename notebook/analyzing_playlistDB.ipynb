{
 "cells": [
  {
   "cell_type": "code",
   "execution_count": 1,
   "id": "f6563c83",
   "metadata": {},
   "outputs": [],
   "source": [
    "import datetime as dt\n",
    "import pandas as pd\n",
    "import seaborn as sns\n",
    "import re\n",
    "from datetime import date\n",
    "import json\n",
    "import matplotlib.pyplot as plt\n",
    "\n",
    "\n",
    "%matplotlib inline\n"
   ]
  },
  {
   "cell_type": "code",
   "execution_count": 3,
   "id": "fddcc48b",
   "metadata": {},
   "outputs": [],
   "source": [
    "df = pd.read_csv('data/playlistDB.csv')"
   ]
  },
  {
   "cell_type": "code",
   "execution_count": 4,
   "id": "b5a8be53",
   "metadata": {},
   "outputs": [
    {
     "data": {
      "text/html": [
       "<div>\n",
       "<style scoped>\n",
       "    .dataframe tbody tr th:only-of-type {\n",
       "        vertical-align: middle;\n",
       "    }\n",
       "\n",
       "    .dataframe tbody tr th {\n",
       "        vertical-align: top;\n",
       "    }\n",
       "\n",
       "    .dataframe thead th {\n",
       "        text-align: right;\n",
       "    }\n",
       "</style>\n",
       "<table border=\"1\" class=\"dataframe\">\n",
       "  <thead>\n",
       "    <tr style=\"text-align: right;\">\n",
       "      <th></th>\n",
       "      <th>playlistId</th>\n",
       "      <th>title</th>\n",
       "      <th>description</th>\n",
       "      <th>itmCount</th>\n",
       "      <th>publishedAt</th>\n",
       "      <th>channelId</th>\n",
       "    </tr>\n",
       "  </thead>\n",
       "  <tbody>\n",
       "    <tr>\n",
       "      <th>0</th>\n",
       "      <td>PLTjRvDozrdlxzQet01qZBt-sRG8bbDggv</td>\n",
       "      <td>Mobile Development</td>\n",
       "      <td>NaN</td>\n",
       "      <td>6</td>\n",
       "      <td>2020-06-14T18:44:27Z</td>\n",
       "      <td>UCWv7vMbMWH4-V0ZXdmDpPBA</td>\n",
       "    </tr>\n",
       "    <tr>\n",
       "      <th>1</th>\n",
       "      <td>PLTjRvDozrdlxlMnoG9_yJKPMxMJu8FWRK</td>\n",
       "      <td>Job Interview Preparation Videos</td>\n",
       "      <td>NaN</td>\n",
       "      <td>6</td>\n",
       "      <td>2019-12-10T03:20:31Z</td>\n",
       "      <td>UCWv7vMbMWH4-V0ZXdmDpPBA</td>\n",
       "    </tr>\n",
       "    <tr>\n",
       "      <th>2</th>\n",
       "      <td>PLTjRvDozrdlxCs_3gaqd120LcGxmfe8rG</td>\n",
       "      <td>Programming Languages</td>\n",
       "      <td>NaN</td>\n",
       "      <td>8</td>\n",
       "      <td>2019-07-15T01:00:50Z</td>\n",
       "      <td>UCWv7vMbMWH4-V0ZXdmDpPBA</td>\n",
       "    </tr>\n",
       "    <tr>\n",
       "      <th>3</th>\n",
       "      <td>PLTjRvDozrdlw5En5v2xrBr_EqieHf7hGs</td>\n",
       "      <td>Front-end Development</td>\n",
       "      <td>NaN</td>\n",
       "      <td>11</td>\n",
       "      <td>2019-03-23T20:17:05Z</td>\n",
       "      <td>UCWv7vMbMWH4-V0ZXdmDpPBA</td>\n",
       "    </tr>\n",
       "    <tr>\n",
       "      <th>4</th>\n",
       "      <td>PLTjRvDozrdlynYXGUfyyMZdrQ0Sz27aud</td>\n",
       "      <td>Back-end Development</td>\n",
       "      <td>All the essential tutorials to learn back-end ...</td>\n",
       "      <td>16</td>\n",
       "      <td>2019-03-23T20:08:38Z</td>\n",
       "      <td>UCWv7vMbMWH4-V0ZXdmDpPBA</td>\n",
       "    </tr>\n",
       "  </tbody>\n",
       "</table>\n",
       "</div>"
      ],
      "text/plain": [
       "                           playlistId                             title  \\\n",
       "0  PLTjRvDozrdlxzQet01qZBt-sRG8bbDggv                Mobile Development   \n",
       "1  PLTjRvDozrdlxlMnoG9_yJKPMxMJu8FWRK  Job Interview Preparation Videos   \n",
       "2  PLTjRvDozrdlxCs_3gaqd120LcGxmfe8rG             Programming Languages   \n",
       "3  PLTjRvDozrdlw5En5v2xrBr_EqieHf7hGs             Front-end Development   \n",
       "4  PLTjRvDozrdlynYXGUfyyMZdrQ0Sz27aud              Back-end Development   \n",
       "\n",
       "                                         description  itmCount  \\\n",
       "0                                                NaN         6   \n",
       "1                                                NaN         6   \n",
       "2                                                NaN         8   \n",
       "3                                                NaN        11   \n",
       "4  All the essential tutorials to learn back-end ...        16   \n",
       "\n",
       "            publishedAt                 channelId  \n",
       "0  2020-06-14T18:44:27Z  UCWv7vMbMWH4-V0ZXdmDpPBA  \n",
       "1  2019-12-10T03:20:31Z  UCWv7vMbMWH4-V0ZXdmDpPBA  \n",
       "2  2019-07-15T01:00:50Z  UCWv7vMbMWH4-V0ZXdmDpPBA  \n",
       "3  2019-03-23T20:17:05Z  UCWv7vMbMWH4-V0ZXdmDpPBA  \n",
       "4  2019-03-23T20:08:38Z  UCWv7vMbMWH4-V0ZXdmDpPBA  "
      ]
     },
     "execution_count": 4,
     "metadata": {},
     "output_type": "execute_result"
    }
   ],
   "source": [
    "df.head()"
   ]
  },
  {
   "cell_type": "code",
   "execution_count": null,
   "id": "e2e6a870",
   "metadata": {},
   "outputs": [],
   "source": []
  }
 ],
 "metadata": {
  "kernelspec": {
   "display_name": "Python 3",
   "language": "python",
   "name": "python3"
  },
  "language_info": {
   "codemirror_mode": {
    "name": "ipython",
    "version": 3
   },
   "file_extension": ".py",
   "mimetype": "text/x-python",
   "name": "python",
   "nbconvert_exporter": "python",
   "pygments_lexer": "ipython3",
   "version": "3.8.10"
  }
 },
 "nbformat": 4,
 "nbformat_minor": 5
}
