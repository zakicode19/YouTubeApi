{
 "cells": [
  {
   "cell_type": "markdown",
   "id": "f5f38f54",
   "metadata": {},
   "source": [
    "# The two-letter country code\n",
    "\n",
    "The code was adapted from this [medium article](https://medium.com/analytics-vidhya/how-to-web-scrape-tables-online-using-python-and-beautifulsoup-36d5bafeb982)"
   ]
  },
  {
   "cell_type": "code",
   "execution_count": 1,
   "id": "a9d2a476",
   "metadata": {},
   "outputs": [],
   "source": [
    "import re\n",
    "from bs4 import BeautifulSoup\n",
    "import time\n",
    "import requests\n",
    "from selenium import webdriver\n",
    "from selenium.webdriver.chrome.options import Options\n",
    "import pandas as pd"
   ]
  },
  {
   "cell_type": "code",
   "execution_count": 2,
   "id": "307c50c0",
   "metadata": {},
   "outputs": [],
   "source": [
    "url = 'https://en.wikipedia.org/wiki/List_of_sovereign_states_and_dependent_territories_by_continent_(data_file)'\n",
    "page = requests.get(url)"
   ]
  },
  {
   "cell_type": "code",
   "execution_count": null,
   "id": "8f712f7f",
   "metadata": {
    "scrolled": false
   },
   "outputs": [],
   "source": [
    "page.text"
   ]
  },
  {
   "cell_type": "code",
   "execution_count": 4,
   "id": "f5c0b067",
   "metadata": {},
   "outputs": [],
   "source": [
    "soup = BeautifulSoup(page.text, 'lxml')"
   ]
  },
  {
   "cell_type": "code",
   "execution_count": 5,
   "id": "865e1ed7",
   "metadata": {},
   "outputs": [],
   "source": [
    "results = soup.find_all('table', class_=\"wikitable sortable\") # jquery-tablesorter\")"
   ]
  },
  {
   "cell_type": "code",
   "execution_count": 6,
   "id": "fc7dbc2f",
   "metadata": {},
   "outputs": [
    {
     "data": {
      "text/plain": [
       "bs4.element.ResultSet"
      ]
     },
     "execution_count": 6,
     "metadata": {},
     "output_type": "execute_result"
    }
   ],
   "source": [
    "type(results)"
   ]
  },
  {
   "cell_type": "code",
   "execution_count": null,
   "id": "db6b016c",
   "metadata": {
    "scrolled": true
   },
   "outputs": [],
   "source": [
    "results[0]"
   ]
  },
  {
   "cell_type": "code",
   "execution_count": 8,
   "id": "0ee6e062",
   "metadata": {},
   "outputs": [
    {
     "data": {
      "text/plain": [
       "['CC', 'a-2', 'a-3', '#', 'Name\\n']"
      ]
     },
     "execution_count": 8,
     "metadata": {},
     "output_type": "execute_result"
    }
   ],
   "source": [
    "headers = []\n",
    "for th in results[0].find_all('th'):\n",
    "    headers.append(th.text)\n",
    "    \n",
    "headers\n"
   ]
  },
  {
   "cell_type": "code",
   "execution_count": 9,
   "id": "318fb394",
   "metadata": {},
   "outputs": [
    {
     "data": {
      "text/plain": [
       "<td>AS</td>"
      ]
     },
     "execution_count": 9,
     "metadata": {},
     "output_type": "execute_result"
    }
   ],
   "source": [
    "results[0].find('td')"
   ]
  },
  {
   "cell_type": "code",
   "execution_count": 10,
   "id": "6d607a2d",
   "metadata": {},
   "outputs": [
    {
     "name": "stdout",
     "output_type": "stream",
     "text": [
      "\n",
      "AS\n",
      "AF\n",
      "AFG\n",
      "004\n",
      "Afghanistan, Islamic Republic of\n",
      "\n"
     ]
    }
   ],
   "source": [
    "\n",
    "for tr in results[0].find_all('tr')[1:]:\n",
    "    print(tr.text)\n",
    "    break"
   ]
  },
  {
   "cell_type": "code",
   "execution_count": 11,
   "id": "c5b87673",
   "metadata": {},
   "outputs": [
    {
     "data": {
      "text/plain": [
       "['AS', 'AF', 'AFG', '004', 'Afghanistan,', 'Islamic', 'Republic', 'of']"
      ]
     },
     "execution_count": 11,
     "metadata": {},
     "output_type": "execute_result"
    }
   ],
   "source": [
    "tr.text.split()"
   ]
  },
  {
   "cell_type": "code",
   "execution_count": 12,
   "id": "4ac1b732",
   "metadata": {},
   "outputs": [],
   "source": [
    "data = {key : [] for key in headers[:2]}"
   ]
  },
  {
   "cell_type": "code",
   "execution_count": 13,
   "id": "d2653c05",
   "metadata": {},
   "outputs": [
    {
     "data": {
      "text/plain": [
       "{'CC': [], 'a-2': []}"
      ]
     },
     "execution_count": 13,
     "metadata": {},
     "output_type": "execute_result"
    }
   ],
   "source": [
    "data"
   ]
  },
  {
   "cell_type": "code",
   "execution_count": 14,
   "id": "caeff385",
   "metadata": {},
   "outputs": [],
   "source": [
    "for tr in results[0].find_all('tr')[1:]:\n",
    "    #print(tr.text)\n",
    "    row = tr.text.split()\n",
    "    data['CC'].append(row[0])\n",
    "    data['a-2'].append(row[1])\n",
    "    \n",
    "    \n",
    "#data"
   ]
  },
  {
   "cell_type": "code",
   "execution_count": 15,
   "id": "936492e1",
   "metadata": {},
   "outputs": [],
   "source": [
    "df = pd.DataFrame.from_dict(data)"
   ]
  },
  {
   "cell_type": "code",
   "execution_count": 16,
   "id": "8027268f",
   "metadata": {},
   "outputs": [
    {
     "data": {
      "text/html": [
       "<div>\n",
       "<style scoped>\n",
       "    .dataframe tbody tr th:only-of-type {\n",
       "        vertical-align: middle;\n",
       "    }\n",
       "\n",
       "    .dataframe tbody tr th {\n",
       "        vertical-align: top;\n",
       "    }\n",
       "\n",
       "    .dataframe thead th {\n",
       "        text-align: right;\n",
       "    }\n",
       "</style>\n",
       "<table border=\"1\" class=\"dataframe\">\n",
       "  <thead>\n",
       "    <tr style=\"text-align: right;\">\n",
       "      <th></th>\n",
       "      <th>CC</th>\n",
       "      <th>a-2</th>\n",
       "    </tr>\n",
       "  </thead>\n",
       "  <tbody>\n",
       "    <tr>\n",
       "      <th>0</th>\n",
       "      <td>AS</td>\n",
       "      <td>AF</td>\n",
       "    </tr>\n",
       "    <tr>\n",
       "      <th>1</th>\n",
       "      <td>EU</td>\n",
       "      <td>AL</td>\n",
       "    </tr>\n",
       "    <tr>\n",
       "      <th>2</th>\n",
       "      <td>AN</td>\n",
       "      <td>AQ</td>\n",
       "    </tr>\n",
       "    <tr>\n",
       "      <th>3</th>\n",
       "      <td>AF</td>\n",
       "      <td>DZ</td>\n",
       "    </tr>\n",
       "    <tr>\n",
       "      <th>4</th>\n",
       "      <td>OC</td>\n",
       "      <td>AS</td>\n",
       "    </tr>\n",
       "  </tbody>\n",
       "</table>\n",
       "</div>"
      ],
      "text/plain": [
       "   CC a-2\n",
       "0  AS  AF\n",
       "1  EU  AL\n",
       "2  AN  AQ\n",
       "3  AF  DZ\n",
       "4  OC  AS"
      ]
     },
     "execution_count": 16,
     "metadata": {},
     "output_type": "execute_result"
    }
   ],
   "source": [
    "df.head()"
   ]
  },
  {
   "cell_type": "code",
   "execution_count": 17,
   "id": "0a56c5ed",
   "metadata": {},
   "outputs": [
    {
     "data": {
      "text/plain": [
       "AF    60\n",
       "EU    58\n",
       "AS    57\n",
       "NA    42\n",
       "OC    27\n",
       "SA    14\n",
       "AN     4\n",
       "Name: CC, dtype: int64"
      ]
     },
     "execution_count": 17,
     "metadata": {},
     "output_type": "execute_result"
    }
   ],
   "source": [
    "df.CC.value_counts()"
   ]
  },
  {
   "cell_type": "code",
   "execution_count": 18,
   "id": "395df562",
   "metadata": {},
   "outputs": [],
   "source": [
    "maper = {'AF':'Africa', 'AN':'Antarctica', 'AS':'Asia' , 'EU':'Europe' , 'NA':'North america','OC':'Oceania', 'SA':'South america' }"
   ]
  },
  {
   "cell_type": "code",
   "execution_count": 19,
   "id": "e5791a8d",
   "metadata": {},
   "outputs": [
    {
     "data": {
      "text/plain": [
       "{'AF': 'Africa',\n",
       " 'AN': 'Antarctica',\n",
       " 'AS': 'Asia',\n",
       " 'EU': 'Europe',\n",
       " 'NA': 'North america',\n",
       " 'OC': 'Oceania',\n",
       " 'SA': 'South america'}"
      ]
     },
     "execution_count": 19,
     "metadata": {},
     "output_type": "execute_result"
    }
   ],
   "source": [
    "maper"
   ]
  },
  {
   "cell_type": "code",
   "execution_count": 20,
   "id": "bff3f34f",
   "metadata": {},
   "outputs": [],
   "source": [
    "df['continent'] = df['CC'].map(maper)"
   ]
  },
  {
   "cell_type": "code",
   "execution_count": 21,
   "id": "92c50caa",
   "metadata": {},
   "outputs": [
    {
     "data": {
      "text/plain": [
       "Africa           60\n",
       "Europe           58\n",
       "Asia             57\n",
       "North america    42\n",
       "Oceania          27\n",
       "South america    14\n",
       "Antarctica        4\n",
       "Name: continent, dtype: int64"
      ]
     },
     "execution_count": 21,
     "metadata": {},
     "output_type": "execute_result"
    }
   ],
   "source": [
    "df.continent.value_counts()"
   ]
  },
  {
   "cell_type": "code",
   "execution_count": 22,
   "id": "a9f1bf77",
   "metadata": {},
   "outputs": [],
   "source": [
    "df.to_csv('data/continent_country_code.csv' , index=False)"
   ]
  },
  {
   "cell_type": "code",
   "execution_count": 23,
   "id": "d0653914",
   "metadata": {},
   "outputs": [],
   "source": [
    "df = pd.read_csv('data/continent_country_code.csv', keep_default_na=False)"
   ]
  },
  {
   "cell_type": "code",
   "execution_count": 24,
   "id": "f88a99fe",
   "metadata": {},
   "outputs": [
    {
     "data": {
      "text/plain": [
       "AF    60\n",
       "EU    58\n",
       "AS    57\n",
       "NA    42\n",
       "OC    27\n",
       "SA    14\n",
       "AN     4\n",
       "Name: CC, dtype: int64"
      ]
     },
     "execution_count": 24,
     "metadata": {},
     "output_type": "execute_result"
    }
   ],
   "source": [
    "df.CC.value_counts()"
   ]
  },
  {
   "cell_type": "code",
   "execution_count": 25,
   "id": "e7368611",
   "metadata": {},
   "outputs": [
    {
     "data": {
      "text/plain": [
       "Africa           60\n",
       "Europe           58\n",
       "Asia             57\n",
       "North america    42\n",
       "Oceania          27\n",
       "South america    14\n",
       "Antarctica        4\n",
       "Name: continent, dtype: int64"
      ]
     },
     "execution_count": 25,
     "metadata": {},
     "output_type": "execute_result"
    }
   ],
   "source": [
    "df.continent.value_counts()"
   ]
  }
 ],
 "metadata": {
  "kernelspec": {
   "display_name": "Python 3",
   "language": "python",
   "name": "python3"
  },
  "language_info": {
   "codemirror_mode": {
    "name": "ipython",
    "version": 3
   },
   "file_extension": ".py",
   "mimetype": "text/x-python",
   "name": "python",
   "nbconvert_exporter": "python",
   "pygments_lexer": "ipython3",
   "version": "3.8.6"
  }
 },
 "nbformat": 4,
 "nbformat_minor": 5
}
