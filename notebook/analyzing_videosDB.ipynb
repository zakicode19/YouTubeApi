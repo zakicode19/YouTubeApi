{
 "cells": [
  {
   "cell_type": "markdown",
   "id": "e2b02fcc",
   "metadata": {},
   "source": [
    "# Analyzing the data set of YouTube videos\n",
    " \n",
    "We can look for the most popular videos on the channel, the most watched playlist, the relationship between duration and number of views,the relationship between video duration and number of comments, the ratio between likes and dislikes. "
   ]
  },
  {
   "cell_type": "markdown",
   "id": "90479f3a",
   "metadata": {},
   "source": [
    "### Table of Contents\n",
    "\n",
    "* [Imports](#chapter0)\n",
    "* [Data preparation](#chapter1)\n",
    "  * [Exploring the data](#section1)\n",
    "  * [Cleaning the data](#section2)\n",
    "  * [Adding new features](#section3)\n",
    "* [Creating Visualizations](#chapter2)\n",
    "* [Trending topic](#chapter3)\n",
    "* [The next step](#chaptern)"
   ]
  },
  {
   "cell_type": "markdown",
   "id": "a1f6e4bb",
   "metadata": {},
   "source": [
    "### Imports <a class='anchor' id='chapter0'>\n",
    "\n",
    "In this section we will  import the  libraries we need."
   ]
  },
  {
   "cell_type": "code",
   "execution_count": 1,
   "id": "eac1d0a7",
   "metadata": {},
   "outputs": [],
   "source": [
    "import datetime as dt\n",
    "import pandas as pd\n",
    "import seaborn as sns\n",
    "import re\n",
    "from datetime import timedelta\n",
    "from datetime import date,datetime, time\n",
    "import json\n",
    "import matplotlib.pyplot as plt\n",
    "from multiprocessing import Pool\n",
    "import functools\n",
    "\n",
    "%matplotlib inline\n"
   ]
  },
  {
   "cell_type": "code",
   "execution_count": 2,
   "id": "6682f859",
   "metadata": {},
   "outputs": [],
   "source": [
    "df = pd.read_csv('data/videosDB.csv')"
   ]
  },
  {
   "cell_type": "code",
   "execution_count": 3,
   "id": "54a1cdf7",
   "metadata": {},
   "outputs": [
    {
     "data": {
      "text/html": [
       "<div>\n",
       "<style scoped>\n",
       "    .dataframe tbody tr th:only-of-type {\n",
       "        vertical-align: middle;\n",
       "    }\n",
       "\n",
       "    .dataframe tbody tr th {\n",
       "        vertical-align: top;\n",
       "    }\n",
       "\n",
       "    .dataframe thead th {\n",
       "        text-align: right;\n",
       "    }\n",
       "</style>\n",
       "<table border=\"1\" class=\"dataframe\">\n",
       "  <thead>\n",
       "    <tr style=\"text-align: right;\">\n",
       "      <th></th>\n",
       "      <th>videoId</th>\n",
       "      <th>title</th>\n",
       "      <th>tags</th>\n",
       "      <th>viewCount</th>\n",
       "      <th>likeCount</th>\n",
       "      <th>dislikeCount</th>\n",
       "      <th>commentCount</th>\n",
       "      <th>duration</th>\n",
       "      <th>channelId</th>\n",
       "      <th>defaultAudioLanguage</th>\n",
       "      <th>publishedAt</th>\n",
       "      <th>liveBroadcastContent</th>\n",
       "    </tr>\n",
       "  </thead>\n",
       "  <tbody>\n",
       "    <tr>\n",
       "      <th>0</th>\n",
       "      <td>rHux0gMZ3Eg</td>\n",
       "      <td>Django Tutorial for Beginners [2021]</td>\n",
       "      <td>['django tutorial', 'django', 'learn django', ...</td>\n",
       "      <td>51981.0</td>\n",
       "      <td>2970.0</td>\n",
       "      <td>28.0</td>\n",
       "      <td>514.0</td>\n",
       "      <td>PT1H2M36S</td>\n",
       "      <td>UCWv7vMbMWH4-V0ZXdmDpPBA</td>\n",
       "      <td>en</td>\n",
       "      <td>2021-06-28T14:00:31Z</td>\n",
       "      <td>none</td>\n",
       "    </tr>\n",
       "    <tr>\n",
       "      <th>1</th>\n",
       "      <td>pTFZFxd4hOI</td>\n",
       "      <td>Docker Tutorial for Beginners [2021]</td>\n",
       "      <td>['docker tutorial', 'docker', 'learn docker', ...</td>\n",
       "      <td>285783.0</td>\n",
       "      <td>8734.0</td>\n",
       "      <td>314.0</td>\n",
       "      <td>632.0</td>\n",
       "      <td>PT56M4S</td>\n",
       "      <td>UCWv7vMbMWH4-V0ZXdmDpPBA</td>\n",
       "      <td>en</td>\n",
       "      <td>2021-03-30T15:14:41Z</td>\n",
       "      <td>none</td>\n",
       "    </tr>\n",
       "    <tr>\n",
       "      <th>2</th>\n",
       "      <td>Eo90IEphG_M</td>\n",
       "      <td>Docker course is coming!</td>\n",
       "      <td>NaN</td>\n",
       "      <td>28449.0</td>\n",
       "      <td>1794.0</td>\n",
       "      <td>11.0</td>\n",
       "      <td>231.0</td>\n",
       "      <td>PT49S</td>\n",
       "      <td>UCWv7vMbMWH4-V0ZXdmDpPBA</td>\n",
       "      <td>en</td>\n",
       "      <td>2021-03-25T17:30:03Z</td>\n",
       "      <td>none</td>\n",
       "    </tr>\n",
       "    <tr>\n",
       "      <th>3</th>\n",
       "      <td>qz0aGYrrlhU</td>\n",
       "      <td>HTML Tutorial for Beginners: HTML Crash Course...</td>\n",
       "      <td>['html tutorial', 'html5 tutorial', 'html', 'h...</td>\n",
       "      <td>983673.0</td>\n",
       "      <td>29773.0</td>\n",
       "      <td>386.0</td>\n",
       "      <td>1655.0</td>\n",
       "      <td>PT1H9M34S</td>\n",
       "      <td>UCWv7vMbMWH4-V0ZXdmDpPBA</td>\n",
       "      <td>en</td>\n",
       "      <td>2021-01-11T14:30:10Z</td>\n",
       "      <td>none</td>\n",
       "    </tr>\n",
       "    <tr>\n",
       "      <th>4</th>\n",
       "      <td>-_X6PhkjpzU</td>\n",
       "      <td>5 Front-end Development Skills to Land Your Fi...</td>\n",
       "      <td>['front-end development', 'front end developme...</td>\n",
       "      <td>399842.0</td>\n",
       "      <td>22398.0</td>\n",
       "      <td>153.0</td>\n",
       "      <td>643.0</td>\n",
       "      <td>PT9M2S</td>\n",
       "      <td>UCWv7vMbMWH4-V0ZXdmDpPBA</td>\n",
       "      <td>en</td>\n",
       "      <td>2021-01-07T14:30:14Z</td>\n",
       "      <td>none</td>\n",
       "    </tr>\n",
       "  </tbody>\n",
       "</table>\n",
       "</div>"
      ],
      "text/plain": [
       "       videoId                                              title  \\\n",
       "0  rHux0gMZ3Eg               Django Tutorial for Beginners [2021]   \n",
       "1  pTFZFxd4hOI               Docker Tutorial for Beginners [2021]   \n",
       "2  Eo90IEphG_M                           Docker course is coming!   \n",
       "3  qz0aGYrrlhU  HTML Tutorial for Beginners: HTML Crash Course...   \n",
       "4  -_X6PhkjpzU  5 Front-end Development Skills to Land Your Fi...   \n",
       "\n",
       "                                                tags  viewCount  likeCount  \\\n",
       "0  ['django tutorial', 'django', 'learn django', ...    51981.0     2970.0   \n",
       "1  ['docker tutorial', 'docker', 'learn docker', ...   285783.0     8734.0   \n",
       "2                                                NaN    28449.0     1794.0   \n",
       "3  ['html tutorial', 'html5 tutorial', 'html', 'h...   983673.0    29773.0   \n",
       "4  ['front-end development', 'front end developme...   399842.0    22398.0   \n",
       "\n",
       "   dislikeCount  commentCount   duration                 channelId  \\\n",
       "0          28.0         514.0  PT1H2M36S  UCWv7vMbMWH4-V0ZXdmDpPBA   \n",
       "1         314.0         632.0    PT56M4S  UCWv7vMbMWH4-V0ZXdmDpPBA   \n",
       "2          11.0         231.0      PT49S  UCWv7vMbMWH4-V0ZXdmDpPBA   \n",
       "3         386.0        1655.0  PT1H9M34S  UCWv7vMbMWH4-V0ZXdmDpPBA   \n",
       "4         153.0         643.0     PT9M2S  UCWv7vMbMWH4-V0ZXdmDpPBA   \n",
       "\n",
       "  defaultAudioLanguage           publishedAt liveBroadcastContent  \n",
       "0                   en  2021-06-28T14:00:31Z                 none  \n",
       "1                   en  2021-03-30T15:14:41Z                 none  \n",
       "2                   en  2021-03-25T17:30:03Z                 none  \n",
       "3                   en  2021-01-11T14:30:10Z                 none  \n",
       "4                   en  2021-01-07T14:30:14Z                 none  "
      ]
     },
     "execution_count": 3,
     "metadata": {},
     "output_type": "execute_result"
    }
   ],
   "source": [
    "df.head()"
   ]
  },
  {
   "cell_type": "markdown",
   "id": "eab2e6b9",
   "metadata": {},
   "source": [
    "#### Exploring the data <a class='anchor' id='section1'>"
   ]
  },
  {
   "cell_type": "code",
   "execution_count": 4,
   "id": "731f1cda",
   "metadata": {},
   "outputs": [
    {
     "name": "stdout",
     "output_type": "stream",
     "text": [
      "<class 'pandas.core.frame.DataFrame'>\n",
      "RangeIndex: 31097 entries, 0 to 31096\n",
      "Data columns (total 12 columns):\n",
      " #   Column                Non-Null Count  Dtype  \n",
      "---  ------                --------------  -----  \n",
      " 0   videoId               31097 non-null  object \n",
      " 1   title                 31097 non-null  object \n",
      " 2   tags                  28027 non-null  object \n",
      " 3   viewCount             31085 non-null  float64\n",
      " 4   likeCount             31053 non-null  float64\n",
      " 5   dislikeCount          31053 non-null  float64\n",
      " 6   commentCount          31057 non-null  float64\n",
      " 7   duration              31097 non-null  object \n",
      " 8   channelId             31097 non-null  object \n",
      " 9   defaultAudioLanguage  26396 non-null  object \n",
      " 10  publishedAt           31097 non-null  object \n",
      " 11  liveBroadcastContent  31097 non-null  object \n",
      "dtypes: float64(4), object(8)\n",
      "memory usage: 2.8+ MB\n"
     ]
    }
   ],
   "source": [
    "df.info()"
   ]
  },
  {
   "cell_type": "code",
   "execution_count": 5,
   "id": "0f9efcf3",
   "metadata": {},
   "outputs": [
    {
     "data": {
      "text/html": [
       "<div>\n",
       "<style scoped>\n",
       "    .dataframe tbody tr th:only-of-type {\n",
       "        vertical-align: middle;\n",
       "    }\n",
       "\n",
       "    .dataframe tbody tr th {\n",
       "        vertical-align: top;\n",
       "    }\n",
       "\n",
       "    .dataframe thead th {\n",
       "        text-align: right;\n",
       "    }\n",
       "</style>\n",
       "<table border=\"1\" class=\"dataframe\">\n",
       "  <thead>\n",
       "    <tr style=\"text-align: right;\">\n",
       "      <th></th>\n",
       "      <th>videoId</th>\n",
       "      <th>title</th>\n",
       "      <th>tags</th>\n",
       "      <th>viewCount</th>\n",
       "      <th>likeCount</th>\n",
       "      <th>dislikeCount</th>\n",
       "      <th>commentCount</th>\n",
       "      <th>duration</th>\n",
       "      <th>channelId</th>\n",
       "      <th>defaultAudioLanguage</th>\n",
       "      <th>publishedAt</th>\n",
       "      <th>liveBroadcastContent</th>\n",
       "    </tr>\n",
       "  </thead>\n",
       "  <tbody>\n",
       "    <tr>\n",
       "      <th>count</th>\n",
       "      <td>31097</td>\n",
       "      <td>31097</td>\n",
       "      <td>28027</td>\n",
       "      <td>3.108500e+04</td>\n",
       "      <td>31053.000000</td>\n",
       "      <td>31053.000000</td>\n",
       "      <td>31057.000000</td>\n",
       "      <td>31097</td>\n",
       "      <td>31097</td>\n",
       "      <td>26396</td>\n",
       "      <td>31097</td>\n",
       "      <td>31097</td>\n",
       "    </tr>\n",
       "    <tr>\n",
       "      <th>unique</th>\n",
       "      <td>31097</td>\n",
       "      <td>30898</td>\n",
       "      <td>23743</td>\n",
       "      <td>NaN</td>\n",
       "      <td>NaN</td>\n",
       "      <td>NaN</td>\n",
       "      <td>NaN</td>\n",
       "      <td>4974</td>\n",
       "      <td>63</td>\n",
       "      <td>14</td>\n",
       "      <td>30436</td>\n",
       "      <td>2</td>\n",
       "    </tr>\n",
       "    <tr>\n",
       "      <th>top</th>\n",
       "      <td>oEftKX7YDQA</td>\n",
       "      <td>Saturday live for programmers</td>\n",
       "      <td>['telusko', 'navin', 'reddy', 'tutorial', 'jav...</td>\n",
       "      <td>NaN</td>\n",
       "      <td>NaN</td>\n",
       "      <td>NaN</td>\n",
       "      <td>NaN</td>\n",
       "      <td>PT10M1S</td>\n",
       "      <td>UC59K-uG2A5ogwIrHw4bmlEg</td>\n",
       "      <td>en</td>\n",
       "      <td>2016-01-06T01:48:53Z</td>\n",
       "      <td>none</td>\n",
       "    </tr>\n",
       "    <tr>\n",
       "      <th>freq</th>\n",
       "      <td>1</td>\n",
       "      <td>23</td>\n",
       "      <td>263</td>\n",
       "      <td>NaN</td>\n",
       "      <td>NaN</td>\n",
       "      <td>NaN</td>\n",
       "      <td>NaN</td>\n",
       "      <td>56</td>\n",
       "      <td>1469</td>\n",
       "      <td>20795</td>\n",
       "      <td>37</td>\n",
       "      <td>31096</td>\n",
       "    </tr>\n",
       "    <tr>\n",
       "      <th>mean</th>\n",
       "      <td>NaN</td>\n",
       "      <td>NaN</td>\n",
       "      <td>NaN</td>\n",
       "      <td>7.376927e+04</td>\n",
       "      <td>1951.999549</td>\n",
       "      <td>47.836956</td>\n",
       "      <td>191.026532</td>\n",
       "      <td>NaN</td>\n",
       "      <td>NaN</td>\n",
       "      <td>NaN</td>\n",
       "      <td>NaN</td>\n",
       "      <td>NaN</td>\n",
       "    </tr>\n",
       "    <tr>\n",
       "      <th>std</th>\n",
       "      <td>NaN</td>\n",
       "      <td>NaN</td>\n",
       "      <td>NaN</td>\n",
       "      <td>3.008031e+05</td>\n",
       "      <td>10347.364388</td>\n",
       "      <td>260.849750</td>\n",
       "      <td>1326.186609</td>\n",
       "      <td>NaN</td>\n",
       "      <td>NaN</td>\n",
       "      <td>NaN</td>\n",
       "      <td>NaN</td>\n",
       "      <td>NaN</td>\n",
       "    </tr>\n",
       "    <tr>\n",
       "      <th>min</th>\n",
       "      <td>NaN</td>\n",
       "      <td>NaN</td>\n",
       "      <td>NaN</td>\n",
       "      <td>0.000000e+00</td>\n",
       "      <td>0.000000</td>\n",
       "      <td>0.000000</td>\n",
       "      <td>0.000000</td>\n",
       "      <td>NaN</td>\n",
       "      <td>NaN</td>\n",
       "      <td>NaN</td>\n",
       "      <td>NaN</td>\n",
       "      <td>NaN</td>\n",
       "    </tr>\n",
       "    <tr>\n",
       "      <th>25%</th>\n",
       "      <td>NaN</td>\n",
       "      <td>NaN</td>\n",
       "      <td>NaN</td>\n",
       "      <td>3.434000e+03</td>\n",
       "      <td>68.000000</td>\n",
       "      <td>1.000000</td>\n",
       "      <td>11.000000</td>\n",
       "      <td>NaN</td>\n",
       "      <td>NaN</td>\n",
       "      <td>NaN</td>\n",
       "      <td>NaN</td>\n",
       "      <td>NaN</td>\n",
       "    </tr>\n",
       "    <tr>\n",
       "      <th>50%</th>\n",
       "      <td>NaN</td>\n",
       "      <td>NaN</td>\n",
       "      <td>NaN</td>\n",
       "      <td>1.388700e+04</td>\n",
       "      <td>286.000000</td>\n",
       "      <td>6.000000</td>\n",
       "      <td>36.000000</td>\n",
       "      <td>NaN</td>\n",
       "      <td>NaN</td>\n",
       "      <td>NaN</td>\n",
       "      <td>NaN</td>\n",
       "      <td>NaN</td>\n",
       "    </tr>\n",
       "    <tr>\n",
       "      <th>75%</th>\n",
       "      <td>NaN</td>\n",
       "      <td>NaN</td>\n",
       "      <td>NaN</td>\n",
       "      <td>5.164400e+04</td>\n",
       "      <td>1101.000000</td>\n",
       "      <td>23.000000</td>\n",
       "      <td>116.000000</td>\n",
       "      <td>NaN</td>\n",
       "      <td>NaN</td>\n",
       "      <td>NaN</td>\n",
       "      <td>NaN</td>\n",
       "      <td>NaN</td>\n",
       "    </tr>\n",
       "    <tr>\n",
       "      <th>max</th>\n",
       "      <td>NaN</td>\n",
       "      <td>NaN</td>\n",
       "      <td>NaN</td>\n",
       "      <td>1.934960e+07</td>\n",
       "      <td>597147.000000</td>\n",
       "      <td>13750.000000</td>\n",
       "      <td>82244.000000</td>\n",
       "      <td>NaN</td>\n",
       "      <td>NaN</td>\n",
       "      <td>NaN</td>\n",
       "      <td>NaN</td>\n",
       "      <td>NaN</td>\n",
       "    </tr>\n",
       "  </tbody>\n",
       "</table>\n",
       "</div>"
      ],
      "text/plain": [
       "            videoId                          title  \\\n",
       "count         31097                          31097   \n",
       "unique        31097                          30898   \n",
       "top     oEftKX7YDQA  Saturday live for programmers   \n",
       "freq              1                             23   \n",
       "mean            NaN                            NaN   \n",
       "std             NaN                            NaN   \n",
       "min             NaN                            NaN   \n",
       "25%             NaN                            NaN   \n",
       "50%             NaN                            NaN   \n",
       "75%             NaN                            NaN   \n",
       "max             NaN                            NaN   \n",
       "\n",
       "                                                     tags     viewCount  \\\n",
       "count                                               28027  3.108500e+04   \n",
       "unique                                              23743           NaN   \n",
       "top     ['telusko', 'navin', 'reddy', 'tutorial', 'jav...           NaN   \n",
       "freq                                                  263           NaN   \n",
       "mean                                                  NaN  7.376927e+04   \n",
       "std                                                   NaN  3.008031e+05   \n",
       "min                                                   NaN  0.000000e+00   \n",
       "25%                                                   NaN  3.434000e+03   \n",
       "50%                                                   NaN  1.388700e+04   \n",
       "75%                                                   NaN  5.164400e+04   \n",
       "max                                                   NaN  1.934960e+07   \n",
       "\n",
       "            likeCount  dislikeCount  commentCount duration  \\\n",
       "count    31053.000000  31053.000000  31057.000000    31097   \n",
       "unique            NaN           NaN           NaN     4974   \n",
       "top               NaN           NaN           NaN  PT10M1S   \n",
       "freq              NaN           NaN           NaN       56   \n",
       "mean      1951.999549     47.836956    191.026532      NaN   \n",
       "std      10347.364388    260.849750   1326.186609      NaN   \n",
       "min          0.000000      0.000000      0.000000      NaN   \n",
       "25%         68.000000      1.000000     11.000000      NaN   \n",
       "50%        286.000000      6.000000     36.000000      NaN   \n",
       "75%       1101.000000     23.000000    116.000000      NaN   \n",
       "max     597147.000000  13750.000000  82244.000000      NaN   \n",
       "\n",
       "                       channelId defaultAudioLanguage           publishedAt  \\\n",
       "count                      31097                26396                 31097   \n",
       "unique                        63                   14                 30436   \n",
       "top     UC59K-uG2A5ogwIrHw4bmlEg                   en  2016-01-06T01:48:53Z   \n",
       "freq                        1469                20795                    37   \n",
       "mean                         NaN                  NaN                   NaN   \n",
       "std                          NaN                  NaN                   NaN   \n",
       "min                          NaN                  NaN                   NaN   \n",
       "25%                          NaN                  NaN                   NaN   \n",
       "50%                          NaN                  NaN                   NaN   \n",
       "75%                          NaN                  NaN                   NaN   \n",
       "max                          NaN                  NaN                   NaN   \n",
       "\n",
       "       liveBroadcastContent  \n",
       "count                 31097  \n",
       "unique                    2  \n",
       "top                    none  \n",
       "freq                  31096  \n",
       "mean                    NaN  \n",
       "std                     NaN  \n",
       "min                     NaN  \n",
       "25%                     NaN  \n",
       "50%                     NaN  \n",
       "75%                     NaN  \n",
       "max                     NaN  "
      ]
     },
     "execution_count": 5,
     "metadata": {},
     "output_type": "execute_result"
    }
   ],
   "source": [
    "df.describe(include='all')"
   ]
  },
  {
   "cell_type": "markdown",
   "id": "2200d5e4",
   "metadata": {},
   "source": [
    "The column `liveBroadcastContent` contine only two category. The coulum can easly be droped.   \n",
    "We are going to change datetime format of the `publshedAt` column to yyyy-mm-dd."
   ]
  },
  {
   "cell_type": "markdown",
   "id": "8951fcfa",
   "metadata": {},
   "source": [
    "#### Cleaning the data <a class='anchor' id='section2'>"
   ]
  },
  {
   "cell_type": "code",
   "execution_count": 6,
   "id": "bbed7516",
   "metadata": {},
   "outputs": [
    {
     "data": {
      "text/plain": [
       "none        31096\n",
       "upcoming        1\n",
       "Name: liveBroadcastContent, dtype: int64"
      ]
     },
     "execution_count": 6,
     "metadata": {},
     "output_type": "execute_result"
    }
   ],
   "source": [
    "df.liveBroadcastContent.value_counts()"
   ]
  },
  {
   "cell_type": "code",
   "execution_count": 7,
   "id": "3d42cddb",
   "metadata": {},
   "outputs": [],
   "source": [
    "# drop liveBroadcastContent column\n",
    "df.drop('liveBroadcastContent',axis=1, inplace=True)"
   ]
  },
  {
   "cell_type": "code",
   "execution_count": 8,
   "id": "44c04075",
   "metadata": {},
   "outputs": [
    {
     "name": "stdout",
     "output_type": "stream",
     "text": [
      "<class 'pandas.core.frame.DataFrame'>\n",
      "RangeIndex: 31097 entries, 0 to 31096\n",
      "Data columns (total 11 columns):\n",
      " #   Column                Non-Null Count  Dtype  \n",
      "---  ------                --------------  -----  \n",
      " 0   videoId               31097 non-null  object \n",
      " 1   title                 31097 non-null  object \n",
      " 2   tags                  28027 non-null  object \n",
      " 3   viewCount             31085 non-null  float64\n",
      " 4   likeCount             31053 non-null  float64\n",
      " 5   dislikeCount          31053 non-null  float64\n",
      " 6   commentCount          31057 non-null  float64\n",
      " 7   duration              31097 non-null  object \n",
      " 8   channelId             31097 non-null  object \n",
      " 9   defaultAudioLanguage  26396 non-null  object \n",
      " 10  publishedAt           31097 non-null  object \n",
      "dtypes: float64(4), object(7)\n",
      "memory usage: 2.6+ MB\n"
     ]
    }
   ],
   "source": [
    "df.info()"
   ]
  },
  {
   "cell_type": "markdown",
   "id": "811cd230",
   "metadata": {},
   "source": [
    "##### Missing values"
   ]
  },
  {
   "cell_type": "markdown",
   "id": "27830c6b",
   "metadata": {},
   "source": [
    "we will fill the missing values in `viewCount`, `likeCount`, `dislikeCount` and `commentCount` columns by `0`."
   ]
  },
  {
   "cell_type": "code",
   "execution_count": 9,
   "id": "523fe759",
   "metadata": {},
   "outputs": [],
   "source": [
    "df.fillna({'viewCount':0, 'likeCount':0, 'dislikeCount':0, 'commentCount':0},inplace=True)"
   ]
  },
  {
   "cell_type": "markdown",
   "id": "70c8f5c0",
   "metadata": {},
   "source": [
    "we will convert the type of `viewCount`, `likeCount`, `dislikeCount` and `commentCount` columns to `int`."
   ]
  },
  {
   "cell_type": "code",
   "execution_count": 10,
   "id": "bf500fbe",
   "metadata": {},
   "outputs": [
    {
     "name": "stdout",
     "output_type": "stream",
     "text": [
      "<class 'pandas.core.frame.DataFrame'>\n",
      "RangeIndex: 31097 entries, 0 to 31096\n",
      "Data columns (total 11 columns):\n",
      " #   Column                Non-Null Count  Dtype  \n",
      "---  ------                --------------  -----  \n",
      " 0   videoId               31097 non-null  object \n",
      " 1   title                 31097 non-null  object \n",
      " 2   tags                  28027 non-null  object \n",
      " 3   viewCount             31097 non-null  float64\n",
      " 4   likeCount             31097 non-null  float64\n",
      " 5   dislikeCount          31097 non-null  float64\n",
      " 6   commentCount          31097 non-null  float64\n",
      " 7   duration              31097 non-null  object \n",
      " 8   channelId             31097 non-null  object \n",
      " 9   defaultAudioLanguage  26396 non-null  object \n",
      " 10  publishedAt           31097 non-null  object \n",
      "dtypes: float64(4), object(7)\n",
      "memory usage: 2.6+ MB\n"
     ]
    }
   ],
   "source": [
    "df.info()"
   ]
  },
  {
   "cell_type": "code",
   "execution_count": 11,
   "id": "20e76efe",
   "metadata": {},
   "outputs": [],
   "source": [
    "df = df.astype({'viewCount':'int32', 'likeCount':'int32', 'dislikeCount':'int32', 'commentCount':'int32'}).copy()"
   ]
  },
  {
   "cell_type": "code",
   "execution_count": 12,
   "id": "9fb4c7f6",
   "metadata": {
    "scrolled": true
   },
   "outputs": [
    {
     "name": "stdout",
     "output_type": "stream",
     "text": [
      "<class 'pandas.core.frame.DataFrame'>\n",
      "RangeIndex: 31097 entries, 0 to 31096\n",
      "Data columns (total 11 columns):\n",
      " #   Column                Non-Null Count  Dtype \n",
      "---  ------                --------------  ----- \n",
      " 0   videoId               31097 non-null  object\n",
      " 1   title                 31097 non-null  object\n",
      " 2   tags                  28027 non-null  object\n",
      " 3   viewCount             31097 non-null  int32 \n",
      " 4   likeCount             31097 non-null  int32 \n",
      " 5   dislikeCount          31097 non-null  int32 \n",
      " 6   commentCount          31097 non-null  int32 \n",
      " 7   duration              31097 non-null  object\n",
      " 8   channelId             31097 non-null  object\n",
      " 9   defaultAudioLanguage  26396 non-null  object\n",
      " 10  publishedAt           31097 non-null  object\n",
      "dtypes: int32(4), object(7)\n",
      "memory usage: 2.1+ MB\n"
     ]
    }
   ],
   "source": [
    "df.info()"
   ]
  },
  {
   "cell_type": "markdown",
   "id": "95933b07",
   "metadata": {},
   "source": [
    "we convert the type of `publishedAt` column to `datetime` type and keep only the date part."
   ]
  },
  {
   "cell_type": "code",
   "execution_count": 13,
   "id": "79915347",
   "metadata": {},
   "outputs": [],
   "source": [
    "df['publishedAt'] = pd.to_datetime(pd.to_datetime(df.publishedAt).dt.date)"
   ]
  },
  {
   "cell_type": "code",
   "execution_count": 14,
   "id": "2c7314b4",
   "metadata": {},
   "outputs": [
    {
     "name": "stdout",
     "output_type": "stream",
     "text": [
      "<class 'pandas.core.frame.DataFrame'>\n",
      "RangeIndex: 31097 entries, 0 to 31096\n",
      "Data columns (total 11 columns):\n",
      " #   Column                Non-Null Count  Dtype         \n",
      "---  ------                --------------  -----         \n",
      " 0   videoId               31097 non-null  object        \n",
      " 1   title                 31097 non-null  object        \n",
      " 2   tags                  28027 non-null  object        \n",
      " 3   viewCount             31097 non-null  int32         \n",
      " 4   likeCount             31097 non-null  int32         \n",
      " 5   dislikeCount          31097 non-null  int32         \n",
      " 6   commentCount          31097 non-null  int32         \n",
      " 7   duration              31097 non-null  object        \n",
      " 8   channelId             31097 non-null  object        \n",
      " 9   defaultAudioLanguage  26396 non-null  object        \n",
      " 10  publishedAt           31097 non-null  datetime64[ns]\n",
      "dtypes: datetime64[ns](1), int32(4), object(6)\n",
      "memory usage: 2.1+ MB\n"
     ]
    }
   ],
   "source": [
    "df.info()"
   ]
  },
  {
   "cell_type": "code",
   "execution_count": 15,
   "id": "b55e7dbf",
   "metadata": {},
   "outputs": [
    {
     "data": {
      "text/plain": [
       "0    PT1H2M36S\n",
       "1      PT56M4S\n",
       "2        PT49S\n",
       "3    PT1H9M34S\n",
       "4       PT9M2S\n",
       "Name: duration, dtype: object"
      ]
     },
     "execution_count": 15,
     "metadata": {},
     "output_type": "execute_result"
    }
   ],
   "source": [
    "df.duration.head()"
   ]
  },
  {
   "cell_type": "code",
   "execution_count": 16,
   "id": "00b7f7ae",
   "metadata": {},
   "outputs": [],
   "source": [
    "#  https://github.com/CoreyMSchafer/code_snippets/blob/master/Python/YouTube-API/02-Playlist-Duration/playlist.py\n",
    "def cleanDuration(duration):\n",
    "\n",
    "    h = re.compile(r'(\\d+)H')\n",
    "    m = re.compile(r'(\\d+)M')\n",
    "    s = re.compile(r'(\\d+)S')\n",
    "\n",
    "    hours = h.search(duration)\n",
    "    hours = int(hours.group(1)) if hours else 0\n",
    "    minutes = m.search(duration)\n",
    "    minutes = int(minutes.group(1)) if minutes else 0\n",
    "    seconds = s.search(duration) \n",
    "    seconds = int(seconds.group(1)) if seconds else 0\n",
    "    video_duration = timedelta(\n",
    "        hours = hours,\n",
    "        minutes = minutes,\n",
    "        seconds = seconds) #.total_seconds()\n",
    "    return video_duration\n"
   ]
  },
  {
   "cell_type": "code",
   "execution_count": 17,
   "id": "ed429623",
   "metadata": {
    "scrolled": true
   },
   "outputs": [],
   "source": [
    "df['duration'] = df['duration'].apply(cleanDuration)"
   ]
  },
  {
   "cell_type": "code",
   "execution_count": 18,
   "id": "41273ee4",
   "metadata": {},
   "outputs": [],
   "source": [
    "data = df.duration.apply(lambda x: x.seconds)"
   ]
  },
  {
   "cell_type": "code",
   "execution_count": 19,
   "id": "55d23244",
   "metadata": {},
   "outputs": [
    {
     "data": {
      "image/png": "[encoded data removed]",
      "text/plain": [
       "<Figure size 432x288 with 1 Axes>"
      ]
     },
     "metadata": {
      "needs_background": "light"
     },
     "output_type": "display_data"
    }
   ],
   "source": [
    "sns.histplot(data,kde=True)\n",
    "plt.vlines(data.mean(), 0, 1600,color='r')\n",
    "plt.show()"
   ]
  },
  {
   "cell_type": "code",
   "execution_count": 20,
   "id": "1a9041b5",
   "metadata": {},
   "outputs": [],
   "source": [
    "from scipy.stats import  zscore\n",
    "import numpy as np\n",
    "\n",
    "\n",
    "\n",
    "z_scores = zscore(data)\n",
    "abs_z_scores = np.abs(z_scores)\n",
    "\n",
    "filtered_entries = (abs_z_scores < 3) #.all(axis=1)\n",
    "\n",
    "data2 = data[filtered_entries]"
   ]
  },
  {
   "cell_type": "code",
   "execution_count": 21,
   "id": "bdd04676",
   "metadata": {},
   "outputs": [
    {
     "data": {
      "image/png": "[encoded data removed]",
      "text/plain": [
       "<Figure size 432x288 with 1 Axes>"
      ]
     },
     "metadata": {
      "needs_background": "light"
     },
     "output_type": "display_data"
    }
   ],
   "source": [
    "sns.histplot(data2,kde=True)\n",
    "plt.vlines(data2.mean(), 0, 1600,color='r')\n",
    "plt.vlines(data2.mode(), 0, 1600,color='g')\n",
    "plt.title('The histograme of videos duration in seconds')\n",
    "plt.show()"
   ]
  },
  {
   "cell_type": "code",
   "execution_count": 22,
   "id": "4209138a",
   "metadata": {},
   "outputs": [
    {
     "name": "stderr",
     "output_type": "stream",
     "text": [
      "/home/zaki/Documents/youtube_api/venv/lib/python3.8/site-packages/seaborn/_decorators.py:36: FutureWarning: Pass the following variable as a keyword arg: x. From version 0.12, the only valid positional argument will be `data`, and passing other arguments without an explicit keyword will result in an error or misinterpretation.\n",
      "  warnings.warn(\n"
     ]
    },
    {
     "data": {
      "text/plain": [
       "<AxesSubplot:xlabel='duration'>"
      ]
     },
     "execution_count": 22,
     "metadata": {},
     "output_type": "execute_result"
    },
    {
     "data": {
      "image/png": "[encoded data removed]",
      "text/plain": [
       "<Figure size 432x288 with 1 Axes>"
      ]
     },
     "metadata": {
      "needs_background": "light"
     },
     "output_type": "display_data"
    }
   ],
   "source": [
    "sns.boxplot(data)"
   ]
  },
  {
   "cell_type": "code",
   "execution_count": 23,
   "id": "8b3616d1",
   "metadata": {},
   "outputs": [
    {
     "name": "stderr",
     "output_type": "stream",
     "text": [
      "/home/zaki/Documents/youtube_api/venv/lib/python3.8/site-packages/seaborn/_decorators.py:36: FutureWarning: Pass the following variable as a keyword arg: x. From version 0.12, the only valid positional argument will be `data`, and passing other arguments without an explicit keyword will result in an error or misinterpretation.\n",
      "  warnings.warn(\n"
     ]
    },
    {
     "data": {
      "text/plain": [
       "<AxesSubplot:xlabel='duration'>"
      ]
     },
     "execution_count": 23,
     "metadata": {},
     "output_type": "execute_result"
    },
    {
     "data": {
      "image/png": "[encoded data removed]",
      "text/plain": [
       "<Figure size 432x288 with 1 Axes>"
      ]
     },
     "metadata": {
      "needs_background": "light"
     },
     "output_type": "display_data"
    }
   ],
   "source": [
    "sns.boxplot(data2)"
   ]
  },
  {
   "cell_type": "code",
   "execution_count": 24,
   "id": "994f9be3",
   "metadata": {},
   "outputs": [
    {
     "name": "stdout",
     "output_type": "stream",
     "text": [
      "<class 'pandas.core.frame.DataFrame'>\n",
      "RangeIndex: 31097 entries, 0 to 31096\n",
      "Data columns (total 11 columns):\n",
      " #   Column                Non-Null Count  Dtype          \n",
      "---  ------                --------------  -----          \n",
      " 0   videoId               31097 non-null  object         \n",
      " 1   title                 31097 non-null  object         \n",
      " 2   tags                  28027 non-null  object         \n",
      " 3   viewCount             31097 non-null  int32          \n",
      " 4   likeCount             31097 non-null  int32          \n",
      " 5   dislikeCount          31097 non-null  int32          \n",
      " 6   commentCount          31097 non-null  int32          \n",
      " 7   duration              31097 non-null  timedelta64[ns]\n",
      " 8   channelId             31097 non-null  object         \n",
      " 9   defaultAudioLanguage  26396 non-null  object         \n",
      " 10  publishedAt           31097 non-null  datetime64[ns] \n",
      "dtypes: datetime64[ns](1), int32(4), object(5), timedelta64[ns](1)\n",
      "memory usage: 2.1+ MB\n"
     ]
    }
   ],
   "source": [
    "df.info()"
   ]
  },
  {
   "cell_type": "code",
   "execution_count": 25,
   "id": "54b8a440",
   "metadata": {
    "scrolled": true
   },
   "outputs": [
    {
     "data": {
      "text/plain": [
       "en        20795\n",
       "NaN        4701\n",
       "hi         1546\n",
       "en-US      1393\n",
       "ur         1195\n",
       "en-GB       741\n",
       "es-419      345\n",
       "pl          200\n",
       "en-CA       135\n",
       "ko           35\n",
       "zxx           4\n",
       "en-IN         4\n",
       "mr            1\n",
       "zh-TW         1\n",
       "fr-CA         1\n",
       "Name: defaultAudioLanguage, dtype: int64"
      ]
     },
     "execution_count": 25,
     "metadata": {},
     "output_type": "execute_result"
    }
   ],
   "source": [
    "df.defaultAudioLanguage.value_counts(dropna=False)"
   ]
  },
  {
   "cell_type": "code",
   "execution_count": 26,
   "id": "b5132e8a",
   "metadata": {},
   "outputs": [],
   "source": [
    "channel_id = df.loc[df.defaultAudioLanguage.isnull(), 'channelId']"
   ]
  },
  {
   "cell_type": "code",
   "execution_count": 27,
   "id": "1ab1e88a",
   "metadata": {},
   "outputs": [
    {
     "data": {
      "text/plain": [
       "54"
      ]
     },
     "execution_count": 27,
     "metadata": {},
     "output_type": "execute_result"
    }
   ],
   "source": [
    "len(channel_id.unique())"
   ]
  },
  {
   "cell_type": "code",
   "execution_count": 28,
   "id": "01e7599c",
   "metadata": {},
   "outputs": [],
   "source": [
    "channelStat = pd.read_csv('data/channelStatistic.csv')"
   ]
  },
  {
   "cell_type": "markdown",
   "id": "8a00502e",
   "metadata": {},
   "source": [
    "the frequncy table of country with missing value in `defaultAudioLanguage` column."
   ]
  },
  {
   "cell_type": "code",
   "execution_count": 29,
   "id": "f14597ce",
   "metadata": {},
   "outputs": [
    {
     "data": {
      "text/plain": [
       "United States    30\n",
       "India             9\n",
       "Canada            5\n",
       "Australia         3\n",
       "Norway            2\n",
       "Denmark           1\n",
       "Germany           1\n",
       "South Korea       1\n",
       "Romania           1\n",
       "Peru              1\n",
       "Name: country, dtype: int64"
      ]
     },
     "execution_count": 29,
     "metadata": {},
     "output_type": "execute_result"
    }
   ],
   "source": [
    "channelStat.set_index('channelId').loc[channel_id.unique()].country.value_counts()"
   ]
  },
  {
   "cell_type": "markdown",
   "id": "3ca68eeb",
   "metadata": {},
   "source": [
    "If channel country is `US`, `CA`  or `Australia` we will suppose that the defaut audio language should be english. big chance `India`, we can fill the missing value. filling will not change that mutch the distrubution of the value. clear that the defa english dom "
   ]
  },
  {
   "cell_type": "code",
   "execution_count": 30,
   "id": "def4b680",
   "metadata": {},
   "outputs": [
    {
     "ename": "ValueError",
     "evalue": "Could not interpret value `reactions` for parameter `x`",
     "output_type": "error",
     "traceback": [
      "\u001b[0;31m---------------------------------------------------------------------------\u001b[0m",
      "\u001b[0;31mValueError\u001b[0m                                Traceback (most recent call last)",
      "\u001b[0;32m<ipython-input-30-32538f647166>\u001b[0m in \u001b[0;36m<module>\u001b[0;34m\u001b[0m\n\u001b[0;32m----> 1\u001b[0;31m \u001b[0msns\u001b[0m\u001b[0;34m.\u001b[0m\u001b[0mscatterplot\u001b[0m\u001b[0;34m(\u001b[0m\u001b[0mdata\u001b[0m\u001b[0;34m=\u001b[0m\u001b[0mdf\u001b[0m\u001b[0;34m,\u001b[0m \u001b[0my\u001b[0m\u001b[0;34m=\u001b[0m\u001b[0;34m'viewCount'\u001b[0m\u001b[0;34m,\u001b[0m \u001b[0mx\u001b[0m\u001b[0;34m=\u001b[0m\u001b[0;34m'reactions'\u001b[0m\u001b[0;34m)\u001b[0m\u001b[0;34m\u001b[0m\u001b[0;34m\u001b[0m\u001b[0m\n\u001b[0m\u001b[1;32m      2\u001b[0m \u001b[0;31m#plt.xlim(0, 2000000)\u001b[0m\u001b[0;34m\u001b[0m\u001b[0;34m\u001b[0m\u001b[0;34m\u001b[0m\u001b[0m\n\u001b[1;32m      3\u001b[0m \u001b[0mplt\u001b[0m\u001b[0;34m.\u001b[0m\u001b[0mshow\u001b[0m\u001b[0;34m(\u001b[0m\u001b[0;34m)\u001b[0m\u001b[0;34m\u001b[0m\u001b[0;34m\u001b[0m\u001b[0m\n",
      "\u001b[0;32m~/Documents/youtube_api/venv/lib/python3.8/site-packages/seaborn/_decorators.py\u001b[0m in \u001b[0;36minner_f\u001b[0;34m(*args, **kwargs)\u001b[0m\n\u001b[1;32m     44\u001b[0m             )\n\u001b[1;32m     45\u001b[0m         \u001b[0mkwargs\u001b[0m\u001b[0;34m.\u001b[0m\u001b[0mupdate\u001b[0m\u001b[0;34m(\u001b[0m\u001b[0;34m{\u001b[0m\u001b[0mk\u001b[0m\u001b[0;34m:\u001b[0m \u001b[0marg\u001b[0m \u001b[0;32mfor\u001b[0m \u001b[0mk\u001b[0m\u001b[0;34m,\u001b[0m \u001b[0marg\u001b[0m \u001b[0;32min\u001b[0m \u001b[0mzip\u001b[0m\u001b[0;34m(\u001b[0m\u001b[0msig\u001b[0m\u001b[0;34m.\u001b[0m\u001b[0mparameters\u001b[0m\u001b[0;34m,\u001b[0m \u001b[0margs\u001b[0m\u001b[0;34m)\u001b[0m\u001b[0;34m}\u001b[0m\u001b[0;34m)\u001b[0m\u001b[0;34m\u001b[0m\u001b[0;34m\u001b[0m\u001b[0m\n\u001b[0;32m---> 46\u001b[0;31m         \u001b[0;32mreturn\u001b[0m \u001b[0mf\u001b[0m\u001b[0;34m(\u001b[0m\u001b[0;34m**\u001b[0m\u001b[0mkwargs\u001b[0m\u001b[0;34m)\u001b[0m\u001b[0;34m\u001b[0m\u001b[0;34m\u001b[0m\u001b[0m\n\u001b[0m\u001b[1;32m     47\u001b[0m     \u001b[0;32mreturn\u001b[0m \u001b[0minner_f\u001b[0m\u001b[0;34m\u001b[0m\u001b[0;34m\u001b[0m\u001b[0m\n\u001b[1;32m     48\u001b[0m \u001b[0;34m\u001b[0m\u001b[0m\n",
      "\u001b[0;32m~/Documents/youtube_api/venv/lib/python3.8/site-packages/seaborn/relational.py\u001b[0m in \u001b[0;36mscatterplot\u001b[0;34m(x, y, hue, style, size, data, palette, hue_order, hue_norm, sizes, size_order, size_norm, markers, style_order, x_bins, y_bins, units, estimator, ci, n_boot, alpha, x_jitter, y_jitter, legend, ax, **kwargs)\u001b[0m\n\u001b[1;32m    799\u001b[0m \u001b[0;34m\u001b[0m\u001b[0m\n\u001b[1;32m    800\u001b[0m     \u001b[0mvariables\u001b[0m \u001b[0;34m=\u001b[0m \u001b[0m_ScatterPlotter\u001b[0m\u001b[0;34m.\u001b[0m\u001b[0mget_semantics\u001b[0m\u001b[0;34m(\u001b[0m\u001b[0mlocals\u001b[0m\u001b[0;34m(\u001b[0m\u001b[0;34m)\u001b[0m\u001b[0;34m)\u001b[0m\u001b[0;34m\u001b[0m\u001b[0;34m\u001b[0m\u001b[0m\n\u001b[0;32m--> 801\u001b[0;31m     p = _ScatterPlotter(\n\u001b[0m\u001b[1;32m    802\u001b[0m         \u001b[0mdata\u001b[0m\u001b[0;34m=\u001b[0m\u001b[0mdata\u001b[0m\u001b[0;34m,\u001b[0m \u001b[0mvariables\u001b[0m\u001b[0;34m=\u001b[0m\u001b[0mvariables\u001b[0m\u001b[0;34m,\u001b[0m\u001b[0;34m\u001b[0m\u001b[0;34m\u001b[0m\u001b[0m\n\u001b[1;32m    803\u001b[0m         \u001b[0mx_bins\u001b[0m\u001b[0;34m=\u001b[0m\u001b[0mx_bins\u001b[0m\u001b[0;34m,\u001b[0m \u001b[0my_bins\u001b[0m\u001b[0;34m=\u001b[0m\u001b[0my_bins\u001b[0m\u001b[0;34m,\u001b[0m\u001b[0;34m\u001b[0m\u001b[0;34m\u001b[0m\u001b[0m\n",
      "\u001b[0;32m~/Documents/youtube_api/venv/lib/python3.8/site-packages/seaborn/relational.py\u001b[0m in \u001b[0;36m__init__\u001b[0;34m(self, data, variables, x_bins, y_bins, estimator, ci, n_boot, alpha, x_jitter, y_jitter, legend)\u001b[0m\n\u001b[1;32m    585\u001b[0m         )\n\u001b[1;32m    586\u001b[0m \u001b[0;34m\u001b[0m\u001b[0m\n\u001b[0;32m--> 587\u001b[0;31m         \u001b[0msuper\u001b[0m\u001b[0;34m(\u001b[0m\u001b[0;34m)\u001b[0m\u001b[0;34m.\u001b[0m\u001b[0m__init__\u001b[0m\u001b[0;34m(\u001b[0m\u001b[0mdata\u001b[0m\u001b[0;34m=\u001b[0m\u001b[0mdata\u001b[0m\u001b[0;34m,\u001b[0m \u001b[0mvariables\u001b[0m\u001b[0;34m=\u001b[0m\u001b[0mvariables\u001b[0m\u001b[0;34m)\u001b[0m\u001b[0;34m\u001b[0m\u001b[0;34m\u001b[0m\u001b[0m\n\u001b[0m\u001b[1;32m    588\u001b[0m \u001b[0;34m\u001b[0m\u001b[0m\n\u001b[1;32m    589\u001b[0m         \u001b[0mself\u001b[0m\u001b[0;34m.\u001b[0m\u001b[0malpha\u001b[0m \u001b[0;34m=\u001b[0m \u001b[0malpha\u001b[0m\u001b[0;34m\u001b[0m\u001b[0;34m\u001b[0m\u001b[0m\n",
      "\u001b[0;32m~/Documents/youtube_api/venv/lib/python3.8/site-packages/seaborn/_core.py\u001b[0m in \u001b[0;36m__init__\u001b[0;34m(self, data, variables)\u001b[0m\n\u001b[1;32m    602\u001b[0m     \u001b[0;32mdef\u001b[0m \u001b[0m__init__\u001b[0m\u001b[0;34m(\u001b[0m\u001b[0mself\u001b[0m\u001b[0;34m,\u001b[0m \u001b[0mdata\u001b[0m\u001b[0;34m=\u001b[0m\u001b[0;32mNone\u001b[0m\u001b[0;34m,\u001b[0m \u001b[0mvariables\u001b[0m\u001b[0;34m=\u001b[0m\u001b[0;34m{\u001b[0m\u001b[0;34m}\u001b[0m\u001b[0;34m)\u001b[0m\u001b[0;34m:\u001b[0m\u001b[0;34m\u001b[0m\u001b[0;34m\u001b[0m\u001b[0m\n\u001b[1;32m    603\u001b[0m \u001b[0;34m\u001b[0m\u001b[0m\n\u001b[0;32m--> 604\u001b[0;31m         \u001b[0mself\u001b[0m\u001b[0;34m.\u001b[0m\u001b[0massign_variables\u001b[0m\u001b[0;34m(\u001b[0m\u001b[0mdata\u001b[0m\u001b[0;34m,\u001b[0m \u001b[0mvariables\u001b[0m\u001b[0;34m)\u001b[0m\u001b[0;34m\u001b[0m\u001b[0;34m\u001b[0m\u001b[0m\n\u001b[0m\u001b[1;32m    605\u001b[0m \u001b[0;34m\u001b[0m\u001b[0m\n\u001b[1;32m    606\u001b[0m         \u001b[0;32mfor\u001b[0m \u001b[0mvar\u001b[0m\u001b[0;34m,\u001b[0m \u001b[0mcls\u001b[0m \u001b[0;32min\u001b[0m \u001b[0mself\u001b[0m\u001b[0;34m.\u001b[0m\u001b[0m_semantic_mappings\u001b[0m\u001b[0;34m.\u001b[0m\u001b[0mitems\u001b[0m\u001b[0;34m(\u001b[0m\u001b[0;34m)\u001b[0m\u001b[0;34m:\u001b[0m\u001b[0;34m\u001b[0m\u001b[0;34m\u001b[0m\u001b[0m\n",
      "\u001b[0;32m~/Documents/youtube_api/venv/lib/python3.8/site-packages/seaborn/_core.py\u001b[0m in \u001b[0;36massign_variables\u001b[0;34m(self, data, variables)\u001b[0m\n\u001b[1;32m    665\u001b[0m         \u001b[0;32melse\u001b[0m\u001b[0;34m:\u001b[0m\u001b[0;34m\u001b[0m\u001b[0;34m\u001b[0m\u001b[0m\n\u001b[1;32m    666\u001b[0m             \u001b[0mself\u001b[0m\u001b[0;34m.\u001b[0m\u001b[0minput_format\u001b[0m \u001b[0;34m=\u001b[0m \u001b[0;34m\"long\"\u001b[0m\u001b[0;34m\u001b[0m\u001b[0;34m\u001b[0m\u001b[0m\n\u001b[0;32m--> 667\u001b[0;31m             plot_data, variables = self._assign_variables_longform(\n\u001b[0m\u001b[1;32m    668\u001b[0m                 \u001b[0mdata\u001b[0m\u001b[0;34m,\u001b[0m \u001b[0;34m**\u001b[0m\u001b[0mvariables\u001b[0m\u001b[0;34m,\u001b[0m\u001b[0;34m\u001b[0m\u001b[0;34m\u001b[0m\u001b[0m\n\u001b[1;32m    669\u001b[0m             )\n",
      "\u001b[0;32m~/Documents/youtube_api/venv/lib/python3.8/site-packages/seaborn/_core.py\u001b[0m in \u001b[0;36m_assign_variables_longform\u001b[0;34m(self, data, **kwargs)\u001b[0m\n\u001b[1;32m    900\u001b[0m \u001b[0;34m\u001b[0m\u001b[0m\n\u001b[1;32m    901\u001b[0m                 \u001b[0merr\u001b[0m \u001b[0;34m=\u001b[0m \u001b[0;34mf\"Could not interpret value `{val}` for parameter `{key}`\"\u001b[0m\u001b[0;34m\u001b[0m\u001b[0;34m\u001b[0m\u001b[0m\n\u001b[0;32m--> 902\u001b[0;31m                 \u001b[0;32mraise\u001b[0m \u001b[0mValueError\u001b[0m\u001b[0;34m(\u001b[0m\u001b[0merr\u001b[0m\u001b[0;34m)\u001b[0m\u001b[0;34m\u001b[0m\u001b[0;34m\u001b[0m\u001b[0m\n\u001b[0m\u001b[1;32m    903\u001b[0m \u001b[0;34m\u001b[0m\u001b[0m\n\u001b[1;32m    904\u001b[0m             \u001b[0;32melse\u001b[0m\u001b[0;34m:\u001b[0m\u001b[0;34m\u001b[0m\u001b[0;34m\u001b[0m\u001b[0m\n",
      "\u001b[0;31mValueError\u001b[0m: Could not interpret value `reactions` for parameter `x`"
     ]
    }
   ],
   "source": [
    "sns.scatterplot(data=df, y='viewCount', x='reactions')\n",
    "#plt.xlim(0, 2000000)\n",
    "plt.show()"
   ]
  },
  {
   "cell_type": "markdown",
   "id": "216f15c6",
   "metadata": {},
   "source": [
    "#### Adding new features <a class='anchor' id='section3'>"
   ]
  },
  {
   "cell_type": "markdown",
   "id": "25b81eff",
   "metadata": {},
   "source": [
    "It will be interesting to analyze the number of videos uploaded by year, month and day of the week.  \n",
    "First, we have to add new columns.\n"
   ]
  },
  {
   "cell_type": "code",
   "execution_count": 31,
   "id": "fac0c190",
   "metadata": {},
   "outputs": [
    {
     "data": {
      "text/plain": [
       "0   2021-06-28\n",
       "1   2021-03-30\n",
       "2   2021-03-25\n",
       "3   2021-01-11\n",
       "4   2021-01-07\n",
       "Name: publishedAt, dtype: datetime64[ns]"
      ]
     },
     "execution_count": 31,
     "metadata": {},
     "output_type": "execute_result"
    }
   ],
   "source": [
    "df.publishedAt.head()"
   ]
  },
  {
   "cell_type": "markdown",
   "id": "531b1d00",
   "metadata": {},
   "source": [
    "##### Year"
   ]
  },
  {
   "cell_type": "code",
   "execution_count": 32,
   "id": "1504b76a",
   "metadata": {
    "scrolled": true
   },
   "outputs": [
    {
     "data": {
      "text/plain": [
       "0    2021\n",
       "1    2021\n",
       "2    2021\n",
       "3    2021\n",
       "4    2021\n",
       "Name: publishedAt, dtype: int64"
      ]
     },
     "execution_count": 32,
     "metadata": {},
     "output_type": "execute_result"
    }
   ],
   "source": [
    "df.publishedAt.head().dt.year"
   ]
  },
  {
   "cell_type": "code",
   "execution_count": 33,
   "id": "a95a6a30",
   "metadata": {},
   "outputs": [],
   "source": [
    "df['year'] = df.publishedAt.dt.year"
   ]
  },
  {
   "cell_type": "markdown",
   "id": "785a05b1",
   "metadata": {},
   "source": [
    "##### Month"
   ]
  },
  {
   "cell_type": "code",
   "execution_count": 34,
   "id": "4b64e13b",
   "metadata": {},
   "outputs": [
    {
     "data": {
      "text/plain": [
       "0    6\n",
       "1    3\n",
       "2    3\n",
       "3    1\n",
       "4    1\n",
       "Name: publishedAt, dtype: int64"
      ]
     },
     "execution_count": 34,
     "metadata": {},
     "output_type": "execute_result"
    }
   ],
   "source": [
    "df.publishedAt.head().dt.month"
   ]
  },
  {
   "cell_type": "code",
   "execution_count": 35,
   "id": "e1d0f692",
   "metadata": {},
   "outputs": [],
   "source": [
    "df['month'] = df.publishedAt.dt.month"
   ]
  },
  {
   "cell_type": "markdown",
   "id": "7cdc1026",
   "metadata": {},
   "source": [
    "##### Day\n",
    "\n",
    "The day of the week with Monday=0, Sunday=6.   \n",
    "[Pandas Series property: dt.weekday](https://www.w3resource.com/pandas/series/series-dt-weekday.php)"
   ]
  },
  {
   "cell_type": "code",
   "execution_count": 36,
   "id": "51150566",
   "metadata": {},
   "outputs": [
    {
     "data": {
      "text/plain": [
       "0    0\n",
       "1    1\n",
       "2    3\n",
       "3    0\n",
       "4    3\n",
       "Name: publishedAt, dtype: int64"
      ]
     },
     "execution_count": 36,
     "metadata": {},
     "output_type": "execute_result"
    }
   ],
   "source": [
    "df.publishedAt.head().dt.dayofweek"
   ]
  },
  {
   "cell_type": "code",
   "execution_count": 37,
   "id": "4fdf885b",
   "metadata": {},
   "outputs": [],
   "source": [
    "df['day'] = df.publishedAt.dt.dayofweek"
   ]
  },
  {
   "cell_type": "markdown",
   "id": "fd497ecb",
   "metadata": {},
   "source": [
    "##### Second"
   ]
  },
  {
   "cell_type": "code",
   "execution_count": 38,
   "id": "02cc768c",
   "metadata": {},
   "outputs": [],
   "source": [
    "df['second'] = df.duration.apply(lambda x: x.seconds)"
   ]
  },
  {
   "cell_type": "code",
   "execution_count": 39,
   "id": "f315f22d",
   "metadata": {},
   "outputs": [
    {
     "data": {
      "text/plain": [
       "0    3756\n",
       "1    3364\n",
       "2      49\n",
       "3    4174\n",
       "4     542\n",
       "Name: second, dtype: int64"
      ]
     },
     "execution_count": 39,
     "metadata": {},
     "output_type": "execute_result"
    }
   ],
   "source": [
    "df.second.head()"
   ]
  },
  {
   "cell_type": "markdown",
   "id": "369bee9a",
   "metadata": {},
   "source": [
    "##### Reactions"
   ]
  },
  {
   "cell_type": "code",
   "execution_count": 40,
   "id": "0f130bd7",
   "metadata": {},
   "outputs": [],
   "source": [
    "df['reactions'] = df['commentCount'] + df['likeCount'] + df['dislikeCount']"
   ]
  },
  {
   "cell_type": "markdown",
   "id": "99243dd2",
   "metadata": {},
   "source": [
    "##### Select numerics columns"
   ]
  },
  {
   "cell_type": "code",
   "execution_count": 41,
   "id": "eba9402b",
   "metadata": {},
   "outputs": [],
   "source": [
    "numerics = ['int16', 'int32', 'int64', 'float16', 'float32', 'float64']\n",
    "\n",
    "df_num = df.select_dtypes(include=numerics)"
   ]
  },
  {
   "cell_type": "code",
   "execution_count": 42,
   "id": "35a0dc9b",
   "metadata": {
    "scrolled": true
   },
   "outputs": [
    {
     "data": {
      "text/html": [
       "<div>\n",
       "<style scoped>\n",
       "    .dataframe tbody tr th:only-of-type {\n",
       "        vertical-align: middle;\n",
       "    }\n",
       "\n",
       "    .dataframe tbody tr th {\n",
       "        vertical-align: top;\n",
       "    }\n",
       "\n",
       "    .dataframe thead th {\n",
       "        text-align: right;\n",
       "    }\n",
       "</style>\n",
       "<table border=\"1\" class=\"dataframe\">\n",
       "  <thead>\n",
       "    <tr style=\"text-align: right;\">\n",
       "      <th></th>\n",
       "      <th>viewCount</th>\n",
       "      <th>likeCount</th>\n",
       "      <th>dislikeCount</th>\n",
       "      <th>commentCount</th>\n",
       "      <th>year</th>\n",
       "      <th>month</th>\n",
       "      <th>day</th>\n",
       "      <th>second</th>\n",
       "      <th>reactions</th>\n",
       "    </tr>\n",
       "  </thead>\n",
       "  <tbody>\n",
       "    <tr>\n",
       "      <th>0</th>\n",
       "      <td>51981</td>\n",
       "      <td>2970</td>\n",
       "      <td>28</td>\n",
       "      <td>514</td>\n",
       "      <td>2021</td>\n",
       "      <td>6</td>\n",
       "      <td>0</td>\n",
       "      <td>3756</td>\n",
       "      <td>3512</td>\n",
       "    </tr>\n",
       "    <tr>\n",
       "      <th>1</th>\n",
       "      <td>285783</td>\n",
       "      <td>8734</td>\n",
       "      <td>314</td>\n",
       "      <td>632</td>\n",
       "      <td>2021</td>\n",
       "      <td>3</td>\n",
       "      <td>1</td>\n",
       "      <td>3364</td>\n",
       "      <td>9680</td>\n",
       "    </tr>\n",
       "    <tr>\n",
       "      <th>2</th>\n",
       "      <td>28449</td>\n",
       "      <td>1794</td>\n",
       "      <td>11</td>\n",
       "      <td>231</td>\n",
       "      <td>2021</td>\n",
       "      <td>3</td>\n",
       "      <td>3</td>\n",
       "      <td>49</td>\n",
       "      <td>2036</td>\n",
       "    </tr>\n",
       "    <tr>\n",
       "      <th>3</th>\n",
       "      <td>983673</td>\n",
       "      <td>29773</td>\n",
       "      <td>386</td>\n",
       "      <td>1655</td>\n",
       "      <td>2021</td>\n",
       "      <td>1</td>\n",
       "      <td>0</td>\n",
       "      <td>4174</td>\n",
       "      <td>31814</td>\n",
       "    </tr>\n",
       "    <tr>\n",
       "      <th>4</th>\n",
       "      <td>399842</td>\n",
       "      <td>22398</td>\n",
       "      <td>153</td>\n",
       "      <td>643</td>\n",
       "      <td>2021</td>\n",
       "      <td>1</td>\n",
       "      <td>3</td>\n",
       "      <td>542</td>\n",
       "      <td>23194</td>\n",
       "    </tr>\n",
       "  </tbody>\n",
       "</table>\n",
       "</div>"
      ],
      "text/plain": [
       "   viewCount  likeCount  dislikeCount  commentCount  year  month  day  second  \\\n",
       "0      51981       2970            28           514  2021      6    0    3756   \n",
       "1     285783       8734           314           632  2021      3    1    3364   \n",
       "2      28449       1794            11           231  2021      3    3      49   \n",
       "3     983673      29773           386          1655  2021      1    0    4174   \n",
       "4     399842      22398           153           643  2021      1    3     542   \n",
       "\n",
       "   reactions  \n",
       "0       3512  \n",
       "1       9680  \n",
       "2       2036  \n",
       "3      31814  \n",
       "4      23194  "
      ]
     },
     "execution_count": 42,
     "metadata": {},
     "output_type": "execute_result"
    }
   ],
   "source": [
    "df_num.head()"
   ]
  },
  {
   "cell_type": "markdown",
   "id": "c650c7ad",
   "metadata": {},
   "source": [
    "##### Min-Max normalization"
   ]
  },
  {
   "cell_type": "code",
   "execution_count": 43,
   "id": "1a9aacbe",
   "metadata": {},
   "outputs": [],
   "source": [
    "df_norm=(df_num -df_num.min())/(df_num.max()-df_num.min())"
   ]
  },
  {
   "cell_type": "code",
   "execution_count": 44,
   "id": "0b828047",
   "metadata": {
    "scrolled": true
   },
   "outputs": [
    {
     "data": {
      "image/png": "[encoded data removed]",
      "text/plain": [
       "<Figure size 432x288 with 1 Axes>"
      ]
     },
     "metadata": {
      "needs_background": "light"
     },
     "output_type": "display_data"
    }
   ],
   "source": [
    "sns.scatterplot(data=df_norm, y='viewCount', x='reactions')\n",
    "#plt.xlim(0, 2000000)\n",
    "plt.show()"
   ]
  },
  {
   "cell_type": "code",
   "execution_count": 45,
   "id": "69f67724",
   "metadata": {},
   "outputs": [
    {
     "data": {
      "image/png": "[encoded data removed]",
      "text/plain": [
       "<Figure size 432x288 with 1 Axes>"
      ]
     },
     "metadata": {
      "needs_background": "light"
     },
     "output_type": "display_data"
    }
   ],
   "source": [
    "sns.scatterplot(data=df_norm, y='viewCount', x='second')\n",
    "#plt.xlim(0, 2000000)\n",
    "plt.show()"
   ]
  },
  {
   "cell_type": "markdown",
   "id": "26b3af54",
   "metadata": {},
   "source": [
    "### Creating Visualizations <a class='anchor' id='chapter2'>"
   ]
  },
  {
   "cell_type": "markdown",
   "id": "52a886ce",
   "metadata": {},
   "source": [
    "##### The default Audio Language"
   ]
  },
  {
   "cell_type": "code",
   "execution_count": 46,
   "id": "f1c9a06d",
   "metadata": {},
   "outputs": [
    {
     "data": {
      "text/plain": [
       "en        20795\n",
       "NaN        4701\n",
       "hi         1546\n",
       "en-US      1393\n",
       "ur         1195\n",
       "en-GB       741\n",
       "es-419      345\n",
       "pl          200\n",
       "en-CA       135\n",
       "ko           35\n",
       "zxx           4\n",
       "en-IN         4\n",
       "mr            1\n",
       "zh-TW         1\n",
       "fr-CA         1\n",
       "Name: defaultAudioLanguage, dtype: int64"
      ]
     },
     "execution_count": 46,
     "metadata": {},
     "output_type": "execute_result"
    }
   ],
   "source": [
    "df.defaultAudioLanguage.value_counts(dropna=False)"
   ]
  },
  {
   "cell_type": "code",
   "execution_count": 47,
   "id": "ccfac7f2",
   "metadata": {},
   "outputs": [
    {
     "ename": "SyntaxError",
     "evalue": "invalid syntax (<ipython-input-47-dccf58219965>, line 1)",
     "output_type": "error",
     "traceback": [
      "\u001b[0;36m  File \u001b[0;32m\"<ipython-input-47-dccf58219965>\"\u001b[0;36m, line \u001b[0;32m1\u001b[0m\n\u001b[0;31m    language_code = {'en':, 'hi':, ''}\u001b[0m\n\u001b[0m                          ^\u001b[0m\n\u001b[0;31mSyntaxError\u001b[0m\u001b[0;31m:\u001b[0m invalid syntax\n"
     ]
    }
   ],
   "source": [
    "language_code = {'en':, 'hi':, ''}"
   ]
  },
  {
   "cell_type": "code",
   "execution_count": 48,
   "id": "ebd9e774",
   "metadata": {},
   "outputs": [
    {
     "data": {
      "text/html": [
       "<div>\n",
       "<style scoped>\n",
       "    .dataframe tbody tr th:only-of-type {\n",
       "        vertical-align: middle;\n",
       "    }\n",
       "\n",
       "    .dataframe tbody tr th {\n",
       "        vertical-align: top;\n",
       "    }\n",
       "\n",
       "    .dataframe thead th {\n",
       "        text-align: right;\n",
       "    }\n",
       "</style>\n",
       "<table border=\"1\" class=\"dataframe\">\n",
       "  <thead>\n",
       "    <tr style=\"text-align: right;\">\n",
       "      <th></th>\n",
       "      <th>videoId</th>\n",
       "      <th>title</th>\n",
       "      <th>tags</th>\n",
       "      <th>viewCount</th>\n",
       "      <th>likeCount</th>\n",
       "      <th>dislikeCount</th>\n",
       "      <th>commentCount</th>\n",
       "      <th>duration</th>\n",
       "      <th>channelId</th>\n",
       "      <th>defaultAudioLanguage</th>\n",
       "      <th>publishedAt</th>\n",
       "      <th>year</th>\n",
       "      <th>month</th>\n",
       "      <th>day</th>\n",
       "      <th>second</th>\n",
       "      <th>reactions</th>\n",
       "    </tr>\n",
       "  </thead>\n",
       "  <tbody>\n",
       "    <tr>\n",
       "      <th>0</th>\n",
       "      <td>rHux0gMZ3Eg</td>\n",
       "      <td>Django Tutorial for Beginners [2021]</td>\n",
       "      <td>['django tutorial', 'django', 'learn django', ...</td>\n",
       "      <td>51981</td>\n",
       "      <td>2970</td>\n",
       "      <td>28</td>\n",
       "      <td>514</td>\n",
       "      <td>0 days 01:02:36</td>\n",
       "      <td>UCWv7vMbMWH4-V0ZXdmDpPBA</td>\n",
       "      <td>en</td>\n",
       "      <td>2021-06-28</td>\n",
       "      <td>2021</td>\n",
       "      <td>6</td>\n",
       "      <td>0</td>\n",
       "      <td>3756</td>\n",
       "      <td>3512</td>\n",
       "    </tr>\n",
       "    <tr>\n",
       "      <th>1</th>\n",
       "      <td>pTFZFxd4hOI</td>\n",
       "      <td>Docker Tutorial for Beginners [2021]</td>\n",
       "      <td>['docker tutorial', 'docker', 'learn docker', ...</td>\n",
       "      <td>285783</td>\n",
       "      <td>8734</td>\n",
       "      <td>314</td>\n",
       "      <td>632</td>\n",
       "      <td>0 days 00:56:04</td>\n",
       "      <td>UCWv7vMbMWH4-V0ZXdmDpPBA</td>\n",
       "      <td>en</td>\n",
       "      <td>2021-03-30</td>\n",
       "      <td>2021</td>\n",
       "      <td>3</td>\n",
       "      <td>1</td>\n",
       "      <td>3364</td>\n",
       "      <td>9680</td>\n",
       "    </tr>\n",
       "    <tr>\n",
       "      <th>2</th>\n",
       "      <td>Eo90IEphG_M</td>\n",
       "      <td>Docker course is coming!</td>\n",
       "      <td>NaN</td>\n",
       "      <td>28449</td>\n",
       "      <td>1794</td>\n",
       "      <td>11</td>\n",
       "      <td>231</td>\n",
       "      <td>0 days 00:00:49</td>\n",
       "      <td>UCWv7vMbMWH4-V0ZXdmDpPBA</td>\n",
       "      <td>en</td>\n",
       "      <td>2021-03-25</td>\n",
       "      <td>2021</td>\n",
       "      <td>3</td>\n",
       "      <td>3</td>\n",
       "      <td>49</td>\n",
       "      <td>2036</td>\n",
       "    </tr>\n",
       "    <tr>\n",
       "      <th>3</th>\n",
       "      <td>qz0aGYrrlhU</td>\n",
       "      <td>HTML Tutorial for Beginners: HTML Crash Course...</td>\n",
       "      <td>['html tutorial', 'html5 tutorial', 'html', 'h...</td>\n",
       "      <td>983673</td>\n",
       "      <td>29773</td>\n",
       "      <td>386</td>\n",
       "      <td>1655</td>\n",
       "      <td>0 days 01:09:34</td>\n",
       "      <td>UCWv7vMbMWH4-V0ZXdmDpPBA</td>\n",
       "      <td>en</td>\n",
       "      <td>2021-01-11</td>\n",
       "      <td>2021</td>\n",
       "      <td>1</td>\n",
       "      <td>0</td>\n",
       "      <td>4174</td>\n",
       "      <td>31814</td>\n",
       "    </tr>\n",
       "    <tr>\n",
       "      <th>4</th>\n",
       "      <td>-_X6PhkjpzU</td>\n",
       "      <td>5 Front-end Development Skills to Land Your Fi...</td>\n",
       "      <td>['front-end development', 'front end developme...</td>\n",
       "      <td>399842</td>\n",
       "      <td>22398</td>\n",
       "      <td>153</td>\n",
       "      <td>643</td>\n",
       "      <td>0 days 00:09:02</td>\n",
       "      <td>UCWv7vMbMWH4-V0ZXdmDpPBA</td>\n",
       "      <td>en</td>\n",
       "      <td>2021-01-07</td>\n",
       "      <td>2021</td>\n",
       "      <td>1</td>\n",
       "      <td>3</td>\n",
       "      <td>542</td>\n",
       "      <td>23194</td>\n",
       "    </tr>\n",
       "    <tr>\n",
       "      <th>...</th>\n",
       "      <td>...</td>\n",
       "      <td>...</td>\n",
       "      <td>...</td>\n",
       "      <td>...</td>\n",
       "      <td>...</td>\n",
       "      <td>...</td>\n",
       "      <td>...</td>\n",
       "      <td>...</td>\n",
       "      <td>...</td>\n",
       "      <td>...</td>\n",
       "      <td>...</td>\n",
       "      <td>...</td>\n",
       "      <td>...</td>\n",
       "      <td>...</td>\n",
       "      <td>...</td>\n",
       "      <td>...</td>\n",
       "    </tr>\n",
       "    <tr>\n",
       "      <th>31091</th>\n",
       "      <td>CXe9FgqdGnI</td>\n",
       "      <td>How to Create Owl Carousel Slider using Owl Ca...</td>\n",
       "      <td>['easily use owl carousel with pinegrow', 'Owl...</td>\n",
       "      <td>3472</td>\n",
       "      <td>10</td>\n",
       "      <td>2</td>\n",
       "      <td>21</td>\n",
       "      <td>0 days 00:10:05</td>\n",
       "      <td>UCjM2CgqAXgXQuFjJa732IRw</td>\n",
       "      <td>en</td>\n",
       "      <td>2016-08-13</td>\n",
       "      <td>2016</td>\n",
       "      <td>8</td>\n",
       "      <td>5</td>\n",
       "      <td>605</td>\n",
       "      <td>33</td>\n",
       "    </tr>\n",
       "    <tr>\n",
       "      <th>31093</th>\n",
       "      <td>rn92rMiV-48</td>\n",
       "      <td>Shop Components of Bootstrap Blocks using Pine...</td>\n",
       "      <td>['Shop Component in Pinegrow', 'Enable Shop Co...</td>\n",
       "      <td>1451</td>\n",
       "      <td>7</td>\n",
       "      <td>0</td>\n",
       "      <td>11</td>\n",
       "      <td>0 days 00:02:50</td>\n",
       "      <td>UCjM2CgqAXgXQuFjJa732IRw</td>\n",
       "      <td>en</td>\n",
       "      <td>2016-05-17</td>\n",
       "      <td>2016</td>\n",
       "      <td>5</td>\n",
       "      <td>1</td>\n",
       "      <td>170</td>\n",
       "      <td>18</td>\n",
       "    </tr>\n",
       "    <tr>\n",
       "      <th>31094</th>\n",
       "      <td>Fh6tIHy_7z0</td>\n",
       "      <td>WordPress and Woocommerce Specialist You can F...</td>\n",
       "      <td>['upwork', 'wordpress', 'woocommerce', 'html',...</td>\n",
       "      <td>174</td>\n",
       "      <td>2</td>\n",
       "      <td>1</td>\n",
       "      <td>4</td>\n",
       "      <td>0 days 00:00:56</td>\n",
       "      <td>UCjM2CgqAXgXQuFjJa732IRw</td>\n",
       "      <td>en-GB</td>\n",
       "      <td>2016-04-10</td>\n",
       "      <td>2016</td>\n",
       "      <td>4</td>\n",
       "      <td>6</td>\n",
       "      <td>56</td>\n",
       "      <td>7</td>\n",
       "    </tr>\n",
       "    <tr>\n",
       "      <th>31095</th>\n",
       "      <td>IhaEO-SVrz8</td>\n",
       "      <td>You can Hire me for revolution slider on fiver...</td>\n",
       "      <td>['how to make revolution slider in wordpress i...</td>\n",
       "      <td>100</td>\n",
       "      <td>0</td>\n",
       "      <td>0</td>\n",
       "      <td>0</td>\n",
       "      <td>0 days 00:01:00</td>\n",
       "      <td>UCjM2CgqAXgXQuFjJa732IRw</td>\n",
       "      <td>en-US</td>\n",
       "      <td>2016-02-25</td>\n",
       "      <td>2016</td>\n",
       "      <td>2</td>\n",
       "      <td>3</td>\n",
       "      <td>60</td>\n",
       "      <td>0</td>\n",
       "    </tr>\n",
       "    <tr>\n",
       "      <th>31096</th>\n",
       "      <td>kgQGXhDeqMg</td>\n",
       "      <td>Level 2 Seller on Fiverr</td>\n",
       "      <td>['level 2 seller fiverr.com', 'fiverr earning'...</td>\n",
       "      <td>268</td>\n",
       "      <td>3</td>\n",
       "      <td>1</td>\n",
       "      <td>0</td>\n",
       "      <td>0 days 00:00:56</td>\n",
       "      <td>UCjM2CgqAXgXQuFjJa732IRw</td>\n",
       "      <td>en-US</td>\n",
       "      <td>2016-02-25</td>\n",
       "      <td>2016</td>\n",
       "      <td>2</td>\n",
       "      <td>3</td>\n",
       "      <td>56</td>\n",
       "      <td>4</td>\n",
       "    </tr>\n",
       "  </tbody>\n",
       "</table>\n",
       "<p>23413 rows × 16 columns</p>\n",
       "</div>"
      ],
      "text/plain": [
       "           videoId                                              title  \\\n",
       "0      rHux0gMZ3Eg               Django Tutorial for Beginners [2021]   \n",
       "1      pTFZFxd4hOI               Docker Tutorial for Beginners [2021]   \n",
       "2      Eo90IEphG_M                           Docker course is coming!   \n",
       "3      qz0aGYrrlhU  HTML Tutorial for Beginners: HTML Crash Course...   \n",
       "4      -_X6PhkjpzU  5 Front-end Development Skills to Land Your Fi...   \n",
       "...            ...                                                ...   \n",
       "31091  CXe9FgqdGnI  How to Create Owl Carousel Slider using Owl Ca...   \n",
       "31093  rn92rMiV-48  Shop Components of Bootstrap Blocks using Pine...   \n",
       "31094  Fh6tIHy_7z0  WordPress and Woocommerce Specialist You can F...   \n",
       "31095  IhaEO-SVrz8  You can Hire me for revolution slider on fiver...   \n",
       "31096  kgQGXhDeqMg                           Level 2 Seller on Fiverr   \n",
       "\n",
       "                                                    tags  viewCount  \\\n",
       "0      ['django tutorial', 'django', 'learn django', ...      51981   \n",
       "1      ['docker tutorial', 'docker', 'learn docker', ...     285783   \n",
       "2                                                    NaN      28449   \n",
       "3      ['html tutorial', 'html5 tutorial', 'html', 'h...     983673   \n",
       "4      ['front-end development', 'front end developme...     399842   \n",
       "...                                                  ...        ...   \n",
       "31091  ['easily use owl carousel with pinegrow', 'Owl...       3472   \n",
       "31093  ['Shop Component in Pinegrow', 'Enable Shop Co...       1451   \n",
       "31094  ['upwork', 'wordpress', 'woocommerce', 'html',...        174   \n",
       "31095  ['how to make revolution slider in wordpress i...        100   \n",
       "31096  ['level 2 seller fiverr.com', 'fiverr earning'...        268   \n",
       "\n",
       "       likeCount  dislikeCount  commentCount        duration  \\\n",
       "0           2970            28           514 0 days 01:02:36   \n",
       "1           8734           314           632 0 days 00:56:04   \n",
       "2           1794            11           231 0 days 00:00:49   \n",
       "3          29773           386          1655 0 days 01:09:34   \n",
       "4          22398           153           643 0 days 00:09:02   \n",
       "...          ...           ...           ...             ...   \n",
       "31091         10             2            21 0 days 00:10:05   \n",
       "31093          7             0            11 0 days 00:02:50   \n",
       "31094          2             1             4 0 days 00:00:56   \n",
       "31095          0             0             0 0 days 00:01:00   \n",
       "31096          3             1             0 0 days 00:00:56   \n",
       "\n",
       "                      channelId defaultAudioLanguage publishedAt  year  month  \\\n",
       "0      UCWv7vMbMWH4-V0ZXdmDpPBA                   en  2021-06-28  2021      6   \n",
       "1      UCWv7vMbMWH4-V0ZXdmDpPBA                   en  2021-03-30  2021      3   \n",
       "2      UCWv7vMbMWH4-V0ZXdmDpPBA                   en  2021-03-25  2021      3   \n",
       "3      UCWv7vMbMWH4-V0ZXdmDpPBA                   en  2021-01-11  2021      1   \n",
       "4      UCWv7vMbMWH4-V0ZXdmDpPBA                   en  2021-01-07  2021      1   \n",
       "...                         ...                  ...         ...   ...    ...   \n",
       "31091  UCjM2CgqAXgXQuFjJa732IRw                   en  2016-08-13  2016      8   \n",
       "31093  UCjM2CgqAXgXQuFjJa732IRw                   en  2016-05-17  2016      5   \n",
       "31094  UCjM2CgqAXgXQuFjJa732IRw                en-GB  2016-04-10  2016      4   \n",
       "31095  UCjM2CgqAXgXQuFjJa732IRw                en-US  2016-02-25  2016      2   \n",
       "31096  UCjM2CgqAXgXQuFjJa732IRw                en-US  2016-02-25  2016      2   \n",
       "\n",
       "       day  second  reactions  \n",
       "0        0    3756       3512  \n",
       "1        1    3364       9680  \n",
       "2        3      49       2036  \n",
       "3        0    4174      31814  \n",
       "4        3     542      23194  \n",
       "...    ...     ...        ...  \n",
       "31091    5     605         33  \n",
       "31093    1     170         18  \n",
       "31094    6      56          7  \n",
       "31095    3      60          0  \n",
       "31096    3      56          4  \n",
       "\n",
       "[23413 rows x 16 columns]"
      ]
     },
     "execution_count": 48,
     "metadata": {},
     "output_type": "execute_result"
    }
   ],
   "source": [
    "df[df.defaultAudioLanguage.str.contains('en*').fillna(False)] #.value_counts(dropna=False)"
   ]
  },
  {
   "cell_type": "code",
   "execution_count": 49,
   "id": "c9f8d09c",
   "metadata": {},
   "outputs": [
    {
     "data": {
      "text/plain": [
       "True     23413\n",
       "NaN       4701\n",
       "False     2983\n",
       "Name: defaultAudioLanguage, dtype: int64"
      ]
     },
     "execution_count": 49,
     "metadata": {},
     "output_type": "execute_result"
    }
   ],
   "source": [
    "df.defaultAudioLanguage.str.contains('en*').value_counts(dropna=False)"
   ]
  },
  {
   "cell_type": "markdown",
   "id": "a042d8ab",
   "metadata": {},
   "source": [
    "##### The videos count per Year, Month and Day"
   ]
  },
  {
   "cell_type": "code",
   "execution_count": 50,
   "id": "ae170e87",
   "metadata": {},
   "outputs": [
    {
     "data": {
      "image/png": "[encoded data removed]",
      "text/plain": [
       "<Figure size 432x288 with 1 Axes>"
      ]
     },
     "metadata": {
      "needs_background": "light"
     },
     "output_type": "display_data"
    }
   ],
   "source": [
    "_ = sns.countplot(y=\"year\", data=df)\n",
    "plt.title('The number of videos by year')\n",
    "plt.show()"
   ]
  },
  {
   "cell_type": "code",
   "execution_count": 51,
   "id": "6661567c",
   "metadata": {},
   "outputs": [],
   "source": [
    "import calendar\n",
    "\n",
    "months = [calendar.month_name[i] for i in range(1,13)]"
   ]
  },
  {
   "cell_type": "code",
   "execution_count": 52,
   "id": "1bb7c01e",
   "metadata": {},
   "outputs": [
    {
     "data": {
      "image/png": "[encoded data removed]",
      "text/plain": [
       "<Figure size 432x288 with 1 Axes>"
      ]
     },
     "metadata": {
      "needs_background": "light"
     },
     "output_type": "display_data"
    }
   ],
   "source": [
    "ax = sns.countplot(y=\"month\", data=df)\n",
    "ax.set_yticklabels(months)\n",
    "plt.title('The number of videos by month')\n",
    "plt.show()"
   ]
  },
  {
   "cell_type": "code",
   "execution_count": 53,
   "id": "985a0777",
   "metadata": {
    "scrolled": true
   },
   "outputs": [
    {
     "data": {
      "image/png": "[encoded data removed]",
      "text/plain": [
       "<Figure size 432x288 with 1 Axes>"
      ]
     },
     "metadata": {
      "needs_background": "light"
     },
     "output_type": "display_data"
    }
   ],
   "source": [
    "ax = sns.countplot(y=\"day\", data=df)\n",
    "plt.title('The number of videos by day fo week')\n",
    "weekDays = (\"Monday\",\"Tuesday\",\"Wednesday\",\"Thursday\",\"Friday\",\"Saturday\",\"Sunday\")\n",
    "ax.set_yticklabels(weekDays)\n",
    "plt.show()"
   ]
  },
  {
   "cell_type": "markdown",
   "id": "c8d8f67a",
   "metadata": {},
   "source": [
    "##### 2019 vs. 2020"
   ]
  },
  {
   "cell_type": "code",
   "execution_count": 54,
   "id": "c5c0e487",
   "metadata": {},
   "outputs": [],
   "source": [
    "df2019 = df[df.year == 2019]\n",
    "df2020 = df[df.year == 2020]"
   ]
  },
  {
   "cell_type": "code",
   "execution_count": 55,
   "id": "2e3b8895",
   "metadata": {},
   "outputs": [
    {
     "name": "stdout",
     "output_type": "stream",
     "text": [
      "<class 'pandas.core.frame.DataFrame'>\n",
      "Int64Index: 5655 entries, 20 to 30469\n",
      "Data columns (total 16 columns):\n",
      " #   Column                Non-Null Count  Dtype          \n",
      "---  ------                --------------  -----          \n",
      " 0   videoId               5655 non-null   object         \n",
      " 1   title                 5655 non-null   object         \n",
      " 2   tags                  5350 non-null   object         \n",
      " 3   viewCount             5655 non-null   int32          \n",
      " 4   likeCount             5655 non-null   int32          \n",
      " 5   dislikeCount          5655 non-null   int32          \n",
      " 6   commentCount          5655 non-null   int32          \n",
      " 7   duration              5655 non-null   timedelta64[ns]\n",
      " 8   channelId             5655 non-null   object         \n",
      " 9   defaultAudioLanguage  5339 non-null   object         \n",
      " 10  publishedAt           5655 non-null   datetime64[ns] \n",
      " 11  year                  5655 non-null   int64          \n",
      " 12  month                 5655 non-null   int64          \n",
      " 13  day                   5655 non-null   int64          \n",
      " 14  second                5655 non-null   int64          \n",
      " 15  reactions             5655 non-null   int32          \n",
      "dtypes: datetime64[ns](1), int32(5), int64(4), object(5), timedelta64[ns](1)\n",
      "memory usage: 640.6+ KB\n"
     ]
    }
   ],
   "source": [
    "df2019.info()"
   ]
  },
  {
   "cell_type": "code",
   "execution_count": 56,
   "id": "f0de725a",
   "metadata": {},
   "outputs": [
    {
     "data": {
      "text/html": [
       "<div>\n",
       "<style scoped>\n",
       "    .dataframe tbody tr th:only-of-type {\n",
       "        vertical-align: middle;\n",
       "    }\n",
       "\n",
       "    .dataframe tbody tr th {\n",
       "        vertical-align: top;\n",
       "    }\n",
       "\n",
       "    .dataframe thead th {\n",
       "        text-align: right;\n",
       "    }\n",
       "</style>\n",
       "<table border=\"1\" class=\"dataframe\">\n",
       "  <thead>\n",
       "    <tr style=\"text-align: right;\">\n",
       "      <th></th>\n",
       "      <th>month</th>\n",
       "      <th>maxDuration</th>\n",
       "      <th>minDuration</th>\n",
       "      <th>totalDuration</th>\n",
       "      <th>totalReactions</th>\n",
       "      <th>numberOfUplodedVideos</th>\n",
       "    </tr>\n",
       "  </thead>\n",
       "  <tbody>\n",
       "    <tr>\n",
       "      <th>0</th>\n",
       "      <td>1</td>\n",
       "      <td>0 days 03:15:35</td>\n",
       "      <td>0 days 00:00:20</td>\n",
       "      <td>7 days 11:20:31</td>\n",
       "      <td>1284303</td>\n",
       "      <td>554</td>\n",
       "    </tr>\n",
       "    <tr>\n",
       "      <th>1</th>\n",
       "      <td>2</td>\n",
       "      <td>0 days 11:55:01</td>\n",
       "      <td>0 days 00:00:49</td>\n",
       "      <td>7 days 05:41:30</td>\n",
       "      <td>1605045</td>\n",
       "      <td>446</td>\n",
       "    </tr>\n",
       "    <tr>\n",
       "      <th>2</th>\n",
       "      <td>3</td>\n",
       "      <td>0 days 11:55:01</td>\n",
       "      <td>0 days 00:00:15</td>\n",
       "      <td>7 days 07:08:07</td>\n",
       "      <td>1086960</td>\n",
       "      <td>473</td>\n",
       "    </tr>\n",
       "    <tr>\n",
       "      <th>3</th>\n",
       "      <td>4</td>\n",
       "      <td>0 days 08:13:14</td>\n",
       "      <td>0 days 00:00:53</td>\n",
       "      <td>7 days 00:34:48</td>\n",
       "      <td>1165987</td>\n",
       "      <td>433</td>\n",
       "    </tr>\n",
       "    <tr>\n",
       "      <th>4</th>\n",
       "      <td>5</td>\n",
       "      <td>0 days 11:55:02</td>\n",
       "      <td>0 days 00:00:46</td>\n",
       "      <td>7 days 13:52:43</td>\n",
       "      <td>1381751</td>\n",
       "      <td>464</td>\n",
       "    </tr>\n",
       "    <tr>\n",
       "      <th>5</th>\n",
       "      <td>6</td>\n",
       "      <td>0 days 05:56:54</td>\n",
       "      <td>0 days 00:00:17</td>\n",
       "      <td>8 days 08:55:17</td>\n",
       "      <td>1295149</td>\n",
       "      <td>408</td>\n",
       "    </tr>\n",
       "    <tr>\n",
       "      <th>6</th>\n",
       "      <td>7</td>\n",
       "      <td>0 days 10:28:15</td>\n",
       "      <td>0 days 00:00:30</td>\n",
       "      <td>9 days 09:20:49</td>\n",
       "      <td>1599519</td>\n",
       "      <td>535</td>\n",
       "    </tr>\n",
       "    <tr>\n",
       "      <th>7</th>\n",
       "      <td>8</td>\n",
       "      <td>0 days 05:45:44</td>\n",
       "      <td>0 days 00:01:27</td>\n",
       "      <td>8 days 06:28:06</td>\n",
       "      <td>1925377</td>\n",
       "      <td>600</td>\n",
       "    </tr>\n",
       "    <tr>\n",
       "      <th>8</th>\n",
       "      <td>9</td>\n",
       "      <td>0 days 08:28:13</td>\n",
       "      <td>0 days 00:01:08</td>\n",
       "      <td>7 days 16:00:10</td>\n",
       "      <td>1186003</td>\n",
       "      <td>433</td>\n",
       "    </tr>\n",
       "    <tr>\n",
       "      <th>9</th>\n",
       "      <td>10</td>\n",
       "      <td>0 days 12:04:54</td>\n",
       "      <td>0 days 00:00:53</td>\n",
       "      <td>7 days 22:33:28</td>\n",
       "      <td>1282976</td>\n",
       "      <td>421</td>\n",
       "    </tr>\n",
       "    <tr>\n",
       "      <th>10</th>\n",
       "      <td>11</td>\n",
       "      <td>0 days 07:57:28</td>\n",
       "      <td>0 days 00:01:13</td>\n",
       "      <td>7 days 13:36:54</td>\n",
       "      <td>1223951</td>\n",
       "      <td>408</td>\n",
       "    </tr>\n",
       "    <tr>\n",
       "      <th>11</th>\n",
       "      <td>12</td>\n",
       "      <td>0 days 11:00:09</td>\n",
       "      <td>0 days 00:00:14</td>\n",
       "      <td>8 days 09:09:25</td>\n",
       "      <td>1616551</td>\n",
       "      <td>480</td>\n",
       "    </tr>\n",
       "  </tbody>\n",
       "</table>\n",
       "</div>"
      ],
      "text/plain": [
       "    month     maxDuration     minDuration   totalDuration  totalReactions  \\\n",
       "0       1 0 days 03:15:35 0 days 00:00:20 7 days 11:20:31         1284303   \n",
       "1       2 0 days 11:55:01 0 days 00:00:49 7 days 05:41:30         1605045   \n",
       "2       3 0 days 11:55:01 0 days 00:00:15 7 days 07:08:07         1086960   \n",
       "3       4 0 days 08:13:14 0 days 00:00:53 7 days 00:34:48         1165987   \n",
       "4       5 0 days 11:55:02 0 days 00:00:46 7 days 13:52:43         1381751   \n",
       "5       6 0 days 05:56:54 0 days 00:00:17 8 days 08:55:17         1295149   \n",
       "6       7 0 days 10:28:15 0 days 00:00:30 9 days 09:20:49         1599519   \n",
       "7       8 0 days 05:45:44 0 days 00:01:27 8 days 06:28:06         1925377   \n",
       "8       9 0 days 08:28:13 0 days 00:01:08 7 days 16:00:10         1186003   \n",
       "9      10 0 days 12:04:54 0 days 00:00:53 7 days 22:33:28         1282976   \n",
       "10     11 0 days 07:57:28 0 days 00:01:13 7 days 13:36:54         1223951   \n",
       "11     12 0 days 11:00:09 0 days 00:00:14 8 days 09:09:25         1616551   \n",
       "\n",
       "    numberOfUplodedVideos  \n",
       "0                     554  \n",
       "1                     446  \n",
       "2                     473  \n",
       "3                     433  \n",
       "4                     464  \n",
       "5                     408  \n",
       "6                     535  \n",
       "7                     600  \n",
       "8                     433  \n",
       "9                     421  \n",
       "10                    408  \n",
       "11                    480  "
      ]
     },
     "execution_count": 56,
     "metadata": {},
     "output_type": "execute_result"
    }
   ],
   "source": [
    "productivityByMonth2019 = df2019[['reactions', 'month', 'duration','videoId']].groupby(['month']).agg(\n",
    "    maxDuration=pd.NamedAgg('duration', aggfunc=max),\n",
    "    minDuration=pd.NamedAgg('duration', aggfunc=min),\n",
    "    totalDuration=pd.NamedAgg('duration', aggfunc=sum),\n",
    "    totalReactions=pd.NamedAgg('reactions', aggfunc=sum),\n",
    "    numberOfUplodedVideos=pd.NamedAgg(\"videoId\", aggfunc='count'),\n",
    "\n",
    ")\n",
    "\n",
    "productivityByMonth2019.reset_index(inplace=True)\n",
    "\n",
    "productivityByMonth2019"
   ]
  },
  {
   "cell_type": "code",
   "execution_count": 57,
   "id": "33014d46",
   "metadata": {},
   "outputs": [
    {
     "data": {
      "image/png": "[encoded data removed]",
      "text/plain": [
       "<Figure size 1440x360 with 1 Axes>"
      ]
     },
     "metadata": {},
     "output_type": "display_data"
    }
   ],
   "source": [
    "sns.set(rc={'figure.figsize':(20,5)})\n",
    "plot = sns.barplot(y=\"numberOfUplodedVideos\", x='month', data=productivityByMonth2019, palette=\"bright\") #\n",
    "plot.set(xlabel='Month', ylabel='')\n",
    "plot.set_title(f'The count of uploded videos by Month for the year of 2019')\n",
    "plt.show()"
   ]
  },
  {
   "cell_type": "code",
   "execution_count": 58,
   "id": "777b762f",
   "metadata": {
    "scrolled": true
   },
   "outputs": [
    {
     "data": {
      "text/html": [
       "<div>\n",
       "<style scoped>\n",
       "    .dataframe tbody tr th:only-of-type {\n",
       "        vertical-align: middle;\n",
       "    }\n",
       "\n",
       "    .dataframe tbody tr th {\n",
       "        vertical-align: top;\n",
       "    }\n",
       "\n",
       "    .dataframe thead th {\n",
       "        text-align: right;\n",
       "    }\n",
       "</style>\n",
       "<table border=\"1\" class=\"dataframe\">\n",
       "  <thead>\n",
       "    <tr style=\"text-align: right;\">\n",
       "      <th></th>\n",
       "      <th>month</th>\n",
       "      <th>maxDuration</th>\n",
       "      <th>minDuration</th>\n",
       "      <th>totalDuration</th>\n",
       "      <th>totalReactions</th>\n",
       "      <th>numberOfUplodedVideos</th>\n",
       "    </tr>\n",
       "  </thead>\n",
       "  <tbody>\n",
       "    <tr>\n",
       "      <th>0</th>\n",
       "      <td>1</td>\n",
       "      <td>0 days 04:15:36</td>\n",
       "      <td>0 days 00:01:39</td>\n",
       "      <td>7 days 07:49:47</td>\n",
       "      <td>2184492</td>\n",
       "      <td>429</td>\n",
       "    </tr>\n",
       "    <tr>\n",
       "      <th>1</th>\n",
       "      <td>2</td>\n",
       "      <td>0 days 13:11:26</td>\n",
       "      <td>0 days 00:00:49</td>\n",
       "      <td>7 days 09:53:22</td>\n",
       "      <td>1936203</td>\n",
       "      <td>382</td>\n",
       "    </tr>\n",
       "    <tr>\n",
       "      <th>2</th>\n",
       "      <td>3</td>\n",
       "      <td>0 days 03:15:57</td>\n",
       "      <td>0 days 00:01:07</td>\n",
       "      <td>7 days 16:06:57</td>\n",
       "      <td>1449573</td>\n",
       "      <td>494</td>\n",
       "    </tr>\n",
       "    <tr>\n",
       "      <th>3</th>\n",
       "      <td>4</td>\n",
       "      <td>0 days 12:39:45</td>\n",
       "      <td>0 days 00:00:03</td>\n",
       "      <td>10 days 19:46:40</td>\n",
       "      <td>1608246</td>\n",
       "      <td>627</td>\n",
       "    </tr>\n",
       "    <tr>\n",
       "      <th>4</th>\n",
       "      <td>5</td>\n",
       "      <td>0 days 06:21:13</td>\n",
       "      <td>0 days 00:01:16</td>\n",
       "      <td>9 days 16:52:21</td>\n",
       "      <td>1647032</td>\n",
       "      <td>604</td>\n",
       "    </tr>\n",
       "    <tr>\n",
       "      <th>5</th>\n",
       "      <td>6</td>\n",
       "      <td>0 days 03:54:36</td>\n",
       "      <td>0 days 00:00:46</td>\n",
       "      <td>7 days 05:40:00</td>\n",
       "      <td>1872887</td>\n",
       "      <td>450</td>\n",
       "    </tr>\n",
       "    <tr>\n",
       "      <th>6</th>\n",
       "      <td>7</td>\n",
       "      <td>0 days 15:13:24</td>\n",
       "      <td>0 days 00:00:26</td>\n",
       "      <td>12 days 10:59:58</td>\n",
       "      <td>2122022</td>\n",
       "      <td>521</td>\n",
       "    </tr>\n",
       "    <tr>\n",
       "      <th>7</th>\n",
       "      <td>8</td>\n",
       "      <td>0 days 13:59:03</td>\n",
       "      <td>0 days 00:01:22</td>\n",
       "      <td>11 days 13:59:53</td>\n",
       "      <td>1462183</td>\n",
       "      <td>544</td>\n",
       "    </tr>\n",
       "    <tr>\n",
       "      <th>8</th>\n",
       "      <td>9</td>\n",
       "      <td>0 days 11:52:24</td>\n",
       "      <td>0 days 00:00:51</td>\n",
       "      <td>11 days 07:37:42</td>\n",
       "      <td>1984361</td>\n",
       "      <td>560</td>\n",
       "    </tr>\n",
       "    <tr>\n",
       "      <th>9</th>\n",
       "      <td>10</td>\n",
       "      <td>0 days 12:01:50</td>\n",
       "      <td>0 days 00:00:44</td>\n",
       "      <td>14 days 17:53:13</td>\n",
       "      <td>1937893</td>\n",
       "      <td>584</td>\n",
       "    </tr>\n",
       "    <tr>\n",
       "      <th>10</th>\n",
       "      <td>11</td>\n",
       "      <td>0 days 04:23:35</td>\n",
       "      <td>0 days 00:00:13</td>\n",
       "      <td>8 days 18:27:18</td>\n",
       "      <td>851702</td>\n",
       "      <td>431</td>\n",
       "    </tr>\n",
       "    <tr>\n",
       "      <th>11</th>\n",
       "      <td>12</td>\n",
       "      <td>0 days 06:27:22</td>\n",
       "      <td>0 days 00:00:09</td>\n",
       "      <td>7 days 17:02:54</td>\n",
       "      <td>919456</td>\n",
       "      <td>435</td>\n",
       "    </tr>\n",
       "  </tbody>\n",
       "</table>\n",
       "</div>"
      ],
      "text/plain": [
       "    month     maxDuration     minDuration    totalDuration  totalReactions  \\\n",
       "0       1 0 days 04:15:36 0 days 00:01:39  7 days 07:49:47         2184492   \n",
       "1       2 0 days 13:11:26 0 days 00:00:49  7 days 09:53:22         1936203   \n",
       "2       3 0 days 03:15:57 0 days 00:01:07  7 days 16:06:57         1449573   \n",
       "3       4 0 days 12:39:45 0 days 00:00:03 10 days 19:46:40         1608246   \n",
       "4       5 0 days 06:21:13 0 days 00:01:16  9 days 16:52:21         1647032   \n",
       "5       6 0 days 03:54:36 0 days 00:00:46  7 days 05:40:00         1872887   \n",
       "6       7 0 days 15:13:24 0 days 00:00:26 12 days 10:59:58         2122022   \n",
       "7       8 0 days 13:59:03 0 days 00:01:22 11 days 13:59:53         1462183   \n",
       "8       9 0 days 11:52:24 0 days 00:00:51 11 days 07:37:42         1984361   \n",
       "9      10 0 days 12:01:50 0 days 00:00:44 14 days 17:53:13         1937893   \n",
       "10     11 0 days 04:23:35 0 days 00:00:13  8 days 18:27:18          851702   \n",
       "11     12 0 days 06:27:22 0 days 00:00:09  7 days 17:02:54          919456   \n",
       "\n",
       "    numberOfUplodedVideos  \n",
       "0                     429  \n",
       "1                     382  \n",
       "2                     494  \n",
       "3                     627  \n",
       "4                     604  \n",
       "5                     450  \n",
       "6                     521  \n",
       "7                     544  \n",
       "8                     560  \n",
       "9                     584  \n",
       "10                    431  \n",
       "11                    435  "
      ]
     },
     "execution_count": 58,
     "metadata": {},
     "output_type": "execute_result"
    }
   ],
   "source": [
    "productivityByMonth2020 = df2020[['reactions', 'month', 'duration','videoId']].groupby(['month']).agg(\n",
    "    maxDuration=pd.NamedAgg('duration', aggfunc=max),\n",
    "    minDuration=pd.NamedAgg('duration', aggfunc=min),\n",
    "    totalDuration=pd.NamedAgg('duration', aggfunc=sum),\n",
    "    totalReactions=pd.NamedAgg('reactions', aggfunc=sum),\n",
    "    numberOfUplodedVideos=pd.NamedAgg(\"videoId\", aggfunc='count'),\n",
    "\n",
    ")\n",
    "\n",
    "productivityByMonth2020.reset_index(inplace=True)\n",
    "\n",
    "productivityByMonth2020"
   ]
  },
  {
   "cell_type": "code",
   "execution_count": 59,
   "id": "9b5d7ff7",
   "metadata": {},
   "outputs": [
    {
     "data": {
      "text/plain": [
       "632987"
      ]
     },
     "execution_count": 59,
     "metadata": {},
     "output_type": "execute_result"
    }
   ],
   "source": [
    "7 * 86400 +  7 * 3600 + 49 *60 + 47 "
   ]
  },
  {
   "cell_type": "code",
   "execution_count": 60,
   "id": "a5ebfe5d",
   "metadata": {
    "scrolled": true
   },
   "outputs": [
    {
     "data": {
      "text/plain": [
       "0      7\n",
       "1      7\n",
       "2      7\n",
       "3     10\n",
       "4      9\n",
       "5      7\n",
       "6     12\n",
       "7     11\n",
       "8     11\n",
       "9     14\n",
       "10     8\n",
       "11     7\n",
       "Name: totalDuration, dtype: int64"
      ]
     },
     "execution_count": 60,
     "metadata": {},
     "output_type": "execute_result"
    }
   ],
   "source": [
    "productivityByMonth2020.totalDuration.apply(lambda x: x.days)"
   ]
  },
  {
   "cell_type": "code",
   "execution_count": 61,
   "id": "7abc7aef",
   "metadata": {},
   "outputs": [
    {
     "data": {
      "image/png": "[encoded data removed]",
      "text/plain": [
       "<Figure size 1440x360 with 1 Axes>"
      ]
     },
     "metadata": {},
     "output_type": "display_data"
    }
   ],
   "source": [
    "sns.set(rc={'figure.figsize':(20,5)})\n",
    "plot = sns.barplot(y=\"numberOfUplodedVideos\", x='month', data=productivityByMonth2020, palette=\"bright\") #\n",
    "plot.set(xlabel='Month', ylabel='')\n",
    "plot.set_title(f'The count of uploded videos by Month for the year of 2020')\n",
    "plt.show()"
   ]
  },
  {
   "cell_type": "code",
   "execution_count": 62,
   "id": "4d1fd2b1",
   "metadata": {},
   "outputs": [
    {
     "data": {
      "image/png": "[encoded data removed]",
      "text/plain": [
       "<Figure size 1440x360 with 1 Axes>"
      ]
     },
     "metadata": {},
     "output_type": "display_data"
    },
    {
     "name": "stdout",
     "output_type": "stream",
     "text": [
      "\n"
     ]
    },
    {
     "data": {
      "image/png": "[encoded data removed]",
      "text/plain": [
       "<Figure size 1440x360 with 1 Axes>"
      ]
     },
     "metadata": {},
     "output_type": "display_data"
    }
   ],
   "source": [
    "sns.set(rc={'figure.figsize':(20,5)})\n",
    "plot = sns.barplot(y=\"numberOfUplodedVideos\", x='month', data=productivityByMonth2019, palette=\"bright\") #\n",
    "plot.set(xlabel='Month', ylabel='')\n",
    "plot.set_title(f'The count of uploded videos by Month for the year of 2019')\n",
    "plt.show()\n",
    "print()\n",
    "sns.set(rc={'figure.figsize':(20,5)})\n",
    "plot = sns.barplot(y=\"numberOfUplodedVideos\", x='month', data=productivityByMonth2020, palette=\"bright\") #\n",
    "plot.set(xlabel='Month', ylabel='')\n",
    "plot.set_title(f'The count of uploded videos by Month for the year of 2020')\n",
    "plt.show()"
   ]
  },
  {
   "cell_type": "code",
   "execution_count": 63,
   "id": "cbc3f3ea",
   "metadata": {},
   "outputs": [],
   "source": [
    "productivityByMonthYear = df[df.year.between(2019,2021)][['reactions', 'month', 'duration','videoId','year', 'viewCount']].groupby(['month','year']).agg(\n",
    "    maxDuration=pd.NamedAgg('duration', aggfunc=max),\n",
    "    minDuration=pd.NamedAgg('duration', aggfunc=min),\n",
    "    totalDuration=pd.NamedAgg('duration', aggfunc=sum),\n",
    "    totalReactions=pd.NamedAgg('reactions', aggfunc=sum),\n",
    "    numberOfUplodedVideos=pd.NamedAgg(\"videoId\", aggfunc='count'),\n",
    "    totalViewCount=pd.NamedAgg('viewCount', aggfunc=sum),\n",
    "\n",
    ")\n",
    "\n",
    "productivityByMonthYear.reset_index(inplace=True)\n",
    "\n",
    "#productivityByMonthYear"
   ]
  },
  {
   "cell_type": "code",
   "execution_count": 133,
   "id": "864b706d",
   "metadata": {},
   "outputs": [
    {
     "data": {
      "image/png": "[encoded data removed]",
      "text/plain": [
       "<Figure size 499.475x432 with 1 Axes>"
      ]
     },
     "metadata": {},
     "output_type": "display_data"
    }
   ],
   "source": [
    "g = sns.catplot(\n",
    "    data=productivityByMonthYear, kind=\"bar\",\n",
    "    y=\"numberOfUplodedVideos\", x='month', hue=\"year\",\n",
    "    ci=\"sd\", palette=\"dark\", alpha=.6, height=6\n",
    ")\n",
    "g.despine(left=True)\n",
    "g.set_xticklabels(months)\n",
    "g.set_xticklabels(rotation=50)\n",
    "g.set_axis_labels(\"Month\", \"Videos Count\")\n",
    "g.legend.set_title(\"\") #The Videos Count by Months and Years"
   ]
  },
  {
   "cell_type": "code",
   "execution_count": 67,
   "id": "4b4ad1c3",
   "metadata": {},
   "outputs": [
    {
     "data": {
      "image/png": "[encoded data removed]",
      "text/plain": [
       "<Figure size 499.475x432 with 1 Axes>"
      ]
     },
     "metadata": {},
     "output_type": "display_data"
    }
   ],
   "source": [
    "g = sns.catplot(\n",
    "    data=productivityByMonthYear[productivityByMonthYear.month.between(0,6)], kind=\"bar\",\n",
    "    y=\"numberOfUplodedVideos\", x='month', hue=\"year\",\n",
    "    ci=\"sd\", palette=\"dark\", alpha=.6, height=6\n",
    ")\n",
    "g.despine(left=True)\n",
    "g.set_xticklabels(months[:6])\n",
    "g.set_xticklabels(rotation=50)\n",
    "g.set_axis_labels(\"Month\", \"Video Count\")\n",
    "plt.savefig('videoCount.png')\n",
    "g.legend.set_title(\"\")"
   ]
  },
  {
   "cell_type": "markdown",
   "id": "f145b506",
   "metadata": {},
   "source": [
    "We can notice a peak in the number of videos uploaded between March and June 2020, during the lockdown."
   ]
  },
  {
   "cell_type": "code",
   "execution_count": 147,
   "id": "ecb270eb",
   "metadata": {},
   "outputs": [
    {
     "data": {
      "image/png": "[encoded data removed]",
      "text/plain": [
       "<Figure size 499.475x432 with 1 Axes>"
      ]
     },
     "metadata": {},
     "output_type": "display_data"
    }
   ],
   "source": [
    "productivityByMonthYear['totalDurationDay']= productivityByMonthYear.totalDuration.apply(lambda x: x.days)\n",
    "g = sns.catplot(\n",
    "    data=productivityByMonthYear, kind=\"bar\",\n",
    "    y=\"totalDurationDay\", x='month', hue=\"year\",\n",
    "    ci=\"sd\", palette=\"dark\", alpha=.6, height=6\n",
    ")\n",
    "g.despine(left=True)\n",
    "g.set_xticklabels(months)\n",
    "g.set_xticklabels(rotation=50)\n",
    "g.set_axis_labels(\"Month\", \"The total Duration in days\")\n",
    "g.legend.set_title(\"\") "
   ]
  },
  {
   "cell_type": "markdown",
   "id": "787d0620",
   "metadata": {},
   "source": [
    "# Trending topic  <a class='anchor' id='chapter3'>"
   ]
  },
  {
   "cell_type": "code",
   "execution_count": 36,
   "id": "c1ebb031",
   "metadata": {},
   "outputs": [],
   "source": [
    "skills = pd.read_csv('data/Skills.csv')\n",
    "frequency = dict()"
   ]
  },
  {
   "cell_type": "code",
   "execution_count": 37,
   "id": "b93fef5c",
   "metadata": {},
   "outputs": [
    {
     "data": {
      "text/plain": [
       "0           python\n",
       "1              sql\n",
       "2      programming\n",
       "3            spark\n",
       "4              aws\n",
       "          ...     \n",
       "155         lucene\n",
       "156          jetty\n",
       "157         sqlite\n",
       "158          arrow\n",
       "159          heron\n",
       "Name: Name, Length: 160, dtype: object"
      ]
     },
     "execution_count": 37,
     "metadata": {},
     "output_type": "execute_result"
    }
   ],
   "source": [
    "skills['Name']"
   ]
  },
  {
   "cell_type": "code",
   "execution_count": 40,
   "id": "4f433629",
   "metadata": {},
   "outputs": [],
   "source": [
    "def count_skills(df):\n",
    "    frequency = {}\n",
    "    for skill_name in skills[\"Name\"]:\n",
    "        frequency[skill_name] = df['title'].str.lower().str.count(skill_name).sum()\n",
    "    return frequency"
   ]
  },
  {
   "cell_type": "code",
   "execution_count": 42,
   "id": "784f7092",
   "metadata": {},
   "outputs": [],
   "source": [
    "def make_chunks(data, num_chunks):\n",
    "    \n",
    "    chunk_size = math.ceil(len(data) / num_chunks)\n",
    "    \n",
    "    return [data[i:i+chunk_size] for i in range(0, len(data), chunk_size)]"
   ]
  },
  {
   "cell_type": "code",
   "execution_count": 43,
   "id": "e1e0b617",
   "metadata": {},
   "outputs": [],
   "source": [
    "def reducer(dic1, dic2):\n",
    "    \n",
    "    merged = dict()\n",
    "    \n",
    "    for item in dic1:\n",
    "        \n",
    "        merged[item] = dic1[item]+ dic2[item]\n",
    "        \n",
    "    return merged"
   ]
  },
  {
   "cell_type": "code",
   "execution_count": 44,
   "id": "3c12086b",
   "metadata": {},
   "outputs": [],
   "source": [
    "def map_reduce(data, num_processes, mapper, reducer):\n",
    "    \n",
    "    chunks = make_chunks(data, num_processes)\n",
    "    \n",
    "    with Pool(num_processes) as pool:\n",
    "        \n",
    "        chunk_results = pool.map(mapper, chunks)\n",
    "        \n",
    "    return functools.reduce(reducer, chunk_results)"
   ]
  },
  {
   "cell_type": "code",
   "execution_count": 45,
   "id": "61563e91",
   "metadata": {},
   "outputs": [],
   "source": [
    "from functools import partial\n",
    "import math\n",
    "\n",
    "frequency = map_reduce(df, 8, count_skills, reducer)"
   ]
  },
  {
   "cell_type": "code",
   "execution_count": 46,
   "id": "15922225",
   "metadata": {},
   "outputs": [
    {
     "data": {
      "text/plain": [
       "{'python': 3759,\n",
       " 'sql': 659,\n",
       " 'programming': 2138,\n",
       " 'spark': 71,\n",
       " 'aws': 101,\n",
       " 'java': 2315,\n",
       " 'hadoop': 16,\n",
       " 'etl': 22,\n",
       " 'machine learning': 477,\n",
       " 'scala': 20,\n",
       " 'agile': 9,\n",
       " 'business intelligence': 2,\n",
       " 'kafka': 10,\n",
       " 'azure': 106,\n",
       " 'nosql': 16,\n",
       " 'linux': 152,\n",
       " 'hive': 11,\n",
       " 'algorithm': 314,\n",
       " 'data warehouse': 2,\n",
       " 'functional': 32,\n",
       " 'scripting': 47,\n",
       " 'statistics': 51,\n",
       " 'security': 90,\n",
       " 'network': 303,\n",
       " 'git': 470,\n",
       " 'server': 365,\n",
       " 'redshift': 0,\n",
       " 'postgres': 97,\n",
       " 'devops': 18,\n",
       " 'airflow': 0,\n",
       " 'tableau': 28,\n",
       " 'docker': 128,\n",
       " 'javascript': 1361,\n",
       " 'data pipeline': 0,\n",
       " 'mathematics': 20,\n",
       " 'oracle': 81,\n",
       " 'sql server': 41,\n",
       " 's3': 63,\n",
       " 'google cloud': 16,\n",
       " 'mongodb': 337,\n",
       " 'data lake': 0,\n",
       " 'data structures': 99,\n",
       " 'cassandra': 9,\n",
       " 'hbase': 1,\n",
       " 'elasticsearch': 16,\n",
       " 'rest': 466,\n",
       " 'kubernetes': 10,\n",
       " 'scrum': 4,\n",
       " 'shell': 38,\n",
       " 'deep learning': 203,\n",
       " 'project management': 1,\n",
       " 'data visualization': 21,\n",
       " 'jenkins': 1,\n",
       " 'hdfs': 2,\n",
       " 'data architecture': 0,\n",
       " 'excel': 24,\n",
       " 'mapreduce': 1,\n",
       " 'impala': 0,\n",
       " 'snowflake': 5,\n",
       " 'ruby': 32,\n",
       " 'flink': 0,\n",
       " 'software engineer': 243,\n",
       " 'backend': 146,\n",
       " 'storm': 9,\n",
       " 'sas': 70,\n",
       " 'pandas': 157,\n",
       " 'pig': 7,\n",
       " 'json': 120,\n",
       " 'bash': 14,\n",
       " 'sap': 32,\n",
       " 'luigi': 0,\n",
       " 'oozie': 0,\n",
       " 'powerbi': 1,\n",
       " 'transact-sql': 1,\n",
       " 'apache nifi': 0,\n",
       " 'presto': 0,\n",
       " 'jupyter': 17,\n",
       " 'scikit': 47,\n",
       " 'numpy': 22,\n",
       " 'redis': 29,\n",
       " 'microservices': 16,\n",
       " 'maven': 7,\n",
       " 'azure data factory': 0,\n",
       " 'sqoop': 0,\n",
       " 'flume': 0,\n",
       " 'react': 1597,\n",
       " 'computer vision': 17,\n",
       " 'apache beam': 0,\n",
       " 'oop': 416,\n",
       " 'yarn': 17,\n",
       " 'powershell': 5,\n",
       " 'html': 518,\n",
       " 'cli': 309,\n",
       " 'css': 723,\n",
       " 'nodejs': 172,\n",
       " 'oracle sql': 34,\n",
       " 'ssas': 0,\n",
       " 'data cleaning': 5,\n",
       " 'angular': 731,\n",
       " 'gdpr': 1,\n",
       " 'san': 60,\n",
       " 'frontend': 61,\n",
       " 'time series': 19,\n",
       " 'django': 1374,\n",
       " 'data wrangling': 0,\n",
       " 'web development': 480,\n",
       " 'vertica': 10,\n",
       " 'mpp': 24,\n",
       " 'solr': 0,\n",
       " 'map reduce': 5,\n",
       " 'kerberos': 0,\n",
       " 'web scraping': 36,\n",
       " 'encryption': 11,\n",
       " 'ssl': 24,\n",
       " 'selenium': 15,\n",
       " 'mahout': 0,\n",
       " 'probability': 9,\n",
       " 'neural network': 164,\n",
       " 'scipy': 0,\n",
       " 'microsoft power bi': 0,\n",
       " 'quicksight': 2,\n",
       " 'iam': 8,\n",
       " 'mllib': 0,\n",
       " 'sparksql': 0,\n",
       " 'kudu': 6,\n",
       " 'zookeeper': 3,\n",
       " 'apache crunch': 0,\n",
       " 'eclipse': 31,\n",
       " 'oauth': 17,\n",
       " 'tomcat': 11,\n",
       " 'soa': 2,\n",
       " 'hue': 1,\n",
       " 'ide': 1174,\n",
       " 'circleci': 11,\n",
       " 'rapidminer': 1,\n",
       " 'wms': 0,\n",
       " 'knime': 0,\n",
       " 'tensor flow': 1,\n",
       " 'concur': 17,\n",
       " 'cron': 7,\n",
       " 'jdbc': 7,\n",
       " 'greenplum': 0,\n",
       " 'algebra': 72,\n",
       " 'sandbox': 5,\n",
       " 'ssh': 26,\n",
       " 'calculus': 9,\n",
       " 'ambari': 0,\n",
       " 'haskell': 1,\n",
       " 'anaconda': 13,\n",
       " 'osi': 147,\n",
       " 'pattern recognition': 11,\n",
       " 'drill': 2,\n",
       " 'jwt': 51,\n",
       " 'identity access management': 0,\n",
       " 'phoenix': 11,\n",
       " 'lucene': 0,\n",
       " 'jetty': 0,\n",
       " 'sqlite': 51,\n",
       " 'arrow': 29,\n",
       " 'heron': 0}"
      ]
     },
     "execution_count": 46,
     "metadata": {},
     "output_type": "execute_result"
    }
   ],
   "source": [
    "frequency"
   ]
  },
  {
   "cell_type": "code",
   "execution_count": 47,
   "id": "f5e324a2",
   "metadata": {},
   "outputs": [],
   "source": [
    "frequency = {k: v for k, v in sorted(frequency.items(), key=lambda item: item[1], reverse=True)}"
   ]
  },
  {
   "cell_type": "code",
   "execution_count": 48,
   "id": "7f3d5e63",
   "metadata": {},
   "outputs": [
    {
     "data": {
      "text/plain": [
       "{'python': 3759,\n",
       " 'java': 2315,\n",
       " 'programming': 2138,\n",
       " 'react': 1597,\n",
       " 'django': 1374,\n",
       " 'javascript': 1361,\n",
       " 'ide': 1174,\n",
       " 'angular': 731,\n",
       " 'css': 723,\n",
       " 'sql': 659,\n",
       " 'html': 518,\n",
       " 'web development': 480,\n",
       " 'machine learning': 477,\n",
       " 'git': 470,\n",
       " 'rest': 466,\n",
       " 'oop': 416,\n",
       " 'server': 365,\n",
       " 'mongodb': 337,\n",
       " 'algorithm': 314,\n",
       " 'cli': 309,\n",
       " 'network': 303,\n",
       " 'software engineer': 243,\n",
       " 'deep learning': 203,\n",
       " 'nodejs': 172,\n",
       " 'neural network': 164,\n",
       " 'pandas': 157,\n",
       " 'linux': 152,\n",
       " 'osi': 147,\n",
       " 'backend': 146,\n",
       " 'docker': 128,\n",
       " 'json': 120,\n",
       " 'azure': 106,\n",
       " 'aws': 101,\n",
       " 'data structures': 99,\n",
       " 'postgres': 97,\n",
       " 'security': 90,\n",
       " 'oracle': 81,\n",
       " 'algebra': 72,\n",
       " 'spark': 71,\n",
       " 'sas': 70,\n",
       " 's3': 63,\n",
       " 'frontend': 61,\n",
       " 'san': 60,\n",
       " 'statistics': 51,\n",
       " 'jwt': 51,\n",
       " 'sqlite': 51,\n",
       " 'scripting': 47,\n",
       " 'scikit': 47,\n",
       " 'sql server': 41,\n",
       " 'shell': 38,\n",
       " 'web scraping': 36,\n",
       " 'oracle sql': 34,\n",
       " 'functional': 32,\n",
       " 'ruby': 32,\n",
       " 'sap': 32,\n",
       " 'eclipse': 31,\n",
       " 'redis': 29,\n",
       " 'arrow': 29,\n",
       " 'tableau': 28,\n",
       " 'ssh': 26,\n",
       " 'excel': 24,\n",
       " 'mpp': 24,\n",
       " 'ssl': 24,\n",
       " 'etl': 22,\n",
       " 'numpy': 22,\n",
       " 'data visualization': 21,\n",
       " 'scala': 20,\n",
       " 'mathematics': 20,\n",
       " 'time series': 19,\n",
       " 'devops': 18,\n",
       " 'jupyter': 17,\n",
       " 'computer vision': 17,\n",
       " 'yarn': 17,\n",
       " 'oauth': 17,\n",
       " 'concur': 17,\n",
       " 'hadoop': 16,\n",
       " 'nosql': 16,\n",
       " 'google cloud': 16,\n",
       " 'elasticsearch': 16,\n",
       " 'microservices': 16,\n",
       " 'selenium': 15,\n",
       " 'bash': 14,\n",
       " 'anaconda': 13,\n",
       " 'hive': 11,\n",
       " 'encryption': 11,\n",
       " 'tomcat': 11,\n",
       " 'circleci': 11,\n",
       " 'pattern recognition': 11,\n",
       " 'phoenix': 11,\n",
       " 'kafka': 10,\n",
       " 'kubernetes': 10,\n",
       " 'vertica': 10,\n",
       " 'agile': 9,\n",
       " 'cassandra': 9,\n",
       " 'storm': 9,\n",
       " 'probability': 9,\n",
       " 'calculus': 9,\n",
       " 'iam': 8,\n",
       " 'pig': 7,\n",
       " 'maven': 7,\n",
       " 'cron': 7,\n",
       " 'jdbc': 7,\n",
       " 'kudu': 6,\n",
       " 'snowflake': 5,\n",
       " 'powershell': 5,\n",
       " 'data cleaning': 5,\n",
       " 'map reduce': 5,\n",
       " 'sandbox': 5,\n",
       " 'scrum': 4,\n",
       " 'zookeeper': 3,\n",
       " 'business intelligence': 2,\n",
       " 'data warehouse': 2,\n",
       " 'hdfs': 2,\n",
       " 'quicksight': 2,\n",
       " 'soa': 2,\n",
       " 'drill': 2,\n",
       " 'hbase': 1,\n",
       " 'project management': 1,\n",
       " 'jenkins': 1,\n",
       " 'mapreduce': 1,\n",
       " 'powerbi': 1,\n",
       " 'transact-sql': 1,\n",
       " 'gdpr': 1,\n",
       " 'hue': 1,\n",
       " 'rapidminer': 1,\n",
       " 'tensor flow': 1,\n",
       " 'haskell': 1,\n",
       " 'redshift': 0,\n",
       " 'airflow': 0,\n",
       " 'data pipeline': 0,\n",
       " 'data lake': 0,\n",
       " 'data architecture': 0,\n",
       " 'impala': 0,\n",
       " 'flink': 0,\n",
       " 'luigi': 0,\n",
       " 'oozie': 0,\n",
       " 'apache nifi': 0,\n",
       " 'presto': 0,\n",
       " 'azure data factory': 0,\n",
       " 'sqoop': 0,\n",
       " 'flume': 0,\n",
       " 'apache beam': 0,\n",
       " 'ssas': 0,\n",
       " 'data wrangling': 0,\n",
       " 'solr': 0,\n",
       " 'kerberos': 0,\n",
       " 'mahout': 0,\n",
       " 'scipy': 0,\n",
       " 'microsoft power bi': 0,\n",
       " 'mllib': 0,\n",
       " 'sparksql': 0,\n",
       " 'apache crunch': 0,\n",
       " 'wms': 0,\n",
       " 'knime': 0,\n",
       " 'greenplum': 0,\n",
       " 'ambari': 0,\n",
       " 'identity access management': 0,\n",
       " 'lucene': 0,\n",
       " 'jetty': 0,\n",
       " 'heron': 0}"
      ]
     },
     "execution_count": 48,
     "metadata": {},
     "output_type": "execute_result"
    }
   ],
   "source": [
    "frequency"
   ]
  },
  {
   "cell_type": "code",
   "execution_count": 121,
   "id": "b7e5bc4c",
   "metadata": {},
   "outputs": [],
   "source": [
    "top10_skills = dict()\n",
    "i = 0\n",
    "for skill  in frequency:\n",
    "    \n",
    "    top10_skills[skill] = frequency[skill]\n",
    "    \n",
    "    i += 1\n",
    "    if i == 15:\n",
    "        break"
   ]
  },
  {
   "cell_type": "code",
   "execution_count": 122,
   "id": "1db65d67",
   "metadata": {},
   "outputs": [
    {
     "data": {
      "text/plain": [
       "{'python': 3759,\n",
       " 'java': 2315,\n",
       " 'programming': 2138,\n",
       " 'react': 1597,\n",
       " 'django': 1374,\n",
       " 'javascript': 1361,\n",
       " 'ide': 1174,\n",
       " 'angular': 731,\n",
       " 'css': 723,\n",
       " 'sql': 659,\n",
       " 'html': 518,\n",
       " 'web development': 480,\n",
       " 'machine learning': 477,\n",
       " 'git': 470,\n",
       " 'rest': 466}"
      ]
     },
     "execution_count": 122,
     "metadata": {},
     "output_type": "execute_result"
    }
   ],
   "source": [
    "top10_skills"
   ]
  },
  {
   "cell_type": "code",
   "execution_count": 123,
   "id": "d3caac48",
   "metadata": {},
   "outputs": [
    {
     "data": {
      "image/png": "[encoded data removed]",
      "text/plain": [
       "<Figure size 1440x360 with 1 Axes>"
      ]
     },
     "metadata": {},
     "output_type": "display_data"
    }
   ],
   "source": [
    "y_pos = np.arange(15)\n",
    "fig, ax = plt.subplots()\n",
    "\n",
    "\n",
    "ax.barh(y_pos, top10_skills.values())\n",
    "ax.set_yticks(y_pos)\n",
    "ax.set_yticklabels(top10_skills.keys())\n",
    "ax.invert_yaxis()  # labels read top-to-bottom\n",
    "ax.set_xlabel('Count')\n",
    "ax.set_title('The top 10 trending skills')\n",
    "\n",
    "plt.show()"
   ]
  },
  {
   "cell_type": "markdown",
   "id": "27566163",
   "metadata": {},
   "source": [
    "# The next step  <a class='anchor' id='chaptern'>"
   ]
  },
  {
   "cell_type": "code",
   "execution_count": 155,
   "id": "8c16f2e7",
   "metadata": {},
   "outputs": [
    {
     "data": {
      "text/plain": [
       "160"
      ]
     },
     "execution_count": 155,
     "metadata": {},
     "output_type": "execute_result"
    }
   ],
   "source": [
    "len(frequency)"
   ]
  },
  {
   "cell_type": "code",
   "execution_count": null,
   "id": "239715fb",
   "metadata": {},
   "outputs": [],
   "source": []
  }
 ],
 "metadata": {
  "kernelspec": {
   "display_name": "Python 3",
   "language": "python",
   "name": "python3"
  },
  "language_info": {
   "codemirror_mode": {
    "name": "ipython",
    "version": 3
   },
   "file_extension": ".py",
   "mimetype": "text/x-python",
   "name": "python",
   "nbconvert_exporter": "python",
   "pygments_lexer": "ipython3",
   "version": "3.8.10"
  }
 },
 "nbformat": 4,
 "nbformat_minor": 5
}
