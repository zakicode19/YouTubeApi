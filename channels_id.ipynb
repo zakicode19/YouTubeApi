{
 "cells": [
  {
   "cell_type": "markdown",
   "metadata": {
    "id": "SCPcYSV8Jt1T"
   },
   "source": [
    "# How to find a YouTube channel Id?\n",
    "\n",
    "One way to get a channel Id is to go through the source code of youtube channel page and look for Id. [You can check this post](https://stackoverflow.com/questions/14366648/how-can-i-get-a-channel-id-from-youtube).   \n",
    "Now imagine that you want to retrieve the IDs for a list of youtube channels, which can include one, two or several hundred youtube channels.  Then you should look for a better solution.   \n",
    "An alternative solution is to use the YouTube API, if in the first place we need the id to use it, but we can work around to get the id of the channel, using the [`search`](https://developers.google.com/youtube/v3/guides/implementation/search) requests and the name of the channel. Drawback of this approach, it can return more than one result because the names of the channel are not necessarily unique. In addition, each search request costs 100 units, which can be an issue considering that the quota limit is 10,000 units per day ([quota usage](https://developers.google.com/youtube/v3/getting-started?hl=en#quota)).\n",
    " \n"
   ]
  },
  {
   "cell_type": "code",
   "execution_count": 38,
   "metadata": {
    "id": "JtZLnCAeZi7d"
   },
   "outputs": [],
   "source": [
    "from googleapiclient.discovery import build\n",
    "import pandas as pd\n",
    "import json\n",
    "from dotenv import load_dotenv\n",
    "import os"
   ]
  },
  {
   "cell_type": "markdown",
   "metadata": {},
   "source": [
    "## Load the data\n",
    "\n",
    "First, we load a dataset of the youtube channels which we are looking for the IDs. The dataset was scraped from [Top Programmer Guru](https://noonies.tech/award/top-programming-guru) web page using the framework [`selenium`](https://github.com/SeleniumHQ/). The code is avaible [here](https://github.com/zakicode19/YouTubeApi/blob/main/web_scraping.py)"
   ]
  },
  {
   "cell_type": "code",
   "execution_count": 3,
   "metadata": {
    "id": "kpeL7xdhaBDQ"
   },
   "outputs": [],
   "source": [
    "channelList = pd.read_csv('data/top-programming-guru.csv', index_col=0)"
   ]
  },
  {
   "cell_type": "code",
   "execution_count": 10,
   "metadata": {
    "colab": {
     "base_uri": "https://localhost:8080/",
     "height": 206
    },
    "id": "O-8PwpdbaVcP",
    "outputId": "bcf621e8-8fd5-49cb-b20e-c0e76bdf3f6e"
   },
   "outputs": [
    {
     "data": {
      "text/html": [
       "<div>\n",
       "<style scoped>\n",
       "    .dataframe tbody tr th:only-of-type {\n",
       "        vertical-align: middle;\n",
       "    }\n",
       "\n",
       "    .dataframe tbody tr th {\n",
       "        vertical-align: top;\n",
       "    }\n",
       "\n",
       "    .dataframe thead th {\n",
       "        text-align: right;\n",
       "    }\n",
       "</style>\n",
       "<table border=\"1\" class=\"dataframe\">\n",
       "  <thead>\n",
       "    <tr style=\"text-align: right;\">\n",
       "      <th></th>\n",
       "      <th>channelName</th>\n",
       "      <th>url</th>\n",
       "    </tr>\n",
       "  </thead>\n",
       "  <tbody>\n",
       "    <tr>\n",
       "      <th>0</th>\n",
       "      <td>Programming with Mosh</td>\n",
       "      <td>https://www.youtube.com/c/programmingwithmosh/...</td>\n",
       "    </tr>\n",
       "    <tr>\n",
       "      <th>1</th>\n",
       "      <td>Traversy Media</td>\n",
       "      <td>https://www.youtube.com/user/TechGuyWeb</td>\n",
       "    </tr>\n",
       "    <tr>\n",
       "      <th>2</th>\n",
       "      <td>Corey Schafer</td>\n",
       "      <td>https://www.youtube.com/user/schafer5</td>\n",
       "    </tr>\n",
       "    <tr>\n",
       "      <th>3</th>\n",
       "      <td>Tech With Tim</td>\n",
       "      <td>https://m.youtube.com/channel/UC4JX40jDee_tINb...</td>\n",
       "    </tr>\n",
       "    <tr>\n",
       "      <th>4</th>\n",
       "      <td>Krish Naik</td>\n",
       "      <td>https://www.youtube.com/user/krishnaik06/playl...</td>\n",
       "    </tr>\n",
       "  </tbody>\n",
       "</table>\n",
       "</div>"
      ],
      "text/plain": [
       "             channelName                                                url\n",
       "0  Programming with Mosh  https://www.youtube.com/c/programmingwithmosh/...\n",
       "1         Traversy Media            https://www.youtube.com/user/TechGuyWeb\n",
       "2          Corey Schafer              https://www.youtube.com/user/schafer5\n",
       "3          Tech With Tim  https://m.youtube.com/channel/UC4JX40jDee_tINb...\n",
       "4             Krish Naik  https://www.youtube.com/user/krishnaik06/playl..."
      ]
     },
     "execution_count": 10,
     "metadata": {},
     "output_type": "execute_result"
    }
   ],
   "source": [
    "channelList.head()"
   ]
  },
  {
   "cell_type": "code",
   "execution_count": 6,
   "metadata": {},
   "outputs": [
    {
     "data": {
      "text/plain": [
       "(71, 2)"
      ]
     },
     "execution_count": 6,
     "metadata": {},
     "output_type": "execute_result"
    }
   ],
   "source": [
    "channelList.shape"
   ]
  },
  {
   "cell_type": "code",
   "execution_count": null,
   "metadata": {
    "id": "j1XPt939ayCB"
   },
   "outputs": [],
   "source": [
    "# we store channels title in list\n",
    "channels = channelList.channelName.values"
   ]
  },
  {
   "cell_type": "code",
   "execution_count": null,
   "metadata": {
    "colab": {
     "base_uri": "https://localhost:8080/"
    },
    "id": "GUvGqlgOb1ij",
    "outputId": "6197a497-4759-41ed-b30e-94204a0fd855"
   },
   "outputs": [
    {
     "data": {
      "text/plain": [
       "71"
      ]
     },
     "execution_count": 16,
     "metadata": {
      "tags": []
     },
     "output_type": "execute_result"
    }
   ],
   "source": [
    "len(channels)"
   ]
  },
  {
   "cell_type": "markdown",
   "metadata": {},
   "source": [
    "### Clean the data\n",
    "\n",
    "we going to check if theyre in any duplicate,"
   ]
  },
  {
   "cell_type": "code",
   "execution_count": 7,
   "metadata": {
    "scrolled": true
   },
   "outputs": [
    {
     "data": {
      "text/plain": [
       "Michael Reeves    2\n",
       "Name: channelName, dtype: int64"
      ]
     },
     "execution_count": 7,
     "metadata": {},
     "output_type": "execute_result"
    }
   ],
   "source": [
    "channelList.channelName.value_counts()[channelList.channelName.value_counts()>1]"
   ]
  },
  {
   "cell_type": "markdown",
   "metadata": {},
   "source": [
    "we find one duplicate, we are to remove it"
   ]
  },
  {
   "cell_type": "code",
   "execution_count": 12,
   "metadata": {},
   "outputs": [],
   "source": [
    "channelList.drop_duplicates(subset='channelName',ignore_index=True, inplace=True)"
   ]
  },
  {
   "cell_type": "code",
   "execution_count": 34,
   "metadata": {
    "scrolled": true
   },
   "outputs": [
    {
     "data": {
      "text/plain": [
       "https://www.youtube.com/channel/UC2WHjPDvbE6O328n17ZGcfg    1\n",
       "https://www.youtube.com/c/DennisIvy                         1\n",
       "https://www.youtube.com/c/Telusko                           1\n",
       "https://www.youtube.com/channel/UCpQ9kTWohSlFgXIKJmFc4kA    1\n",
       "https://www.youtube.com/channel/UCWr0mx597DnSGLFk1WfvSkQ    1\n",
       "Name: url, dtype: int64"
      ]
     },
     "execution_count": 34,
     "metadata": {},
     "output_type": "execute_result"
    }
   ],
   "source": [
    "channelList.url.value_counts().head()"
   ]
  },
  {
   "cell_type": "code",
   "execution_count": 14,
   "metadata": {},
   "outputs": [],
   "source": [
    "duplicate_url = channelList.url.value_counts()[channelList.url.value_counts()>1].index"
   ]
  },
  {
   "cell_type": "code",
   "execution_count": 15,
   "metadata": {
    "scrolled": true
   },
   "outputs": [
    {
     "data": {
      "text/plain": [
       "Index(['https://www.youtube.com/c/Telusko', 'https://www.youtube.com/c/HusseinNasser-software-engineering'], dtype='object')"
      ]
     },
     "execution_count": 15,
     "metadata": {},
     "output_type": "execute_result"
    }
   ],
   "source": [
    "duplicate_url"
   ]
  },
  {
   "cell_type": "code",
   "execution_count": 17,
   "metadata": {
    "scrolled": true
   },
   "outputs": [
    {
     "data": {
      "text/html": [
       "<div>\n",
       "<style scoped>\n",
       "    .dataframe tbody tr th:only-of-type {\n",
       "        vertical-align: middle;\n",
       "    }\n",
       "\n",
       "    .dataframe tbody tr th {\n",
       "        vertical-align: top;\n",
       "    }\n",
       "\n",
       "    .dataframe thead th {\n",
       "        text-align: right;\n",
       "    }\n",
       "</style>\n",
       "<table border=\"1\" class=\"dataframe\">\n",
       "  <thead>\n",
       "    <tr style=\"text-align: right;\">\n",
       "      <th></th>\n",
       "      <th>channelName</th>\n",
       "      <th>url</th>\n",
       "    </tr>\n",
       "  </thead>\n",
       "  <tbody>\n",
       "    <tr>\n",
       "      <th>10</th>\n",
       "      <td>naveen Reddy</td>\n",
       "      <td>https://www.youtube.com/c/Telusko</td>\n",
       "    </tr>\n",
       "    <tr>\n",
       "      <th>27</th>\n",
       "      <td>Telusko</td>\n",
       "      <td>https://www.youtube.com/c/Telusko</td>\n",
       "    </tr>\n",
       "    <tr>\n",
       "      <th>44</th>\n",
       "      <td>Keith Galli</td>\n",
       "      <td>https://www.youtube.com/c/Telusko</td>\n",
       "    </tr>\n",
       "  </tbody>\n",
       "</table>\n",
       "</div>"
      ],
      "text/plain": [
       "     channelName                                url\n",
       "10  naveen Reddy  https://www.youtube.com/c/Telusko\n",
       "27       Telusko  https://www.youtube.com/c/Telusko\n",
       "44   Keith Galli  https://www.youtube.com/c/Telusko"
      ]
     },
     "execution_count": 17,
     "metadata": {},
     "output_type": "execute_result"
    }
   ],
   "source": [
    "channelList[channelList.url == duplicate_url[0]]"
   ]
  },
  {
   "cell_type": "markdown",
   "metadata": {},
   "source": [
    "We fund three channel have the same url, afer quick search in YouTube, we funded that `naveeb Reddy` and `Telusko` should refere to same channel the one animated by `Navin Reddy`.    for [`Keith Galli`](https://www.youtube.com/c/KGMIT/featured) channel we going to look in YouTube for the correct url."
   ]
  },
  {
   "cell_type": "code",
   "execution_count": 21,
   "metadata": {},
   "outputs": [],
   "source": [
    "channelList.loc[44, 'url'] = 'https://www.youtube.com/c/KGMIT/featured'"
   ]
  },
  {
   "cell_type": "code",
   "execution_count": 22,
   "metadata": {
    "scrolled": true
   },
   "outputs": [
    {
     "data": {
      "text/html": [
       "<div>\n",
       "<style scoped>\n",
       "    .dataframe tbody tr th:only-of-type {\n",
       "        vertical-align: middle;\n",
       "    }\n",
       "\n",
       "    .dataframe tbody tr th {\n",
       "        vertical-align: top;\n",
       "    }\n",
       "\n",
       "    .dataframe thead th {\n",
       "        text-align: right;\n",
       "    }\n",
       "</style>\n",
       "<table border=\"1\" class=\"dataframe\">\n",
       "  <thead>\n",
       "    <tr style=\"text-align: right;\">\n",
       "      <th></th>\n",
       "      <th>channelName</th>\n",
       "      <th>url</th>\n",
       "    </tr>\n",
       "  </thead>\n",
       "  <tbody>\n",
       "    <tr>\n",
       "      <th>26</th>\n",
       "      <td>Ben Awad</td>\n",
       "      <td>https://www.youtube.com/c/HusseinNasser-softwa...</td>\n",
       "    </tr>\n",
       "    <tr>\n",
       "      <th>29</th>\n",
       "      <td>Hussein Nasser</td>\n",
       "      <td>https://www.youtube.com/c/HusseinNasser-softwa...</td>\n",
       "    </tr>\n",
       "  </tbody>\n",
       "</table>\n",
       "</div>"
      ],
      "text/plain": [
       "       channelName                                                url\n",
       "26        Ben Awad  https://www.youtube.com/c/HusseinNasser-softwa...\n",
       "29  Hussein Nasser  https://www.youtube.com/c/HusseinNasser-softwa..."
      ]
     },
     "execution_count": 22,
     "metadata": {},
     "output_type": "execute_result"
    }
   ],
   "source": [
    "channelList[channelList.url == duplicate_url[1]]"
   ]
  },
  {
   "cell_type": "code",
   "execution_count": 23,
   "metadata": {},
   "outputs": [],
   "source": [
    "channelList.loc[26, 'url'] = 'https://www.youtube.com/c/BenAwad97/featured'"
   ]
  },
  {
   "cell_type": "code",
   "execution_count": 24,
   "metadata": {},
   "outputs": [],
   "source": [
    "channelList.drop_duplicates(subset='url',ignore_index=True, inplace=True)"
   ]
  },
  {
   "cell_type": "markdown",
   "metadata": {},
   "source": [
    "let's check that thery no more duplicate"
   ]
  },
  {
   "cell_type": "code",
   "execution_count": 26,
   "metadata": {},
   "outputs": [
    {
     "data": {
      "text/plain": [
       "Series([], Name: url, dtype: int64)"
      ]
     },
     "execution_count": 26,
     "metadata": {},
     "output_type": "execute_result"
    }
   ],
   "source": [
    "channelList.url.value_counts()[channelList.url.value_counts()>1]"
   ]
  },
  {
   "cell_type": "code",
   "execution_count": 27,
   "metadata": {
    "scrolled": true
   },
   "outputs": [
    {
     "data": {
      "text/plain": [
       "channelName                         naveen Reddy\n",
       "url            https://www.youtube.com/c/Telusko\n",
       "Name: 10, dtype: object"
      ]
     },
     "execution_count": 27,
     "metadata": {},
     "output_type": "execute_result"
    }
   ],
   "source": [
    "channelList.loc[10]"
   ]
  },
  {
   "cell_type": "code",
   "execution_count": 28,
   "metadata": {},
   "outputs": [],
   "source": [
    "channelList.loc[10, 'channelName'] = 'Telusko'"
   ]
  },
  {
   "cell_type": "code",
   "execution_count": 35,
   "metadata": {
    "colab": {
     "base_uri": "https://localhost:8080/"
    },
    "id": "K8QFPNX2bV09",
    "outputId": "bc0acddf-5940-4d68-afad-885aee18a46b"
   },
   "outputs": [
    {
     "name": "stdout",
     "output_type": "stream",
     "text": [
      "Programming with Mosh\n"
     ]
    }
   ],
   "source": [
    "channels = channelList.channelName.values\n",
    "# display the first element in the channel list\n",
    "for channel in channels:\n",
    "  print(channel)\n",
    "  break"
   ]
  },
  {
   "cell_type": "markdown",
   "metadata": {},
   "source": [
    "### Save the data\n",
    "After removing the duplicate rows, we save the clean data in a new `csv` file.  "
   ]
  },
  {
   "cell_type": "code",
   "execution_count": 36,
   "metadata": {},
   "outputs": [],
   "source": [
    "channelList.to_csv('data/channelListDB.csv')"
   ]
  },
  {
   "cell_type": "markdown",
   "metadata": {},
   "source": [
    "## Load the API key"
   ]
  },
  {
   "cell_type": "code",
   "execution_count": 39,
   "metadata": {
    "id": "E9LPNn1fbcz3"
   },
   "outputs": [],
   "source": [
    "load_dotenv()\n",
    "API_KEY = os.getenv('api_key')\n",
    "youtube = build('youtube', 'v3', developerKey=API_KEY)"
   ]
  },
  {
   "cell_type": "code",
   "execution_count": 40,
   "metadata": {
    "colab": {
     "base_uri": "https://localhost:8080/"
    },
    "id": "MBsjkh5gcNZQ",
    "outputId": "5ee645b8-3f6a-4a20-b14f-d12bb5fa1eea",
    "scrolled": false
   },
   "outputs": [
    {
     "name": "stdout",
     "output_type": "stream",
     "text": [
      "{'kind': 'youtube#searchListResponse', 'etag': 'IfcXFVgGPbXTBsiNvJxEUL5bRQc', 'nextPageToken': 'CAEQAA', 'regionCode': 'FR', 'pageInfo': {'totalResults': 486, 'resultsPerPage': 1}, 'items': [{'kind': 'youtube#searchResult', 'etag': 'eSs5ajE3khouGH5oJIw5TATLdYw', 'id': {'kind': 'youtube#channel', 'channelId': 'UCWv7vMbMWH4-V0ZXdmDpPBA'}, 'snippet': {'publishedAt': '2014-10-07T00:40:53Z', 'channelId': 'UCWv7vMbMWH4-V0ZXdmDpPBA', 'title': 'Programming with Mosh', 'description': 'I train professional software engineers that companies love to hire. My courses: http://codewithmosh.com My blog: http://programmingwithmosh.com Connect on ...', 'thumbnails': {'default': {'url': 'https://yt3.ggpht.com/ytc/AAUvwnj82Lirw0dg6V5pJWAcWdG22OESyldUcDwAFEqQWg=s88-c-k-c0xffffffff-no-rj-mo'}, 'medium': {'url': 'https://yt3.ggpht.com/ytc/AAUvwnj82Lirw0dg6V5pJWAcWdG22OESyldUcDwAFEqQWg=s240-c-k-c0xffffffff-no-rj-mo'}, 'high': {'url': 'https://yt3.ggpht.com/ytc/AAUvwnj82Lirw0dg6V5pJWAcWdG22OESyldUcDwAFEqQWg=s800-c-k-c0xffffffff-no-rj-mo'}}, 'channelTitle': 'Programming with Mosh', 'liveBroadcastContent': 'upcoming', 'publishTime': '2014-10-07T00:40:53Z'}}]}\n"
     ]
    }
   ],
   "source": [
    "request = youtube.search().list(\n",
    "        part=\"snippet\",\n",
    "        maxResults=1, # limit the search to one result\n",
    "        q=\"Programming with Mosh\",\n",
    "        type=\"channel\", # we going to look only for a youtube channels\n",
    "    )\n",
    "response = request.execute()\n",
    "print(response)"
   ]
  },
  {
   "cell_type": "code",
   "execution_count": 45,
   "metadata": {},
   "outputs": [
    {
     "data": {
      "text/plain": [
       "'{\\n    \"publishedAt\": \"2014-10-07T00:40:53Z\",\\n    \"channelId\": \"UCWv7vMbMWH4-V0ZXdmDpPBA\",\\n    \"title\": \"Programming with Mosh\",\\n    \"description\": \"I train professional software engineers that companies love to hire. My courses: http://codewithmosh.com My blog: http://programmingwithmosh.com Connect on ...\",\\n    \"thumbnails\": {\\n        \"default\": {\\n            \"url\": \"https://yt3.ggpht.com/ytc/AAUvwnj82Lirw0dg6V5pJWAcWdG22OESyldUcDwAFEqQWg=s88-c-k-c0xffffffff-no-rj-mo\"\\n        },\\n        \"medium\": {\\n            \"url\": \"https://yt3.ggpht.com/ytc/AAUvwnj82Lirw0dg6V5pJWAcWdG22OESyldUcDwAFEqQWg=s240-c-k-c0xffffffff-no-rj-mo\"\\n        },\\n        \"high\": {\\n            \"url\": \"https://yt3.ggpht.com/ytc/AAUvwnj82Lirw0dg6V5pJWAcWdG22OESyldUcDwAFEqQWg=s800-c-k-c0xffffffff-no-rj-mo\"\\n        }\\n    },\\n    \"channelTitle\": \"Programming with Mosh\",\\n    \"liveBroadcastContent\": \"upcoming\",\\n    \"publishTime\": \"2014-10-07T00:40:53Z\"\\n}'"
      ]
     },
     "execution_count": 45,
     "metadata": {},
     "output_type": "execute_result"
    }
   ],
   "source": [
    "json.dumps(response['items'][0]['snippet'],indent=4)"
   ]
  },
  {
   "cell_type": "code",
   "execution_count": 46,
   "metadata": {
    "colab": {
     "base_uri": "https://localhost:8080/",
     "height": 35
    },
    "id": "gCCzaac7eir7",
    "outputId": "2f143946-6373-48a4-98a7-34e5b171bdbf",
    "scrolled": true
   },
   "outputs": [
    {
     "data": {
      "text/plain": [
       "'\"UCWv7vMbMWH4-V0ZXdmDpPBA\"'"
      ]
     },
     "execution_count": 46,
     "metadata": {},
     "output_type": "execute_result"
    }
   ],
   "source": [
    "json.dumps(response['items'][0]['snippet']['channelId'], indent=4)"
   ]
  },
  {
   "cell_type": "markdown",
   "metadata": {},
   "source": [
    "### Display the result of the first request"
   ]
  },
  {
   "cell_type": "code",
   "execution_count": 47,
   "metadata": {
    "colab": {
     "base_uri": "https://localhost:8080/"
    },
    "id": "hzbYr-SIfFqV",
    "outputId": "e54ee4c5-038a-48ea-e0c7-985c3218bb3b"
   },
   "outputs": [
    {
     "name": "stdout",
     "output_type": "stream",
     "text": [
      "Programming with Mosh\n",
      "UCWv7vMbMWH4-V0ZXdmDpPBA\n",
      "youtube#channel\n",
      "**********\n"
     ]
    }
   ],
   "source": [
    "for item in response['items']:\n",
    "    print(item['snippet']['title'])\n",
    "    print(item['snippet']['channelId'])\n",
    "    print(item['id']['kind'])\n",
    "    print('*' * 10)"
   ]
  },
  {
   "cell_type": "markdown",
   "metadata": {},
   "source": [
    "### Initialize dictionary to store the results"
   ]
  },
  {
   "cell_type": "code",
   "execution_count": 48,
   "metadata": {
    "id": "56EvjwTjfZYH"
   },
   "outputs": [],
   "source": [
    "data = {'channelName': [], 'title': [], 'id':[], 'kind':[]}"
   ]
  },
  {
   "cell_type": "code",
   "execution_count": 49,
   "metadata": {
    "id": "fNktO2AVjHp8"
   },
   "outputs": [],
   "source": [
    "id = response['items'][0]['snippet']['channelId']\n",
    "title = response['items'][0]['snippet']['title']\n",
    "kind = response['items'][0]['id']['kind']"
   ]
  },
  {
   "cell_type": "code",
   "execution_count": 50,
   "metadata": {
    "colab": {
     "base_uri": "https://localhost:8080/",
     "height": 35
    },
    "id": "dpdfdNVzjQ3A",
    "outputId": "3f691a49-cb4b-4a77-9173-c145ecd997b5"
   },
   "outputs": [
    {
     "data": {
      "text/plain": [
       "'Programming with Mosh'"
      ]
     },
     "execution_count": 50,
     "metadata": {},
     "output_type": "execute_result"
    }
   ],
   "source": [
    "channel"
   ]
  },
  {
   "cell_type": "code",
   "execution_count": 51,
   "metadata": {
    "id": "BKyiZZ2Ljazk"
   },
   "outputs": [],
   "source": [
    "data['channelName'].append(channel)\n",
    "data['title'].append(title)\n",
    "data['id'].append(id)\n",
    "data['kind'].append(kind)"
   ]
  },
  {
   "cell_type": "code",
   "execution_count": 52,
   "metadata": {
    "colab": {
     "base_uri": "https://localhost:8080/"
    },
    "id": "ZQGRqxbnkBVE",
    "outputId": "90c367ca-4a40-4681-e4c7-576249950d70"
   },
   "outputs": [
    {
     "data": {
      "text/plain": [
       "{'channelName': ['Programming with Mosh'],\n",
       " 'title': ['Programming with Mosh'],\n",
       " 'id': ['UCWv7vMbMWH4-V0ZXdmDpPBA'],\n",
       " 'kind': ['youtube#channel']}"
      ]
     },
     "execution_count": 52,
     "metadata": {},
     "output_type": "execute_result"
    }
   ],
   "source": [
    "data"
   ]
  },
  {
   "cell_type": "markdown",
   "metadata": {},
   "source": [
    "### Retrive the Id for each channel in dataset"
   ]
  },
  {
   "cell_type": "code",
   "execution_count": 53,
   "metadata": {
    "id": "nwA5ooMEkKXx"
   },
   "outputs": [],
   "source": [
    "for channel in channels[1:]:\n",
    "\n",
    "  request = youtube.search().list(\n",
    "        part=\"snippet\",\n",
    "        maxResults=1,\n",
    "        q=channel,\n",
    "        type=\"channel\"\n",
    "    )\n",
    "  \n",
    "  response = request.execute()\n",
    "\n",
    "  id = response['items'][0]['snippet']['channelId']\n",
    "  title = response['items'][0]['snippet']['title']\n",
    "  kind = response['items'][0]['id']['kind']\n",
    "\n",
    "  data['channelName'].append(channel)\n",
    "  data['title'].append(title)\n",
    "  data['id'].append(id)\n",
    "  data['kind'].append(kind)"
   ]
  },
  {
   "cell_type": "code",
   "execution_count": null,
   "metadata": {
    "id": "79bD4GCwk0gt",
    "scrolled": true
   },
   "outputs": [],
   "source": [
    "data"
   ]
  },
  {
   "cell_type": "code",
   "execution_count": 55,
   "metadata": {
    "id": "v-gArCmuk54Q"
   },
   "outputs": [],
   "source": [
    "df = pd.DataFrame.from_dict(data)"
   ]
  },
  {
   "cell_type": "code",
   "execution_count": 56,
   "metadata": {
    "colab": {
     "base_uri": "https://localhost:8080/",
     "height": 206
    },
    "id": "yVjjv2PTlOfV",
    "outputId": "146e8aa9-f7c6-4d62-e813-4964838be393"
   },
   "outputs": [
    {
     "data": {
      "text/html": [
       "<div>\n",
       "<style scoped>\n",
       "    .dataframe tbody tr th:only-of-type {\n",
       "        vertical-align: middle;\n",
       "    }\n",
       "\n",
       "    .dataframe tbody tr th {\n",
       "        vertical-align: top;\n",
       "    }\n",
       "\n",
       "    .dataframe thead th {\n",
       "        text-align: right;\n",
       "    }\n",
       "</style>\n",
       "<table border=\"1\" class=\"dataframe\">\n",
       "  <thead>\n",
       "    <tr style=\"text-align: right;\">\n",
       "      <th></th>\n",
       "      <th>channelName</th>\n",
       "      <th>title</th>\n",
       "      <th>id</th>\n",
       "      <th>kind</th>\n",
       "    </tr>\n",
       "  </thead>\n",
       "  <tbody>\n",
       "    <tr>\n",
       "      <th>0</th>\n",
       "      <td>Programming with Mosh</td>\n",
       "      <td>Programming with Mosh</td>\n",
       "      <td>UCWv7vMbMWH4-V0ZXdmDpPBA</td>\n",
       "      <td>youtube#channel</td>\n",
       "    </tr>\n",
       "    <tr>\n",
       "      <th>1</th>\n",
       "      <td>Traversy Media</td>\n",
       "      <td>Traversy Media</td>\n",
       "      <td>UC29ju8bIPH5as8OGnQzwJyA</td>\n",
       "      <td>youtube#channel</td>\n",
       "    </tr>\n",
       "    <tr>\n",
       "      <th>2</th>\n",
       "      <td>Corey Schafer</td>\n",
       "      <td>Corey Schafer</td>\n",
       "      <td>UCCezIgC97PvUuR4_gbFUs5g</td>\n",
       "      <td>youtube#channel</td>\n",
       "    </tr>\n",
       "    <tr>\n",
       "      <th>3</th>\n",
       "      <td>Tech With Tim</td>\n",
       "      <td>Tech With Tim</td>\n",
       "      <td>UC4JX40jDee_tINbkjycV4Sg</td>\n",
       "      <td>youtube#channel</td>\n",
       "    </tr>\n",
       "    <tr>\n",
       "      <th>4</th>\n",
       "      <td>Krish Naik</td>\n",
       "      <td>Krish Naik</td>\n",
       "      <td>UCNU_lfiiWBdtULKOw6X0Dig</td>\n",
       "      <td>youtube#channel</td>\n",
       "    </tr>\n",
       "  </tbody>\n",
       "</table>\n",
       "</div>"
      ],
      "text/plain": [
       "             channelName                  title                        id  \\\n",
       "0  Programming with Mosh  Programming with Mosh  UCWv7vMbMWH4-V0ZXdmDpPBA   \n",
       "1         Traversy Media         Traversy Media  UC29ju8bIPH5as8OGnQzwJyA   \n",
       "2          Corey Schafer          Corey Schafer  UCCezIgC97PvUuR4_gbFUs5g   \n",
       "3          Tech With Tim          Tech With Tim  UC4JX40jDee_tINbkjycV4Sg   \n",
       "4             Krish Naik             Krish Naik  UCNU_lfiiWBdtULKOw6X0Dig   \n",
       "\n",
       "              kind  \n",
       "0  youtube#channel  \n",
       "1  youtube#channel  \n",
       "2  youtube#channel  \n",
       "3  youtube#channel  \n",
       "4  youtube#channel  "
      ]
     },
     "execution_count": 56,
     "metadata": {},
     "output_type": "execute_result"
    }
   ],
   "source": [
    "df.head()"
   ]
  },
  {
   "cell_type": "code",
   "execution_count": 57,
   "metadata": {
    "colab": {
     "base_uri": "https://localhost:8080/"
    },
    "id": "LxfBIQWDlTFo",
    "outputId": "3a5486df-7411-4012-fb3c-078096ee3c03"
   },
   "outputs": [
    {
     "data": {
      "text/plain": [
       "array(['youtube#channel'], dtype=object)"
      ]
     },
     "execution_count": 57,
     "metadata": {},
     "output_type": "execute_result"
    }
   ],
   "source": [
    "df['kind'].unique()"
   ]
  },
  {
   "cell_type": "code",
   "execution_count": 60,
   "metadata": {},
   "outputs": [
    {
     "data": {
      "text/plain": [
       "(69, 4)"
      ]
     },
     "execution_count": 60,
     "metadata": {},
     "output_type": "execute_result"
    }
   ],
   "source": [
    "df.shape"
   ]
  },
  {
   "cell_type": "markdown",
   "metadata": {},
   "source": [
    "Let's check if there is a difference between the channel name and the title."
   ]
  },
  {
   "cell_type": "code",
   "execution_count": 58,
   "metadata": {
    "colab": {
     "base_uri": "https://localhost:8080/"
    },
    "id": "vQkkLr0-lZxm",
    "outputId": "6617fa83-fedf-4fd5-ecc5-3ba50667afac"
   },
   "outputs": [
    {
     "data": {
      "text/plain": [
       "22"
      ]
     },
     "execution_count": 58,
     "metadata": {},
     "output_type": "execute_result"
    }
   ],
   "source": [
    "(df.channelName != df.title).sum()"
   ]
  },
  {
   "cell_type": "markdown",
   "metadata": {},
   "source": [
    "Let's display the rows where the `channelName` and the `title` are different."
   ]
  },
  {
   "cell_type": "code",
   "execution_count": 59,
   "metadata": {
    "colab": {
     "base_uri": "https://localhost:8080/",
     "height": 771
    },
    "id": "kX3HLyWVllDQ",
    "outputId": "be42f35d-14b9-4d4c-fd4a-c20f7c6a67cb",
    "scrolled": false
   },
   "outputs": [
    {
     "data": {
      "text/html": [
       "<div>\n",
       "<style scoped>\n",
       "    .dataframe tbody tr th:only-of-type {\n",
       "        vertical-align: middle;\n",
       "    }\n",
       "\n",
       "    .dataframe tbody tr th {\n",
       "        vertical-align: top;\n",
       "    }\n",
       "\n",
       "    .dataframe thead th {\n",
       "        text-align: right;\n",
       "    }\n",
       "</style>\n",
       "<table border=\"1\" class=\"dataframe\">\n",
       "  <thead>\n",
       "    <tr style=\"text-align: right;\">\n",
       "      <th></th>\n",
       "      <th>channelName</th>\n",
       "      <th>title</th>\n",
       "      <th>id</th>\n",
       "      <th>kind</th>\n",
       "    </tr>\n",
       "  </thead>\n",
       "  <tbody>\n",
       "    <tr>\n",
       "      <th>9</th>\n",
       "      <td>programming Hero</td>\n",
       "      <td>Programming Hero</td>\n",
       "      <td>UCStj-ORBZ7TGK1FwtGAUgbQ</td>\n",
       "      <td>youtube#channel</td>\n",
       "    </tr>\n",
       "    <tr>\n",
       "      <th>11</th>\n",
       "      <td>Code Basics</td>\n",
       "      <td>codebasics</td>\n",
       "      <td>UCh9nVJoWXmFb7sLApWGcLPQ</td>\n",
       "      <td>youtube#channel</td>\n",
       "    </tr>\n",
       "    <tr>\n",
       "      <th>12</th>\n",
       "      <td>Maximilian Schwarzmüller</td>\n",
       "      <td>Academind</td>\n",
       "      <td>UCSJbGtTlrDami-tDGPUV9-w</td>\n",
       "      <td>youtube#channel</td>\n",
       "    </tr>\n",
       "    <tr>\n",
       "      <th>19</th>\n",
       "      <td>Code with Harry</td>\n",
       "      <td>CodeWithHarry</td>\n",
       "      <td>UCeVMnSShP_Iviwkknt83cww</td>\n",
       "      <td>youtube#channel</td>\n",
       "    </tr>\n",
       "    <tr>\n",
       "      <th>22</th>\n",
       "      <td>Tim Corey</td>\n",
       "      <td>IAmTimCorey</td>\n",
       "      <td>UC-ptWR16ITQyYOglXyQmpzw</td>\n",
       "      <td>youtube#channel</td>\n",
       "    </tr>\n",
       "    <tr>\n",
       "      <th>24</th>\n",
       "      <td>WesBos</td>\n",
       "      <td>Wes Bos</td>\n",
       "      <td>UCoebwHSTvwalADTJhps0emA</td>\n",
       "      <td>youtube#channel</td>\n",
       "    </tr>\n",
       "    <tr>\n",
       "      <th>25</th>\n",
       "      <td>Gajesh S. Naik</td>\n",
       "      <td>Gajesh S Naik</td>\n",
       "      <td>UC7PWnwwqMSqAXQkKXqxRkMw</td>\n",
       "      <td>youtube#channel</td>\n",
       "    </tr>\n",
       "    <tr>\n",
       "      <th>33</th>\n",
       "      <td>Scott Hansellman</td>\n",
       "      <td>Scott Hanselman</td>\n",
       "      <td>UCL-fHOdarou-CR2XUmK48Og</td>\n",
       "      <td>youtube#channel</td>\n",
       "    </tr>\n",
       "    <tr>\n",
       "      <th>37</th>\n",
       "      <td>Joma</td>\n",
       "      <td>Joma Tech</td>\n",
       "      <td>UCV0qA-eDDICsRR9rPcnG7tw</td>\n",
       "      <td>youtube#channel</td>\n",
       "    </tr>\n",
       "    <tr>\n",
       "      <th>41</th>\n",
       "      <td>Programming With ERik</td>\n",
       "      <td>Program With Erik</td>\n",
       "      <td>UCshZ3rdoCLjDYuTR_RBubzw</td>\n",
       "      <td>youtube#channel</td>\n",
       "    </tr>\n",
       "    <tr>\n",
       "      <th>42</th>\n",
       "      <td>Forest Knight</td>\n",
       "      <td>ForrestKnight</td>\n",
       "      <td>UC2WHjPDvbE6O328n17ZGcfg</td>\n",
       "      <td>youtube#channel</td>\n",
       "    </tr>\n",
       "    <tr>\n",
       "      <th>47</th>\n",
       "      <td>the coding train</td>\n",
       "      <td>The Coding Train</td>\n",
       "      <td>UCvjgXvBlbQiydffZU7m1_aw</td>\n",
       "      <td>youtube#channel</td>\n",
       "    </tr>\n",
       "    <tr>\n",
       "      <th>48</th>\n",
       "      <td>Angelsix</td>\n",
       "      <td>AngelSix</td>\n",
       "      <td>UCJ3AxeCHGPZkMi3kRfCuiHw</td>\n",
       "      <td>youtube#channel</td>\n",
       "    </tr>\n",
       "    <tr>\n",
       "      <th>53</th>\n",
       "      <td>Prajwal NH</td>\n",
       "      <td>Prajwal N H</td>\n",
       "      <td>UCeSmzr04ZButj0te4PS7azw</td>\n",
       "      <td>youtube#channel</td>\n",
       "    </tr>\n",
       "    <tr>\n",
       "      <th>55</th>\n",
       "      <td>chuck severance</td>\n",
       "      <td>Chuck Severance</td>\n",
       "      <td>UChYfrRp_CWyqOt-ZYJGOgmA</td>\n",
       "      <td>youtube#channel</td>\n",
       "    </tr>\n",
       "    <tr>\n",
       "      <th>57</th>\n",
       "      <td>codingphase</td>\n",
       "      <td>CodingPhase</td>\n",
       "      <td>UC46wWUso9H5KPQcoL9iE3Ug</td>\n",
       "      <td>youtube#channel</td>\n",
       "    </tr>\n",
       "    <tr>\n",
       "      <th>60</th>\n",
       "      <td>Life Of Boris</td>\n",
       "      <td>Life of Boris</td>\n",
       "      <td>UCS5tt2z_DFvG7-39J3aE-bQ</td>\n",
       "      <td>youtube#channel</td>\n",
       "    </tr>\n",
       "    <tr>\n",
       "      <th>62</th>\n",
       "      <td>Abhishek Thakur</td>\n",
       "      <td>Abhishek Thakur</td>\n",
       "      <td>UCBPRJjIWfyNG4X-CRbnv78A</td>\n",
       "      <td>youtube#channel</td>\n",
       "    </tr>\n",
       "    <tr>\n",
       "      <th>63</th>\n",
       "      <td>gaurav sen</td>\n",
       "      <td>Gaurav Sen</td>\n",
       "      <td>UCRPMAqdtSgd0Ipeef7iFsKw</td>\n",
       "      <td>youtube#channel</td>\n",
       "    </tr>\n",
       "    <tr>\n",
       "      <th>65</th>\n",
       "      <td>RealTough Candy</td>\n",
       "      <td>RealToughCandy</td>\n",
       "      <td>UC54NcJvLCvM2CNaBjd5j6HA</td>\n",
       "      <td>youtube#channel</td>\n",
       "    </tr>\n",
       "    <tr>\n",
       "      <th>67</th>\n",
       "      <td>durga software solutions</td>\n",
       "      <td>Durga Software Solutions</td>\n",
       "      <td>UCbjozK_PYCTLEluFlrJ8UZg</td>\n",
       "      <td>youtube#channel</td>\n",
       "    </tr>\n",
       "    <tr>\n",
       "      <th>68</th>\n",
       "      <td>perfect web solutions</td>\n",
       "      <td>Perfect Web Solutions</td>\n",
       "      <td>UCjM2CgqAXgXQuFjJa732IRw</td>\n",
       "      <td>youtube#channel</td>\n",
       "    </tr>\n",
       "  </tbody>\n",
       "</table>\n",
       "</div>"
      ],
      "text/plain": [
       "                 channelName                     title  \\\n",
       "9           programming Hero          Programming Hero   \n",
       "11               Code Basics                codebasics   \n",
       "12  Maximilian Schwarzmüller                 Academind   \n",
       "19           Code with Harry             CodeWithHarry   \n",
       "22                 Tim Corey               IAmTimCorey   \n",
       "24                    WesBos                   Wes Bos   \n",
       "25            Gajesh S. Naik             Gajesh S Naik   \n",
       "33          Scott Hansellman           Scott Hanselman   \n",
       "37                      Joma                 Joma Tech   \n",
       "41     Programming With ERik         Program With Erik   \n",
       "42             Forest Knight             ForrestKnight   \n",
       "47          the coding train          The Coding Train   \n",
       "48                  Angelsix                  AngelSix   \n",
       "53               Prajwal NH                Prajwal N H   \n",
       "55           chuck severance           Chuck Severance   \n",
       "57               codingphase               CodingPhase   \n",
       "60             Life Of Boris             Life of Boris   \n",
       "62          Abhishek Thakur            Abhishek Thakur   \n",
       "63                gaurav sen                Gaurav Sen   \n",
       "65           RealTough Candy            RealToughCandy   \n",
       "67  durga software solutions  Durga Software Solutions   \n",
       "68     perfect web solutions     Perfect Web Solutions   \n",
       "\n",
       "                          id             kind  \n",
       "9   UCStj-ORBZ7TGK1FwtGAUgbQ  youtube#channel  \n",
       "11  UCh9nVJoWXmFb7sLApWGcLPQ  youtube#channel  \n",
       "12  UCSJbGtTlrDami-tDGPUV9-w  youtube#channel  \n",
       "19  UCeVMnSShP_Iviwkknt83cww  youtube#channel  \n",
       "22  UC-ptWR16ITQyYOglXyQmpzw  youtube#channel  \n",
       "24  UCoebwHSTvwalADTJhps0emA  youtube#channel  \n",
       "25  UC7PWnwwqMSqAXQkKXqxRkMw  youtube#channel  \n",
       "33  UCL-fHOdarou-CR2XUmK48Og  youtube#channel  \n",
       "37  UCV0qA-eDDICsRR9rPcnG7tw  youtube#channel  \n",
       "41  UCshZ3rdoCLjDYuTR_RBubzw  youtube#channel  \n",
       "42  UC2WHjPDvbE6O328n17ZGcfg  youtube#channel  \n",
       "47  UCvjgXvBlbQiydffZU7m1_aw  youtube#channel  \n",
       "48  UCJ3AxeCHGPZkMi3kRfCuiHw  youtube#channel  \n",
       "53  UCeSmzr04ZButj0te4PS7azw  youtube#channel  \n",
       "55  UChYfrRp_CWyqOt-ZYJGOgmA  youtube#channel  \n",
       "57  UC46wWUso9H5KPQcoL9iE3Ug  youtube#channel  \n",
       "60  UCS5tt2z_DFvG7-39J3aE-bQ  youtube#channel  \n",
       "62  UCBPRJjIWfyNG4X-CRbnv78A  youtube#channel  \n",
       "63  UCRPMAqdtSgd0Ipeef7iFsKw  youtube#channel  \n",
       "65  UC54NcJvLCvM2CNaBjd5j6HA  youtube#channel  \n",
       "67  UCbjozK_PYCTLEluFlrJ8UZg  youtube#channel  \n",
       "68  UCjM2CgqAXgXQuFjJa732IRw  youtube#channel  "
      ]
     },
     "execution_count": 59,
     "metadata": {},
     "output_type": "execute_result"
    }
   ],
   "source": [
    "df[df.channelName != df.title]"
   ]
  },
  {
   "cell_type": "markdown",
   "metadata": {},
   "source": [
    "There are 22 rows where the value of the `channelName` column is different from the value of the `title` column, One of the reasons is that in the web page [Top Programmer Guru](https://noonies.tech/award/top-programming-guru)  the name of the channel owner is used as `channelName` instead of the official `title`, another reasons is case sensitivity.  \n",
    "We are performing this verification because, as we mentioned at the beginning of the research method, it can return more than one result, so we need to make sure that we get the right channel ID.   \n",
    "We check again the difference between the `channelName` column  and the `title` column but this time ignoring the case sensitivity."
   ]
  },
  {
   "cell_type": "code",
   "execution_count": 66,
   "metadata": {
    "colab": {
     "base_uri": "https://localhost:8080/"
    },
    "id": "CncXB1clq3yy",
    "outputId": "f60844fa-05df-4a81-ccd0-836b335d4c16"
   },
   "outputs": [
    {
     "data": {
      "text/plain": [
       "13"
      ]
     },
     "execution_count": 66,
     "metadata": {},
     "output_type": "execute_result"
    }
   ],
   "source": [
    "(df.channelName.str.lower() != df.title.str.lower()).sum()"
   ]
  },
  {
   "cell_type": "code",
   "execution_count": 65,
   "metadata": {
    "colab": {
     "base_uri": "https://localhost:8080/",
     "height": 489
    },
    "id": "noLLIUAPPupK",
    "outputId": "fd1a54b3-b4d7-4d3c-c087-a60e49d30808",
    "scrolled": true
   },
   "outputs": [
    {
     "data": {
      "text/html": [
       "<div>\n",
       "<style scoped>\n",
       "    .dataframe tbody tr th:only-of-type {\n",
       "        vertical-align: middle;\n",
       "    }\n",
       "\n",
       "    .dataframe tbody tr th {\n",
       "        vertical-align: top;\n",
       "    }\n",
       "\n",
       "    .dataframe thead th {\n",
       "        text-align: right;\n",
       "    }\n",
       "</style>\n",
       "<table border=\"1\" class=\"dataframe\">\n",
       "  <thead>\n",
       "    <tr style=\"text-align: right;\">\n",
       "      <th></th>\n",
       "      <th>channelName</th>\n",
       "      <th>title</th>\n",
       "      <th>id</th>\n",
       "      <th>kind</th>\n",
       "    </tr>\n",
       "  </thead>\n",
       "  <tbody>\n",
       "    <tr>\n",
       "      <th>11</th>\n",
       "      <td>Code Basics</td>\n",
       "      <td>codebasics</td>\n",
       "      <td>UCh9nVJoWXmFb7sLApWGcLPQ</td>\n",
       "      <td>youtube#channel</td>\n",
       "    </tr>\n",
       "    <tr>\n",
       "      <th>12</th>\n",
       "      <td>Maximilian Schwarzmüller</td>\n",
       "      <td>Academind</td>\n",
       "      <td>UCSJbGtTlrDami-tDGPUV9-w</td>\n",
       "      <td>youtube#channel</td>\n",
       "    </tr>\n",
       "    <tr>\n",
       "      <th>19</th>\n",
       "      <td>Code with Harry</td>\n",
       "      <td>CodeWithHarry</td>\n",
       "      <td>UCeVMnSShP_Iviwkknt83cww</td>\n",
       "      <td>youtube#channel</td>\n",
       "    </tr>\n",
       "    <tr>\n",
       "      <th>22</th>\n",
       "      <td>Tim Corey</td>\n",
       "      <td>IAmTimCorey</td>\n",
       "      <td>UC-ptWR16ITQyYOglXyQmpzw</td>\n",
       "      <td>youtube#channel</td>\n",
       "    </tr>\n",
       "    <tr>\n",
       "      <th>24</th>\n",
       "      <td>WesBos</td>\n",
       "      <td>Wes Bos</td>\n",
       "      <td>UCoebwHSTvwalADTJhps0emA</td>\n",
       "      <td>youtube#channel</td>\n",
       "    </tr>\n",
       "    <tr>\n",
       "      <th>25</th>\n",
       "      <td>Gajesh S. Naik</td>\n",
       "      <td>Gajesh S Naik</td>\n",
       "      <td>UC7PWnwwqMSqAXQkKXqxRkMw</td>\n",
       "      <td>youtube#channel</td>\n",
       "    </tr>\n",
       "    <tr>\n",
       "      <th>33</th>\n",
       "      <td>Scott Hansellman</td>\n",
       "      <td>Scott Hanselman</td>\n",
       "      <td>UCL-fHOdarou-CR2XUmK48Og</td>\n",
       "      <td>youtube#channel</td>\n",
       "    </tr>\n",
       "    <tr>\n",
       "      <th>37</th>\n",
       "      <td>Joma</td>\n",
       "      <td>Joma Tech</td>\n",
       "      <td>UCV0qA-eDDICsRR9rPcnG7tw</td>\n",
       "      <td>youtube#channel</td>\n",
       "    </tr>\n",
       "    <tr>\n",
       "      <th>41</th>\n",
       "      <td>Programming With ERik</td>\n",
       "      <td>Program With Erik</td>\n",
       "      <td>UCshZ3rdoCLjDYuTR_RBubzw</td>\n",
       "      <td>youtube#channel</td>\n",
       "    </tr>\n",
       "    <tr>\n",
       "      <th>42</th>\n",
       "      <td>Forest Knight</td>\n",
       "      <td>ForrestKnight</td>\n",
       "      <td>UC2WHjPDvbE6O328n17ZGcfg</td>\n",
       "      <td>youtube#channel</td>\n",
       "    </tr>\n",
       "    <tr>\n",
       "      <th>53</th>\n",
       "      <td>Prajwal NH</td>\n",
       "      <td>Prajwal N H</td>\n",
       "      <td>UCeSmzr04ZButj0te4PS7azw</td>\n",
       "      <td>youtube#channel</td>\n",
       "    </tr>\n",
       "    <tr>\n",
       "      <th>62</th>\n",
       "      <td>Abhishek Thakur</td>\n",
       "      <td>Abhishek Thakur</td>\n",
       "      <td>UCBPRJjIWfyNG4X-CRbnv78A</td>\n",
       "      <td>youtube#channel</td>\n",
       "    </tr>\n",
       "    <tr>\n",
       "      <th>65</th>\n",
       "      <td>RealTough Candy</td>\n",
       "      <td>RealToughCandy</td>\n",
       "      <td>UC54NcJvLCvM2CNaBjd5j6HA</td>\n",
       "      <td>youtube#channel</td>\n",
       "    </tr>\n",
       "  </tbody>\n",
       "</table>\n",
       "</div>"
      ],
      "text/plain": [
       "                 channelName              title                        id  \\\n",
       "11               Code Basics         codebasics  UCh9nVJoWXmFb7sLApWGcLPQ   \n",
       "12  Maximilian Schwarzmüller          Academind  UCSJbGtTlrDami-tDGPUV9-w   \n",
       "19           Code with Harry      CodeWithHarry  UCeVMnSShP_Iviwkknt83cww   \n",
       "22                 Tim Corey        IAmTimCorey  UC-ptWR16ITQyYOglXyQmpzw   \n",
       "24                    WesBos            Wes Bos  UCoebwHSTvwalADTJhps0emA   \n",
       "25            Gajesh S. Naik      Gajesh S Naik  UC7PWnwwqMSqAXQkKXqxRkMw   \n",
       "33          Scott Hansellman    Scott Hanselman  UCL-fHOdarou-CR2XUmK48Og   \n",
       "37                      Joma          Joma Tech  UCV0qA-eDDICsRR9rPcnG7tw   \n",
       "41     Programming With ERik  Program With Erik  UCshZ3rdoCLjDYuTR_RBubzw   \n",
       "42             Forest Knight      ForrestKnight  UC2WHjPDvbE6O328n17ZGcfg   \n",
       "53               Prajwal NH         Prajwal N H  UCeSmzr04ZButj0te4PS7azw   \n",
       "62          Abhishek Thakur     Abhishek Thakur  UCBPRJjIWfyNG4X-CRbnv78A   \n",
       "65           RealTough Candy     RealToughCandy  UC54NcJvLCvM2CNaBjd5j6HA   \n",
       "\n",
       "               kind  \n",
       "11  youtube#channel  \n",
       "12  youtube#channel  \n",
       "19  youtube#channel  \n",
       "22  youtube#channel  \n",
       "24  youtube#channel  \n",
       "25  youtube#channel  \n",
       "33  youtube#channel  \n",
       "37  youtube#channel  \n",
       "41  youtube#channel  \n",
       "42  youtube#channel  \n",
       "53  youtube#channel  \n",
       "62  youtube#channel  \n",
       "65  youtube#channel  "
      ]
     },
     "execution_count": 65,
     "metadata": {},
     "output_type": "execute_result"
    }
   ],
   "source": [
    "df[df.channelName.str.lower() != df.title.str.lower()]"
   ]
  },
  {
   "cell_type": "markdown",
   "metadata": {},
   "source": [
    "Now we only have `13` rows left to verify. Quick check in Youtube and we see that there is only one error, it is in row 53. Let's correct the error and save the data."
   ]
  },
  {
   "cell_type": "code",
   "execution_count": 67,
   "metadata": {
    "id": "OEmuwozUP-UN"
   },
   "outputs": [],
   "source": [
    "channle_53 = {'title': 'IIMB Inventors Inventing Machine Business', 'id':'UCWym_j-OGCzIfz8K4vXtU6g'}"
   ]
  },
  {
   "cell_type": "code",
   "execution_count": 68,
   "metadata": {
    "id": "an29rSYrUIQ7"
   },
   "outputs": [],
   "source": [
    "df.loc[53, 'title'] = 'IIMB Inventors Inventing Machine Business'\n",
    "df.loc[53, 'id'] = 'UCWym_j-OGCzIfz8K4vXtU6g'"
   ]
  },
  {
   "cell_type": "code",
   "execution_count": 69,
   "metadata": {
    "colab": {
     "base_uri": "https://localhost:8080/"
    },
    "id": "L0LGrD3rUw-C",
    "outputId": "d6c6819d-85a6-47df-925a-dd73d0e54690"
   },
   "outputs": [
    {
     "data": {
      "text/plain": [
       "channelName                Life of Luba\n",
       "title                      Life of Luba\n",
       "id             UCgzKCeDYLRzPhQ64R6AKyBQ\n",
       "kind                    youtube#channel\n",
       "Name: 54, dtype: object"
      ]
     },
     "execution_count": 69,
     "metadata": {},
     "output_type": "execute_result"
    }
   ],
   "source": [
    "df.loc[54]"
   ]
  },
  {
   "cell_type": "markdown",
   "metadata": {},
   "source": [
    "We going to store data in `csv` file"
   ]
  },
  {
   "cell_type": "code",
   "execution_count": 70,
   "metadata": {
    "id": "x7DtnPf7U3CJ"
   },
   "outputs": [],
   "source": [
    "df.to_csv('data/channelsID.csv')"
   ]
  }
 ],
 "metadata": {
  "colab": {
   "collapsed_sections": [],
   "name": "channel_id.ipynb",
   "provenance": []
  },
  "kernelspec": {
   "display_name": "Python 3",
   "language": "python",
   "name": "python3"
  },
  "language_info": {
   "codemirror_mode": {
    "name": "ipython",
    "version": 3
   },
   "file_extension": ".py",
   "mimetype": "text/x-python",
   "name": "python",
   "nbconvert_exporter": "python",
   "pygments_lexer": "ipython3",
   "version": "3.8.6"
  }
 },
 "nbformat": 4,
 "nbformat_minor": 1
}
