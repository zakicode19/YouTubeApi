{
 "cells": [
  {
   "cell_type": "markdown",
   "metadata": {
    "id": "SCPcYSV8Jt1T"
   },
   "source": [
    "# How to find a YouTube channel Id?\n",
    "\n",
    "One way to get a channel Id is to go through the source code of youtube channel page and look for Id. [You can check this post](https://stackoverflow.com/questions/14366648/how-can-i-get-a-channel-id-from-youtube).   \n",
    "Now imagine that you want to retrieve the IDs for a list of youtube channels, which can include one, two or several hundred youtube channels.  Then you should look for a better solution.   \n",
    "An alternative solution is to use the YouTube API, if in the first place we need the id to use it, but we can work around to get the id of the channel, using the [`search`](https://developers.google.com/youtube/v3/guides/implementation/search) requests and the name of the channel. Drawback of this approach, it can return more than one result because the names of the channel are not necessarily unique. In addition, each search request costs 100 units, which can be an issue considering that the quota limit is 10,000 units per day ([quota usage](https://developers.google.com/youtube/v3/getting-started?hl=en#quota)).\n",
    " \n"
   ]
  },
  {
   "cell_type": "code",
   "execution_count": 1,
   "metadata": {
    "id": "JtZLnCAeZi7d"
   },
   "outputs": [],
   "source": [
    "from googleapiclient.discovery import build\n",
    "import pandas as pd\n",
    "import json\n",
    "from dotenv import load_dotenv"
   ]
  },
  {
   "cell_type": "markdown",
   "metadata": {},
   "source": [
    "## Load the data\n",
    "\n",
    "First, we load a dataset of the youtube channels which we are looking for the IDs. The dataset was scraped from [Top Programmer Guru](https://noonies.tech/award/top-programming-guru) web page using the framework [`selenium`](https://github.com/SeleniumHQ/). "
   ]
  },
  {
   "cell_type": "code",
   "execution_count": null,
   "metadata": {
    "id": "kpeL7xdhaBDQ"
   },
   "outputs": [],
   "source": [
    "channelList = pd.read_csv('/data/top-programming-guru.csv', index_col=0)"
   ]
  },
  {
   "cell_type": "code",
   "execution_count": null,
   "metadata": {
    "colab": {
     "base_uri": "https://localhost:8080/",
     "height": 206
    },
    "id": "O-8PwpdbaVcP",
    "outputId": "bcf621e8-8fd5-49cb-b20e-c0e76bdf3f6e"
   },
   "outputs": [
    {
     "data": {
      "text/html": [
       "<div>\n",
       "<style scoped>\n",
       "    .dataframe tbody tr th:only-of-type {\n",
       "        vertical-align: middle;\n",
       "    }\n",
       "\n",
       "    .dataframe tbody tr th {\n",
       "        vertical-align: top;\n",
       "    }\n",
       "\n",
       "    .dataframe thead th {\n",
       "        text-align: right;\n",
       "    }\n",
       "</style>\n",
       "<table border=\"1\" class=\"dataframe\">\n",
       "  <thead>\n",
       "    <tr style=\"text-align: right;\">\n",
       "      <th></th>\n",
       "      <th>channelName</th>\n",
       "      <th>link</th>\n",
       "    </tr>\n",
       "  </thead>\n",
       "  <tbody>\n",
       "    <tr>\n",
       "      <th>0</th>\n",
       "      <td>Programming with Mosh</td>\n",
       "      <td>https://www.youtube.com/c/programmingwithmosh/...</td>\n",
       "    </tr>\n",
       "    <tr>\n",
       "      <th>1</th>\n",
       "      <td>Traversy Media</td>\n",
       "      <td>https://www.youtube.com/user/TechGuyWeb</td>\n",
       "    </tr>\n",
       "    <tr>\n",
       "      <th>2</th>\n",
       "      <td>Corey Schafer</td>\n",
       "      <td>https://www.youtube.com/user/schafer5</td>\n",
       "    </tr>\n",
       "    <tr>\n",
       "      <th>3</th>\n",
       "      <td>Tech With Tim</td>\n",
       "      <td>https://m.youtube.com/channel/UC4JX40jDee_tINb...</td>\n",
       "    </tr>\n",
       "    <tr>\n",
       "      <th>4</th>\n",
       "      <td>Krish Naik</td>\n",
       "      <td>https://www.youtube.com/user/krishnaik06/playl...</td>\n",
       "    </tr>\n",
       "  </tbody>\n",
       "</table>\n",
       "</div>"
      ],
      "text/plain": [
       "             channelName                                               link\n",
       "0  Programming with Mosh  https://www.youtube.com/c/programmingwithmosh/...\n",
       "1         Traversy Media            https://www.youtube.com/user/TechGuyWeb\n",
       "2          Corey Schafer              https://www.youtube.com/user/schafer5\n",
       "3          Tech With Tim  https://m.youtube.com/channel/UC4JX40jDee_tINb...\n",
       "4             Krish Naik  https://www.youtube.com/user/krishnaik06/playl..."
      ]
     },
     "execution_count": 4,
     "metadata": {
      "tags": []
     },
     "output_type": "execute_result"
    }
   ],
   "source": [
    "channelList.head()"
   ]
  },
  {
   "cell_type": "code",
   "execution_count": null,
   "metadata": {
    "id": "_07IT8jVaXx2"
   },
   "outputs": [],
   "source": [
    "channelList.rename({'link':'url'},inplace=True, axis=1)"
   ]
  },
  {
   "cell_type": "code",
   "execution_count": null,
   "metadata": {
    "colab": {
     "base_uri": "https://localhost:8080/",
     "height": 206
    },
    "id": "kL2mvuC9arD4",
    "outputId": "c6bd144f-916c-4e2b-9c1b-ec48e26af888"
   },
   "outputs": [
    {
     "data": {
      "text/html": [
       "<div>\n",
       "<style scoped>\n",
       "    .dataframe tbody tr th:only-of-type {\n",
       "        vertical-align: middle;\n",
       "    }\n",
       "\n",
       "    .dataframe tbody tr th {\n",
       "        vertical-align: top;\n",
       "    }\n",
       "\n",
       "    .dataframe thead th {\n",
       "        text-align: right;\n",
       "    }\n",
       "</style>\n",
       "<table border=\"1\" class=\"dataframe\">\n",
       "  <thead>\n",
       "    <tr style=\"text-align: right;\">\n",
       "      <th></th>\n",
       "      <th>channelName</th>\n",
       "      <th>url</th>\n",
       "    </tr>\n",
       "  </thead>\n",
       "  <tbody>\n",
       "    <tr>\n",
       "      <th>0</th>\n",
       "      <td>Programming with Mosh</td>\n",
       "      <td>https://www.youtube.com/c/programmingwithmosh/...</td>\n",
       "    </tr>\n",
       "    <tr>\n",
       "      <th>1</th>\n",
       "      <td>Traversy Media</td>\n",
       "      <td>https://www.youtube.com/user/TechGuyWeb</td>\n",
       "    </tr>\n",
       "    <tr>\n",
       "      <th>2</th>\n",
       "      <td>Corey Schafer</td>\n",
       "      <td>https://www.youtube.com/user/schafer5</td>\n",
       "    </tr>\n",
       "    <tr>\n",
       "      <th>3</th>\n",
       "      <td>Tech With Tim</td>\n",
       "      <td>https://m.youtube.com/channel/UC4JX40jDee_tINb...</td>\n",
       "    </tr>\n",
       "    <tr>\n",
       "      <th>4</th>\n",
       "      <td>Krish Naik</td>\n",
       "      <td>https://www.youtube.com/user/krishnaik06/playl...</td>\n",
       "    </tr>\n",
       "  </tbody>\n",
       "</table>\n",
       "</div>"
      ],
      "text/plain": [
       "             channelName                                                url\n",
       "0  Programming with Mosh  https://www.youtube.com/c/programmingwithmosh/...\n",
       "1         Traversy Media            https://www.youtube.com/user/TechGuyWeb\n",
       "2          Corey Schafer              https://www.youtube.com/user/schafer5\n",
       "3          Tech With Tim  https://m.youtube.com/channel/UC4JX40jDee_tINb...\n",
       "4             Krish Naik  https://www.youtube.com/user/krishnaik06/playl..."
      ]
     },
     "execution_count": 12,
     "metadata": {
      "tags": []
     },
     "output_type": "execute_result"
    }
   ],
   "source": [
    "channelList.head()"
   ]
  },
  {
   "cell_type": "code",
   "execution_count": null,
   "metadata": {
    "id": "j1XPt939ayCB"
   },
   "outputs": [],
   "source": [
    "# we store channels title in list\n",
    "channels = channelList.channelName.values"
   ]
  },
  {
   "cell_type": "code",
   "execution_count": null,
   "metadata": {
    "colab": {
     "base_uri": "https://localhost:8080/"
    },
    "id": "GUvGqlgOb1ij",
    "outputId": "6197a497-4759-41ed-b30e-94204a0fd855"
   },
   "outputs": [
    {
     "data": {
      "text/plain": [
       "71"
      ]
     },
     "execution_count": 16,
     "metadata": {
      "tags": []
     },
     "output_type": "execute_result"
    }
   ],
   "source": [
    "len(channels)"
   ]
  },
  {
   "cell_type": "code",
   "execution_count": null,
   "metadata": {
    "colab": {
     "base_uri": "https://localhost:8080/"
    },
    "id": "K8QFPNX2bV09",
    "outputId": "bc0acddf-5940-4d68-afad-885aee18a46b"
   },
   "outputs": [
    {
     "name": "stdout",
     "output_type": "stream",
     "text": [
      "Programming with Mosh\n"
     ]
    }
   ],
   "source": [
    "# display the first element in the channel list\n",
    "for channel in channels:\n",
    "  print(channel)\n",
    "  break"
   ]
  },
  {
   "cell_type": "markdown",
   "metadata": {},
   "source": [
    "## Load the API key"
   ]
  },
  {
   "cell_type": "code",
   "execution_count": null,
   "metadata": {
    "id": "E9LPNn1fbcz3"
   },
   "outputs": [],
   "source": [
    "load_dotenv()\n",
    "API_KEY = os.getenv('api_key')\n",
    "youtube = build('youtube', 'v3', developerKey=API_KEY)"
   ]
  },
  {
   "cell_type": "code",
   "execution_count": null,
   "metadata": {
    "colab": {
     "base_uri": "https://localhost:8080/"
    },
    "id": "MBsjkh5gcNZQ",
    "outputId": "5ee645b8-3f6a-4a20-b14f-d12bb5fa1eea",
    "scrolled": true
   },
   "outputs": [],
   "source": [
    "request = youtube.search().list(\n",
    "        part=\"snippet\",\n",
    "        maxResults=1, # limit the search to one result\n",
    "        q=\"Programming with Mosh\",\n",
    "        type=\"channel\" # we going to look only for a youtube channels\n",
    "    )\n",
    "response = request.execute()\n",
    "print(response)"
   ]
  },
  {
   "cell_type": "code",
   "execution_count": null,
   "metadata": {
    "colab": {
     "base_uri": "https://localhost:8080/"
    },
    "id": "sSBXNsf7ehGe",
    "outputId": "df11726f-6040-4bfe-eb0f-00ad2a7369cb",
    "scrolled": true
   },
   "outputs": [],
   "source": [
    "response = request.execute()\n",
    "print(response)"
   ]
  },
  {
   "cell_type": "code",
   "execution_count": null,
   "metadata": {
    "colab": {
     "base_uri": "https://localhost:8080/",
     "height": 35
    },
    "id": "gCCzaac7eir7",
    "outputId": "2f143946-6373-48a4-98a7-34e5b171bdbf",
    "scrolled": true
   },
   "outputs": [
    {
     "data": {
      "application/vnd.google.colaboratory.intrinsic+json": {
       "type": "string"
      },
      "text/plain": [
       "'\"UCWv7vMbMWH4-V0ZXdmDpPBA\"'"
      ]
     },
     "execution_count": 35,
     "metadata": {
      "tags": []
     },
     "output_type": "execute_result"
    }
   ],
   "source": [
    "json.dumps(response['items'][0]['snippet']['channelId'], indent=4)"
   ]
  },
  {
   "cell_type": "markdown",
   "metadata": {},
   "source": [
    "### Display the result of the first request"
   ]
  },
  {
   "cell_type": "code",
   "execution_count": null,
   "metadata": {
    "colab": {
     "base_uri": "https://localhost:8080/"
    },
    "id": "hzbYr-SIfFqV",
    "outputId": "e54ee4c5-038a-48ea-e0c7-985c3218bb3b"
   },
   "outputs": [
    {
     "name": "stdout",
     "output_type": "stream",
     "text": [
      "UCWv7vMbMWH4-V0ZXdmDpPBA\n",
      "Programming with Mosh\n",
      "youtube#channel\n"
     ]
    }
   ],
   "source": [
    "for item in response['items']:\n",
    "  print(item['snippet']['channelId'])\n",
    "  print(item['snippet']['title'])\n",
    "  print(item['id']['kind'])\n",
    "  print('*' * 10)"
   ]
  },
  {
   "cell_type": "markdown",
   "metadata": {},
   "source": [
    "### Initialize dictionary to store the results"
   ]
  },
  {
   "cell_type": "code",
   "execution_count": null,
   "metadata": {
    "id": "56EvjwTjfZYH"
   },
   "outputs": [],
   "source": [
    "data = {'channelName': [], 'title': [], 'id':[], 'kind':[]}"
   ]
  },
  {
   "cell_type": "code",
   "execution_count": null,
   "metadata": {
    "id": "fNktO2AVjHp8"
   },
   "outputs": [],
   "source": [
    "id = response['items'][0]['snippet']['channelId']\n",
    "title = response['items'][0]['snippet']['title']\n",
    "kind = response['items'][0]['id']['kind']"
   ]
  },
  {
   "cell_type": "code",
   "execution_count": null,
   "metadata": {
    "colab": {
     "base_uri": "https://localhost:8080/",
     "height": 35
    },
    "id": "dpdfdNVzjQ3A",
    "outputId": "3f691a49-cb4b-4a77-9173-c145ecd997b5"
   },
   "outputs": [
    {
     "data": {
      "application/vnd.google.colaboratory.intrinsic+json": {
       "type": "string"
      },
      "text/plain": [
       "'Programming with Mosh'"
      ]
     },
     "execution_count": 41,
     "metadata": {
      "tags": []
     },
     "output_type": "execute_result"
    }
   ],
   "source": [
    "channel"
   ]
  },
  {
   "cell_type": "code",
   "execution_count": null,
   "metadata": {
    "id": "BKyiZZ2Ljazk"
   },
   "outputs": [],
   "source": [
    "data['channelName'].append(channel)\n",
    "data['title'].append(title)\n",
    "data['id'].append(id)\n",
    "data['kind'].append(kind)"
   ]
  },
  {
   "cell_type": "code",
   "execution_count": null,
   "metadata": {
    "colab": {
     "base_uri": "https://localhost:8080/"
    },
    "id": "ZQGRqxbnkBVE",
    "outputId": "90c367ca-4a40-4681-e4c7-576249950d70"
   },
   "outputs": [
    {
     "data": {
      "text/plain": [
       "{'channle': ['Programming with Mosh'],\n",
       " 'id': ['UCWv7vMbMWH4-V0ZXdmDpPBA'],\n",
       " 'kind': ['youtube#channel'],\n",
       " 'title': ['Programming with Mosh']}"
      ]
     },
     "execution_count": 48,
     "metadata": {
      "tags": []
     },
     "output_type": "execute_result"
    }
   ],
   "source": [
    "data"
   ]
  },
  {
   "cell_type": "markdown",
   "metadata": {},
   "source": [
    "### Retrive the Id for each channel in dataset"
   ]
  },
  {
   "cell_type": "code",
   "execution_count": null,
   "metadata": {
    "id": "nwA5ooMEkKXx"
   },
   "outputs": [],
   "source": [
    "for channel in channels[1:]:\n",
    "\n",
    "  request = youtube.search().list(\n",
    "        part=\"snippet\",\n",
    "        maxResults=1,\n",
    "        q=channel,\n",
    "        type=\"channel\"\n",
    "    )\n",
    "  \n",
    "  response = request.execute()\n",
    "\n",
    "  id = response['items'][0]['snippet']['channelId']\n",
    "  title = response['items'][0]['snippet']['title']\n",
    "  kind = response['items'][0]['id']['kind']\n",
    "\n",
    "  data['channelName'].append(channel)\n",
    "  data['title'].append(title)\n",
    "  data['id'].append(id)\n",
    "  data['kind'].append(kind)"
   ]
  },
  {
   "cell_type": "code",
   "execution_count": null,
   "metadata": {
    "id": "79bD4GCwk0gt"
   },
   "outputs": [],
   "source": [
    "data"
   ]
  },
  {
   "cell_type": "code",
   "execution_count": null,
   "metadata": {
    "id": "v-gArCmuk54Q"
   },
   "outputs": [],
   "source": [
    "df = pd.DataFrame.from_dict(data)"
   ]
  },
  {
   "cell_type": "code",
   "execution_count": null,
   "metadata": {
    "colab": {
     "base_uri": "https://localhost:8080/",
     "height": 206
    },
    "id": "yVjjv2PTlOfV",
    "outputId": "146e8aa9-f7c6-4d62-e813-4964838be393"
   },
   "outputs": [
    {
     "data": {
      "text/html": [
       "<div>\n",
       "<style scoped>\n",
       "    .dataframe tbody tr th:only-of-type {\n",
       "        vertical-align: middle;\n",
       "    }\n",
       "\n",
       "    .dataframe tbody tr th {\n",
       "        vertical-align: top;\n",
       "    }\n",
       "\n",
       "    .dataframe thead th {\n",
       "        text-align: right;\n",
       "    }\n",
       "</style>\n",
       "<table border=\"1\" class=\"dataframe\">\n",
       "  <thead>\n",
       "    <tr style=\"text-align: right;\">\n",
       "      <th></th>\n",
       "      <th>channle</th>\n",
       "      <th>title</th>\n",
       "      <th>id</th>\n",
       "      <th>kind</th>\n",
       "    </tr>\n",
       "  </thead>\n",
       "  <tbody>\n",
       "    <tr>\n",
       "      <th>0</th>\n",
       "      <td>Programming with Mosh</td>\n",
       "      <td>Programming with Mosh</td>\n",
       "      <td>UCWv7vMbMWH4-V0ZXdmDpPBA</td>\n",
       "      <td>youtube#channel</td>\n",
       "    </tr>\n",
       "    <tr>\n",
       "      <th>1</th>\n",
       "      <td>Traversy Media</td>\n",
       "      <td>Traversy Media</td>\n",
       "      <td>UC29ju8bIPH5as8OGnQzwJyA</td>\n",
       "      <td>youtube#channel</td>\n",
       "    </tr>\n",
       "    <tr>\n",
       "      <th>2</th>\n",
       "      <td>Corey Schafer</td>\n",
       "      <td>Corey Schafer</td>\n",
       "      <td>UCCezIgC97PvUuR4_gbFUs5g</td>\n",
       "      <td>youtube#channel</td>\n",
       "    </tr>\n",
       "    <tr>\n",
       "      <th>3</th>\n",
       "      <td>Tech With Tim</td>\n",
       "      <td>Tech With Tim</td>\n",
       "      <td>UC4JX40jDee_tINbkjycV4Sg</td>\n",
       "      <td>youtube#channel</td>\n",
       "    </tr>\n",
       "    <tr>\n",
       "      <th>4</th>\n",
       "      <td>Krish Naik</td>\n",
       "      <td>Krish Naik</td>\n",
       "      <td>UCNU_lfiiWBdtULKOw6X0Dig</td>\n",
       "      <td>youtube#channel</td>\n",
       "    </tr>\n",
       "  </tbody>\n",
       "</table>\n",
       "</div>"
      ],
      "text/plain": [
       "                 channle  ...             kind\n",
       "0  Programming with Mosh  ...  youtube#channel\n",
       "1         Traversy Media  ...  youtube#channel\n",
       "2          Corey Schafer  ...  youtube#channel\n",
       "3          Tech With Tim  ...  youtube#channel\n",
       "4             Krish Naik  ...  youtube#channel\n",
       "\n",
       "[5 rows x 4 columns]"
      ]
     },
     "execution_count": 52,
     "metadata": {
      "tags": []
     },
     "output_type": "execute_result"
    }
   ],
   "source": [
    "df.head()"
   ]
  },
  {
   "cell_type": "code",
   "execution_count": null,
   "metadata": {
    "colab": {
     "base_uri": "https://localhost:8080/"
    },
    "id": "LxfBIQWDlTFo",
    "outputId": "3a5486df-7411-4012-fb3c-078096ee3c03"
   },
   "outputs": [
    {
     "data": {
      "text/plain": [
       "array(['youtube#channel'], dtype=object)"
      ]
     },
     "execution_count": 53,
     "metadata": {
      "tags": []
     },
     "output_type": "execute_result"
    }
   ],
   "source": [
    "df['kind'].unique()"
   ]
  },
  {
   "cell_type": "markdown",
   "metadata": {},
   "source": [
    "Let's check if there is a difference between the channel name and the title."
   ]
  },
  {
   "cell_type": "code",
   "execution_count": null,
   "metadata": {
    "colab": {
     "base_uri": "https://localhost:8080/"
    },
    "id": "vQkkLr0-lZxm",
    "outputId": "6617fa83-fedf-4fd5-ecc5-3ba50667afac"
   },
   "outputs": [
    {
     "data": {
      "text/plain": [
       "23"
      ]
     },
     "execution_count": 55,
     "metadata": {
      "tags": []
     },
     "output_type": "execute_result"
    }
   ],
   "source": [
    "(df.channelName != df.title).sum()"
   ]
  },
  {
   "cell_type": "markdown",
   "metadata": {},
   "source": [
    "Let's display the rows where the `channelName` and the `title` are different."
   ]
  },
  {
   "cell_type": "code",
   "execution_count": null,
   "metadata": {
    "colab": {
     "base_uri": "https://localhost:8080/",
     "height": 771
    },
    "id": "kX3HLyWVllDQ",
    "outputId": "be42f35d-14b9-4d4c-fd4a-c20f7c6a67cb",
    "scrolled": false
   },
   "outputs": [
    {
     "data": {
      "text/html": [
       "<div>\n",
       "<style scoped>\n",
       "    .dataframe tbody tr th:only-of-type {\n",
       "        vertical-align: middle;\n",
       "    }\n",
       "\n",
       "    .dataframe tbody tr th {\n",
       "        vertical-align: top;\n",
       "    }\n",
       "\n",
       "    .dataframe thead th {\n",
       "        text-align: right;\n",
       "    }\n",
       "</style>\n",
       "<table border=\"1\" class=\"dataframe\">\n",
       "  <thead>\n",
       "    <tr style=\"text-align: right;\">\n",
       "      <th></th>\n",
       "      <th>channle</th>\n",
       "      <th>title</th>\n",
       "      <th>id</th>\n",
       "      <th>kind</th>\n",
       "    </tr>\n",
       "  </thead>\n",
       "  <tbody>\n",
       "    <tr>\n",
       "      <th>9</th>\n",
       "      <td>programming Hero</td>\n",
       "      <td>Programming Hero</td>\n",
       "      <td>UCStj-ORBZ7TGK1FwtGAUgbQ</td>\n",
       "      <td>youtube#channel</td>\n",
       "    </tr>\n",
       "    <tr>\n",
       "      <th>10</th>\n",
       "      <td>naveen Reddy</td>\n",
       "      <td>Telusko</td>\n",
       "      <td>UC59K-uG2A5ogwIrHw4bmlEg</td>\n",
       "      <td>youtube#channel</td>\n",
       "    </tr>\n",
       "    <tr>\n",
       "      <th>11</th>\n",
       "      <td>Code Basics</td>\n",
       "      <td>codebasics</td>\n",
       "      <td>UCh9nVJoWXmFb7sLApWGcLPQ</td>\n",
       "      <td>youtube#channel</td>\n",
       "    </tr>\n",
       "    <tr>\n",
       "      <th>12</th>\n",
       "      <td>Maximilian Schwarzmüller</td>\n",
       "      <td>Academind</td>\n",
       "      <td>UCSJbGtTlrDami-tDGPUV9-w</td>\n",
       "      <td>youtube#channel</td>\n",
       "    </tr>\n",
       "    <tr>\n",
       "      <th>19</th>\n",
       "      <td>Code with Harry</td>\n",
       "      <td>CodeWithHarry</td>\n",
       "      <td>UCeVMnSShP_Iviwkknt83cww</td>\n",
       "      <td>youtube#channel</td>\n",
       "    </tr>\n",
       "    <tr>\n",
       "      <th>22</th>\n",
       "      <td>Tim Corey</td>\n",
       "      <td>IAmTimCorey</td>\n",
       "      <td>UC-ptWR16ITQyYOglXyQmpzw</td>\n",
       "      <td>youtube#channel</td>\n",
       "    </tr>\n",
       "    <tr>\n",
       "      <th>24</th>\n",
       "      <td>WesBos</td>\n",
       "      <td>Wes Bos</td>\n",
       "      <td>UCoebwHSTvwalADTJhps0emA</td>\n",
       "      <td>youtube#channel</td>\n",
       "    </tr>\n",
       "    <tr>\n",
       "      <th>25</th>\n",
       "      <td>Gajesh S. Naik</td>\n",
       "      <td>Gajesh S Naik</td>\n",
       "      <td>UC7PWnwwqMSqAXQkKXqxRkMw</td>\n",
       "      <td>youtube#channel</td>\n",
       "    </tr>\n",
       "    <tr>\n",
       "      <th>34</th>\n",
       "      <td>Scott Hansellman</td>\n",
       "      <td>Scott Hanselman</td>\n",
       "      <td>UCL-fHOdarou-CR2XUmK48Og</td>\n",
       "      <td>youtube#channel</td>\n",
       "    </tr>\n",
       "    <tr>\n",
       "      <th>38</th>\n",
       "      <td>Joma</td>\n",
       "      <td>Joma Tech</td>\n",
       "      <td>UCV0qA-eDDICsRR9rPcnG7tw</td>\n",
       "      <td>youtube#channel</td>\n",
       "    </tr>\n",
       "    <tr>\n",
       "      <th>42</th>\n",
       "      <td>Programming With ERik</td>\n",
       "      <td>Program With Erik</td>\n",
       "      <td>UCshZ3rdoCLjDYuTR_RBubzw</td>\n",
       "      <td>youtube#channel</td>\n",
       "    </tr>\n",
       "    <tr>\n",
       "      <th>43</th>\n",
       "      <td>Forest Knight</td>\n",
       "      <td>ForrestKnight</td>\n",
       "      <td>UC2WHjPDvbE6O328n17ZGcfg</td>\n",
       "      <td>youtube#channel</td>\n",
       "    </tr>\n",
       "    <tr>\n",
       "      <th>48</th>\n",
       "      <td>the coding train</td>\n",
       "      <td>The Coding Train</td>\n",
       "      <td>UCvjgXvBlbQiydffZU7m1_aw</td>\n",
       "      <td>youtube#channel</td>\n",
       "    </tr>\n",
       "    <tr>\n",
       "      <th>49</th>\n",
       "      <td>Angelsix</td>\n",
       "      <td>AngelSix</td>\n",
       "      <td>UCJ3AxeCHGPZkMi3kRfCuiHw</td>\n",
       "      <td>youtube#channel</td>\n",
       "    </tr>\n",
       "    <tr>\n",
       "      <th>54</th>\n",
       "      <td>Prajwal NH</td>\n",
       "      <td>Prajwal N H</td>\n",
       "      <td>UCeSmzr04ZButj0te4PS7azw</td>\n",
       "      <td>youtube#channel</td>\n",
       "    </tr>\n",
       "    <tr>\n",
       "      <th>56</th>\n",
       "      <td>chuck severance</td>\n",
       "      <td>Chuck Severance</td>\n",
       "      <td>UChYfrRp_CWyqOt-ZYJGOgmA</td>\n",
       "      <td>youtube#channel</td>\n",
       "    </tr>\n",
       "    <tr>\n",
       "      <th>58</th>\n",
       "      <td>codingphase</td>\n",
       "      <td>CodingPhase</td>\n",
       "      <td>UC46wWUso9H5KPQcoL9iE3Ug</td>\n",
       "      <td>youtube#channel</td>\n",
       "    </tr>\n",
       "    <tr>\n",
       "      <th>61</th>\n",
       "      <td>Life Of Boris</td>\n",
       "      <td>Life of Boris</td>\n",
       "      <td>UCS5tt2z_DFvG7-39J3aE-bQ</td>\n",
       "      <td>youtube#channel</td>\n",
       "    </tr>\n",
       "    <tr>\n",
       "      <th>63</th>\n",
       "      <td>Abhishek Thakur</td>\n",
       "      <td>Abhishek Thakur</td>\n",
       "      <td>UCBPRJjIWfyNG4X-CRbnv78A</td>\n",
       "      <td>youtube#channel</td>\n",
       "    </tr>\n",
       "    <tr>\n",
       "      <th>64</th>\n",
       "      <td>gaurav sen</td>\n",
       "      <td>Gaurav Sen</td>\n",
       "      <td>UCRPMAqdtSgd0Ipeef7iFsKw</td>\n",
       "      <td>youtube#channel</td>\n",
       "    </tr>\n",
       "    <tr>\n",
       "      <th>66</th>\n",
       "      <td>RealTough Candy</td>\n",
       "      <td>RealToughCandy</td>\n",
       "      <td>UC54NcJvLCvM2CNaBjd5j6HA</td>\n",
       "      <td>youtube#channel</td>\n",
       "    </tr>\n",
       "    <tr>\n",
       "      <th>69</th>\n",
       "      <td>durga software solutions</td>\n",
       "      <td>Durga Software Solutions</td>\n",
       "      <td>UCbjozK_PYCTLEluFlrJ8UZg</td>\n",
       "      <td>youtube#channel</td>\n",
       "    </tr>\n",
       "    <tr>\n",
       "      <th>70</th>\n",
       "      <td>perfect web solutions</td>\n",
       "      <td>Perfect Web Solutions</td>\n",
       "      <td>UCjM2CgqAXgXQuFjJa732IRw</td>\n",
       "      <td>youtube#channel</td>\n",
       "    </tr>\n",
       "  </tbody>\n",
       "</table>\n",
       "</div>"
      ],
      "text/plain": [
       "                     channle  ...             kind\n",
       "9           programming Hero  ...  youtube#channel\n",
       "10              naveen Reddy  ...  youtube#channel\n",
       "11               Code Basics  ...  youtube#channel\n",
       "12  Maximilian Schwarzmüller  ...  youtube#channel\n",
       "19           Code with Harry  ...  youtube#channel\n",
       "22                 Tim Corey  ...  youtube#channel\n",
       "24                    WesBos  ...  youtube#channel\n",
       "25            Gajesh S. Naik  ...  youtube#channel\n",
       "34          Scott Hansellman  ...  youtube#channel\n",
       "38                      Joma  ...  youtube#channel\n",
       "42     Programming With ERik  ...  youtube#channel\n",
       "43             Forest Knight  ...  youtube#channel\n",
       "48          the coding train  ...  youtube#channel\n",
       "49                  Angelsix  ...  youtube#channel\n",
       "54               Prajwal NH   ...  youtube#channel\n",
       "56           chuck severance  ...  youtube#channel\n",
       "58               codingphase  ...  youtube#channel\n",
       "61             Life Of Boris  ...  youtube#channel\n",
       "63          Abhishek Thakur   ...  youtube#channel\n",
       "64                gaurav sen  ...  youtube#channel\n",
       "66           RealTough Candy  ...  youtube#channel\n",
       "69  durga software solutions  ...  youtube#channel\n",
       "70     perfect web solutions  ...  youtube#channel\n",
       "\n",
       "[23 rows x 4 columns]"
      ]
     },
     "execution_count": 56,
     "metadata": {
      "tags": []
     },
     "output_type": "execute_result"
    }
   ],
   "source": [
    "df[df.channelName != df.title]"
   ]
  },
  {
   "cell_type": "markdown",
   "metadata": {},
   "source": [
    "We get these results because in the web page from where the data was collected, it some they used the name of the owner of the youtube channel instead of the official title, or they did not respect the same case as in the title of the channel.   \n",
    "We going to store data in `csv` file and check agin the difference between the channel name and the title but this time ignoring case."
   ]
  },
  {
   "cell_type": "code",
   "execution_count": null,
   "metadata": {
    "id": "wrcfV2HBltdM",
    "scrolled": true
   },
   "outputs": [],
   "source": [
    "df.to_csv('data/channelsID.csv')"
   ]
  },
  {
   "cell_type": "code",
   "execution_count": 4,
   "metadata": {
    "id": "tGugzFxioz_D"
   },
   "outputs": [],
   "source": [
    "data = pd.read_csv('data/channelsID.csv', index_col=0)"
   ]
  },
  {
   "cell_type": "code",
   "execution_count": null,
   "metadata": {
    "colab": {
     "base_uri": "https://localhost:8080/",
     "height": 424
    },
    "id": "t5dPujibqp5g",
    "outputId": "3f25e859-c7d8-4e4d-e260-ca52826a6cc2",
    "scrolled": true
   },
   "outputs": [],
   "source": [
    "data.head()"
   ]
  },
  {
   "cell_type": "code",
   "execution_count": 9,
   "metadata": {
    "colab": {
     "base_uri": "https://localhost:8080/"
    },
    "id": "CncXB1clq3yy",
    "outputId": "f60844fa-05df-4a81-ccd0-836b335d4c16"
   },
   "outputs": [
    {
     "data": {
      "text/plain": [
       "14"
      ]
     },
     "execution_count": 9,
     "metadata": {
      "tags": []
     },
     "output_type": "execute_result"
    }
   ],
   "source": [
    "(data.channle.str.lower() != data.title.str.lower()).sum()"
   ]
  },
  {
   "cell_type": "code",
   "execution_count": 10,
   "metadata": {
    "colab": {
     "base_uri": "https://localhost:8080/",
     "height": 489
    },
    "id": "noLLIUAPPupK",
    "outputId": "fd1a54b3-b4d7-4d3c-c087-a60e49d30808"
   },
   "outputs": [
    {
     "data": {
      "text/html": [
       "<div>\n",
       "<style scoped>\n",
       "    .dataframe tbody tr th:only-of-type {\n",
       "        vertical-align: middle;\n",
       "    }\n",
       "\n",
       "    .dataframe tbody tr th {\n",
       "        vertical-align: top;\n",
       "    }\n",
       "\n",
       "    .dataframe thead th {\n",
       "        text-align: right;\n",
       "    }\n",
       "</style>\n",
       "<table border=\"1\" class=\"dataframe\">\n",
       "  <thead>\n",
       "    <tr style=\"text-align: right;\">\n",
       "      <th></th>\n",
       "      <th>channle</th>\n",
       "      <th>title</th>\n",
       "      <th>id</th>\n",
       "      <th>kind</th>\n",
       "    </tr>\n",
       "  </thead>\n",
       "  <tbody>\n",
       "    <tr>\n",
       "      <th>10</th>\n",
       "      <td>naveen Reddy</td>\n",
       "      <td>Telusko</td>\n",
       "      <td>UC59K-uG2A5ogwIrHw4bmlEg</td>\n",
       "      <td>youtube#channel</td>\n",
       "    </tr>\n",
       "    <tr>\n",
       "      <th>11</th>\n",
       "      <td>Code Basics</td>\n",
       "      <td>codebasics</td>\n",
       "      <td>UCh9nVJoWXmFb7sLApWGcLPQ</td>\n",
       "      <td>youtube#channel</td>\n",
       "    </tr>\n",
       "    <tr>\n",
       "      <th>12</th>\n",
       "      <td>Maximilian Schwarzmüller</td>\n",
       "      <td>Academind</td>\n",
       "      <td>UCSJbGtTlrDami-tDGPUV9-w</td>\n",
       "      <td>youtube#channel</td>\n",
       "    </tr>\n",
       "    <tr>\n",
       "      <th>19</th>\n",
       "      <td>Code with Harry</td>\n",
       "      <td>CodeWithHarry</td>\n",
       "      <td>UCeVMnSShP_Iviwkknt83cww</td>\n",
       "      <td>youtube#channel</td>\n",
       "    </tr>\n",
       "    <tr>\n",
       "      <th>22</th>\n",
       "      <td>Tim Corey</td>\n",
       "      <td>IAmTimCorey</td>\n",
       "      <td>UC-ptWR16ITQyYOglXyQmpzw</td>\n",
       "      <td>youtube#channel</td>\n",
       "    </tr>\n",
       "    <tr>\n",
       "      <th>24</th>\n",
       "      <td>WesBos</td>\n",
       "      <td>Wes Bos</td>\n",
       "      <td>UCoebwHSTvwalADTJhps0emA</td>\n",
       "      <td>youtube#channel</td>\n",
       "    </tr>\n",
       "    <tr>\n",
       "      <th>25</th>\n",
       "      <td>Gajesh S. Naik</td>\n",
       "      <td>Gajesh S Naik</td>\n",
       "      <td>UC7PWnwwqMSqAXQkKXqxRkMw</td>\n",
       "      <td>youtube#channel</td>\n",
       "    </tr>\n",
       "    <tr>\n",
       "      <th>34</th>\n",
       "      <td>Scott Hansellman</td>\n",
       "      <td>Scott Hanselman</td>\n",
       "      <td>UCL-fHOdarou-CR2XUmK48Og</td>\n",
       "      <td>youtube#channel</td>\n",
       "    </tr>\n",
       "    <tr>\n",
       "      <th>38</th>\n",
       "      <td>Joma</td>\n",
       "      <td>Joma Tech</td>\n",
       "      <td>UCV0qA-eDDICsRR9rPcnG7tw</td>\n",
       "      <td>youtube#channel</td>\n",
       "    </tr>\n",
       "    <tr>\n",
       "      <th>42</th>\n",
       "      <td>Programming With ERik</td>\n",
       "      <td>Program With Erik</td>\n",
       "      <td>UCshZ3rdoCLjDYuTR_RBubzw</td>\n",
       "      <td>youtube#channel</td>\n",
       "    </tr>\n",
       "    <tr>\n",
       "      <th>43</th>\n",
       "      <td>Forest Knight</td>\n",
       "      <td>ForrestKnight</td>\n",
       "      <td>UC2WHjPDvbE6O328n17ZGcfg</td>\n",
       "      <td>youtube#channel</td>\n",
       "    </tr>\n",
       "    <tr>\n",
       "      <th>54</th>\n",
       "      <td>Prajwal NH</td>\n",
       "      <td>Prajwal N H</td>\n",
       "      <td>UCeSmzr04ZButj0te4PS7azw</td>\n",
       "      <td>youtube#channel</td>\n",
       "    </tr>\n",
       "    <tr>\n",
       "      <th>63</th>\n",
       "      <td>Abhishek Thakur</td>\n",
       "      <td>Abhishek Thakur</td>\n",
       "      <td>UCBPRJjIWfyNG4X-CRbnv78A</td>\n",
       "      <td>youtube#channel</td>\n",
       "    </tr>\n",
       "    <tr>\n",
       "      <th>66</th>\n",
       "      <td>RealTough Candy</td>\n",
       "      <td>RealToughCandy</td>\n",
       "      <td>UC54NcJvLCvM2CNaBjd5j6HA</td>\n",
       "      <td>youtube#channel</td>\n",
       "    </tr>\n",
       "  </tbody>\n",
       "</table>\n",
       "</div>"
      ],
      "text/plain": [
       "                     channle  ...             kind\n",
       "10              naveen Reddy  ...  youtube#channel\n",
       "11               Code Basics  ...  youtube#channel\n",
       "12  Maximilian Schwarzmüller  ...  youtube#channel\n",
       "19           Code with Harry  ...  youtube#channel\n",
       "22                 Tim Corey  ...  youtube#channel\n",
       "24                    WesBos  ...  youtube#channel\n",
       "25            Gajesh S. Naik  ...  youtube#channel\n",
       "34          Scott Hansellman  ...  youtube#channel\n",
       "38                      Joma  ...  youtube#channel\n",
       "42     Programming With ERik  ...  youtube#channel\n",
       "43             Forest Knight  ...  youtube#channel\n",
       "54               Prajwal NH   ...  youtube#channel\n",
       "63          Abhishek Thakur   ...  youtube#channel\n",
       "66           RealTough Candy  ...  youtube#channel\n",
       "\n",
       "[14 rows x 4 columns]"
      ]
     },
     "execution_count": 10,
     "metadata": {
      "tags": []
     },
     "output_type": "execute_result"
    }
   ],
   "source": [
    "data[data.channle.str.lower() != data.title.str.lower()]"
   ]
  },
  {
   "cell_type": "markdown",
   "metadata": {},
   "source": [
    "Now we only have `14` rows left to verify. Quick check in Youtube and we see that there is only one error, it is in row 54. Let's correct the error and save the data."
   ]
  },
  {
   "cell_type": "code",
   "execution_count": 11,
   "metadata": {
    "id": "OEmuwozUP-UN"
   },
   "outputs": [],
   "source": [
    "channle_54 = {'title': 'IIMB Inventors Inventing Machine Business', 'id':'UCWym_j-OGCzIfz8K4vXtU6g'}"
   ]
  },
  {
   "cell_type": "code",
   "execution_count": 15,
   "metadata": {
    "id": "an29rSYrUIQ7"
   },
   "outputs": [],
   "source": [
    "data.loc[54, 'title'] = 'IIMB Inventors Inventing Machine Business'\n",
    "data.loc[54, 'id'] = 'UCWym_j-OGCzIfz8K4vXtU6g'"
   ]
  },
  {
   "cell_type": "code",
   "execution_count": 16,
   "metadata": {
    "colab": {
     "base_uri": "https://localhost:8080/"
    },
    "id": "L0LGrD3rUw-C",
    "outputId": "d6c6819d-85a6-47df-925a-dd73d0e54690"
   },
   "outputs": [
    {
     "data": {
      "text/plain": [
       "channle                                  Prajwal NH \n",
       "title      IIMB Inventors Inventing Machine Business\n",
       "id                          UCWym_j-OGCzIfz8K4vXtU6g\n",
       "kind                                 youtube#channel\n",
       "Name: 54, dtype: object"
      ]
     },
     "execution_count": 16,
     "metadata": {
      "tags": []
     },
     "output_type": "execute_result"
    }
   ],
   "source": [
    "data.loc[54]"
   ]
  },
  {
   "cell_type": "code",
   "execution_count": 17,
   "metadata": {
    "id": "x7DtnPf7U3CJ"
   },
   "outputs": [],
   "source": [
    "data.to_csv('data/channelsID.csv')"
   ]
  }
 ],
 "metadata": {
  "colab": {
   "collapsed_sections": [],
   "name": "channel_id.ipynb",
   "provenance": []
  },
  "kernelspec": {
   "display_name": "Python 3",
   "language": "python",
   "name": "python3"
  },
  "language_info": {
   "codemirror_mode": {
    "name": "ipython",
    "version": 3
   },
   "file_extension": ".py",
   "mimetype": "text/x-python",
   "name": "python",
   "nbconvert_exporter": "python",
   "pygments_lexer": "ipython3",
   "version": "3.8.6"
  }
 },
 "nbformat": 4,
 "nbformat_minor": 1
}
