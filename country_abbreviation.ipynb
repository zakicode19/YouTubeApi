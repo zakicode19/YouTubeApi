{
 "cells": [
  {
   "cell_type": "markdown",
   "id": "f5f38f54",
   "metadata": {},
   "source": [
    "# The two-letter country code\n",
    "\n",
    "The code was adapted from this [medium article](https://medium.com/analytics-vidhya/how-to-web-scrape-tables-online-using-python-and-beautifulsoup-36d5bafeb982)"
   ]
  },
  {
   "cell_type": "code",
   "execution_count": 3,
   "id": "a9d2a476",
   "metadata": {},
   "outputs": [],
   "source": [
    "import re\n",
    "from bs4 import BeautifulSoup\n",
    "import time\n",
    "import requests\n",
    "#from selenium import webdriver\n",
    "#from selenium.webdriver.chrome.options import Options\n",
    "import pandas as pd"
   ]
  },
  {
   "cell_type": "code",
   "execution_count": 5,
   "id": "307c50c0",
   "metadata": {},
   "outputs": [],
   "source": [
    "url = 'https://laendercode.net/en/2-letter-list.html'\n",
    "page = requests.get(url)"
   ]
  },
  {
   "cell_type": "code",
   "execution_count": null,
   "id": "8f712f7f",
   "metadata": {
    "scrolled": false
   },
   "outputs": [],
   "source": [
    "page.text"
   ]
  },
  {
   "cell_type": "code",
   "execution_count": 17,
   "id": "f5c0b067",
   "metadata": {},
   "outputs": [],
   "source": [
    "soup = BeautifulSoup(page.text, 'lxml')"
   ]
  },
  {
   "cell_type": "code",
   "execution_count": 18,
   "id": "865e1ed7",
   "metadata": {},
   "outputs": [],
   "source": [
    "results = soup.find('table', class_='table table-colored table-hover')"
   ]
  },
  {
   "cell_type": "code",
   "execution_count": 22,
   "id": "0ee6e062",
   "metadata": {},
   "outputs": [
    {
     "data": {
      "text/plain": [
       "['ISO 3166 ALPHA-2', 'Country']"
      ]
     },
     "execution_count": 22,
     "metadata": {},
     "output_type": "execute_result"
    }
   ],
   "source": [
    "headers = []\n",
    "for th in results.find_all('th'):\n",
    "    headers.append(th.text)\n",
    "    \n",
    "headers\n"
   ]
  },
  {
   "cell_type": "code",
   "execution_count": 21,
   "id": "318fb394",
   "metadata": {},
   "outputs": [
    {
     "data": {
      "text/plain": [
       "<td><a href=\"https://laendercode.net/en/2-letter-code/af\"><h4 class=\"margin-clear\">AF</h4></a></td>"
      ]
     },
     "execution_count": 21,
     "metadata": {},
     "output_type": "execute_result"
    }
   ],
   "source": [
    "results.find('td')"
   ]
  },
  {
   "cell_type": "code",
   "execution_count": 26,
   "id": "6d607a2d",
   "metadata": {},
   "outputs": [
    {
     "name": "stdout",
     "output_type": "stream",
     "text": [
      " AF Afghanistan \n"
     ]
    }
   ],
   "source": [
    "for tr in results.find_all('tr')[1:]:\n",
    "    print(tr.text)\n",
    "    break"
   ]
  },
  {
   "cell_type": "code",
   "execution_count": 28,
   "id": "c5b87673",
   "metadata": {},
   "outputs": [
    {
     "data": {
      "text/plain": [
       "['AF', 'Afghanistan']"
      ]
     },
     "execution_count": 28,
     "metadata": {},
     "output_type": "execute_result"
    }
   ],
   "source": [
    "tr.text.split()"
   ]
  },
  {
   "cell_type": "code",
   "execution_count": 47,
   "id": "4ac1b732",
   "metadata": {},
   "outputs": [],
   "source": [
    "data = {key : [] for key in headers}"
   ]
  },
  {
   "cell_type": "code",
   "execution_count": 48,
   "id": "d2653c05",
   "metadata": {},
   "outputs": [
    {
     "data": {
      "text/plain": [
       "{'ISO 3166 ALPHA-2': [], 'Country': []}"
      ]
     },
     "execution_count": 48,
     "metadata": {},
     "output_type": "execute_result"
    }
   ],
   "source": [
    "data"
   ]
  },
  {
   "cell_type": "code",
   "execution_count": 49,
   "id": "caeff385",
   "metadata": {},
   "outputs": [],
   "source": [
    "for tr in results.find_all('tr')[1:]:\n",
    "    #print(tr.text)\n",
    "    row = tr.text.split()\n",
    "    data['ISO 3166 ALPHA-2'].append(row[0])\n",
    "    data['Country'].append(' '.join(row[1:]))\n",
    "    \n",
    "    \n",
    "#data"
   ]
  },
  {
   "cell_type": "code",
   "execution_count": 50,
   "id": "936492e1",
   "metadata": {},
   "outputs": [],
   "source": [
    "df = pd.DataFrame.from_dict(data)"
   ]
  },
  {
   "cell_type": "code",
   "execution_count": 51,
   "id": "8027268f",
   "metadata": {},
   "outputs": [
    {
     "data": {
      "text/html": [
       "<div>\n",
       "<style scoped>\n",
       "    .dataframe tbody tr th:only-of-type {\n",
       "        vertical-align: middle;\n",
       "    }\n",
       "\n",
       "    .dataframe tbody tr th {\n",
       "        vertical-align: top;\n",
       "    }\n",
       "\n",
       "    .dataframe thead th {\n",
       "        text-align: right;\n",
       "    }\n",
       "</style>\n",
       "<table border=\"1\" class=\"dataframe\">\n",
       "  <thead>\n",
       "    <tr style=\"text-align: right;\">\n",
       "      <th></th>\n",
       "      <th>ISO 3166 ALPHA-2</th>\n",
       "      <th>Country</th>\n",
       "    </tr>\n",
       "  </thead>\n",
       "  <tbody>\n",
       "    <tr>\n",
       "      <th>0</th>\n",
       "      <td>AF</td>\n",
       "      <td>Afghanistan</td>\n",
       "    </tr>\n",
       "    <tr>\n",
       "      <th>1</th>\n",
       "      <td>AX</td>\n",
       "      <td>Aland Islands</td>\n",
       "    </tr>\n",
       "    <tr>\n",
       "      <th>2</th>\n",
       "      <td>AL</td>\n",
       "      <td>Albania</td>\n",
       "    </tr>\n",
       "    <tr>\n",
       "      <th>3</th>\n",
       "      <td>DZ</td>\n",
       "      <td>Algeria</td>\n",
       "    </tr>\n",
       "    <tr>\n",
       "      <th>4</th>\n",
       "      <td>AS</td>\n",
       "      <td>American Samoa</td>\n",
       "    </tr>\n",
       "  </tbody>\n",
       "</table>\n",
       "</div>"
      ],
      "text/plain": [
       "  ISO 3166 ALPHA-2         Country\n",
       "0               AF     Afghanistan\n",
       "1               AX   Aland Islands\n",
       "2               AL         Albania\n",
       "3               DZ         Algeria\n",
       "4               AS  American Samoa"
      ]
     },
     "execution_count": 51,
     "metadata": {},
     "output_type": "execute_result"
    }
   ],
   "source": [
    "df.head()"
   ]
  },
  {
   "cell_type": "code",
   "execution_count": 52,
   "id": "1492c8c1",
   "metadata": {},
   "outputs": [],
   "source": [
    "df.to_csv('data/two_letter_country_code.csv')"
   ]
  }
 ],
 "metadata": {
  "kernelspec": {
   "display_name": "Python 3",
   "language": "python",
   "name": "python3"
  },
  "language_info": {
   "codemirror_mode": {
    "name": "ipython",
    "version": 3
   },
   "file_extension": ".py",
   "mimetype": "text/x-python",
   "name": "python",
   "nbconvert_exporter": "python",
   "pygments_lexer": "ipython3",
   "version": "3.8.6"
  }
 },
 "nbformat": 4,
 "nbformat_minor": 5
}
