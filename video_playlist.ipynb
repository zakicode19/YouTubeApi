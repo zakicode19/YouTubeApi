{
 "cells": [
  {
   "cell_type": "markdown",
   "id": "5556f890",
   "metadata": {},
   "source": [
    "# Extract YouTube video statistics and playlist\n",
    "In this part of the project we will focus on video and playlist data, we will collect statistical data from each YouTube channel in the `summery_df` database.  We will continue to use the YouTupe API.\n",
    " To gain speed, we will use `multiprocessing` techniques and the `MapReduce` framework. Because we expect to process more than 48386 videos. \n",
    "First, we will list all videos in each channel, and then we will collect statistical data for each video.\n",
    "secondly, most of the time, videos are organized in `playlists`. to get more data about the plyalist we go to the list of all playlist, each playlist will be grouped with the videos it continues. using the data collected in the first part, we can have some insight about the duration of the playlist number of items and views count...\n",
    "\n",
    "\n"
   ]
  },
  {
   "cell_type": "code",
   "execution_count": 115,
   "id": "bb9900ac",
   "metadata": {},
   "outputs": [],
   "source": [
    "from googleapiclient.discovery import build\n",
    "import os\n",
    "import pandas as pd\n",
    "import re\n",
    "from datetime import date\n",
    "from dotenv import load_dotenv\n",
    "import json"
   ]
  },
  {
   "cell_type": "code",
   "execution_count": 117,
   "id": "47cf0be3",
   "metadata": {},
   "outputs": [],
   "source": [
    "load_dotenv()\n",
    "API_KEY = os.getenv('api_key')\n",
    "youtube = build('youtube', 'v3', developerKey=API_KEY)"
   ]
  },
  {
   "cell_type": "code",
   "execution_count": 5,
   "id": "3f0ac3b2",
   "metadata": {},
   "outputs": [],
   "source": [
    "summery_df = pd.read_csv('data/summeryCleanDB.csv') "
   ]
  },
  {
   "cell_type": "code",
   "execution_count": 116,
   "id": "ebc32d3a",
   "metadata": {},
   "outputs": [
    {
     "data": {
      "text/html": [
       "<div>\n",
       "<style scoped>\n",
       "    .dataframe tbody tr th:only-of-type {\n",
       "        vertical-align: middle;\n",
       "    }\n",
       "\n",
       "    .dataframe tbody tr th {\n",
       "        vertical-align: top;\n",
       "    }\n",
       "\n",
       "    .dataframe thead th {\n",
       "        text-align: right;\n",
       "    }\n",
       "</style>\n",
       "<table border=\"1\" class=\"dataframe\">\n",
       "  <thead>\n",
       "    <tr style=\"text-align: right;\">\n",
       "      <th></th>\n",
       "      <th>channelName</th>\n",
       "      <th>title</th>\n",
       "      <th>channelId</th>\n",
       "      <th>kind</th>\n",
       "      <th>url</th>\n",
       "      <th>description</th>\n",
       "      <th>countryCode</th>\n",
       "      <th>viewCount</th>\n",
       "      <th>subscriberCount</th>\n",
       "      <th>videoCount</th>\n",
       "      <th>publishedAt</th>\n",
       "      <th>uploads</th>\n",
       "      <th>country</th>\n",
       "      <th>countryOther</th>\n",
       "      <th>publishedDate</th>\n",
       "    </tr>\n",
       "  </thead>\n",
       "  <tbody>\n",
       "    <tr>\n",
       "      <th>0</th>\n",
       "      <td>Programming with Mosh</td>\n",
       "      <td>Programming with Mosh</td>\n",
       "      <td>UCWv7vMbMWH4-V0ZXdmDpPBA</td>\n",
       "      <td>youtube#channel</td>\n",
       "      <td>https://www.youtube.com/c/programmingwithmosh/...</td>\n",
       "      <td>I train professional software engineers that c...</td>\n",
       "      <td>AU</td>\n",
       "      <td>79813920</td>\n",
       "      <td>1790000</td>\n",
       "      <td>160</td>\n",
       "      <td>2014-10-07T00:40:53Z</td>\n",
       "      <td>UUWv7vMbMWH4-V0ZXdmDpPBA</td>\n",
       "      <td>Australia</td>\n",
       "      <td>Australia</td>\n",
       "      <td>2014-10-07</td>\n",
       "    </tr>\n",
       "    <tr>\n",
       "      <th>1</th>\n",
       "      <td>Traversy Media</td>\n",
       "      <td>Traversy Media</td>\n",
       "      <td>UC29ju8bIPH5as8OGnQzwJyA</td>\n",
       "      <td>youtube#channel</td>\n",
       "      <td>https://www.youtube.com/user/TechGuyWeb</td>\n",
       "      <td>Traversy Media features the best online web de...</td>\n",
       "      <td>US</td>\n",
       "      <td>140038994</td>\n",
       "      <td>1540000</td>\n",
       "      <td>879</td>\n",
       "      <td>2009-10-30T21:33:14Z</td>\n",
       "      <td>UU29ju8bIPH5as8OGnQzwJyA</td>\n",
       "      <td>United States</td>\n",
       "      <td>United States</td>\n",
       "      <td>2009-10-30</td>\n",
       "    </tr>\n",
       "    <tr>\n",
       "      <th>2</th>\n",
       "      <td>Corey Schafer</td>\n",
       "      <td>Corey Schafer</td>\n",
       "      <td>UCCezIgC97PvUuR4_gbFUs5g</td>\n",
       "      <td>youtube#channel</td>\n",
       "      <td>https://www.youtube.com/user/schafer5</td>\n",
       "      <td>Welcome to my Channel. This channel is focused...</td>\n",
       "      <td>US</td>\n",
       "      <td>57821417</td>\n",
       "      <td>782000</td>\n",
       "      <td>230</td>\n",
       "      <td>2006-05-31T22:49:22Z</td>\n",
       "      <td>UUCezIgC97PvUuR4_gbFUs5g</td>\n",
       "      <td>United States</td>\n",
       "      <td>United States</td>\n",
       "      <td>2006-05-31</td>\n",
       "    </tr>\n",
       "    <tr>\n",
       "      <th>3</th>\n",
       "      <td>Tech With Tim</td>\n",
       "      <td>Tech With Tim</td>\n",
       "      <td>UC4JX40jDee_tINbkjycV4Sg</td>\n",
       "      <td>youtube#channel</td>\n",
       "      <td>https://m.youtube.com/channel/UC4JX40jDee_tINb...</td>\n",
       "      <td>Learn programming, software engineering, machi...</td>\n",
       "      <td>CA</td>\n",
       "      <td>50278115</td>\n",
       "      <td>664000</td>\n",
       "      <td>591</td>\n",
       "      <td>2014-04-23T01:57:10Z</td>\n",
       "      <td>UU4JX40jDee_tINbkjycV4Sg</td>\n",
       "      <td>Canada</td>\n",
       "      <td>Canada</td>\n",
       "      <td>2014-04-23</td>\n",
       "    </tr>\n",
       "    <tr>\n",
       "      <th>4</th>\n",
       "      <td>Krish Naik</td>\n",
       "      <td>Krish Naik</td>\n",
       "      <td>UCNU_lfiiWBdtULKOw6X0Dig</td>\n",
       "      <td>youtube#channel</td>\n",
       "      <td>https://www.youtube.com/user/krishnaik06/playl...</td>\n",
       "      <td>I work as a Lead Data Scientist, pioneering in...</td>\n",
       "      <td>IN</td>\n",
       "      <td>26639800</td>\n",
       "      <td>375000</td>\n",
       "      <td>1061</td>\n",
       "      <td>2012-02-11T04:05:06Z</td>\n",
       "      <td>UUNU_lfiiWBdtULKOw6X0Dig</td>\n",
       "      <td>India</td>\n",
       "      <td>India</td>\n",
       "      <td>2012-02-11</td>\n",
       "    </tr>\n",
       "  </tbody>\n",
       "</table>\n",
       "</div>"
      ],
      "text/plain": [
       "             channelName                  title                 channelId  \\\n",
       "0  Programming with Mosh  Programming with Mosh  UCWv7vMbMWH4-V0ZXdmDpPBA   \n",
       "1         Traversy Media         Traversy Media  UC29ju8bIPH5as8OGnQzwJyA   \n",
       "2          Corey Schafer          Corey Schafer  UCCezIgC97PvUuR4_gbFUs5g   \n",
       "3          Tech With Tim          Tech With Tim  UC4JX40jDee_tINbkjycV4Sg   \n",
       "4             Krish Naik             Krish Naik  UCNU_lfiiWBdtULKOw6X0Dig   \n",
       "\n",
       "              kind                                                url  \\\n",
       "0  youtube#channel  https://www.youtube.com/c/programmingwithmosh/...   \n",
       "1  youtube#channel            https://www.youtube.com/user/TechGuyWeb   \n",
       "2  youtube#channel              https://www.youtube.com/user/schafer5   \n",
       "3  youtube#channel  https://m.youtube.com/channel/UC4JX40jDee_tINb...   \n",
       "4  youtube#channel  https://www.youtube.com/user/krishnaik06/playl...   \n",
       "\n",
       "                                         description countryCode  viewCount  \\\n",
       "0  I train professional software engineers that c...          AU   79813920   \n",
       "1  Traversy Media features the best online web de...          US  140038994   \n",
       "2  Welcome to my Channel. This channel is focused...          US   57821417   \n",
       "3  Learn programming, software engineering, machi...          CA   50278115   \n",
       "4  I work as a Lead Data Scientist, pioneering in...          IN   26639800   \n",
       "\n",
       "   subscriberCount  videoCount           publishedAt  \\\n",
       "0          1790000         160  2014-10-07T00:40:53Z   \n",
       "1          1540000         879  2009-10-30T21:33:14Z   \n",
       "2           782000         230  2006-05-31T22:49:22Z   \n",
       "3           664000         591  2014-04-23T01:57:10Z   \n",
       "4           375000        1061  2012-02-11T04:05:06Z   \n",
       "\n",
       "                    uploads        country   countryOther publishedDate  \n",
       "0  UUWv7vMbMWH4-V0ZXdmDpPBA      Australia      Australia    2014-10-07  \n",
       "1  UU29ju8bIPH5as8OGnQzwJyA  United States  United States    2009-10-30  \n",
       "2  UUCezIgC97PvUuR4_gbFUs5g  United States  United States    2006-05-31  \n",
       "3  UU4JX40jDee_tINbkjycV4Sg         Canada         Canada    2014-04-23  \n",
       "4  UUNU_lfiiWBdtULKOw6X0Dig          India          India    2012-02-11  "
      ]
     },
     "execution_count": 116,
     "metadata": {},
     "output_type": "execute_result"
    }
   ],
   "source": [
    "summery_df.head()"
   ]
  },
  {
   "cell_type": "code",
   "execution_count": 34,
   "id": "24493390",
   "metadata": {},
   "outputs": [],
   "source": [
    "uploads = summery_df.uploads.values"
   ]
  },
  {
   "cell_type": "code",
   "execution_count": 35,
   "id": "845698ea",
   "metadata": {},
   "outputs": [
    {
     "data": {
      "text/plain": [
       "68"
      ]
     },
     "execution_count": 35,
     "metadata": {},
     "output_type": "execute_result"
    }
   ],
   "source": [
    "len(uploads)"
   ]
  },
  {
   "cell_type": "code",
   "execution_count": 62,
   "id": "4fef8249",
   "metadata": {},
   "outputs": [],
   "source": [
    "# https://github.com/ClarityCoders/YouTubeAnalysis/blob/master/notebook.ipynb\n",
    "\n",
    "def getVideoIdUpload(youtube, upload_ids):\n",
    "    '''\n",
    "    Get list of all videos ids in youtube channle\n",
    "    \n",
    "    Args:\n",
    "        youtube (servibe object):\n",
    "        channelId (string): the channel id \n",
    "        \n",
    "    Return:\n",
    "        a list of videos ids\n",
    "    '''\n",
    "    video_id_list = []\n",
    "    \n",
    "    \n",
    "    for upload_id in upload_ids:\n",
    "        \n",
    "        nextPageToken = None\n",
    "        while True:\n",
    "\n",
    "            request = youtube.playlistItems().list(\n",
    "                part=\"snippet\", #contentDetails\",\n",
    "                maxResults=50,\n",
    "                playlistId=upload_id,\n",
    "                pageToken=nextPageToken,\n",
    "            )\n",
    "\n",
    "            response = request.execute()\n",
    "\n",
    "\n",
    "\n",
    "            for item in response['items']:\n",
    "\n",
    "                video_id = item['snippet']['resourceId']['videoId']\n",
    "\n",
    "                if video_id not in video_id_list:\n",
    "\n",
    "                    video_id_list.append(video_id)\n",
    "\n",
    "\n",
    "            nextPageToken = response.get('nextPageToken')\n",
    "\n",
    "            if not nextPageToken:\n",
    "                break\n",
    "\n",
    "    return video_id_list"
   ]
  },
  {
   "cell_type": "code",
   "execution_count": 12,
   "id": "6846239a",
   "metadata": {},
   "outputs": [],
   "source": [
    "import math\n",
    "\n",
    "\n",
    "def make_chunks(data, num_chunks):\n",
    "    \n",
    "    chunk_size = math.ceil(len(data) / num_chunks)\n",
    "    \n",
    "    return [data[i:i+chunk_size] for i in range(0, len(data), chunk_size)]"
   ]
  },
  {
   "cell_type": "code",
   "execution_count": 54,
   "id": "c4006829",
   "metadata": {},
   "outputs": [],
   "source": [
    "corey = getVideoIdUpload(youtube, ['UUCezIgC97PvUuR4_gbFUs5g', 'UU4JX40jDee_tINbkjycV4Sg'])"
   ]
  },
  {
   "cell_type": "code",
   "execution_count": 56,
   "id": "35ea72ac",
   "metadata": {},
   "outputs": [
    {
     "data": {
      "text/plain": [
       "230"
      ]
     },
     "execution_count": 56,
     "metadata": {},
     "output_type": "execute_result"
    }
   ],
   "source": [
    "len(corey)"
   ]
  },
  {
   "cell_type": "code",
   "execution_count": 19,
   "id": "52723b05",
   "metadata": {},
   "outputs": [],
   "source": [
    "import concurrent.futures"
   ]
  },
  {
   "cell_type": "code",
   "execution_count": 25,
   "id": "689cfed1",
   "metadata": {},
   "outputs": [],
   "source": [
    "\n",
    "\n",
    "def getVideoIdParallel(youtube, uploads, num_processes=4):\n",
    "    \n",
    "    chunks = make_chunks(uploads,num_processes)\n",
    "    \n",
    "    with concurrent.futures.ProcessPoolExecutor() as executor:\n",
    "        \n",
    "        futures = [executor.submit(getVideoIdUpload, youtube, chunk) for chunk in chunks]\n",
    "        \n",
    "    results = [future.result() for future in futures]\n",
    "    # Merge results\n",
    "    merged_results = []\n",
    "    for result in results:\n",
    "        merged_results.extend(result)\n",
    "    return merged_results\n"
   ]
  },
  {
   "cell_type": "code",
   "execution_count": 65,
   "id": "be593e1d",
   "metadata": {},
   "outputs": [
    {
     "name": "stdout",
     "output_type": "stream",
     "text": [
      "77.36557841300964\n"
     ]
    }
   ],
   "source": [
    "start = time.time()\n",
    "\n",
    "videos_id_list = getVideoIdParallel(youtube, uploads, num_processes=8)\n",
    "\n",
    "end = time.time()\n",
    "\n",
    "print(end - start)"
   ]
  },
  {
   "cell_type": "code",
   "execution_count": 66,
   "id": "7c7c47b1",
   "metadata": {},
   "outputs": [
    {
     "data": {
      "text/plain": [
       "48749"
      ]
     },
     "execution_count": 66,
     "metadata": {},
     "output_type": "execute_result"
    }
   ],
   "source": [
    "len(videos_id_list)"
   ]
  },
  {
   "cell_type": "code",
   "execution_count": 46,
   "id": "fe85e431",
   "metadata": {},
   "outputs": [
    {
     "data": {
      "text/plain": [
       "48386"
      ]
     },
     "execution_count": 46,
     "metadata": {},
     "output_type": "execute_result"
    }
   ],
   "source": [
    "summery_df.videoCount.sum()"
   ]
  },
  {
   "cell_type": "markdown",
   "id": "091343de",
   "metadata": {},
   "source": [
    "We have two different results, perhaps new videos have been uploaded since the `summery_df` dataset was created."
   ]
  },
  {
   "cell_type": "code",
   "execution_count": 47,
   "id": "20416366",
   "metadata": {},
   "outputs": [
    {
     "data": {
      "text/plain": [
       "'pTFZFxd4hOI'"
      ]
     },
     "execution_count": 47,
     "metadata": {},
     "output_type": "execute_result"
    }
   ],
   "source": [
    "\n",
    "videos_id_list[0]"
   ]
  },
  {
   "cell_type": "code",
   "execution_count": 60,
   "id": "b803aa6e",
   "metadata": {},
   "outputs": [
    {
     "name": "stdout",
     "output_type": "stream",
     "text": [
      "159.74628448486328\n"
     ]
    }
   ],
   "source": [
    "# without using multiprocessing\n",
    "import time\n",
    "\n",
    "start = time.time()\n",
    "\n",
    "date = getVideoIdUpload(youtube, uploads)\n",
    "\n",
    "end = time.time()\n",
    "\n",
    "print(end - start)"
   ]
  },
  {
   "cell_type": "code",
   "execution_count": 61,
   "id": "995c957a",
   "metadata": {},
   "outputs": [
    {
     "data": {
      "text/plain": [
       "48749"
      ]
     },
     "execution_count": 61,
     "metadata": {},
     "output_type": "execute_result"
    }
   ],
   "source": [
    "len(data)"
   ]
  },
  {
   "cell_type": "markdown",
   "id": "60d91c77",
   "metadata": {},
   "source": [
    " We will use the [MapReduce](https://en.wikipedia.org/wiki/MapReduce)  framework when gather statistical data on each video to go faster. The code for the `map_reduce` function has been adapted from DATAQUEST[\n",
    "Course: Parallel Processing](https://www.dataquest.io/course/parallel-processing/)."
   ]
  },
  {
   "cell_type": "code",
   "execution_count": 79,
   "id": "2d42b296",
   "metadata": {},
   "outputs": [],
   "source": [
    "from multiprocessing import Pool\n",
    "import functools\n",
    "\n",
    "\n",
    "def map_reduce(data, num_processes, mapper, reducer):\n",
    "    \n",
    "    chunks = make_chunks(data, num_processes)\n",
    "    \n",
    "    with Pool(num_processes) as pool:\n",
    "        \n",
    "        chunk_results = pool.map(mapper, chunks)\n",
    "        \n",
    "    return functools.reduce(reducer, chunk_results)"
   ]
  },
  {
   "cell_type": "code",
   "execution_count": 68,
   "id": "6ca48ed3",
   "metadata": {},
   "outputs": [],
   "source": [
    "def make_chunks2(data, chunk_size):\n",
    "    \n",
    "    '''Split a data into chunk of given size'''\n",
    "    \n",
    "    num_chunks = math.ceil(len(data) / chunk_size)\n",
    "    \n",
    "    return [data[i:i+chunk_size] for i in range(0, len(data), chunk_size)]"
   ]
  },
  {
   "cell_type": "code",
   "execution_count": 111,
   "id": "c82620cf",
   "metadata": {},
   "outputs": [],
   "source": [
    "def getVideoStat(youtube,videos_id_list):\n",
    "\n",
    "    '''\n",
    "    Get statistics about each videos in list \n",
    "    Args:\n",
    "        youtube (youtube api): youtube api\n",
    "        videos_id_list (list): a list of videos id, with ##less 50 elements\n",
    "    \n",
    "    '''\n",
    "    list_columns = ['videoId','title', 'tags', 'viewCount', 'likeCount', 'dislikeCount', 'commentCount', 'duration','channelId','date']\n",
    "    vid_dict = {key : [] for key in list_columns}\n",
    "    \n",
    "    chunks = make_chunks2(videos_id_list,50)\n",
    "    for chunk in chunks:\n",
    "        videos_request = youtube.videos().list(\n",
    "            part='contentDetails, statistics, snippet',\n",
    "            id = ','.join(chunk),\n",
    "        )\n",
    "\n",
    "        videos_response = videos_request.execute()\n",
    "\n",
    "        for item in videos_response['items']:\n",
    "\n",
    "            # vid_dict['playlistId'].append(playlist_id) this column will be add using join\n",
    "            vid_dict['videoId'].append(item['id'])\n",
    "            vid_dict['title'].append(item['snippet']['title'])\n",
    "            try:\n",
    "                vid_dict['tags'].append(item['snippet']['tags'])\n",
    "            except KeyError:\n",
    "                vid_dict['tags'].append(None)\n",
    "            vid_dict['viewCount'].append(item['statistics'].get('viewCount',None))\n",
    "            vid_dict['likeCount'].append(item['statistics'].get('likeCount',None))\n",
    "            vid_dict['dislikeCount'].append(item['statistics'].get('dislikeCount',None))\n",
    "            vid_dict['commentCount'].append(item['statistics'].get('commentCount',None))\n",
    "            vid_dict['duration'].append(item['contentDetails']['duration'])\n",
    "            vid_dict['date'].append(item['snippet']['publishedAt'])\n",
    "            vid_dict['channelId'].append(item['snippet']['channelId'])\n",
    "            \n",
    "    return vid_dict\n"
   ]
  },
  {
   "cell_type": "code",
   "execution_count": 101,
   "id": "0f540d0c",
   "metadata": {},
   "outputs": [],
   "source": [
    "def reducer(dic1, dic2):\n",
    "    \n",
    "    merged = dict()\n",
    "    \n",
    "    for item in dic1:\n",
    "        \n",
    "        merged[item] = dic1[item]+ dic2[item]\n",
    "        \n",
    "    return merged"
   ]
  },
  {
   "cell_type": "code",
   "execution_count": 118,
   "id": "c641517e",
   "metadata": {
    "scrolled": false
   },
   "outputs": [
    {
     "name": "stdout",
     "output_type": "stream",
     "text": [
      "37.307560443878174\n"
     ]
    }
   ],
   "source": [
    "from functools import partial\n",
    "start = time.time()\n",
    "\n",
    "data = map_reduce(videos_id_list, 8, partial(getVideoStat, youtube), reducer)\n",
    "\n",
    "end = time.time()\n",
    "\n",
    "print(end - start)"
   ]
  },
  {
   "cell_type": "code",
   "execution_count": 119,
   "id": "83714e20",
   "metadata": {},
   "outputs": [
    {
     "data": {
      "text/plain": [
       "48749"
      ]
     },
     "execution_count": 119,
     "metadata": {},
     "output_type": "execute_result"
    }
   ],
   "source": [
    "len(data['videoId'])"
   ]
  },
  {
   "cell_type": "code",
   "execution_count": 120,
   "id": "3eaf69b0",
   "metadata": {},
   "outputs": [],
   "source": [
    "df = pd.DataFrame.from_dict(data)"
   ]
  },
  {
   "cell_type": "code",
   "execution_count": 121,
   "id": "ec98cade",
   "metadata": {
    "scrolled": true
   },
   "outputs": [
    {
     "data": {
      "text/html": [
       "<div>\n",
       "<style scoped>\n",
       "    .dataframe tbody tr th:only-of-type {\n",
       "        vertical-align: middle;\n",
       "    }\n",
       "\n",
       "    .dataframe tbody tr th {\n",
       "        vertical-align: top;\n",
       "    }\n",
       "\n",
       "    .dataframe thead th {\n",
       "        text-align: right;\n",
       "    }\n",
       "</style>\n",
       "<table border=\"1\" class=\"dataframe\">\n",
       "  <thead>\n",
       "    <tr style=\"text-align: right;\">\n",
       "      <th></th>\n",
       "      <th>videoId</th>\n",
       "      <th>title</th>\n",
       "      <th>tags</th>\n",
       "      <th>viewCount</th>\n",
       "      <th>likeCount</th>\n",
       "      <th>dislikeCount</th>\n",
       "      <th>commentCount</th>\n",
       "      <th>duration</th>\n",
       "      <th>channelId</th>\n",
       "      <th>date</th>\n",
       "    </tr>\n",
       "  </thead>\n",
       "  <tbody>\n",
       "    <tr>\n",
       "      <th>0</th>\n",
       "      <td>pTFZFxd4hOI</td>\n",
       "      <td>Docker Tutorial for Beginners [2021]</td>\n",
       "      <td>[docker tutorial, docker, learn docker, docker...</td>\n",
       "      <td>259236</td>\n",
       "      <td>8125</td>\n",
       "      <td>273</td>\n",
       "      <td>606</td>\n",
       "      <td>PT56M4S</td>\n",
       "      <td>UCWv7vMbMWH4-V0ZXdmDpPBA</td>\n",
       "      <td>2021-03-30T15:14:41Z</td>\n",
       "    </tr>\n",
       "    <tr>\n",
       "      <th>1</th>\n",
       "      <td>Eo90IEphG_M</td>\n",
       "      <td>Docker course is coming!</td>\n",
       "      <td>None</td>\n",
       "      <td>27613</td>\n",
       "      <td>1777</td>\n",
       "      <td>11</td>\n",
       "      <td>231</td>\n",
       "      <td>PT49S</td>\n",
       "      <td>UCWv7vMbMWH4-V0ZXdmDpPBA</td>\n",
       "      <td>2021-03-25T17:30:03Z</td>\n",
       "    </tr>\n",
       "    <tr>\n",
       "      <th>2</th>\n",
       "      <td>qz0aGYrrlhU</td>\n",
       "      <td>HTML Tutorial for Beginners: HTML Crash Course...</td>\n",
       "      <td>[html tutorial, html5 tutorial, html, html5, l...</td>\n",
       "      <td>904761</td>\n",
       "      <td>26935</td>\n",
       "      <td>343</td>\n",
       "      <td>1604</td>\n",
       "      <td>PT1H9M34S</td>\n",
       "      <td>UCWv7vMbMWH4-V0ZXdmDpPBA</td>\n",
       "      <td>2021-01-11T14:30:10Z</td>\n",
       "    </tr>\n",
       "    <tr>\n",
       "      <th>3</th>\n",
       "      <td>-_X6PhkjpzU</td>\n",
       "      <td>5 Front-end Development Skills to Land Your Fi...</td>\n",
       "      <td>[front-end development, front end development,...</td>\n",
       "      <td>374612</td>\n",
       "      <td>21094</td>\n",
       "      <td>146</td>\n",
       "      <td>617</td>\n",
       "      <td>PT9M2S</td>\n",
       "      <td>UCWv7vMbMWH4-V0ZXdmDpPBA</td>\n",
       "      <td>2021-01-07T14:30:14Z</td>\n",
       "    </tr>\n",
       "    <tr>\n",
       "      <th>4</th>\n",
       "      <td>Nb0btdq1164</td>\n",
       "      <td>Learn Web Development and Make $78,000/y</td>\n",
       "      <td>[web development, web development 2021, progra...</td>\n",
       "      <td>99544</td>\n",
       "      <td>7022</td>\n",
       "      <td>124</td>\n",
       "      <td>454</td>\n",
       "      <td>PT5M15S</td>\n",
       "      <td>UCWv7vMbMWH4-V0ZXdmDpPBA</td>\n",
       "      <td>2021-01-05T14:30:11Z</td>\n",
       "    </tr>\n",
       "  </tbody>\n",
       "</table>\n",
       "</div>"
      ],
      "text/plain": [
       "       videoId                                              title  \\\n",
       "0  pTFZFxd4hOI               Docker Tutorial for Beginners [2021]   \n",
       "1  Eo90IEphG_M                           Docker course is coming!   \n",
       "2  qz0aGYrrlhU  HTML Tutorial for Beginners: HTML Crash Course...   \n",
       "3  -_X6PhkjpzU  5 Front-end Development Skills to Land Your Fi...   \n",
       "4  Nb0btdq1164           Learn Web Development and Make $78,000/y   \n",
       "\n",
       "                                                tags viewCount likeCount  \\\n",
       "0  [docker tutorial, docker, learn docker, docker...    259236      8125   \n",
       "1                                               None     27613      1777   \n",
       "2  [html tutorial, html5 tutorial, html, html5, l...    904761     26935   \n",
       "3  [front-end development, front end development,...    374612     21094   \n",
       "4  [web development, web development 2021, progra...     99544      7022   \n",
       "\n",
       "  dislikeCount commentCount   duration                 channelId  \\\n",
       "0          273          606    PT56M4S  UCWv7vMbMWH4-V0ZXdmDpPBA   \n",
       "1           11          231      PT49S  UCWv7vMbMWH4-V0ZXdmDpPBA   \n",
       "2          343         1604  PT1H9M34S  UCWv7vMbMWH4-V0ZXdmDpPBA   \n",
       "3          146          617     PT9M2S  UCWv7vMbMWH4-V0ZXdmDpPBA   \n",
       "4          124          454    PT5M15S  UCWv7vMbMWH4-V0ZXdmDpPBA   \n",
       "\n",
       "                   date  \n",
       "0  2021-03-30T15:14:41Z  \n",
       "1  2021-03-25T17:30:03Z  \n",
       "2  2021-01-11T14:30:10Z  \n",
       "3  2021-01-07T14:30:14Z  \n",
       "4  2021-01-05T14:30:11Z  "
      ]
     },
     "execution_count": 121,
     "metadata": {},
     "output_type": "execute_result"
    }
   ],
   "source": [
    "df.head()"
   ]
  },
  {
   "cell_type": "code",
   "execution_count": 123,
   "id": "b63ef5b5",
   "metadata": {},
   "outputs": [],
   "source": [
    "# save the data in csv file\n",
    "df.to_csv('videosBD2.csv', index=False)"
   ]
  },
  {
   "cell_type": "code",
   "execution_count": 124,
   "id": "2861b4fb",
   "metadata": {
    "scrolled": true
   },
   "outputs": [
    {
     "name": "stdout",
     "output_type": "stream",
     "text": [
      "<class 'pandas.core.frame.DataFrame'>\n",
      "RangeIndex: 48749 entries, 0 to 48748\n",
      "Data columns (total 10 columns):\n",
      " #   Column        Non-Null Count  Dtype \n",
      "---  ------        --------------  ----- \n",
      " 0   videoId       48749 non-null  object\n",
      " 1   title         48749 non-null  object\n",
      " 2   tags          45448 non-null  object\n",
      " 3   viewCount     48737 non-null  object\n",
      " 4   likeCount     48683 non-null  object\n",
      " 5   dislikeCount  48683 non-null  object\n",
      " 6   commentCount  48680 non-null  object\n",
      " 7   duration      48749 non-null  object\n",
      " 8   channelId     48749 non-null  object\n",
      " 9   date          48749 non-null  object\n",
      "dtypes: object(10)\n",
      "memory usage: 3.7+ MB\n"
     ]
    }
   ],
   "source": [
    "df.info()"
   ]
  },
  {
   "cell_type": "code",
   "execution_count": 126,
   "id": "189e95eb",
   "metadata": {},
   "outputs": [
    {
     "data": {
      "text/plain": [
       "48749"
      ]
     },
     "execution_count": 126,
     "metadata": {},
     "output_type": "execute_result"
    }
   ],
   "source": [
    "len(df.videoId.unique())"
   ]
  },
  {
   "cell_type": "markdown",
   "id": "d6cb62b3",
   "metadata": {},
   "source": [
    "### Playlist items "
   ]
  },
  {
   "cell_type": "code",
   "execution_count": 140,
   "id": "acff8f77",
   "metadata": {},
   "outputs": [],
   "source": [
    "def getPlaylistId(youtube, channelsId):\n",
    "\n",
    "    '''\n",
    "    Get list of all playlist for given list of channels Id  and save result in dict\n",
    "\n",
    "    return:\n",
    "\n",
    "        df (DataFrame): dataframe withe the following columns\n",
    "            plylistId | title | description | itmCount | channelId\n",
    "\n",
    "    '''\n",
    "    pl_dict = {'playlistId':[], 'title': [], 'description': [] ,'itmCount':[], 'publishedAt': [],'channelId':[]}\n",
    "\n",
    "    \n",
    "    for channelId in channelsId:\n",
    "        \n",
    "        nextPageToken = None\n",
    "        \n",
    "        while True:\n",
    "\n",
    "            request = youtube.playlists().list(\n",
    "                part ='contentDetails, snippet',\n",
    "                channelId=channelId,\n",
    "                maxResults=50,\n",
    "                pageToken=nextPageToken,)\n",
    "            response = request.execute()\n",
    "\n",
    "\n",
    "            for item in response['items']:\n",
    "\n",
    "                pl_dict['playlistId'].append(item['id'])\n",
    "                pl_dict['title'].append(item['snippet']['title'])\n",
    "                pl_dict['description'].append(item['snippet']['description'])\n",
    "                pl_dict['publishedAt'].append(item['snippet']['publishedAt'])\n",
    "                pl_dict['itmCount'].append(item['contentDetails']['itemCount'])\n",
    "                pl_dict['channelId'].append(channelId)\n",
    "\n",
    "            nextPageToken = response.get('nextPageToken')\n",
    "\n",
    "            if not nextPageToken:\n",
    "\n",
    "                break\n",
    "\n",
    "        #df = pd.DataFrame.from_dict(pl_dict)\n",
    "\n",
    "    return pl_dict"
   ]
  },
  {
   "cell_type": "code",
   "execution_count": 131,
   "id": "fb1fe700",
   "metadata": {},
   "outputs": [],
   "source": [
    "channels_id_list = summery_df.channelId.values"
   ]
  },
  {
   "cell_type": "code",
   "execution_count": 132,
   "id": "897c5ad7",
   "metadata": {},
   "outputs": [
    {
     "data": {
      "text/plain": [
       "68"
      ]
     },
     "execution_count": 132,
     "metadata": {},
     "output_type": "execute_result"
    }
   ],
   "source": [
    "len(channels_id_list)"
   ]
  },
  {
   "cell_type": "code",
   "execution_count": 141,
   "id": "9a993f79",
   "metadata": {},
   "outputs": [
    {
     "name": "stdout",
     "output_type": "stream",
     "text": [
      "10.29264235496521\n"
     ]
    }
   ],
   "source": [
    "from functools import partial\n",
    "start = time.time()\n",
    "\n",
    "pl_dic = map_reduce(channels_id_list, 8, partial(getPlaylistId, youtube), reducer)\n",
    "\n",
    "end = time.time()\n",
    "\n",
    "print(end - start)"
   ]
  },
  {
   "cell_type": "code",
   "execution_count": null,
   "id": "b1eb6a43",
   "metadata": {
    "scrolled": true
   },
   "outputs": [],
   "source": [
    "pl_dic"
   ]
  },
  {
   "cell_type": "code",
   "execution_count": 142,
   "id": "349ce9ab",
   "metadata": {},
   "outputs": [],
   "source": [
    "playlis_df = pd.DataFrame.from_dict(pl_dic)"
   ]
  },
  {
   "cell_type": "code",
   "execution_count": null,
   "id": "7f7cd36d",
   "metadata": {
    "scrolled": true
   },
   "outputs": [],
   "source": [
    "playlis_df"
   ]
  },
  {
   "cell_type": "code",
   "execution_count": 158,
   "id": "536fd387",
   "metadata": {},
   "outputs": [],
   "source": [
    "# save the DataFrame in csv file\n",
    "playlis_df.to_csv('playlistBD2.csv', index=False)"
   ]
  },
  {
   "cell_type": "code",
   "execution_count": 147,
   "id": "2be7f4c4",
   "metadata": {},
   "outputs": [],
   "source": [
    "playlist_id_list = playlis_df.playlistId.values"
   ]
  },
  {
   "cell_type": "code",
   "execution_count": 146,
   "id": "9070d57f",
   "metadata": {},
   "outputs": [
    {
     "data": {
      "text/plain": [
       "4002"
      ]
     },
     "execution_count": 146,
     "metadata": {},
     "output_type": "execute_result"
    }
   ],
   "source": [
    "len(playlist_id_list)"
   ]
  },
  {
   "cell_type": "code",
   "execution_count": 156,
   "id": "e723fe01",
   "metadata": {},
   "outputs": [],
   "source": [
    "def getPlaylistItems(youtube, playlists_id):\n",
    "    '''\n",
    "    return videos id  in given  playlist\n",
    "    Args:\n",
    "        youtube (youtube api): youtube api\n",
    "    playlist_id (string): the playlist id\n",
    "    return dic: {video_id: list ,playlist_id: list}\n",
    "    '''\n",
    "\n",
    "    \n",
    "    playlist_items = {'videoId': [], 'playlistId': []}\n",
    "    \n",
    "    for playlist_id in playlists_id:\n",
    "\n",
    "        nextPageToken = None\n",
    "        while True:\n",
    "            pl_request = youtube.playlistItems().list(\n",
    "                part ='contentDetails',\n",
    "                playlistId=playlist_id,\n",
    "                maxResults=50,\n",
    "                pageToken=nextPageToken,\n",
    "                )\n",
    "\n",
    "            pl_response = pl_request.execute()\n",
    "\n",
    "\n",
    "            for item in pl_response['items']:\n",
    "\n",
    "                video_id = item['contentDetails']['videoId']\n",
    "                playlist_items['playlistId'].append(playlist_id)\n",
    "                playlist_items['videoId'].append(video_id) # video can in more then one playlist\n",
    "\n",
    "\n",
    "\n",
    "\n",
    "            nextPageToken = pl_response.get('nextPageToken')\n",
    "\n",
    "            if not nextPageToken:\n",
    "                break\n",
    "\n",
    "    return playlist_items"
   ]
  },
  {
   "cell_type": "code",
   "execution_count": 157,
   "id": "cd5c8733",
   "metadata": {},
   "outputs": [
    {
     "name": "stdout",
     "output_type": "stream",
     "text": [
      "38.88629937171936\n"
     ]
    }
   ],
   "source": [
    "start = time.time()\n",
    "\n",
    "pl_item_dic = map_reduce(playlist_id_list, 8, partial(getPlaylistItems, youtube), reducer)\n",
    "\n",
    "end = time.time()\n",
    "\n",
    "print(end - start)"
   ]
  },
  {
   "cell_type": "code",
   "execution_count": null,
   "id": "2ef14143",
   "metadata": {
    "scrolled": true
   },
   "outputs": [],
   "source": [
    "pl_item_dic"
   ]
  },
  {
   "cell_type": "code",
   "execution_count": 160,
   "id": "ca4d169b",
   "metadata": {},
   "outputs": [],
   "source": [
    "pl_item_df = pd.DataFrame.from_dict(pl_item_dic)"
   ]
  },
  {
   "cell_type": "code",
   "execution_count": null,
   "id": "47903fd0",
   "metadata": {
    "scrolled": true
   },
   "outputs": [],
   "source": [
    "pl_item_df"
   ]
  },
  {
   "cell_type": "code",
   "execution_count": 163,
   "id": "43c38955",
   "metadata": {},
   "outputs": [
    {
     "data": {
      "text/plain": [
       "39925"
      ]
     },
     "execution_count": 163,
     "metadata": {},
     "output_type": "execute_result"
    }
   ],
   "source": [
    "len(pl_item_df.videoId.unique())"
   ]
  },
  {
   "cell_type": "markdown",
   "id": "7444ad65",
   "metadata": {},
   "source": [
    "The video can be included in several playlists or not included in any playlist."
   ]
  },
  {
   "cell_type": "code",
   "execution_count": 165,
   "id": "c6049d50",
   "metadata": {},
   "outputs": [],
   "source": [
    "pl_item_df.to_csv('playlistItemsDB2.csv', index=False)"
   ]
  }
 ],
 "metadata": {
  "kernelspec": {
   "display_name": "Python 3",
   "language": "python",
   "name": "python3"
  },
  "language_info": {
   "codemirror_mode": {
    "name": "ipython",
    "version": 3
   },
   "file_extension": ".py",
   "mimetype": "text/x-python",
   "name": "python",
   "nbconvert_exporter": "python",
   "pygments_lexer": "ipython3",
   "version": "3.8.6"
  }
 },
 "nbformat": 4,
 "nbformat_minor": 5
}
