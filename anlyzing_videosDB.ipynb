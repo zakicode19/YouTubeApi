{
 "cells": [
  {
   "cell_type": "markdown",
   "id": "e2b02fcc",
   "metadata": {},
   "source": [
    "# Analyzing the data set of YouTube videos\n",
    " \n",
    "We can look for the most popular videos on the channel, the most watched playlist, the relationship between duration and number of views,the relationship between video duration and number of comments, the ratio between likes and dislikes. "
   ]
  },
  {
   "cell_type": "code",
   "execution_count": null,
   "id": "c314bee6",
   "metadata": {},
   "outputs": [],
   "source": []
  }
 ],
 "metadata": {
  "kernelspec": {
   "display_name": "Python 3",
   "language": "python",
   "name": "python3"
  },
  "language_info": {
   "codemirror_mode": {
    "name": "ipython",
    "version": 3
   },
   "file_extension": ".py",
   "mimetype": "text/x-python",
   "name": "python",
   "nbconvert_exporter": "python",
   "pygments_lexer": "ipython3",
   "version": "3.8.10"
  }
 },
 "nbformat": 4,
 "nbformat_minor": 5
}
