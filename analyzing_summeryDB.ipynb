{
 "cells": [
  {
   "cell_type": "markdown",
   "id": "1cdf6573",
   "metadata": {
    "id": "1cdf6573"
   },
   "source": [
    "# Analyzing the data set of YouTube channels\n",
    " \n",
    "In this part of the project, we will use data science tools to clean and analyze the `summeryDB` dataset.\n",
    "The dataset was create in [channels_statistics](channels_statistics.ipynb) jubyter notebook.\n"
   ]
  },
  {
   "cell_type": "markdown",
   "id": "f54f4212",
   "metadata": {
    "id": "f54f4212"
   },
   "source": [
    "### Table of Contents\n",
    "\n",
    "* [Imports](#chapter0)\n",
    "* [Data preparation](#chapter1)\n",
    "  * [Exploring the data](#section1)\n",
    "  * [Cleaning the data](#section2)\n",
    "  * [Adding new features](#section3)\n",
    "* [Creating Visualizations](#chapter2)\n",
    "* [The next step](#chaptern)"
   ]
  },
  {
   "cell_type": "markdown",
   "id": "5k2WeXP3gsNf",
   "metadata": {
    "id": "5k2WeXP3gsNf"
   },
   "source": [
    "### Imports <a class='anchor' id='chapter0'>\n",
    "\n",
    "In this section we will  import the  libraries we need."
   ]
  },
  {
   "cell_type": "code",
   "execution_count": 2,
   "id": "b3b2284b",
   "metadata": {
    "id": "b3b2284b"
   },
   "outputs": [],
   "source": [
    "\n",
    "import datetime as dt\n",
    "import pandas as pd\n",
    "import seaborn as sns\n",
    "import re\n",
    "from datetime import date\n",
    "import json\n",
    "import matplotlib.pyplot as plt\n",
    "\n",
    "\n",
    "%matplotlib inline\n"
   ]
  },
  {
   "cell_type": "markdown",
   "id": "hO7GAEEujQIw",
   "metadata": {
    "id": "hO7GAEEujQIw"
   },
   "source": [
    "### Data preparation <a class='anchor' id='chapter1'>"
   ]
  },
  {
   "cell_type": "code",
   "execution_count": 4,
   "id": "N-E98z9NjiZC",
   "metadata": {
    "id": "N-E98z9NjiZC"
   },
   "outputs": [],
   "source": [
    "summery_df = pd.read_csv('data/summeryDB.csv')"
   ]
  },
  {
   "cell_type": "markdown",
   "id": "YP2hRRyNjb4x",
   "metadata": {
    "id": "YP2hRRyNjb4x"
   },
   "source": [
    "#### Exploring the data <a class='anchor' id='section1'>"
   ]
  },
  {
   "cell_type": "code",
   "execution_count": 3,
   "id": "1T8TSYq1jPQe",
   "metadata": {
    "colab": {
     "base_uri": "https://localhost:8080/",
     "height": 556
    },
    "id": "1T8TSYq1jPQe",
    "outputId": "59e66fcb-4c14-4779-a88d-f0231fe60a0c"
   },
   "outputs": [
    {
     "data": {
      "text/html": [
       "<div>\n",
       "<style scoped>\n",
       "    .dataframe tbody tr th:only-of-type {\n",
       "        vertical-align: middle;\n",
       "    }\n",
       "\n",
       "    .dataframe tbody tr th {\n",
       "        vertical-align: top;\n",
       "    }\n",
       "\n",
       "    .dataframe thead th {\n",
       "        text-align: right;\n",
       "    }\n",
       "</style>\n",
       "<table border=\"1\" class=\"dataframe\">\n",
       "  <thead>\n",
       "    <tr style=\"text-align: right;\">\n",
       "      <th></th>\n",
       "      <th>channelName</th>\n",
       "      <th>title</th>\n",
       "      <th>channelId</th>\n",
       "      <th>kind</th>\n",
       "      <th>url</th>\n",
       "      <th>gender</th>\n",
       "      <th>rank</th>\n",
       "      <th>description</th>\n",
       "      <th>country</th>\n",
       "      <th>viewCount</th>\n",
       "      <th>subscriberCount</th>\n",
       "      <th>videoCount</th>\n",
       "      <th>publishedAt</th>\n",
       "      <th>uploads</th>\n",
       "    </tr>\n",
       "  </thead>\n",
       "  <tbody>\n",
       "    <tr>\n",
       "      <th>0</th>\n",
       "      <td>Programming with Mosh</td>\n",
       "      <td>Programming with Mosh</td>\n",
       "      <td>UCWv7vMbMWH4-V0ZXdmDpPBA</td>\n",
       "      <td>youtube#channel</td>\n",
       "      <td>https://www.youtube.com/c/programmingwithmosh/...</td>\n",
       "      <td>Male</td>\n",
       "      <td>1</td>\n",
       "      <td>I train professional software engineers that c...</td>\n",
       "      <td>AU</td>\n",
       "      <td>82263182</td>\n",
       "      <td>1830000</td>\n",
       "      <td>161</td>\n",
       "      <td>2014-10-07T00:40:53Z</td>\n",
       "      <td>UUWv7vMbMWH4-V0ZXdmDpPBA</td>\n",
       "    </tr>\n",
       "    <tr>\n",
       "      <th>1</th>\n",
       "      <td>Traversy Media</td>\n",
       "      <td>Traversy Media</td>\n",
       "      <td>UC29ju8bIPH5as8OGnQzwJyA</td>\n",
       "      <td>youtube#channel</td>\n",
       "      <td>https://www.youtube.com/user/TechGuyWeb</td>\n",
       "      <td>Male</td>\n",
       "      <td>2</td>\n",
       "      <td>Traversy Media features the best online web de...</td>\n",
       "      <td>US</td>\n",
       "      <td>142390124</td>\n",
       "      <td>1560000</td>\n",
       "      <td>881</td>\n",
       "      <td>2009-10-30T21:33:14Z</td>\n",
       "      <td>UU29ju8bIPH5as8OGnQzwJyA</td>\n",
       "    </tr>\n",
       "    <tr>\n",
       "      <th>2</th>\n",
       "      <td>Corey Schafer</td>\n",
       "      <td>Corey Schafer</td>\n",
       "      <td>UCCezIgC97PvUuR4_gbFUs5g</td>\n",
       "      <td>youtube#channel</td>\n",
       "      <td>https://www.youtube.com/user/schafer5</td>\n",
       "      <td>Male</td>\n",
       "      <td>3</td>\n",
       "      <td>Welcome to my Channel. This channel is focused...</td>\n",
       "      <td>US</td>\n",
       "      <td>58863870</td>\n",
       "      <td>792000</td>\n",
       "      <td>230</td>\n",
       "      <td>2006-05-31T22:49:22Z</td>\n",
       "      <td>UUCezIgC97PvUuR4_gbFUs5g</td>\n",
       "    </tr>\n",
       "    <tr>\n",
       "      <th>3</th>\n",
       "      <td>Tech With Tim</td>\n",
       "      <td>Tech With Tim</td>\n",
       "      <td>UC4JX40jDee_tINbkjycV4Sg</td>\n",
       "      <td>youtube#channel</td>\n",
       "      <td>https://m.youtube.com/channel/UC4JX40jDee_tINb...</td>\n",
       "      <td>Male</td>\n",
       "      <td>4</td>\n",
       "      <td>Learn programming, software engineering, machi...</td>\n",
       "      <td>CA</td>\n",
       "      <td>51968790</td>\n",
       "      <td>680000</td>\n",
       "      <td>602</td>\n",
       "      <td>2014-04-23T01:57:10Z</td>\n",
       "      <td>UU4JX40jDee_tINbkjycV4Sg</td>\n",
       "    </tr>\n",
       "    <tr>\n",
       "      <th>4</th>\n",
       "      <td>Krish Naik</td>\n",
       "      <td>Krish Naik</td>\n",
       "      <td>UCNU_lfiiWBdtULKOw6X0Dig</td>\n",
       "      <td>youtube#channel</td>\n",
       "      <td>https://www.youtube.com/user/krishnaik06/playl...</td>\n",
       "      <td>Male</td>\n",
       "      <td>5</td>\n",
       "      <td>I work as a Lead Data Scientist, pioneering in...</td>\n",
       "      <td>IN</td>\n",
       "      <td>28303465</td>\n",
       "      <td>390000</td>\n",
       "      <td>1102</td>\n",
       "      <td>2012-02-11T04:05:06Z</td>\n",
       "      <td>UUNU_lfiiWBdtULKOw6X0Dig</td>\n",
       "    </tr>\n",
       "  </tbody>\n",
       "</table>\n",
       "</div>"
      ],
      "text/plain": [
       "             channelName                  title                 channelId  \\\n",
       "0  Programming with Mosh  Programming with Mosh  UCWv7vMbMWH4-V0ZXdmDpPBA   \n",
       "1         Traversy Media         Traversy Media  UC29ju8bIPH5as8OGnQzwJyA   \n",
       "2          Corey Schafer          Corey Schafer  UCCezIgC97PvUuR4_gbFUs5g   \n",
       "3          Tech With Tim          Tech With Tim  UC4JX40jDee_tINbkjycV4Sg   \n",
       "4             Krish Naik             Krish Naik  UCNU_lfiiWBdtULKOw6X0Dig   \n",
       "\n",
       "              kind                                                url gender  \\\n",
       "0  youtube#channel  https://www.youtube.com/c/programmingwithmosh/...   Male   \n",
       "1  youtube#channel            https://www.youtube.com/user/TechGuyWeb   Male   \n",
       "2  youtube#channel              https://www.youtube.com/user/schafer5   Male   \n",
       "3  youtube#channel  https://m.youtube.com/channel/UC4JX40jDee_tINb...   Male   \n",
       "4  youtube#channel  https://www.youtube.com/user/krishnaik06/playl...   Male   \n",
       "\n",
       "   rank                                        description country  viewCount  \\\n",
       "0     1  I train professional software engineers that c...      AU   82263182   \n",
       "1     2  Traversy Media features the best online web de...      US  142390124   \n",
       "2     3  Welcome to my Channel. This channel is focused...      US   58863870   \n",
       "3     4  Learn programming, software engineering, machi...      CA   51968790   \n",
       "4     5  I work as a Lead Data Scientist, pioneering in...      IN   28303465   \n",
       "\n",
       "   subscriberCount  videoCount           publishedAt                   uploads  \n",
       "0          1830000         161  2014-10-07T00:40:53Z  UUWv7vMbMWH4-V0ZXdmDpPBA  \n",
       "1          1560000         881  2009-10-30T21:33:14Z  UU29ju8bIPH5as8OGnQzwJyA  \n",
       "2           792000         230  2006-05-31T22:49:22Z  UUCezIgC97PvUuR4_gbFUs5g  \n",
       "3           680000         602  2014-04-23T01:57:10Z  UU4JX40jDee_tINbkjycV4Sg  \n",
       "4           390000        1102  2012-02-11T04:05:06Z  UUNU_lfiiWBdtULKOw6X0Dig  "
      ]
     },
     "execution_count": 3,
     "metadata": {},
     "output_type": "execute_result"
    }
   ],
   "source": [
    "summery_df.head()"
   ]
  },
  {
   "cell_type": "code",
   "execution_count": 5,
   "id": "91735657",
   "metadata": {
    "colab": {
     "base_uri": "https://localhost:8080/"
    },
    "id": "91735657",
    "outputId": "c9c7b9e9-bce5-4b70-de59-3ec1824fdbf1",
    "scrolled": true
   },
   "outputs": [
    {
     "name": "stdout",
     "output_type": "stream",
     "text": [
      "<class 'pandas.core.frame.DataFrame'>\n",
      "RangeIndex: 67 entries, 0 to 66\n",
      "Data columns (total 14 columns):\n",
      " #   Column           Non-Null Count  Dtype \n",
      "---  ------           --------------  ----- \n",
      " 0   channelName      67 non-null     object\n",
      " 1   title            67 non-null     object\n",
      " 2   channelId        67 non-null     object\n",
      " 3   kind             67 non-null     object\n",
      " 4   url              67 non-null     object\n",
      " 5   gender           65 non-null     object\n",
      " 6   rank             67 non-null     int64 \n",
      " 7   description      66 non-null     object\n",
      " 8   country          62 non-null     object\n",
      " 9   viewCount        67 non-null     int64 \n",
      " 10  subscriberCount  67 non-null     int64 \n",
      " 11  videoCount       67 non-null     int64 \n",
      " 12  publishedAt      67 non-null     object\n",
      " 13  uploads          67 non-null     object\n",
      "dtypes: int64(4), object(10)\n",
      "memory usage: 7.5+ KB\n"
     ]
    }
   ],
   "source": [
    "summery_df.info()"
   ]
  },
  {
   "cell_type": "markdown",
   "id": "i3Pk2gc7qVw0",
   "metadata": {
    "id": "i3Pk2gc7qVw0"
   },
   "source": [
    "We notice one missing value in the `description` column, and five in the `country` column."
   ]
  },
  {
   "cell_type": "code",
   "execution_count": 5,
   "id": "pq3V9Xbgjv8K",
   "metadata": {
    "colab": {
     "base_uri": "https://localhost:8080/",
     "height": 484
    },
    "id": "pq3V9Xbgjv8K",
    "outputId": "807cf4c6-83fb-4d24-f157-38dabe8a9fa9"
   },
   "outputs": [
    {
     "data": {
      "text/html": [
       "<div>\n",
       "<style scoped>\n",
       "    .dataframe tbody tr th:only-of-type {\n",
       "        vertical-align: middle;\n",
       "    }\n",
       "\n",
       "    .dataframe tbody tr th {\n",
       "        vertical-align: top;\n",
       "    }\n",
       "\n",
       "    .dataframe thead th {\n",
       "        text-align: right;\n",
       "    }\n",
       "</style>\n",
       "<table border=\"1\" class=\"dataframe\">\n",
       "  <thead>\n",
       "    <tr style=\"text-align: right;\">\n",
       "      <th></th>\n",
       "      <th>channelName</th>\n",
       "      <th>title</th>\n",
       "      <th>channelId</th>\n",
       "      <th>kind</th>\n",
       "      <th>url</th>\n",
       "      <th>gender</th>\n",
       "      <th>rank</th>\n",
       "      <th>description</th>\n",
       "      <th>country</th>\n",
       "      <th>viewCount</th>\n",
       "      <th>subscriberCount</th>\n",
       "      <th>videoCount</th>\n",
       "      <th>publishedAt</th>\n",
       "      <th>uploads</th>\n",
       "    </tr>\n",
       "  </thead>\n",
       "  <tbody>\n",
       "    <tr>\n",
       "      <th>count</th>\n",
       "      <td>67</td>\n",
       "      <td>67</td>\n",
       "      <td>67</td>\n",
       "      <td>67</td>\n",
       "      <td>67</td>\n",
       "      <td>65</td>\n",
       "      <td>67.000000</td>\n",
       "      <td>66</td>\n",
       "      <td>62</td>\n",
       "      <td>6.700000e+01</td>\n",
       "      <td>6.700000e+01</td>\n",
       "      <td>67.000000</td>\n",
       "      <td>67</td>\n",
       "      <td>67</td>\n",
       "    </tr>\n",
       "    <tr>\n",
       "      <th>unique</th>\n",
       "      <td>67</td>\n",
       "      <td>67</td>\n",
       "      <td>67</td>\n",
       "      <td>1</td>\n",
       "      <td>67</td>\n",
       "      <td>2</td>\n",
       "      <td>NaN</td>\n",
       "      <td>66</td>\n",
       "      <td>14</td>\n",
       "      <td>NaN</td>\n",
       "      <td>NaN</td>\n",
       "      <td>NaN</td>\n",
       "      <td>67</td>\n",
       "      <td>67</td>\n",
       "    </tr>\n",
       "    <tr>\n",
       "      <th>top</th>\n",
       "      <td>Joshua Fluke</td>\n",
       "      <td>Papaya Coders</td>\n",
       "      <td>UCRPMAqdtSgd0Ipeef7iFsKw</td>\n",
       "      <td>youtube#channel</td>\n",
       "      <td>https://www.youtube.com/channel/UCgzKCeDYLRzPh...</td>\n",
       "      <td>Male</td>\n",
       "      <td>NaN</td>\n",
       "      <td>Hello! My name is YK, and I usually make video...</td>\n",
       "      <td>US</td>\n",
       "      <td>NaN</td>\n",
       "      <td>NaN</td>\n",
       "      <td>NaN</td>\n",
       "      <td>2018-03-02T23:31:14Z</td>\n",
       "      <td>UU4JX40jDee_tINbkjycV4Sg</td>\n",
       "    </tr>\n",
       "    <tr>\n",
       "      <th>freq</th>\n",
       "      <td>1</td>\n",
       "      <td>1</td>\n",
       "      <td>1</td>\n",
       "      <td>67</td>\n",
       "      <td>1</td>\n",
       "      <td>63</td>\n",
       "      <td>NaN</td>\n",
       "      <td>1</td>\n",
       "      <td>31</td>\n",
       "      <td>NaN</td>\n",
       "      <td>NaN</td>\n",
       "      <td>NaN</td>\n",
       "      <td>1</td>\n",
       "      <td>1</td>\n",
       "    </tr>\n",
       "    <tr>\n",
       "      <th>mean</th>\n",
       "      <td>NaN</td>\n",
       "      <td>NaN</td>\n",
       "      <td>NaN</td>\n",
       "      <td>NaN</td>\n",
       "      <td>NaN</td>\n",
       "      <td>NaN</td>\n",
       "      <td>35.402985</td>\n",
       "      <td>NaN</td>\n",
       "      <td>NaN</td>\n",
       "      <td>5.147115e+07</td>\n",
       "      <td>6.675544e+05</td>\n",
       "      <td>732.701493</td>\n",
       "      <td>NaN</td>\n",
       "      <td>NaN</td>\n",
       "    </tr>\n",
       "    <tr>\n",
       "      <th>std</th>\n",
       "      <td>NaN</td>\n",
       "      <td>NaN</td>\n",
       "      <td>NaN</td>\n",
       "      <td>NaN</td>\n",
       "      <td>NaN</td>\n",
       "      <td>NaN</td>\n",
       "      <td>20.769339</td>\n",
       "      <td>NaN</td>\n",
       "      <td>NaN</td>\n",
       "      <td>8.177646e+07</td>\n",
       "      <td>1.024389e+06</td>\n",
       "      <td>1992.965105</td>\n",
       "      <td>NaN</td>\n",
       "      <td>NaN</td>\n",
       "    </tr>\n",
       "    <tr>\n",
       "      <th>min</th>\n",
       "      <td>NaN</td>\n",
       "      <td>NaN</td>\n",
       "      <td>NaN</td>\n",
       "      <td>NaN</td>\n",
       "      <td>NaN</td>\n",
       "      <td>NaN</td>\n",
       "      <td>1.000000</td>\n",
       "      <td>NaN</td>\n",
       "      <td>NaN</td>\n",
       "      <td>5.709000e+03</td>\n",
       "      <td>8.600000e+01</td>\n",
       "      <td>24.000000</td>\n",
       "      <td>NaN</td>\n",
       "      <td>NaN</td>\n",
       "    </tr>\n",
       "    <tr>\n",
       "      <th>25%</th>\n",
       "      <td>NaN</td>\n",
       "      <td>NaN</td>\n",
       "      <td>NaN</td>\n",
       "      <td>NaN</td>\n",
       "      <td>NaN</td>\n",
       "      <td>NaN</td>\n",
       "      <td>17.500000</td>\n",
       "      <td>NaN</td>\n",
       "      <td>NaN</td>\n",
       "      <td>7.020058e+06</td>\n",
       "      <td>1.095000e+05</td>\n",
       "      <td>153.500000</td>\n",
       "      <td>NaN</td>\n",
       "      <td>NaN</td>\n",
       "    </tr>\n",
       "    <tr>\n",
       "      <th>50%</th>\n",
       "      <td>NaN</td>\n",
       "      <td>NaN</td>\n",
       "      <td>NaN</td>\n",
       "      <td>NaN</td>\n",
       "      <td>NaN</td>\n",
       "      <td>NaN</td>\n",
       "      <td>35.000000</td>\n",
       "      <td>NaN</td>\n",
       "      <td>NaN</td>\n",
       "      <td>2.056215e+07</td>\n",
       "      <td>3.220000e+05</td>\n",
       "      <td>320.000000</td>\n",
       "      <td>NaN</td>\n",
       "      <td>NaN</td>\n",
       "    </tr>\n",
       "    <tr>\n",
       "      <th>75%</th>\n",
       "      <td>NaN</td>\n",
       "      <td>NaN</td>\n",
       "      <td>NaN</td>\n",
       "      <td>NaN</td>\n",
       "      <td>NaN</td>\n",
       "      <td>NaN</td>\n",
       "      <td>53.500000</td>\n",
       "      <td>NaN</td>\n",
       "      <td>NaN</td>\n",
       "      <td>5.763584e+07</td>\n",
       "      <td>7.575000e+05</td>\n",
       "      <td>879.500000</td>\n",
       "      <td>NaN</td>\n",
       "      <td>NaN</td>\n",
       "    </tr>\n",
       "    <tr>\n",
       "      <th>max</th>\n",
       "      <td>NaN</td>\n",
       "      <td>NaN</td>\n",
       "      <td>NaN</td>\n",
       "      <td>NaN</td>\n",
       "      <td>NaN</td>\n",
       "      <td>NaN</td>\n",
       "      <td>71.000000</td>\n",
       "      <td>NaN</td>\n",
       "      <td>NaN</td>\n",
       "      <td>5.169480e+08</td>\n",
       "      <td>6.270000e+06</td>\n",
       "      <td>16443.000000</td>\n",
       "      <td>NaN</td>\n",
       "      <td>NaN</td>\n",
       "    </tr>\n",
       "  </tbody>\n",
       "</table>\n",
       "</div>"
      ],
      "text/plain": [
       "         channelName          title                 channelId  \\\n",
       "count             67             67                        67   \n",
       "unique            67             67                        67   \n",
       "top     Joshua Fluke  Papaya Coders  UCRPMAqdtSgd0Ipeef7iFsKw   \n",
       "freq               1              1                         1   \n",
       "mean             NaN            NaN                       NaN   \n",
       "std              NaN            NaN                       NaN   \n",
       "min              NaN            NaN                       NaN   \n",
       "25%              NaN            NaN                       NaN   \n",
       "50%              NaN            NaN                       NaN   \n",
       "75%              NaN            NaN                       NaN   \n",
       "max              NaN            NaN                       NaN   \n",
       "\n",
       "                   kind                                                url  \\\n",
       "count                67                                                 67   \n",
       "unique                1                                                 67   \n",
       "top     youtube#channel  https://www.youtube.com/channel/UCgzKCeDYLRzPh...   \n",
       "freq                 67                                                  1   \n",
       "mean                NaN                                                NaN   \n",
       "std                 NaN                                                NaN   \n",
       "min                 NaN                                                NaN   \n",
       "25%                 NaN                                                NaN   \n",
       "50%                 NaN                                                NaN   \n",
       "75%                 NaN                                                NaN   \n",
       "max                 NaN                                                NaN   \n",
       "\n",
       "       gender       rank                                        description  \\\n",
       "count      65  67.000000                                                 66   \n",
       "unique      2        NaN                                                 66   \n",
       "top      Male        NaN  Hello! My name is YK, and I usually make video...   \n",
       "freq       63        NaN                                                  1   \n",
       "mean      NaN  35.402985                                                NaN   \n",
       "std       NaN  20.769339                                                NaN   \n",
       "min       NaN   1.000000                                                NaN   \n",
       "25%       NaN  17.500000                                                NaN   \n",
       "50%       NaN  35.000000                                                NaN   \n",
       "75%       NaN  53.500000                                                NaN   \n",
       "max       NaN  71.000000                                                NaN   \n",
       "\n",
       "       country     viewCount  subscriberCount    videoCount  \\\n",
       "count       62  6.700000e+01     6.700000e+01     67.000000   \n",
       "unique      14           NaN              NaN           NaN   \n",
       "top         US           NaN              NaN           NaN   \n",
       "freq        31           NaN              NaN           NaN   \n",
       "mean       NaN  5.147115e+07     6.675544e+05    732.701493   \n",
       "std        NaN  8.177646e+07     1.024389e+06   1992.965105   \n",
       "min        NaN  5.709000e+03     8.600000e+01     24.000000   \n",
       "25%        NaN  7.020058e+06     1.095000e+05    153.500000   \n",
       "50%        NaN  2.056215e+07     3.220000e+05    320.000000   \n",
       "75%        NaN  5.763584e+07     7.575000e+05    879.500000   \n",
       "max        NaN  5.169480e+08     6.270000e+06  16443.000000   \n",
       "\n",
       "                 publishedAt                   uploads  \n",
       "count                     67                        67  \n",
       "unique                    67                        67  \n",
       "top     2018-03-02T23:31:14Z  UU4JX40jDee_tINbkjycV4Sg  \n",
       "freq                       1                         1  \n",
       "mean                     NaN                       NaN  \n",
       "std                      NaN                       NaN  \n",
       "min                      NaN                       NaN  \n",
       "25%                      NaN                       NaN  \n",
       "50%                      NaN                       NaN  \n",
       "75%                      NaN                       NaN  \n",
       "max                      NaN                       NaN  "
      ]
     },
     "execution_count": 5,
     "metadata": {},
     "output_type": "execute_result"
    }
   ],
   "source": [
    "summery_df.describe(include='all')"
   ]
  },
  {
   "cell_type": "markdown",
   "id": "v3JQqQWWr3i-",
   "metadata": {
    "id": "v3JQqQWWr3i-"
   },
   "source": [
    "The column `kind` contine only one category. The coulum can easly be droped.   \n",
    "We are going to change datetime format of the `publshedAt` column to yyyy-mm-dd."
   ]
  },
  {
   "cell_type": "markdown",
   "id": "Tldia2bKmMrm",
   "metadata": {
    "id": "Tldia2bKmMrm"
   },
   "source": [
    "#### Cleaning the data <a class='anchor' id='section2'>"
   ]
  },
  {
   "cell_type": "markdown",
   "id": "Ku-gp7_RuceT",
   "metadata": {
    "id": "Ku-gp7_RuceT"
   },
   "source": [
    "Let's display rows missing values."
   ]
  },
  {
   "cell_type": "code",
   "execution_count": 6,
   "id": "llUvNfF4uNlJ",
   "metadata": {
    "colab": {
     "base_uri": "https://localhost:8080/",
     "height": 501
    },
    "id": "llUvNfF4uNlJ",
    "outputId": "e6b69d38-28c6-4fd4-fdff-ce705dea1549"
   },
   "outputs": [
    {
     "data": {
      "text/html": [
       "<div>\n",
       "<style scoped>\n",
       "    .dataframe tbody tr th:only-of-type {\n",
       "        vertical-align: middle;\n",
       "    }\n",
       "\n",
       "    .dataframe tbody tr th {\n",
       "        vertical-align: top;\n",
       "    }\n",
       "\n",
       "    .dataframe thead th {\n",
       "        text-align: right;\n",
       "    }\n",
       "</style>\n",
       "<table border=\"1\" class=\"dataframe\">\n",
       "  <thead>\n",
       "    <tr style=\"text-align: right;\">\n",
       "      <th></th>\n",
       "      <th>channelName</th>\n",
       "      <th>title</th>\n",
       "      <th>channelId</th>\n",
       "      <th>kind</th>\n",
       "      <th>url</th>\n",
       "      <th>gender</th>\n",
       "      <th>rank</th>\n",
       "      <th>description</th>\n",
       "      <th>country</th>\n",
       "      <th>viewCount</th>\n",
       "      <th>subscriberCount</th>\n",
       "      <th>videoCount</th>\n",
       "      <th>publishedAt</th>\n",
       "      <th>uploads</th>\n",
       "    </tr>\n",
       "  </thead>\n",
       "  <tbody>\n",
       "    <tr>\n",
       "      <th>5</th>\n",
       "      <td>freeCodeCamp.org</td>\n",
       "      <td>freeCodeCamp.org</td>\n",
       "      <td>UC8butISFwT-Wl7EV0hUK0BQ</td>\n",
       "      <td>youtube#channel</td>\n",
       "      <td>https://www.youtube.com/channel/UC8butISFwT-Wl...</td>\n",
       "      <td>NaN</td>\n",
       "      <td>6</td>\n",
       "      <td>Learn to code for free.</td>\n",
       "      <td>US</td>\n",
       "      <td>197380290</td>\n",
       "      <td>3780000</td>\n",
       "      <td>1164</td>\n",
       "      <td>2014-12-16T21:18:48Z</td>\n",
       "      <td>UU8butISFwT-Wl7EV0hUK0BQ</td>\n",
       "    </tr>\n",
       "    <tr>\n",
       "      <th>20</th>\n",
       "      <td>Kalle Hallden</td>\n",
       "      <td>Kalle Hallden</td>\n",
       "      <td>UCWr0mx597DnSGLFk1WfvSkQ</td>\n",
       "      <td>youtube#channel</td>\n",
       "      <td>https://www.youtube.com/channel/UCWr0mx597DnSG...</td>\n",
       "      <td>Male</td>\n",
       "      <td>21</td>\n",
       "      <td>Hi, I am 300 moons old. I count everything in ...</td>\n",
       "      <td>NaN</td>\n",
       "      <td>33062991</td>\n",
       "      <td>514000</td>\n",
       "      <td>190</td>\n",
       "      <td>2015-10-18T20:39:56Z</td>\n",
       "      <td>UUWr0mx597DnSGLFk1WfvSkQ</td>\n",
       "    </tr>\n",
       "    <tr>\n",
       "      <th>33</th>\n",
       "      <td>Scott Hansellman</td>\n",
       "      <td>Scott Hanselman</td>\n",
       "      <td>UCL-fHOdarou-CR2XUmK48Og</td>\n",
       "      <td>youtube#channel</td>\n",
       "      <td>https://www.youtube.com/user/shanselman</td>\n",
       "      <td>Male</td>\n",
       "      <td>35</td>\n",
       "      <td>I'm a teacher. I speak all over to whomever wi...</td>\n",
       "      <td>NaN</td>\n",
       "      <td>8995924</td>\n",
       "      <td>125000</td>\n",
       "      <td>313</td>\n",
       "      <td>2006-03-15T10:14:39Z</td>\n",
       "      <td>UUL-fHOdarou-CR2XUmK48Og</td>\n",
       "    </tr>\n",
       "    <tr>\n",
       "      <th>39</th>\n",
       "      <td>CodingEntrepreneurs</td>\n",
       "      <td>CodingEntrepreneurs</td>\n",
       "      <td>UCWEHue8kksIaktO8KTTN_zg</td>\n",
       "      <td>youtube#channel</td>\n",
       "      <td>https://www.youtube.com/user/CodingEntrepreneurs</td>\n",
       "      <td>Male</td>\n",
       "      <td>42</td>\n",
       "      <td>Coding for Entrepreneurs is a Programming Seri...</td>\n",
       "      <td>NaN</td>\n",
       "      <td>15831903</td>\n",
       "      <td>179000</td>\n",
       "      <td>671</td>\n",
       "      <td>2013-06-30T00:56:13Z</td>\n",
       "      <td>UUWEHue8kksIaktO8KTTN_zg</td>\n",
       "    </tr>\n",
       "    <tr>\n",
       "      <th>49</th>\n",
       "      <td>Chris Coyier</td>\n",
       "      <td>Chris Coyier</td>\n",
       "      <td>UCADyUOnhyEoQqrw_RrsGleA</td>\n",
       "      <td>youtube#channel</td>\n",
       "      <td>https://www.youtube.com/user/realcsstricks</td>\n",
       "      <td>Male</td>\n",
       "      <td>53</td>\n",
       "      <td>This is the official YouTube channel for CSS-T...</td>\n",
       "      <td>NaN</td>\n",
       "      <td>3651883</td>\n",
       "      <td>59600</td>\n",
       "      <td>292</td>\n",
       "      <td>2011-05-12T01:53:15Z</td>\n",
       "      <td>UUADyUOnhyEoQqrw_RrsGleA</td>\n",
       "    </tr>\n",
       "    <tr>\n",
       "      <th>53</th>\n",
       "      <td>chuck severance</td>\n",
       "      <td>Chuck Severance</td>\n",
       "      <td>UChYfrRp_CWyqOt-ZYJGOgmA</td>\n",
       "      <td>youtube#channel</td>\n",
       "      <td>https://m.youtube.com/user/csev</td>\n",
       "      <td>Male</td>\n",
       "      <td>57</td>\n",
       "      <td>NaN</td>\n",
       "      <td>NaN</td>\n",
       "      <td>7776775</td>\n",
       "      <td>62100</td>\n",
       "      <td>878</td>\n",
       "      <td>2006-08-19T14:24:00Z</td>\n",
       "      <td>UUhYfrRp_CWyqOt-ZYJGOgmA</td>\n",
       "    </tr>\n",
       "    <tr>\n",
       "      <th>65</th>\n",
       "      <td>durga software solutions</td>\n",
       "      <td>Durga Software Solutions</td>\n",
       "      <td>UCbjozK_PYCTLEluFlrJ8UZg</td>\n",
       "      <td>youtube#channel</td>\n",
       "      <td>https://www.youtube.com/c/DurgaSoftwareSolutions</td>\n",
       "      <td>NaN</td>\n",
       "      <td>70</td>\n",
       "      <td>DURGA Software Solutions is an Institute, whic...</td>\n",
       "      <td>IN</td>\n",
       "      <td>124800178</td>\n",
       "      <td>582000</td>\n",
       "      <td>16443</td>\n",
       "      <td>2014-02-03T04:15:47Z</td>\n",
       "      <td>UUbjozK_PYCTLEluFlrJ8UZg</td>\n",
       "    </tr>\n",
       "  </tbody>\n",
       "</table>\n",
       "</div>"
      ],
      "text/plain": [
       "                 channelName                     title  \\\n",
       "5           freeCodeCamp.org          freeCodeCamp.org   \n",
       "20             Kalle Hallden             Kalle Hallden   \n",
       "33          Scott Hansellman           Scott Hanselman   \n",
       "39       CodingEntrepreneurs       CodingEntrepreneurs   \n",
       "49              Chris Coyier              Chris Coyier   \n",
       "53           chuck severance           Chuck Severance   \n",
       "65  durga software solutions  Durga Software Solutions   \n",
       "\n",
       "                   channelId             kind  \\\n",
       "5   UC8butISFwT-Wl7EV0hUK0BQ  youtube#channel   \n",
       "20  UCWr0mx597DnSGLFk1WfvSkQ  youtube#channel   \n",
       "33  UCL-fHOdarou-CR2XUmK48Og  youtube#channel   \n",
       "39  UCWEHue8kksIaktO8KTTN_zg  youtube#channel   \n",
       "49  UCADyUOnhyEoQqrw_RrsGleA  youtube#channel   \n",
       "53  UChYfrRp_CWyqOt-ZYJGOgmA  youtube#channel   \n",
       "65  UCbjozK_PYCTLEluFlrJ8UZg  youtube#channel   \n",
       "\n",
       "                                                  url gender  rank  \\\n",
       "5   https://www.youtube.com/channel/UC8butISFwT-Wl...    NaN     6   \n",
       "20  https://www.youtube.com/channel/UCWr0mx597DnSG...   Male    21   \n",
       "33            https://www.youtube.com/user/shanselman   Male    35   \n",
       "39   https://www.youtube.com/user/CodingEntrepreneurs   Male    42   \n",
       "49         https://www.youtube.com/user/realcsstricks   Male    53   \n",
       "53                    https://m.youtube.com/user/csev   Male    57   \n",
       "65   https://www.youtube.com/c/DurgaSoftwareSolutions    NaN    70   \n",
       "\n",
       "                                          description country  viewCount  \\\n",
       "5                             Learn to code for free.      US  197380290   \n",
       "20  Hi, I am 300 moons old. I count everything in ...     NaN   33062991   \n",
       "33  I'm a teacher. I speak all over to whomever wi...     NaN    8995924   \n",
       "39  Coding for Entrepreneurs is a Programming Seri...     NaN   15831903   \n",
       "49  This is the official YouTube channel for CSS-T...     NaN    3651883   \n",
       "53                                                NaN     NaN    7776775   \n",
       "65  DURGA Software Solutions is an Institute, whic...      IN  124800178   \n",
       "\n",
       "    subscriberCount  videoCount           publishedAt  \\\n",
       "5           3780000        1164  2014-12-16T21:18:48Z   \n",
       "20           514000         190  2015-10-18T20:39:56Z   \n",
       "33           125000         313  2006-03-15T10:14:39Z   \n",
       "39           179000         671  2013-06-30T00:56:13Z   \n",
       "49            59600         292  2011-05-12T01:53:15Z   \n",
       "53            62100         878  2006-08-19T14:24:00Z   \n",
       "65           582000       16443  2014-02-03T04:15:47Z   \n",
       "\n",
       "                     uploads  \n",
       "5   UU8butISFwT-Wl7EV0hUK0BQ  \n",
       "20  UUWr0mx597DnSGLFk1WfvSkQ  \n",
       "33  UUL-fHOdarou-CR2XUmK48Og  \n",
       "39  UUWEHue8kksIaktO8KTTN_zg  \n",
       "49  UUADyUOnhyEoQqrw_RrsGleA  \n",
       "53  UUhYfrRp_CWyqOt-ZYJGOgmA  \n",
       "65  UUbjozK_PYCTLEluFlrJ8UZg  "
      ]
     },
     "execution_count": 6,
     "metadata": {},
     "output_type": "execute_result"
    }
   ],
   "source": [
    "summery_df[summery_df.isnull().any(axis=1)]"
   ]
  },
  {
   "cell_type": "code",
   "execution_count": 7,
   "id": "69e86c8b",
   "metadata": {
    "colab": {
     "base_uri": "https://localhost:8080/"
    },
    "id": "69e86c8b",
    "outputId": "17d30bfa-ecd3-47aa-f962-a730718c8edd",
    "scrolled": false
   },
   "outputs": [
    {
     "data": {
      "text/plain": [
       "US    31\n",
       "IN    11\n",
       "CA     5\n",
       "AU     3\n",
       "GB     2\n",
       "NO     2\n",
       "DE     1\n",
       "PE     1\n",
       "PK     1\n",
       "KR     1\n",
       "EE     1\n",
       "RO     1\n",
       "DK     1\n",
       "PL     1\n",
       "Name: country, dtype: int64"
      ]
     },
     "execution_count": 7,
     "metadata": {},
     "output_type": "execute_result"
    }
   ],
   "source": [
    "country_count = summery_df.country.value_counts()\n",
    "country_count"
   ]
  },
  {
   "cell_type": "markdown",
   "id": "XUSd8CoK4uZM",
   "metadata": {
    "id": "XUSd8CoK4uZM"
   },
   "source": [
    "The `US` is the `mode` of the `country` column, we can just replace the missing value in this column with `US`. \n",
    "```\n",
    "summery_df['country'] = summery_df['country'].fillna(summery_df['country'].mode()[0])\n",
    "```\n",
    "Since we only have five missing values, we can check the YouTube web page for channels with a missing value to see if we can find  the missing values.   \n",
    "After quick research we find all missing value in the country column, the missing values were all `US` (big suprise)."
   ]
  },
  {
   "cell_type": "code",
   "execution_count": 8,
   "id": "grDhJ9qWCJx8",
   "metadata": {
    "id": "grDhJ9qWCJx8"
   },
   "outputs": [],
   "source": [
    "#filling the missing data\n",
    "summery_df.country.fillna('US', inplace=True) #.value_counts()"
   ]
  },
  {
   "cell_type": "code",
   "execution_count": 9,
   "id": "OkPJZeDCClr7",
   "metadata": {
    "colab": {
     "base_uri": "https://localhost:8080/"
    },
    "id": "OkPJZeDCClr7",
    "outputId": "3f201fd6-637b-4ca9-c9c4-a1f22d018ac7"
   },
   "outputs": [
    {
     "data": {
      "text/plain": [
       "US    36\n",
       "IN    11\n",
       "CA     5\n",
       "AU     3\n",
       "GB     2\n",
       "NO     2\n",
       "DE     1\n",
       "PE     1\n",
       "PK     1\n",
       "KR     1\n",
       "EE     1\n",
       "RO     1\n",
       "DK     1\n",
       "PL     1\n",
       "Name: country, dtype: int64"
      ]
     },
     "execution_count": 9,
     "metadata": {},
     "output_type": "execute_result"
    }
   ],
   "source": [
    "country_count = summery_df.country.value_counts()\n",
    "country_count"
   ]
  },
  {
   "cell_type": "code",
   "execution_count": 10,
   "id": "bGXAN75hIdsG",
   "metadata": {
    "colab": {
     "base_uri": "https://localhost:8080/"
    },
    "id": "bGXAN75hIdsG",
    "outputId": "d371aa7e-5d9e-4872-c763-cbe9c453e5ba"
   },
   "outputs": [
    {
     "name": "stdout",
     "output_type": "stream",
     "text": [
      "<class 'pandas.core.frame.DataFrame'>\n",
      "RangeIndex: 67 entries, 0 to 66\n",
      "Data columns (total 14 columns):\n",
      " #   Column           Non-Null Count  Dtype \n",
      "---  ------           --------------  ----- \n",
      " 0   channelName      67 non-null     object\n",
      " 1   title            67 non-null     object\n",
      " 2   channelId        67 non-null     object\n",
      " 3   kind             67 non-null     object\n",
      " 4   url              67 non-null     object\n",
      " 5   gender           65 non-null     object\n",
      " 6   rank             67 non-null     int64 \n",
      " 7   description      66 non-null     object\n",
      " 8   country          67 non-null     object\n",
      " 9   viewCount        67 non-null     int64 \n",
      " 10  subscriberCount  67 non-null     int64 \n",
      " 11  videoCount       67 non-null     int64 \n",
      " 12  publishedAt      67 non-null     object\n",
      " 13  uploads          67 non-null     object\n",
      "dtypes: int64(4), object(10)\n",
      "memory usage: 7.5+ KB\n"
     ]
    }
   ],
   "source": [
    "summery_df.info()"
   ]
  },
  {
   "cell_type": "markdown",
   "id": "Jge-dlXGDvaH",
   "metadata": {
    "id": "Jge-dlXGDvaH"
   },
   "source": [
    "we will convert the type of `viewCount`, `subscriCount` and `videoCount` columns to `int`."
   ]
  },
  {
   "cell_type": "code",
   "execution_count": 11,
   "id": "IK1uQIL7JIZs",
   "metadata": {
    "id": "IK1uQIL7JIZs"
   },
   "outputs": [],
   "source": [
    "summery_df = summery_df.astype({'viewCount':'int64', 'subscriberCount':'int32', 'videoCount':'int32'}).copy()"
   ]
  },
  {
   "cell_type": "markdown",
   "id": "RggTsjYOJpDr",
   "metadata": {
    "id": "RggTsjYOJpDr"
   },
   "source": [
    "we convert the type of `publishedAt` column to `datetime` type and keep only the date part, to result we be saved in new column `publishedDate`."
   ]
  },
  {
   "cell_type": "code",
   "execution_count": 12,
   "id": "TgXo1QusJqXj",
   "metadata": {
    "id": "TgXo1QusJqXj"
   },
   "outputs": [],
   "source": [
    "summery_df['publishedDate'] = pd.to_datetime(pd.to_datetime(summery_df.publishedAt).dt.date)"
   ]
  },
  {
   "cell_type": "code",
   "execution_count": 13,
   "id": "wjRvvJU3J-sy",
   "metadata": {
    "colab": {
     "base_uri": "https://localhost:8080/"
    },
    "id": "wjRvvJU3J-sy",
    "outputId": "cd31f707-55cd-4d1d-9941-548187ec77e2"
   },
   "outputs": [
    {
     "name": "stdout",
     "output_type": "stream",
     "text": [
      "<class 'pandas.core.frame.DataFrame'>\n",
      "RangeIndex: 67 entries, 0 to 66\n",
      "Data columns (total 15 columns):\n",
      " #   Column           Non-Null Count  Dtype         \n",
      "---  ------           --------------  -----         \n",
      " 0   channelName      67 non-null     object        \n",
      " 1   title            67 non-null     object        \n",
      " 2   channelId        67 non-null     object        \n",
      " 3   kind             67 non-null     object        \n",
      " 4   url              67 non-null     object        \n",
      " 5   gender           65 non-null     object        \n",
      " 6   rank             67 non-null     int64         \n",
      " 7   description      66 non-null     object        \n",
      " 8   country          67 non-null     object        \n",
      " 9   viewCount        67 non-null     int64         \n",
      " 10  subscriberCount  67 non-null     int32         \n",
      " 11  videoCount       67 non-null     int32         \n",
      " 12  publishedAt      67 non-null     object        \n",
      " 13  uploads          67 non-null     object        \n",
      " 14  publishedDate    67 non-null     datetime64[ns]\n",
      "dtypes: datetime64[ns](1), int32(2), int64(2), object(10)\n",
      "memory usage: 7.5+ KB\n"
     ]
    }
   ],
   "source": [
    "summery_df.info()"
   ]
  },
  {
   "cell_type": "code",
   "execution_count": 14,
   "id": "asiq3ybPKF0t",
   "metadata": {
    "colab": {
     "base_uri": "https://localhost:8080/"
    },
    "id": "asiq3ybPKF0t",
    "outputId": "fbd357fe-34bb-4e05-ee47-c8d29688f89e"
   },
   "outputs": [
    {
     "data": {
      "text/plain": [
       "youtube#channel    67\n",
       "Name: kind, dtype: int64"
      ]
     },
     "execution_count": 14,
     "metadata": {},
     "output_type": "execute_result"
    }
   ],
   "source": [
    "summery_df.kind.value_counts()"
   ]
  },
  {
   "cell_type": "markdown",
   "id": "K38sjvYRHByg",
   "metadata": {
    "id": "K38sjvYRHByg"
   },
   "source": [
    "We will drop `kind` column."
   ]
  },
  {
   "cell_type": "code",
   "execution_count": 15,
   "id": "roiAs4qiKaSl",
   "metadata": {
    "id": "roiAs4qiKaSl"
   },
   "outputs": [],
   "source": [
    "summery_df.drop('kind', axis=1, inplace=True)"
   ]
  },
  {
   "cell_type": "markdown",
   "id": "PT3s5Ci-nA09",
   "metadata": {
    "id": "PT3s5Ci-nA09"
   },
   "source": [
    "#### Adding new features <a class='anchor' id='section3'>"
   ]
  },
  {
   "cell_type": "markdown",
   "id": "smeLTZ9mHURT",
   "metadata": {
    "id": "smeLTZ9mHURT"
   },
   "source": [
    "Adding new features to a data set can improve the performance of a model. "
   ]
  },
  {
   "cell_type": "code",
   "execution_count": 16,
   "id": "Y29r6UqEnAi_",
   "metadata": {
    "colab": {
     "base_uri": "https://localhost:8080/"
    },
    "id": "Y29r6UqEnAi_",
    "outputId": "a964765f-6443-4499-cbe7-d273aaae239c"
   },
   "outputs": [],
   "source": [
    "country_count = summery_df.country.value_counts()\n"
   ]
  },
  {
   "cell_type": "markdown",
   "id": "51cc3c56",
   "metadata": {
    "id": "51cc3c56"
   },
   "source": [
    "##### Country name column"
   ]
  },
  {
   "cell_type": "markdown",
   "id": "x6FjkIIgwS7O",
   "metadata": {
    "id": "x6FjkIIgwS7O"
   },
   "source": [
    "It will be easier to recognize the country if we add the country name instead of only having the country code.  \n",
    "In [The two-letter country code](country_abbreviation.ipynb) jupyter notebook, we have created a database that associates each country with the corresponding country code. This dataset will be used to create the new column `country` and the current column `country` will be renamed `countryCode`."
   ]
  },
  {
   "cell_type": "code",
   "execution_count": 17,
   "id": "12f46be7",
   "metadata": {
    "id": "12f46be7"
   },
   "outputs": [],
   "source": [
    "country_code = pd.read_csv('data/two_letter_country_code.csv', index_col=0,  squeeze=True)"
   ]
  },
  {
   "cell_type": "code",
   "execution_count": 18,
   "id": "iy_N9iOSv88l",
   "metadata": {
    "colab": {
     "base_uri": "https://localhost:8080/"
    },
    "id": "iy_N9iOSv88l",
    "outputId": "c4c77727-d891-4ad2-ac4a-1e4f0baa056f"
   },
   "outputs": [
    {
     "data": {
      "text/plain": [
       "ISO 3166 ALPHA-2\n",
       "AF       Afghanistan\n",
       "AX     Aland Islands\n",
       "AL           Albania\n",
       "DZ           Algeria\n",
       "AS    American Samoa\n",
       "Name: Country, dtype: object"
      ]
     },
     "execution_count": 18,
     "metadata": {},
     "output_type": "execute_result"
    }
   ],
   "source": [
    "country_code.head()"
   ]
  },
  {
   "cell_type": "code",
   "execution_count": 19,
   "id": "178b7491",
   "metadata": {
    "colab": {
     "base_uri": "https://localhost:8080/"
    },
    "id": "178b7491",
    "outputId": "bf97badc-c58f-475b-f1f7-845a63332bd5"
   },
   "outputs": [
    {
     "data": {
      "text/plain": [
       "Index(['US', 'IN', 'CA', 'AU', 'GB', 'NO', 'DE', 'PE', 'PK', 'KR', 'EE', 'RO',\n",
       "       'DK', 'PL'],\n",
       "      dtype='object')"
      ]
     },
     "execution_count": 19,
     "metadata": {},
     "output_type": "execute_result"
    }
   ],
   "source": [
    "country_list = country_count.index\n",
    "country_list"
   ]
  },
  {
   "cell_type": "markdown",
   "id": "123b32b7",
   "metadata": {
    "id": "123b32b7"
   },
   "source": [
    "Map the country code to the country name."
   ]
  },
  {
   "cell_type": "code",
   "execution_count": 20,
   "id": "a4afd2ec",
   "metadata": {
    "id": "a4afd2ec"
   },
   "outputs": [],
   "source": [
    "country_map = {index:country_code[index] for index in country_list}"
   ]
  },
  {
   "cell_type": "code",
   "execution_count": 21,
   "id": "c6a8c1ac",
   "metadata": {
    "colab": {
     "base_uri": "https://localhost:8080/"
    },
    "id": "c6a8c1ac",
    "outputId": "8c906f29-5036-4f6a-ec6f-07c0515d71a4",
    "scrolled": false
   },
   "outputs": [
    {
     "data": {
      "text/plain": [
       "{'US': 'United States',\n",
       " 'IN': 'India',\n",
       " 'CA': 'Canada',\n",
       " 'AU': 'Australia',\n",
       " 'GB': 'United Kingdom',\n",
       " 'NO': 'Norway',\n",
       " 'DE': 'Germany',\n",
       " 'PE': 'Peru',\n",
       " 'PK': 'Pakistan',\n",
       " 'KR': 'South Korea',\n",
       " 'EE': 'Estonia',\n",
       " 'RO': 'Romania',\n",
       " 'DK': 'Denmark',\n",
       " 'PL': 'Poland'}"
      ]
     },
     "execution_count": 21,
     "metadata": {},
     "output_type": "execute_result"
    }
   ],
   "source": [
    "country_map"
   ]
  },
  {
   "cell_type": "markdown",
   "id": "4e43eda5",
   "metadata": {
    "id": "4e43eda5"
   },
   "source": [
    "Groupe all the country with a single channel to a category called `Other`."
   ]
  },
  {
   "cell_type": "code",
   "execution_count": 22,
   "id": "c245d52d",
   "metadata": {
    "id": "c245d52d"
   },
   "outputs": [],
   "source": [
    "country_map2 = {index:country_code[index]  if country_count.loc[index] > 1 else 'Other' for index in country_list}"
   ]
  },
  {
   "cell_type": "code",
   "execution_count": 23,
   "id": "31e855af",
   "metadata": {
    "colab": {
     "base_uri": "https://localhost:8080/"
    },
    "id": "31e855af",
    "outputId": "90978327-43ca-4970-9db9-58674fd35d82"
   },
   "outputs": [
    {
     "data": {
      "text/plain": [
       "{'US': 'United States',\n",
       " 'IN': 'India',\n",
       " 'CA': 'Canada',\n",
       " 'AU': 'Australia',\n",
       " 'GB': 'United Kingdom',\n",
       " 'NO': 'Norway',\n",
       " 'DE': 'Other',\n",
       " 'PE': 'Other',\n",
       " 'PK': 'Other',\n",
       " 'KR': 'Other',\n",
       " 'EE': 'Other',\n",
       " 'RO': 'Other',\n",
       " 'DK': 'Other',\n",
       " 'PL': 'Other'}"
      ]
     },
     "execution_count": 23,
     "metadata": {},
     "output_type": "execute_result"
    }
   ],
   "source": [
    "country_map2"
   ]
  },
  {
   "cell_type": "markdown",
   "id": "e9a5bf3d",
   "metadata": {
    "id": "e9a5bf3d"
   },
   "source": [
    "Rename the current `country` column to `countryCode`."
   ]
  },
  {
   "cell_type": "code",
   "execution_count": 24,
   "id": "bf04b49d",
   "metadata": {
    "id": "bf04b49d"
   },
   "outputs": [],
   "source": [
    "summery_df.rename({'country':'countryCode'}, axis=1, inplace=True)"
   ]
  },
  {
   "cell_type": "markdown",
   "id": "1b1fd3e4",
   "metadata": {
    "id": "1b1fd3e4"
   },
   "source": [
    "Create the new `country` column."
   ]
  },
  {
   "cell_type": "code",
   "execution_count": 25,
   "id": "c2497f3d",
   "metadata": {
    "id": "c2497f3d"
   },
   "outputs": [],
   "source": [
    "summery_df['country'] = summery_df.countryCode.map(country_map)"
   ]
  },
  {
   "cell_type": "markdown",
   "id": "44b32c4b",
   "metadata": {
    "id": "44b32c4b"
   },
   "source": [
    "Create  new column called `countryOther`."
   ]
  },
  {
   "cell_type": "code",
   "execution_count": 26,
   "id": "3d433cdc",
   "metadata": {
    "id": "3d433cdc"
   },
   "outputs": [],
   "source": [
    "summery_df['countryOther'] = summery_df.countryCode.map(country_map2)"
   ]
  },
  {
   "cell_type": "code",
   "execution_count": 27,
   "id": "29c3aa4a",
   "metadata": {
    "colab": {
     "base_uri": "https://localhost:8080/",
     "height": 556
    },
    "id": "29c3aa4a",
    "outputId": "f150ef53-c33c-404c-a070-c07416c7b798",
    "scrolled": true
   },
   "outputs": [
    {
     "data": {
      "text/html": [
       "<div>\n",
       "<style scoped>\n",
       "    .dataframe tbody tr th:only-of-type {\n",
       "        vertical-align: middle;\n",
       "    }\n",
       "\n",
       "    .dataframe tbody tr th {\n",
       "        vertical-align: top;\n",
       "    }\n",
       "\n",
       "    .dataframe thead th {\n",
       "        text-align: right;\n",
       "    }\n",
       "</style>\n",
       "<table border=\"1\" class=\"dataframe\">\n",
       "  <thead>\n",
       "    <tr style=\"text-align: right;\">\n",
       "      <th></th>\n",
       "      <th>channelName</th>\n",
       "      <th>title</th>\n",
       "      <th>channelId</th>\n",
       "      <th>url</th>\n",
       "      <th>gender</th>\n",
       "      <th>rank</th>\n",
       "      <th>description</th>\n",
       "      <th>countryCode</th>\n",
       "      <th>viewCount</th>\n",
       "      <th>subscriberCount</th>\n",
       "      <th>videoCount</th>\n",
       "      <th>publishedAt</th>\n",
       "      <th>uploads</th>\n",
       "      <th>publishedDate</th>\n",
       "      <th>country</th>\n",
       "      <th>countryOther</th>\n",
       "    </tr>\n",
       "  </thead>\n",
       "  <tbody>\n",
       "    <tr>\n",
       "      <th>0</th>\n",
       "      <td>Programming with Mosh</td>\n",
       "      <td>Programming with Mosh</td>\n",
       "      <td>UCWv7vMbMWH4-V0ZXdmDpPBA</td>\n",
       "      <td>https://www.youtube.com/c/programmingwithmosh/...</td>\n",
       "      <td>Male</td>\n",
       "      <td>1</td>\n",
       "      <td>I train professional software engineers that c...</td>\n",
       "      <td>AU</td>\n",
       "      <td>82263182</td>\n",
       "      <td>1830000</td>\n",
       "      <td>161</td>\n",
       "      <td>2014-10-07T00:40:53Z</td>\n",
       "      <td>UUWv7vMbMWH4-V0ZXdmDpPBA</td>\n",
       "      <td>2014-10-07</td>\n",
       "      <td>Australia</td>\n",
       "      <td>Australia</td>\n",
       "    </tr>\n",
       "    <tr>\n",
       "      <th>1</th>\n",
       "      <td>Traversy Media</td>\n",
       "      <td>Traversy Media</td>\n",
       "      <td>UC29ju8bIPH5as8OGnQzwJyA</td>\n",
       "      <td>https://www.youtube.com/user/TechGuyWeb</td>\n",
       "      <td>Male</td>\n",
       "      <td>2</td>\n",
       "      <td>Traversy Media features the best online web de...</td>\n",
       "      <td>US</td>\n",
       "      <td>142390124</td>\n",
       "      <td>1560000</td>\n",
       "      <td>881</td>\n",
       "      <td>2009-10-30T21:33:14Z</td>\n",
       "      <td>UU29ju8bIPH5as8OGnQzwJyA</td>\n",
       "      <td>2009-10-30</td>\n",
       "      <td>United States</td>\n",
       "      <td>United States</td>\n",
       "    </tr>\n",
       "    <tr>\n",
       "      <th>2</th>\n",
       "      <td>Corey Schafer</td>\n",
       "      <td>Corey Schafer</td>\n",
       "      <td>UCCezIgC97PvUuR4_gbFUs5g</td>\n",
       "      <td>https://www.youtube.com/user/schafer5</td>\n",
       "      <td>Male</td>\n",
       "      <td>3</td>\n",
       "      <td>Welcome to my Channel. This channel is focused...</td>\n",
       "      <td>US</td>\n",
       "      <td>58863870</td>\n",
       "      <td>792000</td>\n",
       "      <td>230</td>\n",
       "      <td>2006-05-31T22:49:22Z</td>\n",
       "      <td>UUCezIgC97PvUuR4_gbFUs5g</td>\n",
       "      <td>2006-05-31</td>\n",
       "      <td>United States</td>\n",
       "      <td>United States</td>\n",
       "    </tr>\n",
       "    <tr>\n",
       "      <th>3</th>\n",
       "      <td>Tech With Tim</td>\n",
       "      <td>Tech With Tim</td>\n",
       "      <td>UC4JX40jDee_tINbkjycV4Sg</td>\n",
       "      <td>https://m.youtube.com/channel/UC4JX40jDee_tINb...</td>\n",
       "      <td>Male</td>\n",
       "      <td>4</td>\n",
       "      <td>Learn programming, software engineering, machi...</td>\n",
       "      <td>CA</td>\n",
       "      <td>51968790</td>\n",
       "      <td>680000</td>\n",
       "      <td>602</td>\n",
       "      <td>2014-04-23T01:57:10Z</td>\n",
       "      <td>UU4JX40jDee_tINbkjycV4Sg</td>\n",
       "      <td>2014-04-23</td>\n",
       "      <td>Canada</td>\n",
       "      <td>Canada</td>\n",
       "    </tr>\n",
       "    <tr>\n",
       "      <th>4</th>\n",
       "      <td>Krish Naik</td>\n",
       "      <td>Krish Naik</td>\n",
       "      <td>UCNU_lfiiWBdtULKOw6X0Dig</td>\n",
       "      <td>https://www.youtube.com/user/krishnaik06/playl...</td>\n",
       "      <td>Male</td>\n",
       "      <td>5</td>\n",
       "      <td>I work as a Lead Data Scientist, pioneering in...</td>\n",
       "      <td>IN</td>\n",
       "      <td>28303465</td>\n",
       "      <td>390000</td>\n",
       "      <td>1102</td>\n",
       "      <td>2012-02-11T04:05:06Z</td>\n",
       "      <td>UUNU_lfiiWBdtULKOw6X0Dig</td>\n",
       "      <td>2012-02-11</td>\n",
       "      <td>India</td>\n",
       "      <td>India</td>\n",
       "    </tr>\n",
       "  </tbody>\n",
       "</table>\n",
       "</div>"
      ],
      "text/plain": [
       "             channelName                  title                 channelId  \\\n",
       "0  Programming with Mosh  Programming with Mosh  UCWv7vMbMWH4-V0ZXdmDpPBA   \n",
       "1         Traversy Media         Traversy Media  UC29ju8bIPH5as8OGnQzwJyA   \n",
       "2          Corey Schafer          Corey Schafer  UCCezIgC97PvUuR4_gbFUs5g   \n",
       "3          Tech With Tim          Tech With Tim  UC4JX40jDee_tINbkjycV4Sg   \n",
       "4             Krish Naik             Krish Naik  UCNU_lfiiWBdtULKOw6X0Dig   \n",
       "\n",
       "                                                 url gender  rank  \\\n",
       "0  https://www.youtube.com/c/programmingwithmosh/...   Male     1   \n",
       "1            https://www.youtube.com/user/TechGuyWeb   Male     2   \n",
       "2              https://www.youtube.com/user/schafer5   Male     3   \n",
       "3  https://m.youtube.com/channel/UC4JX40jDee_tINb...   Male     4   \n",
       "4  https://www.youtube.com/user/krishnaik06/playl...   Male     5   \n",
       "\n",
       "                                         description countryCode  viewCount  \\\n",
       "0  I train professional software engineers that c...          AU   82263182   \n",
       "1  Traversy Media features the best online web de...          US  142390124   \n",
       "2  Welcome to my Channel. This channel is focused...          US   58863870   \n",
       "3  Learn programming, software engineering, machi...          CA   51968790   \n",
       "4  I work as a Lead Data Scientist, pioneering in...          IN   28303465   \n",
       "\n",
       "   subscriberCount  videoCount           publishedAt  \\\n",
       "0          1830000         161  2014-10-07T00:40:53Z   \n",
       "1          1560000         881  2009-10-30T21:33:14Z   \n",
       "2           792000         230  2006-05-31T22:49:22Z   \n",
       "3           680000         602  2014-04-23T01:57:10Z   \n",
       "4           390000        1102  2012-02-11T04:05:06Z   \n",
       "\n",
       "                    uploads publishedDate        country   countryOther  \n",
       "0  UUWv7vMbMWH4-V0ZXdmDpPBA    2014-10-07      Australia      Australia  \n",
       "1  UU29ju8bIPH5as8OGnQzwJyA    2009-10-30  United States  United States  \n",
       "2  UUCezIgC97PvUuR4_gbFUs5g    2006-05-31  United States  United States  \n",
       "3  UU4JX40jDee_tINbkjycV4Sg    2014-04-23         Canada         Canada  \n",
       "4  UUNU_lfiiWBdtULKOw6X0Dig    2012-02-11          India          India  "
      ]
     },
     "execution_count": 27,
     "metadata": {},
     "output_type": "execute_result"
    }
   ],
   "source": [
    "summery_df.head(5)"
   ]
  },
  {
   "cell_type": "code",
   "execution_count": 28,
   "id": "Bb0ohGI4KNt5",
   "metadata": {
    "colab": {
     "base_uri": "https://localhost:8080/"
    },
    "id": "Bb0ohGI4KNt5",
    "outputId": "56018678-fa12-4995-ebf0-90fe945a16ff"
   },
   "outputs": [
    {
     "data": {
      "text/plain": [
       "United States     36\n",
       "India             11\n",
       "Other              8\n",
       "Canada             5\n",
       "Australia          3\n",
       "United Kingdom     2\n",
       "Norway             2\n",
       "Name: countryOther, dtype: int64"
      ]
     },
     "execution_count": 28,
     "metadata": {},
     "output_type": "execute_result"
    }
   ],
   "source": [
    "summery_df.countryOther.value_counts()"
   ]
  },
  {
   "cell_type": "code",
   "execution_count": 29,
   "id": "3d6dc396",
   "metadata": {
    "colab": {
     "base_uri": "https://localhost:8080/"
    },
    "id": "3d6dc396",
    "outputId": "04b2a9bc-7524-4332-fbe4-48d93e852ccf"
   },
   "outputs": [
    {
     "name": "stdout",
     "output_type": "stream",
     "text": [
      "<class 'pandas.core.frame.DataFrame'>\n",
      "RangeIndex: 67 entries, 0 to 66\n",
      "Data columns (total 16 columns):\n",
      " #   Column           Non-Null Count  Dtype         \n",
      "---  ------           --------------  -----         \n",
      " 0   channelName      67 non-null     object        \n",
      " 1   title            67 non-null     object        \n",
      " 2   channelId        67 non-null     object        \n",
      " 3   url              67 non-null     object        \n",
      " 4   gender           65 non-null     object        \n",
      " 5   rank             67 non-null     int64         \n",
      " 6   description      66 non-null     object        \n",
      " 7   countryCode      67 non-null     object        \n",
      " 8   viewCount        67 non-null     int64         \n",
      " 9   subscriberCount  67 non-null     int32         \n",
      " 10  videoCount       67 non-null     int32         \n",
      " 11  publishedAt      67 non-null     object        \n",
      " 12  uploads          67 non-null     object        \n",
      " 13  publishedDate    67 non-null     datetime64[ns]\n",
      " 14  country          67 non-null     object        \n",
      " 15  countryOther     67 non-null     object        \n",
      "dtypes: datetime64[ns](1), int32(2), int64(2), object(11)\n",
      "memory usage: 8.0+ KB\n"
     ]
    }
   ],
   "source": [
    "summery_df.info()"
   ]
  },
  {
   "cell_type": "markdown",
   "id": "tcsvzyocnTr1",
   "metadata": {
    "id": "tcsvzyocnTr1"
   },
   "source": [
    "##### Continent name column"
   ]
  },
  {
   "cell_type": "code",
   "execution_count": 30,
   "id": "451c2eb5",
   "metadata": {
    "id": "451c2eb5"
   },
   "outputs": [],
   "source": [
    "continent =  pd.read_csv('data/continent_country_code.csv', keep_default_na=False, index_col='a-2')"
   ]
  },
  {
   "cell_type": "code",
   "execution_count": 31,
   "id": "6e602a7e",
   "metadata": {
    "colab": {
     "base_uri": "https://localhost:8080/",
     "height": 238
    },
    "id": "6e602a7e",
    "outputId": "aad59157-3a01-4bde-8fc3-bbc580b99146"
   },
   "outputs": [
    {
     "data": {
      "text/html": [
       "<div>\n",
       "<style scoped>\n",
       "    .dataframe tbody tr th:only-of-type {\n",
       "        vertical-align: middle;\n",
       "    }\n",
       "\n",
       "    .dataframe tbody tr th {\n",
       "        vertical-align: top;\n",
       "    }\n",
       "\n",
       "    .dataframe thead th {\n",
       "        text-align: right;\n",
       "    }\n",
       "</style>\n",
       "<table border=\"1\" class=\"dataframe\">\n",
       "  <thead>\n",
       "    <tr style=\"text-align: right;\">\n",
       "      <th></th>\n",
       "      <th>CC</th>\n",
       "      <th>continent</th>\n",
       "    </tr>\n",
       "    <tr>\n",
       "      <th>a-2</th>\n",
       "      <th></th>\n",
       "      <th></th>\n",
       "    </tr>\n",
       "  </thead>\n",
       "  <tbody>\n",
       "    <tr>\n",
       "      <th>AF</th>\n",
       "      <td>AS</td>\n",
       "      <td>Asia</td>\n",
       "    </tr>\n",
       "    <tr>\n",
       "      <th>AL</th>\n",
       "      <td>EU</td>\n",
       "      <td>Europe</td>\n",
       "    </tr>\n",
       "    <tr>\n",
       "      <th>AQ</th>\n",
       "      <td>AN</td>\n",
       "      <td>Antarctica</td>\n",
       "    </tr>\n",
       "    <tr>\n",
       "      <th>DZ</th>\n",
       "      <td>AF</td>\n",
       "      <td>Africa</td>\n",
       "    </tr>\n",
       "    <tr>\n",
       "      <th>AS</th>\n",
       "      <td>OC</td>\n",
       "      <td>Oceania</td>\n",
       "    </tr>\n",
       "  </tbody>\n",
       "</table>\n",
       "</div>"
      ],
      "text/plain": [
       "     CC   continent\n",
       "a-2                \n",
       "AF   AS        Asia\n",
       "AL   EU      Europe\n",
       "AQ   AN  Antarctica\n",
       "DZ   AF      Africa\n",
       "AS   OC     Oceania"
      ]
     },
     "execution_count": 31,
     "metadata": {},
     "output_type": "execute_result"
    }
   ],
   "source": [
    "continent.head()"
   ]
  },
  {
   "cell_type": "markdown",
   "id": "daaf7cd6",
   "metadata": {
    "id": "daaf7cd6"
   },
   "source": [
    "Map the country  to continent name"
   ]
  },
  {
   "cell_type": "code",
   "execution_count": 32,
   "id": "10f00d87",
   "metadata": {
    "id": "10f00d87"
   },
   "outputs": [],
   "source": [
    "continent_map = {index:continent.continent[index] for index in country_list}"
   ]
  },
  {
   "cell_type": "code",
   "execution_count": 33,
   "id": "0ca4ccc6",
   "metadata": {
    "colab": {
     "base_uri": "https://localhost:8080/"
    },
    "id": "0ca4ccc6",
    "outputId": "3a4658fc-157c-4149-fad1-e8bcefb1dc34"
   },
   "outputs": [
    {
     "data": {
      "text/plain": [
       "{'US': 'North america',\n",
       " 'IN': 'Asia',\n",
       " 'CA': 'North america',\n",
       " 'AU': 'Oceania',\n",
       " 'GB': 'Europe',\n",
       " 'NO': 'Europe',\n",
       " 'DE': 'Europe',\n",
       " 'PE': 'South america',\n",
       " 'PK': 'Asia',\n",
       " 'KR': 'Asia',\n",
       " 'EE': 'Europe',\n",
       " 'RO': 'Europe',\n",
       " 'DK': 'Europe',\n",
       " 'PL': 'Europe'}"
      ]
     },
     "execution_count": 33,
     "metadata": {},
     "output_type": "execute_result"
    }
   ],
   "source": [
    "continent_map"
   ]
  },
  {
   "cell_type": "markdown",
   "id": "56e6508a",
   "metadata": {
    "id": "56e6508a"
   },
   "source": [
    "Create new column `continent`"
   ]
  },
  {
   "cell_type": "code",
   "execution_count": 34,
   "id": "7a8274e0",
   "metadata": {
    "id": "7a8274e0"
   },
   "outputs": [],
   "source": [
    "summery_df['continent'] = summery_df.countryCode.map(continent_map)"
   ]
  },
  {
   "cell_type": "code",
   "execution_count": 35,
   "id": "n5PFAoiAKbxV",
   "metadata": {
    "colab": {
     "base_uri": "https://localhost:8080/"
    },
    "id": "n5PFAoiAKbxV",
    "outputId": "4e5b7370-cb99-4a58-a66f-02d63f4bff3d"
   },
   "outputs": [
    {
     "data": {
      "text/plain": [
       "North america    41\n",
       "Asia             13\n",
       "Europe            9\n",
       "Oceania           3\n",
       "South america     1\n",
       "Name: continent, dtype: int64"
      ]
     },
     "execution_count": 35,
     "metadata": {},
     "output_type": "execute_result"
    }
   ],
   "source": [
    "summery_df['continent'].value_counts()"
   ]
  },
  {
   "cell_type": "code",
   "execution_count": 36,
   "id": "766a085b",
   "metadata": {
    "colab": {
     "base_uri": "https://localhost:8080/",
     "height": 556
    },
    "id": "766a085b",
    "outputId": "9f3e2640-b8fe-40bc-c04f-197d99f1b84a"
   },
   "outputs": [
    {
     "data": {
      "text/html": [
       "<div>\n",
       "<style scoped>\n",
       "    .dataframe tbody tr th:only-of-type {\n",
       "        vertical-align: middle;\n",
       "    }\n",
       "\n",
       "    .dataframe tbody tr th {\n",
       "        vertical-align: top;\n",
       "    }\n",
       "\n",
       "    .dataframe thead th {\n",
       "        text-align: right;\n",
       "    }\n",
       "</style>\n",
       "<table border=\"1\" class=\"dataframe\">\n",
       "  <thead>\n",
       "    <tr style=\"text-align: right;\">\n",
       "      <th></th>\n",
       "      <th>channelName</th>\n",
       "      <th>title</th>\n",
       "      <th>channelId</th>\n",
       "      <th>url</th>\n",
       "      <th>gender</th>\n",
       "      <th>rank</th>\n",
       "      <th>description</th>\n",
       "      <th>countryCode</th>\n",
       "      <th>viewCount</th>\n",
       "      <th>subscriberCount</th>\n",
       "      <th>videoCount</th>\n",
       "      <th>publishedAt</th>\n",
       "      <th>uploads</th>\n",
       "      <th>publishedDate</th>\n",
       "      <th>country</th>\n",
       "      <th>countryOther</th>\n",
       "      <th>continent</th>\n",
       "    </tr>\n",
       "  </thead>\n",
       "  <tbody>\n",
       "    <tr>\n",
       "      <th>0</th>\n",
       "      <td>Programming with Mosh</td>\n",
       "      <td>Programming with Mosh</td>\n",
       "      <td>UCWv7vMbMWH4-V0ZXdmDpPBA</td>\n",
       "      <td>https://www.youtube.com/c/programmingwithmosh/...</td>\n",
       "      <td>Male</td>\n",
       "      <td>1</td>\n",
       "      <td>I train professional software engineers that c...</td>\n",
       "      <td>AU</td>\n",
       "      <td>82263182</td>\n",
       "      <td>1830000</td>\n",
       "      <td>161</td>\n",
       "      <td>2014-10-07T00:40:53Z</td>\n",
       "      <td>UUWv7vMbMWH4-V0ZXdmDpPBA</td>\n",
       "      <td>2014-10-07</td>\n",
       "      <td>Australia</td>\n",
       "      <td>Australia</td>\n",
       "      <td>Oceania</td>\n",
       "    </tr>\n",
       "    <tr>\n",
       "      <th>1</th>\n",
       "      <td>Traversy Media</td>\n",
       "      <td>Traversy Media</td>\n",
       "      <td>UC29ju8bIPH5as8OGnQzwJyA</td>\n",
       "      <td>https://www.youtube.com/user/TechGuyWeb</td>\n",
       "      <td>Male</td>\n",
       "      <td>2</td>\n",
       "      <td>Traversy Media features the best online web de...</td>\n",
       "      <td>US</td>\n",
       "      <td>142390124</td>\n",
       "      <td>1560000</td>\n",
       "      <td>881</td>\n",
       "      <td>2009-10-30T21:33:14Z</td>\n",
       "      <td>UU29ju8bIPH5as8OGnQzwJyA</td>\n",
       "      <td>2009-10-30</td>\n",
       "      <td>United States</td>\n",
       "      <td>United States</td>\n",
       "      <td>North america</td>\n",
       "    </tr>\n",
       "    <tr>\n",
       "      <th>2</th>\n",
       "      <td>Corey Schafer</td>\n",
       "      <td>Corey Schafer</td>\n",
       "      <td>UCCezIgC97PvUuR4_gbFUs5g</td>\n",
       "      <td>https://www.youtube.com/user/schafer5</td>\n",
       "      <td>Male</td>\n",
       "      <td>3</td>\n",
       "      <td>Welcome to my Channel. This channel is focused...</td>\n",
       "      <td>US</td>\n",
       "      <td>58863870</td>\n",
       "      <td>792000</td>\n",
       "      <td>230</td>\n",
       "      <td>2006-05-31T22:49:22Z</td>\n",
       "      <td>UUCezIgC97PvUuR4_gbFUs5g</td>\n",
       "      <td>2006-05-31</td>\n",
       "      <td>United States</td>\n",
       "      <td>United States</td>\n",
       "      <td>North america</td>\n",
       "    </tr>\n",
       "    <tr>\n",
       "      <th>3</th>\n",
       "      <td>Tech With Tim</td>\n",
       "      <td>Tech With Tim</td>\n",
       "      <td>UC4JX40jDee_tINbkjycV4Sg</td>\n",
       "      <td>https://m.youtube.com/channel/UC4JX40jDee_tINb...</td>\n",
       "      <td>Male</td>\n",
       "      <td>4</td>\n",
       "      <td>Learn programming, software engineering, machi...</td>\n",
       "      <td>CA</td>\n",
       "      <td>51968790</td>\n",
       "      <td>680000</td>\n",
       "      <td>602</td>\n",
       "      <td>2014-04-23T01:57:10Z</td>\n",
       "      <td>UU4JX40jDee_tINbkjycV4Sg</td>\n",
       "      <td>2014-04-23</td>\n",
       "      <td>Canada</td>\n",
       "      <td>Canada</td>\n",
       "      <td>North america</td>\n",
       "    </tr>\n",
       "    <tr>\n",
       "      <th>4</th>\n",
       "      <td>Krish Naik</td>\n",
       "      <td>Krish Naik</td>\n",
       "      <td>UCNU_lfiiWBdtULKOw6X0Dig</td>\n",
       "      <td>https://www.youtube.com/user/krishnaik06/playl...</td>\n",
       "      <td>Male</td>\n",
       "      <td>5</td>\n",
       "      <td>I work as a Lead Data Scientist, pioneering in...</td>\n",
       "      <td>IN</td>\n",
       "      <td>28303465</td>\n",
       "      <td>390000</td>\n",
       "      <td>1102</td>\n",
       "      <td>2012-02-11T04:05:06Z</td>\n",
       "      <td>UUNU_lfiiWBdtULKOw6X0Dig</td>\n",
       "      <td>2012-02-11</td>\n",
       "      <td>India</td>\n",
       "      <td>India</td>\n",
       "      <td>Asia</td>\n",
       "    </tr>\n",
       "  </tbody>\n",
       "</table>\n",
       "</div>"
      ],
      "text/plain": [
       "             channelName                  title                 channelId  \\\n",
       "0  Programming with Mosh  Programming with Mosh  UCWv7vMbMWH4-V0ZXdmDpPBA   \n",
       "1         Traversy Media         Traversy Media  UC29ju8bIPH5as8OGnQzwJyA   \n",
       "2          Corey Schafer          Corey Schafer  UCCezIgC97PvUuR4_gbFUs5g   \n",
       "3          Tech With Tim          Tech With Tim  UC4JX40jDee_tINbkjycV4Sg   \n",
       "4             Krish Naik             Krish Naik  UCNU_lfiiWBdtULKOw6X0Dig   \n",
       "\n",
       "                                                 url gender  rank  \\\n",
       "0  https://www.youtube.com/c/programmingwithmosh/...   Male     1   \n",
       "1            https://www.youtube.com/user/TechGuyWeb   Male     2   \n",
       "2              https://www.youtube.com/user/schafer5   Male     3   \n",
       "3  https://m.youtube.com/channel/UC4JX40jDee_tINb...   Male     4   \n",
       "4  https://www.youtube.com/user/krishnaik06/playl...   Male     5   \n",
       "\n",
       "                                         description countryCode  viewCount  \\\n",
       "0  I train professional software engineers that c...          AU   82263182   \n",
       "1  Traversy Media features the best online web de...          US  142390124   \n",
       "2  Welcome to my Channel. This channel is focused...          US   58863870   \n",
       "3  Learn programming, software engineering, machi...          CA   51968790   \n",
       "4  I work as a Lead Data Scientist, pioneering in...          IN   28303465   \n",
       "\n",
       "   subscriberCount  videoCount           publishedAt  \\\n",
       "0          1830000         161  2014-10-07T00:40:53Z   \n",
       "1          1560000         881  2009-10-30T21:33:14Z   \n",
       "2           792000         230  2006-05-31T22:49:22Z   \n",
       "3           680000         602  2014-04-23T01:57:10Z   \n",
       "4           390000        1102  2012-02-11T04:05:06Z   \n",
       "\n",
       "                    uploads publishedDate        country   countryOther  \\\n",
       "0  UUWv7vMbMWH4-V0ZXdmDpPBA    2014-10-07      Australia      Australia   \n",
       "1  UU29ju8bIPH5as8OGnQzwJyA    2009-10-30  United States  United States   \n",
       "2  UUCezIgC97PvUuR4_gbFUs5g    2006-05-31  United States  United States   \n",
       "3  UU4JX40jDee_tINbkjycV4Sg    2014-04-23         Canada         Canada   \n",
       "4  UUNU_lfiiWBdtULKOw6X0Dig    2012-02-11          India          India   \n",
       "\n",
       "       continent  \n",
       "0        Oceania  \n",
       "1  North america  \n",
       "2  North america  \n",
       "3  North america  \n",
       "4           Asia  "
      ]
     },
     "execution_count": 36,
     "metadata": {},
     "output_type": "execute_result"
    }
   ],
   "source": [
    "summery_df.head()"
   ]
  },
  {
   "cell_type": "code",
   "execution_count": 37,
   "id": "7359a912",
   "metadata": {
    "colab": {
     "base_uri": "https://localhost:8080/"
    },
    "id": "7359a912",
    "outputId": "f41a1035-17c9-4d10-84c2-ec44f7cdf56a"
   },
   "outputs": [
    {
     "name": "stdout",
     "output_type": "stream",
     "text": [
      "<class 'pandas.core.frame.DataFrame'>\n",
      "RangeIndex: 67 entries, 0 to 66\n",
      "Data columns (total 17 columns):\n",
      " #   Column           Non-Null Count  Dtype         \n",
      "---  ------           --------------  -----         \n",
      " 0   channelName      67 non-null     object        \n",
      " 1   title            67 non-null     object        \n",
      " 2   channelId        67 non-null     object        \n",
      " 3   url              67 non-null     object        \n",
      " 4   gender           65 non-null     object        \n",
      " 5   rank             67 non-null     int64         \n",
      " 6   description      66 non-null     object        \n",
      " 7   countryCode      67 non-null     object        \n",
      " 8   viewCount        67 non-null     int64         \n",
      " 9   subscriberCount  67 non-null     int32         \n",
      " 10  videoCount       67 non-null     int32         \n",
      " 11  publishedAt      67 non-null     object        \n",
      " 12  uploads          67 non-null     object        \n",
      " 13  publishedDate    67 non-null     datetime64[ns]\n",
      " 14  country          67 non-null     object        \n",
      " 15  countryOther     67 non-null     object        \n",
      " 16  continent        67 non-null     object        \n",
      "dtypes: datetime64[ns](1), int32(2), int64(2), object(12)\n",
      "memory usage: 8.5+ KB\n"
     ]
    }
   ],
   "source": [
    "summery_df.info()"
   ]
  },
  {
   "cell_type": "markdown",
   "id": "8fb6e42a",
   "metadata": {
    "id": "8fb6e42a"
   },
   "source": [
    "We will  convert the type of the columns `country`, `countryCode`, `countryOther` and `continent` to categorical."
   ]
  },
  {
   "cell_type": "code",
   "execution_count": 38,
   "id": "V3IALt3OOn0j",
   "metadata": {
    "id": "V3IALt3OOn0j"
   },
   "outputs": [],
   "source": [
    "summery_df = summery_df.astype({'country':'category', 'countryCode':'category', 'countryOther':'category', 'continent':'category'}).copy()"
   ]
  },
  {
   "cell_type": "code",
   "execution_count": 39,
   "id": "mdqWwJDEPgNw",
   "metadata": {
    "colab": {
     "base_uri": "https://localhost:8080/"
    },
    "id": "mdqWwJDEPgNw",
    "outputId": "ea87f646-64e1-4cbe-d2f9-9c10db9df42d"
   },
   "outputs": [
    {
     "name": "stdout",
     "output_type": "stream",
     "text": [
      "<class 'pandas.core.frame.DataFrame'>\n",
      "RangeIndex: 67 entries, 0 to 66\n",
      "Data columns (total 17 columns):\n",
      " #   Column           Non-Null Count  Dtype         \n",
      "---  ------           --------------  -----         \n",
      " 0   channelName      67 non-null     object        \n",
      " 1   title            67 non-null     object        \n",
      " 2   channelId        67 non-null     object        \n",
      " 3   url              67 non-null     object        \n",
      " 4   gender           65 non-null     object        \n",
      " 5   rank             67 non-null     int64         \n",
      " 6   description      66 non-null     object        \n",
      " 7   countryCode      67 non-null     category      \n",
      " 8   viewCount        67 non-null     int64         \n",
      " 9   subscriberCount  67 non-null     int32         \n",
      " 10  videoCount       67 non-null     int32         \n",
      " 11  publishedAt      67 non-null     object        \n",
      " 12  uploads          67 non-null     object        \n",
      " 13  publishedDate    67 non-null     datetime64[ns]\n",
      " 14  country          67 non-null     category      \n",
      " 15  countryOther     67 non-null     category      \n",
      " 16  continent        67 non-null     category      \n",
      "dtypes: category(4), datetime64[ns](1), int32(2), int64(2), object(8)\n",
      "memory usage: 8.5+ KB\n"
     ]
    }
   ],
   "source": [
    "summery_df.info()"
   ]
  },
  {
   "cell_type": "markdown",
   "id": "HBtsAudHnrTr",
   "metadata": {
    "id": "HBtsAudHnrTr"
   },
   "source": [
    "### Creating Visualizations <a class='anchor' id='chapter2'>"
   ]
  },
  {
   "cell_type": "markdown",
   "id": "dR78lbhmKzwT",
   "metadata": {
    "id": "dR78lbhmKzwT"
   },
   "source": [
    "##### Gender column"
   ]
  },
  {
   "cell_type": "markdown",
   "id": "-7dJQ4g4Lhtl",
   "metadata": {
    "id": "-7dJQ4g4Lhtl"
   },
   "source": [
    "It is well known that the tech industry is still a male-dominated sector. This article about [\" women in technology\"] (https://builtin.com/women-tech/women-in-tech-workplace-statistics) provides some statistical insight about this important topic.   \n",
    "We added `gender` column to dataset to illustrate that this situation also applies to the youtube tech channels.\n"
   ]
  },
  {
   "cell_type": "code",
   "execution_count": 40,
   "id": "igIj3Thfinmu",
   "metadata": {
    "colab": {
     "base_uri": "https://localhost:8080/"
    },
    "id": "igIj3Thfinmu",
    "outputId": "2bbc5244-adb6-46f5-9e0a-d812d20728fc"
   },
   "outputs": [
    {
     "data": {
      "text/plain": [
       "Male      63\n",
       "Female     2\n",
       "Name: gender, dtype: int64"
      ]
     },
     "execution_count": 40,
     "metadata": {},
     "output_type": "execute_result"
    }
   ],
   "source": [
    "summery_df.gender.value_counts()"
   ]
  },
  {
   "cell_type": "code",
   "execution_count": 41,
   "id": "gaLuAFHli0ej",
   "metadata": {
    "colab": {
     "base_uri": "https://localhost:8080/",
     "height": 184
    },
    "id": "gaLuAFHli0ej",
    "outputId": "16cf8c2f-6237-464d-c0fd-cdcc08f836e7"
   },
   "outputs": [
    {
     "data": {
      "text/html": [
       "<div>\n",
       "<style scoped>\n",
       "    .dataframe tbody tr th:only-of-type {\n",
       "        vertical-align: middle;\n",
       "    }\n",
       "\n",
       "    .dataframe tbody tr th {\n",
       "        vertical-align: top;\n",
       "    }\n",
       "\n",
       "    .dataframe thead th {\n",
       "        text-align: right;\n",
       "    }\n",
       "</style>\n",
       "<table border=\"1\" class=\"dataframe\">\n",
       "  <thead>\n",
       "    <tr style=\"text-align: right;\">\n",
       "      <th></th>\n",
       "      <th>channelName</th>\n",
       "      <th>title</th>\n",
       "      <th>channelId</th>\n",
       "      <th>url</th>\n",
       "      <th>gender</th>\n",
       "      <th>rank</th>\n",
       "      <th>description</th>\n",
       "      <th>countryCode</th>\n",
       "      <th>viewCount</th>\n",
       "      <th>subscriberCount</th>\n",
       "      <th>videoCount</th>\n",
       "      <th>publishedAt</th>\n",
       "      <th>uploads</th>\n",
       "      <th>publishedDate</th>\n",
       "      <th>country</th>\n",
       "      <th>countryOther</th>\n",
       "      <th>continent</th>\n",
       "    </tr>\n",
       "  </thead>\n",
       "  <tbody>\n",
       "    <tr>\n",
       "      <th>5</th>\n",
       "      <td>freeCodeCamp.org</td>\n",
       "      <td>freeCodeCamp.org</td>\n",
       "      <td>UC8butISFwT-Wl7EV0hUK0BQ</td>\n",
       "      <td>https://www.youtube.com/channel/UC8butISFwT-Wl...</td>\n",
       "      <td>NaN</td>\n",
       "      <td>6</td>\n",
       "      <td>Learn to code for free.</td>\n",
       "      <td>US</td>\n",
       "      <td>197380290</td>\n",
       "      <td>3780000</td>\n",
       "      <td>1164</td>\n",
       "      <td>2014-12-16T21:18:48Z</td>\n",
       "      <td>UU8butISFwT-Wl7EV0hUK0BQ</td>\n",
       "      <td>2014-12-16</td>\n",
       "      <td>United States</td>\n",
       "      <td>United States</td>\n",
       "      <td>North america</td>\n",
       "    </tr>\n",
       "    <tr>\n",
       "      <th>53</th>\n",
       "      <td>chuck severance</td>\n",
       "      <td>Chuck Severance</td>\n",
       "      <td>UChYfrRp_CWyqOt-ZYJGOgmA</td>\n",
       "      <td>https://m.youtube.com/user/csev</td>\n",
       "      <td>Male</td>\n",
       "      <td>57</td>\n",
       "      <td>NaN</td>\n",
       "      <td>US</td>\n",
       "      <td>7776775</td>\n",
       "      <td>62100</td>\n",
       "      <td>878</td>\n",
       "      <td>2006-08-19T14:24:00Z</td>\n",
       "      <td>UUhYfrRp_CWyqOt-ZYJGOgmA</td>\n",
       "      <td>2006-08-19</td>\n",
       "      <td>United States</td>\n",
       "      <td>United States</td>\n",
       "      <td>North america</td>\n",
       "    </tr>\n",
       "    <tr>\n",
       "      <th>65</th>\n",
       "      <td>durga software solutions</td>\n",
       "      <td>Durga Software Solutions</td>\n",
       "      <td>UCbjozK_PYCTLEluFlrJ8UZg</td>\n",
       "      <td>https://www.youtube.com/c/DurgaSoftwareSolutions</td>\n",
       "      <td>NaN</td>\n",
       "      <td>70</td>\n",
       "      <td>DURGA Software Solutions is an Institute, whic...</td>\n",
       "      <td>IN</td>\n",
       "      <td>124800178</td>\n",
       "      <td>582000</td>\n",
       "      <td>16443</td>\n",
       "      <td>2014-02-03T04:15:47Z</td>\n",
       "      <td>UUbjozK_PYCTLEluFlrJ8UZg</td>\n",
       "      <td>2014-02-03</td>\n",
       "      <td>India</td>\n",
       "      <td>India</td>\n",
       "      <td>Asia</td>\n",
       "    </tr>\n",
       "  </tbody>\n",
       "</table>\n",
       "</div>"
      ],
      "text/plain": [
       "                 channelName                     title  \\\n",
       "5           freeCodeCamp.org          freeCodeCamp.org   \n",
       "53           chuck severance           Chuck Severance   \n",
       "65  durga software solutions  Durga Software Solutions   \n",
       "\n",
       "                   channelId  \\\n",
       "5   UC8butISFwT-Wl7EV0hUK0BQ   \n",
       "53  UChYfrRp_CWyqOt-ZYJGOgmA   \n",
       "65  UCbjozK_PYCTLEluFlrJ8UZg   \n",
       "\n",
       "                                                  url gender  rank  \\\n",
       "5   https://www.youtube.com/channel/UC8butISFwT-Wl...    NaN     6   \n",
       "53                    https://m.youtube.com/user/csev   Male    57   \n",
       "65   https://www.youtube.com/c/DurgaSoftwareSolutions    NaN    70   \n",
       "\n",
       "                                          description countryCode  viewCount  \\\n",
       "5                             Learn to code for free.          US  197380290   \n",
       "53                                                NaN          US    7776775   \n",
       "65  DURGA Software Solutions is an Institute, whic...          IN  124800178   \n",
       "\n",
       "    subscriberCount  videoCount           publishedAt  \\\n",
       "5           3780000        1164  2014-12-16T21:18:48Z   \n",
       "53            62100         878  2006-08-19T14:24:00Z   \n",
       "65           582000       16443  2014-02-03T04:15:47Z   \n",
       "\n",
       "                     uploads publishedDate        country   countryOther  \\\n",
       "5   UU8butISFwT-Wl7EV0hUK0BQ    2014-12-16  United States  United States   \n",
       "53  UUhYfrRp_CWyqOt-ZYJGOgmA    2006-08-19  United States  United States   \n",
       "65  UUbjozK_PYCTLEluFlrJ8UZg    2014-02-03          India          India   \n",
       "\n",
       "        continent  \n",
       "5   North america  \n",
       "53  North america  \n",
       "65           Asia  "
      ]
     },
     "execution_count": 41,
     "metadata": {},
     "output_type": "execute_result"
    }
   ],
   "source": [
    "summery_df[summery_df.isnull().any(axis=1)]"
   ]
  },
  {
   "cell_type": "code",
   "execution_count": 42,
   "id": "26f647e1",
   "metadata": {},
   "outputs": [
    {
     "data": {
      "image/png": "[encoded data removed]",
      "text/plain": [
       "<Figure size 432x288 with 1 Axes>"
      ]
     },
     "metadata": {},
     "output_type": "display_data"
    }
   ],
   "source": [
    "explode = (0,0.2,)\n",
    "_ = summery_df['gender'].value_counts().plot.pie(explode=explode,autopct='%1.1f%%')\n",
    "plt.title('Pie chart of the number of channels by gender ')\n",
    "plt.show()"
   ]
  },
  {
   "cell_type": "markdown",
   "id": "IF_fMVLSA_CZ",
   "metadata": {
    "id": "IF_fMVLSA_CZ"
   },
   "source": [
    "##### Country & Continent column"
   ]
  },
  {
   "cell_type": "code",
   "execution_count": 43,
   "id": "d2452ea8",
   "metadata": {
    "colab": {
     "base_uri": "https://localhost:8080/",
     "height": 366
    },
    "id": "d2452ea8",
    "outputId": "6893c1bf-8432-4383-ad49-f7134ffac63e",
    "scrolled": true
   },
   "outputs": [
    {
     "data": {
      "image/png": "[encoded data removed]",
      "text/plain": [
       "<Figure size 432x288 with 1 Axes>"
      ]
     },
     "metadata": {
      "needs_background": "light"
     },
     "output_type": "display_data"
    }
   ],
   "source": [
    "import matplotlib.pyplot as plt\n",
    "import seaborn as sns\n",
    "\n",
    "plt.figure()\n",
    "_ = summery_df['country'].value_counts().plot.bar()\n",
    "plt.xlabel('Country')\n",
    "plt.ylabel('Number of channels')\n",
    "plt.title('The number of channels by country')\n",
    "plt.show()"
   ]
  },
  {
   "cell_type": "code",
   "execution_count": 44,
   "id": "fd35f094",
   "metadata": {
    "colab": {
     "base_uri": "https://localhost:8080/",
     "height": 366
    },
    "id": "fd35f094",
    "outputId": "fd4dcf39-cefd-48e9-954e-bf29406b5dd5",
    "scrolled": false
   },
   "outputs": [
    {
     "data": {
      "image/png": "[encoded data removed]",
      "text/plain": [
       "<Figure size 432x288 with 1 Axes>"
      ]
     },
     "metadata": {
      "needs_background": "light"
     },
     "output_type": "display_data"
    }
   ],
   "source": [
    "plt.figure()\n",
    "_ = summery_df['countryOther'].value_counts().plot.bar()\n",
    "plt.xlabel('Country')\n",
    "plt.ylabel('Number of channels')\n",
    "plt.title('The number of channels by country ')\n",
    "plt.show()"
   ]
  },
  {
   "cell_type": "code",
   "execution_count": 45,
   "id": "46911671",
   "metadata": {
    "colab": {
     "base_uri": "https://localhost:8080/",
     "height": 265
    },
    "id": "46911671",
    "outputId": "21e5324c-458c-421d-9a68-b9abf1de7af3"
   },
   "outputs": [
    {
     "data": {
      "image/png": "[encoded data removed]",
      "text/plain": [
       "<Figure size 432x288 with 1 Axes>"
      ]
     },
     "metadata": {
      "needs_background": "light"
     },
     "output_type": "display_data"
    }
   ],
   "source": [
    "# we can horizontal plot\n",
    "_ = summery_df['countryOther'].value_counts().plot.barh()"
   ]
  },
  {
   "cell_type": "code",
   "execution_count": 46,
   "id": "3828a14d",
   "metadata": {
    "colab": {
     "base_uri": "https://localhost:8080/",
     "height": 264
    },
    "id": "3828a14d",
    "outputId": "94379438-707a-4767-965d-7c38ae2ff0fa"
   },
   "outputs": [
    {
     "data": {
      "image/png": "[encoded data removed]",
      "text/plain": [
       "<Figure size 432x288 with 1 Axes>"
      ]
     },
     "metadata": {},
     "output_type": "display_data"
    }
   ],
   "source": [
    "explode = (0,0,0, 0.15,0.15, 0.15,0.15,)\n",
    "summery_df['countryOther'].value_counts().plot.pie(explode=explode,autopct='%1.1f%%')\n",
    "plt.title('Pie chart of the number of channels by country ')\n",
    "plt.show()"
   ]
  },
  {
   "cell_type": "markdown",
   "id": "ehQ__LiI4Ty-",
   "metadata": {
    "id": "ehQ__LiI4Ty-"
   },
   "source": [
    "Plot show that the half of the channels are based in US than in India."
   ]
  },
  {
   "cell_type": "code",
   "execution_count": 47,
   "id": "ImMg7i0X4jGL",
   "metadata": {
    "colab": {
     "base_uri": "https://localhost:8080/"
    },
    "id": "ImMg7i0X4jGL",
    "outputId": "3a001a7e-48a5-482a-cf23-ee637aaccd56"
   },
   "outputs": [
    {
     "data": {
      "text/plain": [
       "North america    41\n",
       "Asia             13\n",
       "Europe            9\n",
       "Oceania           3\n",
       "South america     1\n",
       "Name: continent, dtype: int64"
      ]
     },
     "execution_count": 47,
     "metadata": {},
     "output_type": "execute_result"
    }
   ],
   "source": [
    "summery_df.continent.value_counts()"
   ]
  },
  {
   "cell_type": "code",
   "execution_count": 48,
   "id": "xx6XRWcf1v3D",
   "metadata": {
    "colab": {
     "base_uri": "https://localhost:8080/",
     "height": 264
    },
    "id": "xx6XRWcf1v3D",
    "outputId": "4205b178-0538-4589-bc15-3f042c4ef81b"
   },
   "outputs": [
    {
     "data": {
      "image/png": "[encoded data removed]",
      "text/plain": [
       "<Figure size 432x288 with 1 Axes>"
      ]
     },
     "metadata": {},
     "output_type": "display_data"
    }
   ],
   "source": [
    "explode = (0,0,0, 0.2,0.2,)\n",
    "summery_df['continent'].value_counts().plot.pie(explode=explode,autopct='%1.1f%%')\n",
    "plt.title('Pie chart of the number of channels by continent ')\n",
    "plt.show()"
   ]
  },
  {
   "cell_type": "markdown",
   "id": "tcTarIUxBPIO",
   "metadata": {
    "id": "tcTarIUxBPIO"
   },
   "source": [
    "##### Top 10"
   ]
  },
  {
   "cell_type": "markdown",
   "id": "kYLotSk-bOBc",
   "metadata": {
    "id": "kYLotSk-bOBc"
   },
   "source": [
    "###### Video Count"
   ]
  },
  {
   "cell_type": "code",
   "execution_count": 49,
   "id": "zWCCOaCr68hP",
   "metadata": {
    "id": "zWCCOaCr68hP"
   },
   "outputs": [],
   "source": [
    "def top10(df,column,sort_ascending=False,n=10, set_index=None):\n",
    "  '''\n",
    "  return the n top value in given DataFrame for give column\n",
    "\n",
    "  Args:\n",
    "  df (DataFrame):\n",
    "  column (string): column name\n",
    "  sort_ascending (bool): sort ascending the value if True\n",
    "  n (int): number of rows to return\n",
    "  set_index: \n",
    "\n",
    "  return:\n",
    "  DataFrame with n rows\n",
    "  '''\n",
    "\n",
    "  if set_index:\n",
    "\n",
    "    return df.set_index(set_index).sort_values(by=column,ascending=sort_ascending).videoCount.head(n)\n",
    "    \n",
    "  else:\n",
    "\n",
    "    return df.sort_values(by=column,ascending=sort_ascending).videoCount.head(n)"
   ]
  },
  {
   "cell_type": "code",
   "execution_count": 50,
   "id": "kO3cUDRQ9dX2",
   "metadata": {
    "colab": {
     "base_uri": "https://localhost:8080/"
    },
    "id": "kO3cUDRQ9dX2",
    "outputId": "d7cf6a3e-3dd5-400e-cf56-2bcc28e8df47"
   },
   "outputs": [
    {
     "data": {
      "text/plain": [
       "title\n",
       "Durga Software Solutions    16443\n",
       "Telusko                      1469\n",
       "Caleb Curry                  1387\n",
       "Perfect Web Solutions        1286\n",
       "CodeWithHarry                1271\n",
       "sentdex                      1226\n",
       "freeCodeCamp.org             1164\n",
       "Derek Banas                  1160\n",
       "The Coding Train             1117\n",
       "Krish Naik                   1102\n",
       "Name: videoCount, dtype: int32"
      ]
     },
     "execution_count": 50,
     "metadata": {},
     "output_type": "execute_result"
    }
   ],
   "source": [
    "top10(summery_df,'videoCount',sort_ascending=False,n=10, set_index='title')"
   ]
  },
  {
   "cell_type": "code",
   "execution_count": 51,
   "id": "91a48527",
   "metadata": {
    "id": "91a48527",
    "scrolled": false
   },
   "outputs": [],
   "source": [
    "top10VideoCount = summery_df.set_index('title').sort_values(by=['videoCount'],ascending=False).videoCount.head(10)"
   ]
  },
  {
   "cell_type": "code",
   "execution_count": 52,
   "id": "YZs02MwuJiy_",
   "metadata": {
    "colab": {
     "base_uri": "https://localhost:8080/"
    },
    "id": "YZs02MwuJiy_",
    "outputId": "8149e0c2-c711-4c86-b480-b81214e873dc"
   },
   "outputs": [
    {
     "data": {
      "text/plain": [
       "title\n",
       "Durga Software Solutions    16443\n",
       "Telusko                      1469\n",
       "Caleb Curry                  1387\n",
       "Perfect Web Solutions        1286\n",
       "CodeWithHarry                1271\n",
       "sentdex                      1226\n",
       "freeCodeCamp.org             1164\n",
       "Derek Banas                  1160\n",
       "The Coding Train             1117\n",
       "Krish Naik                   1102\n",
       "Name: videoCount, dtype: int32"
      ]
     },
     "execution_count": 52,
     "metadata": {},
     "output_type": "execute_result"
    }
   ],
   "source": [
    "top10VideoCount"
   ]
  },
  {
   "cell_type": "code",
   "execution_count": 53,
   "id": "-k5SoMvJJ-hl",
   "metadata": {
    "colab": {
     "base_uri": "https://localhost:8080/",
     "height": 394
    },
    "id": "-k5SoMvJJ-hl",
    "outputId": "272d8fb0-88c6-4abe-bc82-2c3a366dea84"
   },
   "outputs": [
    {
     "data": {
      "text/html": [
       "<div>\n",
       "<style scoped>\n",
       "    .dataframe tbody tr th:only-of-type {\n",
       "        vertical-align: middle;\n",
       "    }\n",
       "\n",
       "    .dataframe tbody tr th {\n",
       "        vertical-align: top;\n",
       "    }\n",
       "\n",
       "    .dataframe thead th {\n",
       "        text-align: right;\n",
       "    }\n",
       "</style>\n",
       "<table border=\"1\" class=\"dataframe\">\n",
       "  <thead>\n",
       "    <tr style=\"text-align: right;\">\n",
       "      <th></th>\n",
       "      <th>videoCount</th>\n",
       "      <th>country</th>\n",
       "      <th>publishedDate</th>\n",
       "    </tr>\n",
       "    <tr>\n",
       "      <th>title</th>\n",
       "      <th></th>\n",
       "      <th></th>\n",
       "      <th></th>\n",
       "    </tr>\n",
       "  </thead>\n",
       "  <tbody>\n",
       "    <tr>\n",
       "      <th>Durga Software Solutions</th>\n",
       "      <td>16443</td>\n",
       "      <td>India</td>\n",
       "      <td>2014-02-03</td>\n",
       "    </tr>\n",
       "    <tr>\n",
       "      <th>Telusko</th>\n",
       "      <td>1469</td>\n",
       "      <td>India</td>\n",
       "      <td>2014-04-29</td>\n",
       "    </tr>\n",
       "    <tr>\n",
       "      <th>Caleb Curry</th>\n",
       "      <td>1387</td>\n",
       "      <td>United States</td>\n",
       "      <td>2009-08-18</td>\n",
       "    </tr>\n",
       "    <tr>\n",
       "      <th>Perfect Web Solutions</th>\n",
       "      <td>1286</td>\n",
       "      <td>Pakistan</td>\n",
       "      <td>2015-06-26</td>\n",
       "    </tr>\n",
       "    <tr>\n",
       "      <th>CodeWithHarry</th>\n",
       "      <td>1271</td>\n",
       "      <td>India</td>\n",
       "      <td>2018-04-28</td>\n",
       "    </tr>\n",
       "    <tr>\n",
       "      <th>sentdex</th>\n",
       "      <td>1226</td>\n",
       "      <td>United States</td>\n",
       "      <td>2012-12-16</td>\n",
       "    </tr>\n",
       "    <tr>\n",
       "      <th>freeCodeCamp.org</th>\n",
       "      <td>1164</td>\n",
       "      <td>United States</td>\n",
       "      <td>2014-12-16</td>\n",
       "    </tr>\n",
       "    <tr>\n",
       "      <th>Derek Banas</th>\n",
       "      <td>1160</td>\n",
       "      <td>United States</td>\n",
       "      <td>2008-08-12</td>\n",
       "    </tr>\n",
       "    <tr>\n",
       "      <th>The Coding Train</th>\n",
       "      <td>1117</td>\n",
       "      <td>United States</td>\n",
       "      <td>2006-07-03</td>\n",
       "    </tr>\n",
       "    <tr>\n",
       "      <th>Krish Naik</th>\n",
       "      <td>1102</td>\n",
       "      <td>India</td>\n",
       "      <td>2012-02-11</td>\n",
       "    </tr>\n",
       "  </tbody>\n",
       "</table>\n",
       "</div>"
      ],
      "text/plain": [
       "                          videoCount        country publishedDate\n",
       "title                                                            \n",
       "Durga Software Solutions       16443          India    2014-02-03\n",
       "Telusko                         1469          India    2014-04-29\n",
       "Caleb Curry                     1387  United States    2009-08-18\n",
       "Perfect Web Solutions           1286       Pakistan    2015-06-26\n",
       "CodeWithHarry                   1271          India    2018-04-28\n",
       "sentdex                         1226  United States    2012-12-16\n",
       "freeCodeCamp.org                1164  United States    2014-12-16\n",
       "Derek Banas                     1160  United States    2008-08-12\n",
       "The Coding Train                1117  United States    2006-07-03\n",
       "Krish Naik                      1102          India    2012-02-11"
      ]
     },
     "execution_count": 53,
     "metadata": {},
     "output_type": "execute_result"
    }
   ],
   "source": [
    "summery_df.set_index('title').sort_values(by=['videoCount'],ascending=False)[['videoCount', 'country', 'publishedDate']].head(10)"
   ]
  },
  {
   "cell_type": "code",
   "execution_count": 54,
   "id": "mFQT_GQAJRD_",
   "metadata": {
    "colab": {
     "base_uri": "https://localhost:8080/",
     "height": 295
    },
    "id": "mFQT_GQAJRD_",
    "outputId": "9a82f5a7-785f-410e-9fe5-783148ae0ffc",
    "scrolled": true
   },
   "outputs": [
    {
     "data": {
      "image/png": "[encoded data removed]",
      "text/plain": [
       "<Figure size 432x288 with 1 Axes>"
      ]
     },
     "metadata": {
      "needs_background": "light"
     },
     "output_type": "display_data"
    }
   ],
   "source": [
    "plt.figure()\n",
    "top10VideoCount.plot.barh()\n",
    "plt.xlabel('Video Count')\n",
    "plt.ylabel('channel title')\n",
    "plt.title('The video Count by channel ')\n",
    "plt.show()"
   ]
  },
  {
   "cell_type": "markdown",
   "id": "h9rUFC0zSjhQ",
   "metadata": {
    "id": "h9rUFC0zSjhQ"
   },
   "source": [
    "The Durga Software Solutions channel has by far the largest number of videos, ten times more than the channel that comes next.  look like an outlers.   \n",
    "DURGA Software Solutions is also an institute in Hyderabad, one of the largest cities in India, which may explain this number.\n"
   ]
  },
  {
   "cell_type": "markdown",
   "id": "I6wiAfafXYCk",
   "metadata": {
    "id": "I6wiAfafXYCk"
   },
   "source": [
    "The plot above suggests, that there is an ouliers,  we use boxplot t. "
   ]
  },
  {
   "cell_type": "code",
   "execution_count": 55,
   "id": "dgGUFSGhWiSt",
   "metadata": {
    "colab": {
     "base_uri": "https://localhost:8080/",
     "height": 265
    },
    "id": "dgGUFSGhWiSt",
    "outputId": "8ba06f70-1560-4ba5-81e5-ccc6b077c75e"
   },
   "outputs": [
    {
     "data": {
      "image/png": "[encoded data removed]",
      "text/plain": [
       "<Figure size 432x288 with 1 Axes>"
      ]
     },
     "metadata": {
      "needs_background": "light"
     },
     "output_type": "display_data"
    }
   ],
   "source": [
    "import seaborn as sns\n",
    "sns.boxplot(x=summery_df.videoCount.values)\n",
    "plt.show()"
   ]
  },
  {
   "cell_type": "markdown",
   "id": "FhniXG1UZk7C",
   "metadata": {
    "id": "FhniXG1UZk7C"
   },
   "source": [
    "the is outlier, it plotted as individual points."
   ]
  },
  {
   "cell_type": "code",
   "execution_count": 56,
   "id": "o5tEGjB3Zhlp",
   "metadata": {
    "colab": {
     "base_uri": "https://localhost:8080/",
     "height": 265
    },
    "id": "o5tEGjB3Zhlp",
    "outputId": "fb64b28c-4036-4a30-c0de-c0703be3a878"
   },
   "outputs": [
    {
     "data": {
      "image/png": "[encoded data removed]",
      "text/plain": [
       "<Figure size 432x288 with 1 Axes>"
      ]
     },
     "metadata": {
      "needs_background": "light"
     },
     "output_type": "display_data"
    }
   ],
   "source": [
    "sns.boxplot(x=summery_df.sort_values(by=['videoCount'],ascending=False).videoCount.loc[1:].values)\n",
    "plt.show()"
   ]
  },
  {
   "cell_type": "markdown",
   "id": "ccN1DqvQakKj",
   "metadata": {
    "id": "ccN1DqvQakKj"
   },
   "source": [
    "the boxplot when we remove Durga Software Solutions channe row."
   ]
  },
  {
   "cell_type": "markdown",
   "id": "GfpFbwqMbY3S",
   "metadata": {
    "id": "GfpFbwqMbY3S"
   },
   "source": [
    "###### View Count"
   ]
  },
  {
   "cell_type": "code",
   "execution_count": 57,
   "id": "B_SXNYDWA50w",
   "metadata": {
    "id": "B_SXNYDWA50w"
   },
   "outputs": [],
   "source": [
    "top10ViewCount = summery_df.set_index('title').sort_values(by=['viewCount'],ascending=False).viewCount.head(10)\n"
   ]
  },
  {
   "cell_type": "code",
   "execution_count": 58,
   "id": "53749086",
   "metadata": {
    "colab": {
     "base_uri": "https://localhost:8080/",
     "height": 295
    },
    "id": "53749086",
    "outputId": "015acd24-2e59-408a-d9fd-cc6380f93f2c",
    "scrolled": true
   },
   "outputs": [
    {
     "data": {
      "image/png": "[encoded data removed]",
      "text/plain": [
       "<Figure size 432x288 with 1 Axes>"
      ]
     },
     "metadata": {
      "needs_background": "light"
     },
     "output_type": "display_data"
    }
   ],
   "source": [
    "plt.figure()\n",
    "top10ViewCount.plot.barh()\n",
    "plt.xlabel('View Count')\n",
    "plt.ylabel('channel title')\n",
    "plt.title('The View Count by channel ')\n",
    "plt.show()"
   ]
  },
  {
   "cell_type": "markdown",
   "id": "jG1sqTUVdSSq",
   "metadata": {
    "id": "jG1sqTUVdSSq"
   },
   "source": [
    "Life of Boris has most view count, if check the channel you will find that the continte  ot this channel is more  bout liesstyle, cooking and gaming than coding. The same go for  Michael reeves channel it more about robotic."
   ]
  },
  {
   "cell_type": "code",
   "execution_count": 59,
   "id": "POqphrjhcoZK",
   "metadata": {
    "colab": {
     "base_uri": "https://localhost:8080/",
     "height": 278
    },
    "id": "POqphrjhcoZK",
    "outputId": "82efee45-4b1d-43c9-d263-8af7f50c6e7f"
   },
   "outputs": [
    {
     "data": {
      "image/png": "[encoded data removed]",
      "text/plain": [
       "<Figure size 432x288 with 1 Axes>"
      ]
     },
     "metadata": {
      "needs_background": "light"
     },
     "output_type": "display_data"
    }
   ],
   "source": [
    "sns.boxplot(x=summery_df.viewCount.values)\n",
    "plt.show()"
   ]
  },
  {
   "cell_type": "code",
   "execution_count": 60,
   "id": "je2ZxWxrjsmK",
   "metadata": {
    "colab": {
     "base_uri": "https://localhost:8080/",
     "height": 278
    },
    "id": "je2ZxWxrjsmK",
    "outputId": "87613ceb-df12-4b9d-fb27-9f27d4e02c22"
   },
   "outputs": [
    {
     "data": {
      "image/png": "[encoded data removed]",
      "text/plain": [
       "<Figure size 432x288 with 1 Axes>"
      ]
     },
     "metadata": {
      "needs_background": "light"
     },
     "output_type": "display_data"
    }
   ],
   "source": [
    "sns.boxplot(x=summery_df.sort_values(by=['viewCount'],ascending=False).viewCount.loc[2:].values)\n",
    "plt.show()"
   ]
  },
  {
   "cell_type": "markdown",
   "id": "Oz0YTuFVkQaC",
   "metadata": {
    "id": "Oz0YTuFVkQaC"
   },
   "source": [
    "the boxplot when we remove `Life of Boris` and  `Michael reeves` channel rows."
   ]
  },
  {
   "cell_type": "markdown",
   "id": "ncNNiil-m19p",
   "metadata": {
    "id": "ncNNiil-m19p"
   },
   "source": [
    "###### Subscriber Count"
   ]
  },
  {
   "cell_type": "code",
   "execution_count": 61,
   "id": "rN3mBtENkOX7",
   "metadata": {
    "id": "rN3mBtENkOX7"
   },
   "outputs": [],
   "source": [
    "top10subscriberCount =  summery_df.set_index('title').sort_values(by=['subscriberCount'],ascending=False).subscriberCount.head(10)"
   ]
  },
  {
   "cell_type": "code",
   "execution_count": 62,
   "id": "t0E-65uInOTw",
   "metadata": {
    "colab": {
     "base_uri": "https://localhost:8080/",
     "height": 295
    },
    "id": "t0E-65uInOTw",
    "outputId": "eb70cee7-1b00-4608-f01b-59e03c19552d"
   },
   "outputs": [
    {
     "data": {
      "image/png": "[encoded data removed]",
      "text/plain": [
       "<Figure size 432x288 with 1 Axes>"
      ]
     },
     "metadata": {
      "needs_background": "light"
     },
     "output_type": "display_data"
    }
   ],
   "source": [
    "plt.figure()\n",
    "top10subscriberCount.plot.barh()\n",
    "plt.xlabel('View Count')\n",
    "plt.ylabel('channel title')\n",
    "plt.title('The View Count by channel ')\n",
    "plt.show()"
   ]
  },
  {
   "cell_type": "code",
   "execution_count": 63,
   "id": "iw5UJ0-fnzHh",
   "metadata": {
    "colab": {
     "base_uri": "https://localhost:8080/",
     "height": 278
    },
    "id": "iw5UJ0-fnzHh",
    "outputId": "b24400e7-9e67-4005-97d9-85ef61936fae"
   },
   "outputs": [
    {
     "data": {
      "image/png": "[encoded data removed]",
      "text/plain": [
       "<Figure size 432x288 with 1 Axes>"
      ]
     },
     "metadata": {
      "needs_background": "light"
     },
     "output_type": "display_data"
    }
   ],
   "source": [
    "sns.boxplot(x=summery_df.subscriberCount.values)\n",
    "plt.show()"
   ]
  },
  {
   "cell_type": "code",
   "execution_count": 64,
   "id": "d6a02e7e",
   "metadata": {
    "id": "d6a02e7e"
   },
   "outputs": [],
   "source": [
    "summery_df.to_csv('summeryCleanDB.csv' ,index=False) #"
   ]
  },
  {
   "cell_type": "markdown",
   "id": "XRhMmezkDg6E",
   "metadata": {
    "id": "XRhMmezkDg6E"
   },
   "source": [
    "##### Group by year of creation"
   ]
  },
  {
   "cell_type": "code",
   "execution_count": 65,
   "id": "XHvxfJxYI9Uo",
   "metadata": {
    "id": "XHvxfJxYI9Uo"
   },
   "outputs": [],
   "source": [
    "summery_df['year'] = summery_df.publishedDate.dt.year"
   ]
  },
  {
   "cell_type": "code",
   "execution_count": 66,
   "id": "FoexB65lMUpZ",
   "metadata": {
    "colab": {
     "base_uri": "https://localhost:8080/"
    },
    "id": "FoexB65lMUpZ",
    "outputId": "0e951bea-17e8-4042-ebcc-e724e4500f7e"
   },
   "outputs": [
    {
     "data": {
      "image/png": "[encoded data removed]",
      "text/plain": [
       "<Figure size 432x288 with 1 Axes>"
      ]
     },
     "metadata": {
      "needs_background": "light"
     },
     "output_type": "display_data"
    }
   ],
   "source": [
    "_ = sns.countplot(y=\"year\", data=summery_df)\n",
    "plt.title('The number of channels by year of creation')\n",
    "plt.show()"
   ]
  },
  {
   "cell_type": "markdown",
   "id": "ln4zfnYgDoGK",
   "metadata": {
    "id": "ln4zfnYgDoGK"
   },
   "source": [
    "##### viewCount vs subscriberCount vd videoCount"
   ]
  },
  {
   "cell_type": "markdown",
   "id": "PYzL-xFZWTf_",
   "metadata": {
    "id": "PYzL-xFZWTf_"
   },
   "source": [
    "In next section, we will be using Z-score to to fetlter outiers.  \n",
    "corrolation between `viewCount`, `subscriberCount` and `videoCount` column."
   ]
  },
  {
   "cell_type": "code",
   "execution_count": 67,
   "id": "9AKNeTp9IBOR",
   "metadata": {
    "id": "9AKNeTp9IBOR"
   },
   "outputs": [],
   "source": [
    "from scipy.stats import  zscore\n",
    "import numpy as np\n",
    "\n",
    "\n",
    "\n",
    "z_scores = zscore(summery_df[[\"viewCount\", \"subscriberCount\",  'videoCount']])\n",
    "abs_z_scores = np.abs(z_scores)\n",
    "\n",
    "filtered_entries = (abs_z_scores < 3).all(axis=1)\n",
    "\n",
    "df = summery_df[filtered_entries]"
   ]
  },
  {
   "cell_type": "code",
   "execution_count": 68,
   "id": "oSPpPDSTlLk0",
   "metadata": {
    "colab": {
     "base_uri": "https://localhost:8080/"
    },
    "id": "oSPpPDSTlLk0",
    "outputId": "849f53ed-1d4f-456e-9372-bac78716be65"
   },
   "outputs": [
    {
     "data": {
      "text/plain": [
       "(2010.0, 2015.0]      28\n",
       "(2015.0, 2020.0]      23\n",
       "(2005.999, 2010.0]    12\n",
       "Name: year, dtype: int64"
      ]
     },
     "execution_count": 68,
     "metadata": {},
     "output_type": "execute_result"
    }
   ],
   "source": [
    "pd.cut(df.year, [2006, 2010, 2015, 2020], include_lowest=True).value_counts()"
   ]
  },
  {
   "cell_type": "code",
   "execution_count": 69,
   "id": "lRZNjb34V_Hm",
   "metadata": {
    "colab": {
     "base_uri": "https://localhost:8080/"
    },
    "id": "lRZNjb34V_Hm",
    "outputId": "06285d6e-a452-4f25-b0b9-ccb492e7ded0"
   },
   "outputs": [
    {
     "name": "stderr",
     "output_type": "stream",
     "text": [
      "<ipython-input-69-8fcf8351396b>:1: SettingWithCopyWarning: \n",
      "A value is trying to be set on a copy of a slice from a DataFrame.\n",
      "Try using .loc[row_indexer,col_indexer] = value instead\n",
      "\n",
      "See the caveats in the documentation: https://pandas.pydata.org/pandas-docs/stable/user_guide/indexing.html#returning-a-view-versus-a-copy\n",
      "  df['yearClass'] = pd.cut(df.year, [2006, 2010, 2015, 2020], include_lowest=True)\n"
     ]
    }
   ],
   "source": [
    "df['yearClass'] = pd.cut(df.year, [2006, 2010, 2015, 2020], include_lowest=True)"
   ]
  },
  {
   "cell_type": "code",
   "execution_count": 70,
   "id": "2YVADp2HL30A",
   "metadata": {
    "colab": {
     "base_uri": "https://localhost:8080/",
     "height": 296
    },
    "id": "2YVADp2HL30A",
    "outputId": "34d40839-b77e-48e8-acb5-daa00471ccf4",
    "scrolled": true
   },
   "outputs": [
    {
     "data": {
      "text/plain": [
       "<AxesSubplot:xlabel='count', ylabel='countryOther'>"
      ]
     },
     "execution_count": 70,
     "metadata": {},
     "output_type": "execute_result"
    },
    {
     "data": {
      "image/png": "[encoded data removed]",
      "text/plain": [
       "<Figure size 432x288 with 1 Axes>"
      ]
     },
     "metadata": {
      "needs_background": "light"
     },
     "output_type": "display_data"
    }
   ],
   "source": [
    "sns.countplot(y=\"countryOther\", hue=\"yearClass\", data=df)"
   ]
  },
  {
   "cell_type": "code",
   "execution_count": 71,
   "id": "cT2tE_CKIwT_",
   "metadata": {
    "colab": {
     "base_uri": "https://localhost:8080/"
    },
    "id": "cT2tE_CKIwT_",
    "outputId": "41fc3de6-0339-4d5c-994c-8f4b5ce80b76"
   },
   "outputs": [
    {
     "data": {
      "text/plain": [
       "(63, 19)"
      ]
     },
     "execution_count": 71,
     "metadata": {},
     "output_type": "execute_result"
    }
   ],
   "source": [
    "df.shape"
   ]
  },
  {
   "cell_type": "code",
   "execution_count": 72,
   "id": "6sJJqCmZDl_R",
   "metadata": {
    "colab": {
     "base_uri": "https://localhost:8080/",
     "height": 370
    },
    "id": "6sJJqCmZDl_R",
    "outputId": "2908777a-010f-4e71-9281-a7bfca49cc28"
   },
   "outputs": [
    {
     "data": {
      "image/png": "[encoded data removed]",
      "text/plain": [
       "<Figure size 360x360 with 1 Axes>"
      ]
     },
     "metadata": {
      "needs_background": "light"
     },
     "output_type": "display_data"
    }
   ],
   "source": [
    "\n",
    "_ = sns.relplot(x=\"viewCount\", y=\"subscriberCount\",  data=df)#hue=\"size\","
   ]
  },
  {
   "cell_type": "code",
   "execution_count": 73,
   "id": "_pGsgHfAHHnv",
   "metadata": {
    "colab": {
     "base_uri": "https://localhost:8080/",
     "height": 370
    },
    "id": "_pGsgHfAHHnv",
    "outputId": "4321fb97-0874-48a5-9e1a-3e03fc946e28"
   },
   "outputs": [
    {
     "data": {
      "image/png": "[encoded data removed]",
      "text/plain": [
       "<Figure size 424.75x360 with 1 Axes>"
      ]
     },
     "metadata": {
      "needs_background": "light"
     },
     "output_type": "display_data"
    }
   ],
   "source": [
    "_ = sns.relplot(x=\"viewCount\", y=\"subscriberCount\",  hue='videoCount',data=df)"
   ]
  },
  {
   "cell_type": "code",
   "execution_count": 74,
   "id": "9RihHot9ImlJ",
   "metadata": {
    "colab": {
     "base_uri": "https://localhost:8080/",
     "height": 370
    },
    "id": "9RihHot9ImlJ",
    "outputId": "74bd45d6-82c5-4a39-910e-dbe1af835143"
   },
   "outputs": [
    {
     "data": {
      "image/png": "[encoded data removed]",
      "text/plain": [
       "<Figure size 360x360 with 1 Axes>"
      ]
     },
     "metadata": {
      "needs_background": "light"
     },
     "output_type": "display_data"
    }
   ],
   "source": [
    "_ = sns.relplot(x=\"viewCount\", y=\"subscriberCount\",  data=df)"
   ]
  },
  {
   "cell_type": "code",
   "execution_count": 75,
   "id": "Vi_sK6cOISBs",
   "metadata": {
    "colab": {
     "base_uri": "https://localhost:8080/",
     "height": 290
    },
    "id": "Vi_sK6cOISBs",
    "outputId": "e6924079-4b54-4157-ec1c-a04f42c43cb9"
   },
   "outputs": [
    {
     "data": {
      "image/png": "[encoded data removed]",
      "text/plain": [
       "<Figure size 432x288 with 1 Axes>"
      ]
     },
     "metadata": {
      "needs_background": "light"
     },
     "output_type": "display_data"
    }
   ],
   "source": [
    "_ = sns.regplot(x=\"viewCount\", y=\"subscriberCount\",data=df)"
   ]
  },
  {
   "cell_type": "markdown",
   "id": "a107db95",
   "metadata": {},
   "source": [
    "The two plots above indicate positive linear correlation between`viewCount` and `subscriberCount`. We will Compute the correlation matrix to get the correlation coefficient."
   ]
  },
  {
   "cell_type": "code",
   "execution_count": 76,
   "id": "TcE3_iNFJibA",
   "metadata": {
    "colab": {
     "base_uri": "https://localhost:8080/",
     "height": 175
    },
    "id": "TcE3_iNFJibA",
    "outputId": "e5f44bbc-6380-49dc-a56a-7d77bd233b99"
   },
   "outputs": [
    {
     "data": {
      "text/html": [
       "<div>\n",
       "<style scoped>\n",
       "    .dataframe tbody tr th:only-of-type {\n",
       "        vertical-align: middle;\n",
       "    }\n",
       "\n",
       "    .dataframe tbody tr th {\n",
       "        vertical-align: top;\n",
       "    }\n",
       "\n",
       "    .dataframe thead th {\n",
       "        text-align: right;\n",
       "    }\n",
       "</style>\n",
       "<table border=\"1\" class=\"dataframe\">\n",
       "  <thead>\n",
       "    <tr style=\"text-align: right;\">\n",
       "      <th></th>\n",
       "      <th>rank</th>\n",
       "      <th>viewCount</th>\n",
       "      <th>subscriberCount</th>\n",
       "      <th>videoCount</th>\n",
       "      <th>year</th>\n",
       "    </tr>\n",
       "  </thead>\n",
       "  <tbody>\n",
       "    <tr>\n",
       "      <th>rank</th>\n",
       "      <td>1.000000</td>\n",
       "      <td>-0.507530</td>\n",
       "      <td>-0.579562</td>\n",
       "      <td>-0.200445</td>\n",
       "      <td>0.047612</td>\n",
       "    </tr>\n",
       "    <tr>\n",
       "      <th>viewCount</th>\n",
       "      <td>-0.507530</td>\n",
       "      <td>1.000000</td>\n",
       "      <td>0.918389</td>\n",
       "      <td>0.344907</td>\n",
       "      <td>-0.070209</td>\n",
       "    </tr>\n",
       "    <tr>\n",
       "      <th>subscriberCount</th>\n",
       "      <td>-0.579562</td>\n",
       "      <td>0.918389</td>\n",
       "      <td>1.000000</td>\n",
       "      <td>0.178449</td>\n",
       "      <td>0.017459</td>\n",
       "    </tr>\n",
       "    <tr>\n",
       "      <th>videoCount</th>\n",
       "      <td>-0.200445</td>\n",
       "      <td>0.344907</td>\n",
       "      <td>0.178449</td>\n",
       "      <td>1.000000</td>\n",
       "      <td>-0.348872</td>\n",
       "    </tr>\n",
       "    <tr>\n",
       "      <th>year</th>\n",
       "      <td>0.047612</td>\n",
       "      <td>-0.070209</td>\n",
       "      <td>0.017459</td>\n",
       "      <td>-0.348872</td>\n",
       "      <td>1.000000</td>\n",
       "    </tr>\n",
       "  </tbody>\n",
       "</table>\n",
       "</div>"
      ],
      "text/plain": [
       "                     rank  viewCount  subscriberCount  videoCount      year\n",
       "rank             1.000000  -0.507530        -0.579562   -0.200445  0.047612\n",
       "viewCount       -0.507530   1.000000         0.918389    0.344907 -0.070209\n",
       "subscriberCount -0.579562   0.918389         1.000000    0.178449  0.017459\n",
       "videoCount      -0.200445   0.344907         0.178449    1.000000 -0.348872\n",
       "year             0.047612  -0.070209         0.017459   -0.348872  1.000000"
      ]
     },
     "execution_count": 76,
     "metadata": {},
     "output_type": "execute_result"
    }
   ],
   "source": [
    "\n",
    "# Compute the correlation matrix\n",
    "corr = df.corr()\n",
    "corr"
   ]
  },
  {
   "cell_type": "markdown",
   "id": "9JowASq4K2UO",
   "metadata": {
    "id": "9JowASq4K2UO"
   },
   "source": [
    "We notice a strong positive correlation between `viewCount` and `subscriberCount`.  \n",
    " A weak negative correlation of `rank` with `viewCount` and `subscriberCount`.  \n",
    " Non-linear correlation between the variable `year` and the other variables, except for a weak negative correlation with `videoCount`."
   ]
  },
  {
   "cell_type": "code",
   "execution_count": 77,
   "id": "ELMUi2sLKG_C",
   "metadata": {
    "colab": {
     "base_uri": "https://localhost:8080/",
     "height": 537
    },
    "id": "ELMUi2sLKG_C",
    "outputId": "8fc53b29-6bd8-4bbe-d979-69192f5fe00a"
   },
   "outputs": [
    {
     "data": {
      "image/png": "[encoded data removed]",
      "text/plain": [
       "<Figure size 792x648 with 2 Axes>"
      ]
     },
     "metadata": {
      "needs_background": "light"
     },
     "output_type": "display_data"
    }
   ],
   "source": [
    "# code from https://seaborn.pydata.org/examples/many_pairwise_correlations.html\n",
    "# Generate a mask for the upper triangle\n",
    "mask = np.triu(np.ones_like(corr, dtype=bool))\n",
    "\n",
    "# Set up the matplotlib figure\n",
    "f, ax = plt.subplots(figsize=(11, 9))\n",
    "\n",
    "# Generate a custom diverging colormap\n",
    "cmap = sns.diverging_palette(230, 20, as_cmap=True)\n",
    "\n",
    "# Draw the heatmap with the mask and correct aspect ratio\n",
    "sns.heatmap(corr, mask=mask, cmap=cmap, vmax=1, center=0,\n",
    "            square=True, linewidths=.5, cbar_kws={\"shrink\": .5})\n",
    "plt.show()\n"
   ]
  },
  {
   "cell_type": "code",
   "execution_count": 78,
   "id": "-10-pvjimyfq",
   "metadata": {
    "colab": {
     "base_uri": "https://localhost:8080/",
     "height": 175
    },
    "id": "-10-pvjimyfq",
    "outputId": "d1b8e901-4cb2-4dfc-b840-f159e3980bbe"
   },
   "outputs": [
    {
     "data": {
      "text/html": [
       "<div>\n",
       "<style scoped>\n",
       "    .dataframe tbody tr th:only-of-type {\n",
       "        vertical-align: middle;\n",
       "    }\n",
       "\n",
       "    .dataframe tbody tr th {\n",
       "        vertical-align: top;\n",
       "    }\n",
       "\n",
       "    .dataframe thead th {\n",
       "        text-align: right;\n",
       "    }\n",
       "</style>\n",
       "<table border=\"1\" class=\"dataframe\">\n",
       "  <thead>\n",
       "    <tr style=\"text-align: right;\">\n",
       "      <th></th>\n",
       "      <th>countryCode</th>\n",
       "      <th>country</th>\n",
       "      <th>countryOther</th>\n",
       "      <th>continent</th>\n",
       "      <th>yearClass</th>\n",
       "    </tr>\n",
       "  </thead>\n",
       "  <tbody>\n",
       "    <tr>\n",
       "      <th>count</th>\n",
       "      <td>63</td>\n",
       "      <td>63</td>\n",
       "      <td>63</td>\n",
       "      <td>63</td>\n",
       "      <td>63</td>\n",
       "    </tr>\n",
       "    <tr>\n",
       "      <th>unique</th>\n",
       "      <td>13</td>\n",
       "      <td>13</td>\n",
       "      <td>7</td>\n",
       "      <td>5</td>\n",
       "      <td>3</td>\n",
       "    </tr>\n",
       "    <tr>\n",
       "      <th>top</th>\n",
       "      <td>US</td>\n",
       "      <td>United States</td>\n",
       "      <td>United States</td>\n",
       "      <td>North america</td>\n",
       "      <td>(2010.0, 2015.0]</td>\n",
       "    </tr>\n",
       "    <tr>\n",
       "      <th>freq</th>\n",
       "      <td>34</td>\n",
       "      <td>34</td>\n",
       "      <td>34</td>\n",
       "      <td>39</td>\n",
       "      <td>28</td>\n",
       "    </tr>\n",
       "  </tbody>\n",
       "</table>\n",
       "</div>"
      ],
      "text/plain": [
       "       countryCode        country   countryOther      continent  \\\n",
       "count           63             63             63             63   \n",
       "unique          13             13              7              5   \n",
       "top             US  United States  United States  North america   \n",
       "freq            34             34             34             39   \n",
       "\n",
       "               yearClass  \n",
       "count                 63  \n",
       "unique                 3  \n",
       "top     (2010.0, 2015.0]  \n",
       "freq                  28  "
      ]
     },
     "execution_count": 78,
     "metadata": {},
     "output_type": "execute_result"
    }
   ],
   "source": [
    "df.describe(include='category')\n"
   ]
  },
  {
   "cell_type": "code",
   "execution_count": 79,
   "id": "pmW2Kaj2VyZA",
   "metadata": {
    "colab": {
     "base_uri": "https://localhost:8080/",
     "height": 279
    },
    "id": "pmW2Kaj2VyZA",
    "outputId": "ab253405-fac8-4079-e272-12e366b5627b",
    "scrolled": true
   },
   "outputs": [
    {
     "data": {
      "image/png": "[encoded data removed]",
      "text/plain": [
       "<Figure size 432x288 with 1 Axes>"
      ]
     },
     "metadata": {
      "needs_background": "light"
     },
     "output_type": "display_data"
    }
   ],
   "source": [
    "_ = sns.regplot(x=\"videoCount\", y=\"year\", data=df)"
   ]
  },
  {
   "cell_type": "code",
   "execution_count": 80,
   "id": "fFK_WUqkK1oK",
   "metadata": {
    "colab": {
     "base_uri": "https://localhost:8080/",
     "height": 383
    },
    "id": "fFK_WUqkK1oK",
    "outputId": "df397329-821e-415f-f10a-0c4468fcb904"
   },
   "outputs": [
    {
     "data": {
      "image/png": "[encoded data removed]",
      "text/plain": [
       "<Figure size 421.375x360 with 1 Axes>"
      ]
     },
     "metadata": {
      "needs_background": "light"
     },
     "output_type": "display_data"
    }
   ],
   "source": [
    "_ = sns.relplot(x=\"videoCount\", y=\"year\", hue='year', data=df)"
   ]
  },
  {
   "cell_type": "code",
   "execution_count": 81,
   "id": "ShCwyVlMLtym",
   "metadata": {
    "colab": {
     "base_uri": "https://localhost:8080/",
     "height": 383
    },
    "id": "ShCwyVlMLtym",
    "outputId": "b70cbcd4-621e-435f-9283-fd2a6cdab784"
   },
   "outputs": [
    {
     "data": {
      "image/png": "[encoded data removed]",
      "text/plain": [
       "<Figure size 492.375x360 with 1 Axes>"
      ]
     },
     "metadata": {
      "needs_background": "light"
     },
     "output_type": "display_data"
    }
   ],
   "source": [
    "sns.relplot(x=\"videoCount\", y=\"year\", hue='yearClass', data=df)\n",
    "plt.hlines(2015.8, 0, df.videoCount.max(),color='r')\n",
    "plt.hlines(2010.3, 0, df.videoCount.max(),color='r')\n",
    "plt.vlines(400, 2006, 2020,color='r')\n",
    "plt.vlines(800, 2006, 2020,color='r')\n",
    "plt.show()"
   ]
  },
  {
   "cell_type": "markdown",
   "id": "FY84UFckIdip",
   "metadata": {
    "id": "FY84UFckIdip"
   },
   "source": [
    "In the upper right cluster of new channels created in 2016 or later with less than 400 videos. \n",
    "For channels created between 2011 and 2015, there is no single pattern.\n",
    "In the bottom left we have a cluster of channels created between 2006 and 2010 with more than 800 videos. "
   ]
  },
  {
   "cell_type": "code",
   "execution_count": 82,
   "id": "WVpA7o1_KNiw",
   "metadata": {
    "colab": {
     "base_uri": "https://localhost:8080/",
     "height": 383
    },
    "id": "WVpA7o1_KNiw",
    "outputId": "d655dce2-8eb8-45b5-c4a8-77c9072889e6"
   },
   "outputs": [
    {
     "data": {
      "image/png": "[encoded data removed]",
      "text/plain": [
       "<Figure size 492.375x360 with 1 Axes>"
      ]
     },
     "metadata": {
      "needs_background": "light"
     },
     "output_type": "display_data"
    }
   ],
   "source": [
    "sns.relplot(x=\"videoCount\", y=\"year\", hue='yearClass', size='subscriberCount',data=df)\n",
    "plt.hlines(2015.8, 0, df.videoCount.max())\n",
    "plt.hlines(2010.3, 0, df.videoCount.max())\n",
    "plt.vlines(400, 2006, 2020)\n",
    "plt.vlines(800, 2006, 2020)\n",
    "plt.show()"
   ]
  },
  {
   "cell_type": "code",
   "execution_count": 83,
   "id": "om-u3OaFLX32",
   "metadata": {
    "colab": {
     "base_uri": "https://localhost:8080/",
     "height": 296
    },
    "id": "om-u3OaFLX32",
    "outputId": "94ca520a-0ac5-4821-828b-893bee1949d5"
   },
   "outputs": [
    {
     "data": {
      "image/png": "[encoded data removed]",
      "text/plain": [
       "<Figure size 432x288 with 1 Axes>"
      ]
     },
     "metadata": {
      "needs_background": "light"
     },
     "output_type": "display_data"
    }
   ],
   "source": [
    " \n",
    "_ = sns.countplot(y=\"countryOther\", hue=\"yearClass\",order=summery_df.countryOther.value_counts().index, data=df)"
   ]
  },
  {
   "cell_type": "code",
   "execution_count": 84,
   "id": "W4r8q-_9u2WL",
   "metadata": {
    "colab": {
     "base_uri": "https://localhost:8080/",
     "height": 370
    },
    "id": "W4r8q-_9u2WL",
    "outputId": "f2029d73-5020-40af-b68b-6efd2ae1801e"
   },
   "outputs": [
    {
     "data": {
      "image/png": "[encoded data removed]",
      "text/plain": [
       "<Figure size 492.375x360 with 1 Axes>"
      ]
     },
     "metadata": {
      "needs_background": "light"
     },
     "output_type": "display_data"
    }
   ],
   "source": [
    "_ = sns.relplot(x=\"viewCount\", y=\"subscriberCount\",  hue='yearClass',data=df)"
   ]
  },
  {
   "cell_type": "code",
   "execution_count": 85,
   "id": "mfTmq0e_iOJV",
   "metadata": {
    "colab": {
     "base_uri": "https://localhost:8080/",
     "height": 296
    },
    "id": "mfTmq0e_iOJV",
    "outputId": "9f1ac04d-1a96-4df8-e401-fa3cca0137f0"
   },
   "outputs": [
    {
     "data": {
      "image/png": "[encoded data removed]",
      "text/plain": [
       "<Figure size 432x288 with 1 Axes>"
      ]
     },
     "metadata": {
      "needs_background": "light"
     },
     "output_type": "display_data"
    }
   ],
   "source": [
    "sns.histplot(df, x='videoCount')\n",
    "plt.title('The histgram of the videoCount variable')\n",
    "plt.show()"
   ]
  },
  {
   "cell_type": "code",
   "execution_count": 86,
   "id": "liqQr2Pny8jl",
   "metadata": {
    "colab": {
     "base_uri": "https://localhost:8080/",
     "height": 279
    },
    "id": "liqQr2Pny8jl",
    "outputId": "99e6192d-2945-4639-dea0-590231fd9a04"
   },
   "outputs": [
    {
     "data": {
      "image/png": "[encoded data removed]",
      "text/plain": [
       "<Figure size 432x288 with 1 Axes>"
      ]
     },
     "metadata": {
      "needs_background": "light"
     },
     "output_type": "display_data"
    }
   ],
   "source": [
    "_ = sns.histplot(df, x='subscriberCount',)\n",
    "plt.title('The histgram of the subscriberCount variable')\n",
    "plt.show()"
   ]
  },
  {
   "cell_type": "code",
   "execution_count": 87,
   "id": "Agwne8F1zfxe",
   "metadata": {
    "colab": {
     "base_uri": "https://localhost:8080/",
     "height": 279
    },
    "id": "Agwne8F1zfxe",
    "outputId": "cfeaa127-0dd5-4874-9e2c-0349e10767f0"
   },
   "outputs": [
    {
     "data": {
      "image/png": "[encoded data removed]",
      "text/plain": [
       "<Figure size 432x288 with 1 Axes>"
      ]
     },
     "metadata": {
      "needs_background": "light"
     },
     "output_type": "display_data"
    }
   ],
   "source": [
    "_ = sns.histplot(df, x='subscriberCount', hue='yearClass')"
   ]
  },
  {
   "cell_type": "code",
   "execution_count": 88,
   "id": "mC5xW6aozgdr",
   "metadata": {
    "colab": {
     "base_uri": "https://localhost:8080/",
     "height": 296
    },
    "id": "mC5xW6aozgdr",
    "outputId": "87a4a42c-0652-400a-ddaa-c169e11cbbb3"
   },
   "outputs": [
    {
     "data": {
      "image/png": "[encoded data removed]",
      "text/plain": [
       "<Figure size 432x288 with 1 Axes>"
      ]
     },
     "metadata": {
      "needs_background": "light"
     },
     "output_type": "display_data"
    }
   ],
   "source": [
    "sns.histplot(df, x='subscriberCount', hue='yearClass', multiple=\"stack\")\n",
    "plt.vlines(df.subscriberCount.median(),0,35, colors='red')\n",
    "plt.show()"
   ]
  },
  {
   "cell_type": "code",
   "execution_count": 89,
   "id": "84w-0aMf1Pnj",
   "metadata": {
    "colab": {
     "base_uri": "https://localhost:8080/",
     "height": 276
    },
    "id": "84w-0aMf1Pnj",
    "outputId": "0fc71622-04aa-49ee-a92c-07c10ea9f8e9"
   },
   "outputs": [
    {
     "data": {
      "image/png": "[encoded data removed]",
      "text/plain": [
       "<Figure size 432x288 with 1 Axes>"
      ]
     },
     "metadata": {
      "needs_background": "light"
     },
     "output_type": "display_data"
    }
   ],
   "source": [
    "_ = sns.boxplot(data=df.subscriberCount)"
   ]
  },
  {
   "cell_type": "code",
   "execution_count": 90,
   "id": "kcdQZRfw4Z01",
   "metadata": {
    "colab": {
     "base_uri": "https://localhost:8080/"
    },
    "id": "kcdQZRfw4Z01",
    "outputId": "9d745521-1a5f-4817-c22e-2555bba63ea4"
   },
   "outputs": [
    {
     "data": {
      "text/plain": [
       "0.25     97250.0\n",
       "0.50    288000.0\n",
       "0.75    683500.0\n",
       "Name: subscriberCount, dtype: float64"
      ]
     },
     "execution_count": 90,
     "metadata": {},
     "output_type": "execute_result"
    }
   ],
   "source": [
    "quantiles = df.subscriberCount.quantile([0.25,0.5,0.75])\n",
    "quantiles"
   ]
  },
  {
   "cell_type": "code",
   "execution_count": 91,
   "id": "AOUSmbm64zjb",
   "metadata": {
    "colab": {
     "base_uri": "https://localhost:8080/"
    },
    "id": "AOUSmbm64zjb",
    "outputId": "f2f1645a-6279-4bb3-dd2f-1e3ed183de39"
   },
   "outputs": [
    {
     "name": "stderr",
     "output_type": "stream",
     "text": [
      "<ipython-input-91-4ddfa62c8e52>:1: SettingWithCopyWarning: \n",
      "A value is trying to be set on a copy of a slice from a DataFrame.\n",
      "Try using .loc[row_indexer,col_indexer] = value instead\n",
      "\n",
      "See the caveats in the documentation: https://pandas.pydata.org/pandas-docs/stable/user_guide/indexing.html#returning-a-view-versus-a-copy\n",
      "  df['subscriberCountClass'] = pd.cut(df.subscriberCount, [0, quantiles[0.25], quantiles[0.75], df.subscriberCount.max()], include_lowest=True)\n"
     ]
    }
   ],
   "source": [
    "df['subscriberCountClass'] = pd.cut(df.subscriberCount, [0, quantiles[0.25], quantiles[0.75], df.subscriberCount.max()], include_lowest=True)"
   ]
  },
  {
   "cell_type": "code",
   "execution_count": 92,
   "id": "G1kS3v285b5d",
   "metadata": {
    "colab": {
     "base_uri": "https://localhost:8080/"
    },
    "id": "G1kS3v285b5d",
    "outputId": "911535f4-5f85-4f7d-9fa0-0f56ad541c93"
   },
   "outputs": [
    {
     "data": {
      "text/plain": [
       "(97250.0, 683500.0]      31\n",
       "(-0.001, 97250.0]        16\n",
       "(683500.0, 2460000.0]    16\n",
       "Name: subscriberCountClass, dtype: int64"
      ]
     },
     "execution_count": 92,
     "metadata": {},
     "output_type": "execute_result"
    }
   ],
   "source": [
    "df['subscriberCountClass'].value_counts()"
   ]
  },
  {
   "cell_type": "code",
   "execution_count": 93,
   "id": "Vt2G2qUT5odO",
   "metadata": {
    "colab": {
     "base_uri": "https://localhost:8080/",
     "height": 383
    },
    "id": "Vt2G2qUT5odO",
    "outputId": "2c906d4f-d1f6-4452-b0d6-9bf5d23ee14a"
   },
   "outputs": [
    {
     "data": {
      "image/png": "[encoded data removed]",
      "text/plain": [
       "<Figure size 510.75x360 with 1 Axes>"
      ]
     },
     "metadata": {
      "needs_background": "light"
     },
     "output_type": "display_data"
    }
   ],
   "source": [
    "sns.relplot(x=\"videoCount\", y=\"year\", hue='yearClass', size='subscriberCountClass',data=df)\n",
    "plt.hlines(2015.8, 0, df.videoCount.max())\n",
    "plt.hlines(2010.3, 0, df.videoCount.max())\n",
    "plt.vlines(400, 2006, 2020)\n",
    "plt.vlines(800, 2006, 2020)\n",
    "plt.show()"
   ]
  },
  {
   "cell_type": "code",
   "execution_count": 94,
   "id": "7Eq8M17A2uQe",
   "metadata": {
    "id": "7Eq8M17A2uQe"
   },
   "outputs": [],
   "source": [
    "from sklearn.preprocessing import MinMaxScaler\n",
    "\n",
    "# create a scaler object\n",
    "scaler = MinMaxScaler()\n",
    "# fit and transform the data\n",
    "numerics = ['int16', 'int32', 'int64', 'float16', 'float32', 'float64']\n",
    "df_norm = pd.DataFrame(scaler.fit_transform(df.select_dtypes(include=numerics)), columns=df.select_dtypes(include=numerics).columns)"
   ]
  },
  {
   "cell_type": "code",
   "execution_count": 95,
   "id": "68o-d3yw3Syi",
   "metadata": {
    "colab": {
     "base_uri": "https://localhost:8080/",
     "height": 282
    },
    "id": "68o-d3yw3Syi",
    "outputId": "5285592a-31f2-46d0-a549-bad22048b41f"
   },
   "outputs": [
    {
     "data": {
      "image/png": "[encoded data removed]",
      "text/plain": [
       "<Figure size 432x288 with 1 Axes>"
      ]
     },
     "metadata": {
      "needs_background": "light"
     },
     "output_type": "display_data"
    }
   ],
   "source": [
    "_ = sns.boxplot(data=df_norm)"
   ]
  },
  {
   "cell_type": "code",
   "execution_count": 96,
   "id": "VZClcuI90l1r",
   "metadata": {
    "colab": {
     "base_uri": "https://localhost:8080/"
    },
    "id": "VZClcuI90l1r",
    "outputId": "3046d6b8-d5f1-4267-b3ce-bfc52406c628"
   },
   "outputs": [
    {
     "data": {
      "text/plain": [
       "288000.0"
      ]
     },
     "execution_count": 96,
     "metadata": {},
     "output_type": "execute_result"
    }
   ],
   "source": [
    "df.subscriberCount.median()"
   ]
  },
  {
   "cell_type": "code",
   "execution_count": 97,
   "id": "RnglcsPk-MrE",
   "metadata": {
    "id": "RnglcsPk-MrE"
   },
   "outputs": [],
   "source": [
    "df.to_csv('data/channelStatistic.csv', index=False)"
   ]
  },
  {
   "cell_type": "markdown",
   "id": "e70e5f06",
   "metadata": {
    "id": "e70e5f06"
   },
   "source": [
    "# The next step  <a class='anchor' id='chaptern'>\n",
    "We will be collecting data statistics data about videos and playlists in each  single channel. See  [Extract YouTube video statistics and playlist](video_playlist.ipynb)"
   ]
  },
  {
   "cell_type": "code",
   "execution_count": null,
   "id": "a766c5c5",
   "metadata": {},
   "outputs": [],
   "source": []
  }
 ],
 "metadata": {
  "colab": {
   "collapsed_sections": [],
   "name": "dataVisualization.ipynb",
   "provenance": []
  },
  "kernelspec": {
   "display_name": "Python 3",
   "language": "python",
   "name": "python3"
  },
  "language_info": {
   "codemirror_mode": {
    "name": "ipython",
    "version": 3
   },
   "file_extension": ".py",
   "mimetype": "text/x-python",
   "name": "python",
   "nbconvert_exporter": "python",
   "pygments_lexer": "ipython3",
   "version": "3.8.10"
  }
 },
 "nbformat": 4,
 "nbformat_minor": 5
}
