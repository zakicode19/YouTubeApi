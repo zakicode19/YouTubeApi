{
 "cells": [
  {
   "cell_type": "markdown",
   "id": "1cdf6573",
   "metadata": {
    "id": "1cdf6573"
   },
   "source": [
    "# Analyzing the data set of YouTube channels\n",
    " \n",
    "In this part of the project, we will use data science tools to clean and analyze the `summeryDB` dataset.\n",
    "The dataset was create in [channels_statistics](channels_statistics.ipynb) jubyter notebook and to get insights from it. before collacation more data  \n",
    "\n",
    "\n"
   ]
  },
  {
   "cell_type": "markdown",
   "id": "f54f4212",
   "metadata": {
    "id": "f54f4212"
   },
   "source": [
    "### Table of Contents\n",
    "\n",
    "* [Imports](#chapter0)\n",
    "* [Data preparation](#chapter1)\n",
    "  * [Exploring the data](#section1)\n",
    "  * [Cleaning the data](#section2)\n",
    "  * [Adding new features](#section3)\n",
    "* [Creating Visualizations](#chapter2)"
   ]
  },
  {
   "cell_type": "markdown",
   "id": "5k2WeXP3gsNf",
   "metadata": {
    "id": "5k2WeXP3gsNf"
   },
   "source": [
    "### Imports <a class='anchor' id='chapter0'>\n",
    "\n",
    "In this section we will  import the  libraries we need."
   ]
  },
  {
   "cell_type": "code",
   "execution_count": 2,
   "id": "b3b2284b",
   "metadata": {
    "id": "b3b2284b"
   },
   "outputs": [],
   "source": [
    "\n",
    "import datetime as dt\n",
    "import pandas as pd\n",
    "import seaborn as sns\n",
    "import re\n",
    "from datetime import date\n",
    "import json\n",
    "import matplotlib.pyplot as plt\n",
    "\n",
    "\n",
    "%matplotlib inline\n"
   ]
  },
  {
   "cell_type": "markdown",
   "id": "hO7GAEEujQIw",
   "metadata": {
    "id": "hO7GAEEujQIw"
   },
   "source": [
    "### Data preparation <a class='anchor' id='chapter1'>"
   ]
  },
  {
   "cell_type": "code",
   "execution_count": 3,
   "id": "N-E98z9NjiZC",
   "metadata": {
    "id": "N-E98z9NjiZC"
   },
   "outputs": [],
   "source": [
    "summery_df = pd.read_csv('data/summeryDB.csv')"
   ]
  },
  {
   "cell_type": "markdown",
   "id": "YP2hRRyNjb4x",
   "metadata": {
    "id": "YP2hRRyNjb4x"
   },
   "source": [
    "#### Exploring the data <a class='anchor' id='section1'>"
   ]
  },
  {
   "cell_type": "code",
   "execution_count": 4,
   "id": "1T8TSYq1jPQe",
   "metadata": {
    "colab": {
     "base_uri": "https://localhost:8080/",
     "height": 556
    },
    "id": "1T8TSYq1jPQe",
    "outputId": "59e66fcb-4c14-4779-a88d-f0231fe60a0c"
   },
   "outputs": [
    {
     "data": {
      "text/html": [
       "<div>\n",
       "<style scoped>\n",
       "    .dataframe tbody tr th:only-of-type {\n",
       "        vertical-align: middle;\n",
       "    }\n",
       "\n",
       "    .dataframe tbody tr th {\n",
       "        vertical-align: top;\n",
       "    }\n",
       "\n",
       "    .dataframe thead th {\n",
       "        text-align: right;\n",
       "    }\n",
       "</style>\n",
       "<table border=\"1\" class=\"dataframe\">\n",
       "  <thead>\n",
       "    <tr style=\"text-align: right;\">\n",
       "      <th></th>\n",
       "      <th>channelName</th>\n",
       "      <th>title</th>\n",
       "      <th>channelId</th>\n",
       "      <th>kind</th>\n",
       "      <th>url</th>\n",
       "      <th>gender</th>\n",
       "      <th>rank</th>\n",
       "      <th>description</th>\n",
       "      <th>country</th>\n",
       "      <th>viewCount</th>\n",
       "      <th>subscriberCount</th>\n",
       "      <th>videoCount</th>\n",
       "      <th>publishedAt</th>\n",
       "      <th>uploads</th>\n",
       "    </tr>\n",
       "  </thead>\n",
       "  <tbody>\n",
       "    <tr>\n",
       "      <th>0</th>\n",
       "      <td>Programming with Mosh</td>\n",
       "      <td>Programming with Mosh</td>\n",
       "      <td>UCWv7vMbMWH4-V0ZXdmDpPBA</td>\n",
       "      <td>youtube#channel</td>\n",
       "      <td>https://www.youtube.com/c/programmingwithmosh/...</td>\n",
       "      <td>Male</td>\n",
       "      <td>1</td>\n",
       "      <td>I train professional software engineers that c...</td>\n",
       "      <td>AU</td>\n",
       "      <td>82263182</td>\n",
       "      <td>1830000</td>\n",
       "      <td>161</td>\n",
       "      <td>2014-10-07T00:40:53Z</td>\n",
       "      <td>UUWv7vMbMWH4-V0ZXdmDpPBA</td>\n",
       "    </tr>\n",
       "    <tr>\n",
       "      <th>1</th>\n",
       "      <td>Traversy Media</td>\n",
       "      <td>Traversy Media</td>\n",
       "      <td>UC29ju8bIPH5as8OGnQzwJyA</td>\n",
       "      <td>youtube#channel</td>\n",
       "      <td>https://www.youtube.com/user/TechGuyWeb</td>\n",
       "      <td>Male</td>\n",
       "      <td>2</td>\n",
       "      <td>Traversy Media features the best online web de...</td>\n",
       "      <td>US</td>\n",
       "      <td>142390124</td>\n",
       "      <td>1560000</td>\n",
       "      <td>881</td>\n",
       "      <td>2009-10-30T21:33:14Z</td>\n",
       "      <td>UU29ju8bIPH5as8OGnQzwJyA</td>\n",
       "    </tr>\n",
       "    <tr>\n",
       "      <th>2</th>\n",
       "      <td>Corey Schafer</td>\n",
       "      <td>Corey Schafer</td>\n",
       "      <td>UCCezIgC97PvUuR4_gbFUs5g</td>\n",
       "      <td>youtube#channel</td>\n",
       "      <td>https://www.youtube.com/user/schafer5</td>\n",
       "      <td>Male</td>\n",
       "      <td>3</td>\n",
       "      <td>Welcome to my Channel. This channel is focused...</td>\n",
       "      <td>US</td>\n",
       "      <td>58863870</td>\n",
       "      <td>792000</td>\n",
       "      <td>230</td>\n",
       "      <td>2006-05-31T22:49:22Z</td>\n",
       "      <td>UUCezIgC97PvUuR4_gbFUs5g</td>\n",
       "    </tr>\n",
       "    <tr>\n",
       "      <th>3</th>\n",
       "      <td>Tech With Tim</td>\n",
       "      <td>Tech With Tim</td>\n",
       "      <td>UC4JX40jDee_tINbkjycV4Sg</td>\n",
       "      <td>youtube#channel</td>\n",
       "      <td>https://m.youtube.com/channel/UC4JX40jDee_tINb...</td>\n",
       "      <td>Male</td>\n",
       "      <td>4</td>\n",
       "      <td>Learn programming, software engineering, machi...</td>\n",
       "      <td>CA</td>\n",
       "      <td>51968790</td>\n",
       "      <td>680000</td>\n",
       "      <td>602</td>\n",
       "      <td>2014-04-23T01:57:10Z</td>\n",
       "      <td>UU4JX40jDee_tINbkjycV4Sg</td>\n",
       "    </tr>\n",
       "    <tr>\n",
       "      <th>4</th>\n",
       "      <td>Krish Naik</td>\n",
       "      <td>Krish Naik</td>\n",
       "      <td>UCNU_lfiiWBdtULKOw6X0Dig</td>\n",
       "      <td>youtube#channel</td>\n",
       "      <td>https://www.youtube.com/user/krishnaik06/playl...</td>\n",
       "      <td>Male</td>\n",
       "      <td>5</td>\n",
       "      <td>I work as a Lead Data Scientist, pioneering in...</td>\n",
       "      <td>IN</td>\n",
       "      <td>28303465</td>\n",
       "      <td>390000</td>\n",
       "      <td>1102</td>\n",
       "      <td>2012-02-11T04:05:06Z</td>\n",
       "      <td>UUNU_lfiiWBdtULKOw6X0Dig</td>\n",
       "    </tr>\n",
       "  </tbody>\n",
       "</table>\n",
       "</div>"
      ],
      "text/plain": [
       "             channelName                  title                 channelId  \\\n",
       "0  Programming with Mosh  Programming with Mosh  UCWv7vMbMWH4-V0ZXdmDpPBA   \n",
       "1         Traversy Media         Traversy Media  UC29ju8bIPH5as8OGnQzwJyA   \n",
       "2          Corey Schafer          Corey Schafer  UCCezIgC97PvUuR4_gbFUs5g   \n",
       "3          Tech With Tim          Tech With Tim  UC4JX40jDee_tINbkjycV4Sg   \n",
       "4             Krish Naik             Krish Naik  UCNU_lfiiWBdtULKOw6X0Dig   \n",
       "\n",
       "              kind                                                url gender  \\\n",
       "0  youtube#channel  https://www.youtube.com/c/programmingwithmosh/...   Male   \n",
       "1  youtube#channel            https://www.youtube.com/user/TechGuyWeb   Male   \n",
       "2  youtube#channel              https://www.youtube.com/user/schafer5   Male   \n",
       "3  youtube#channel  https://m.youtube.com/channel/UC4JX40jDee_tINb...   Male   \n",
       "4  youtube#channel  https://www.youtube.com/user/krishnaik06/playl...   Male   \n",
       "\n",
       "   rank                                        description country  viewCount  \\\n",
       "0     1  I train professional software engineers that c...      AU   82263182   \n",
       "1     2  Traversy Media features the best online web de...      US  142390124   \n",
       "2     3  Welcome to my Channel. This channel is focused...      US   58863870   \n",
       "3     4  Learn programming, software engineering, machi...      CA   51968790   \n",
       "4     5  I work as a Lead Data Scientist, pioneering in...      IN   28303465   \n",
       "\n",
       "   subscriberCount  videoCount           publishedAt                   uploads  \n",
       "0          1830000         161  2014-10-07T00:40:53Z  UUWv7vMbMWH4-V0ZXdmDpPBA  \n",
       "1          1560000         881  2009-10-30T21:33:14Z  UU29ju8bIPH5as8OGnQzwJyA  \n",
       "2           792000         230  2006-05-31T22:49:22Z  UUCezIgC97PvUuR4_gbFUs5g  \n",
       "3           680000         602  2014-04-23T01:57:10Z  UU4JX40jDee_tINbkjycV4Sg  \n",
       "4           390000        1102  2012-02-11T04:05:06Z  UUNU_lfiiWBdtULKOw6X0Dig  "
      ]
     },
     "execution_count": 4,
     "metadata": {},
     "output_type": "execute_result"
    }
   ],
   "source": [
    "summery_df.head()"
   ]
  },
  {
   "cell_type": "code",
   "execution_count": 5,
   "id": "91735657",
   "metadata": {
    "colab": {
     "base_uri": "https://localhost:8080/"
    },
    "id": "91735657",
    "outputId": "c9c7b9e9-bce5-4b70-de59-3ec1824fdbf1",
    "scrolled": true
   },
   "outputs": [
    {
     "name": "stdout",
     "output_type": "stream",
     "text": [
      "<class 'pandas.core.frame.DataFrame'>\n",
      "RangeIndex: 67 entries, 0 to 66\n",
      "Data columns (total 14 columns):\n",
      " #   Column           Non-Null Count  Dtype \n",
      "---  ------           --------------  ----- \n",
      " 0   channelName      67 non-null     object\n",
      " 1   title            67 non-null     object\n",
      " 2   channelId        67 non-null     object\n",
      " 3   kind             67 non-null     object\n",
      " 4   url              67 non-null     object\n",
      " 5   gender           65 non-null     object\n",
      " 6   rank             67 non-null     int64 \n",
      " 7   description      66 non-null     object\n",
      " 8   country          62 non-null     object\n",
      " 9   viewCount        67 non-null     int64 \n",
      " 10  subscriberCount  67 non-null     int64 \n",
      " 11  videoCount       67 non-null     int64 \n",
      " 12  publishedAt      67 non-null     object\n",
      " 13  uploads          67 non-null     object\n",
      "dtypes: int64(4), object(10)\n",
      "memory usage: 7.5+ KB\n"
     ]
    }
   ],
   "source": [
    "summery_df.info(verbose=True)"
   ]
  },
  {
   "cell_type": "markdown",
   "id": "i3Pk2gc7qVw0",
   "metadata": {
    "id": "i3Pk2gc7qVw0"
   },
   "source": [
    "We notice one missing value in the `description` column, and six in the `country` column."
   ]
  },
  {
   "cell_type": "code",
   "execution_count": null,
   "id": "pq3V9Xbgjv8K",
   "metadata": {
    "colab": {
     "base_uri": "https://localhost:8080/",
     "height": 484
    },
    "id": "pq3V9Xbgjv8K",
    "outputId": "807cf4c6-83fb-4d24-f157-38dabe8a9fa9"
   },
   "outputs": [
    {
     "data": {
      "text/html": [
       "<div>\n",
       "<style scoped>\n",
       "    .dataframe tbody tr th:only-of-type {\n",
       "        vertical-align: middle;\n",
       "    }\n",
       "\n",
       "    .dataframe tbody tr th {\n",
       "        vertical-align: top;\n",
       "    }\n",
       "\n",
       "    .dataframe thead th {\n",
       "        text-align: right;\n",
       "    }\n",
       "</style>\n",
       "<table border=\"1\" class=\"dataframe\">\n",
       "  <thead>\n",
       "    <tr style=\"text-align: right;\">\n",
       "      <th></th>\n",
       "      <th>channelName</th>\n",
       "      <th>title</th>\n",
       "      <th>channelId</th>\n",
       "      <th>kind</th>\n",
       "      <th>url</th>\n",
       "      <th>description</th>\n",
       "      <th>country</th>\n",
       "      <th>viewCount</th>\n",
       "      <th>subscriberCount</th>\n",
       "      <th>videoCount</th>\n",
       "      <th>publishedAt</th>\n",
       "      <th>uploads</th>\n",
       "    </tr>\n",
       "  </thead>\n",
       "  <tbody>\n",
       "    <tr>\n",
       "      <th>count</th>\n",
       "      <td>68</td>\n",
       "      <td>68</td>\n",
       "      <td>68</td>\n",
       "      <td>68</td>\n",
       "      <td>68</td>\n",
       "      <td>67</td>\n",
       "      <td>62</td>\n",
       "      <td>6.800000e+01</td>\n",
       "      <td>6.800000e+01</td>\n",
       "      <td>68.000000</td>\n",
       "      <td>68</td>\n",
       "      <td>68</td>\n",
       "    </tr>\n",
       "    <tr>\n",
       "      <th>unique</th>\n",
       "      <td>68</td>\n",
       "      <td>68</td>\n",
       "      <td>68</td>\n",
       "      <td>1</td>\n",
       "      <td>68</td>\n",
       "      <td>67</td>\n",
       "      <td>14</td>\n",
       "      <td>NaN</td>\n",
       "      <td>NaN</td>\n",
       "      <td>NaN</td>\n",
       "      <td>68</td>\n",
       "      <td>68</td>\n",
       "    </tr>\n",
       "    <tr>\n",
       "      <th>top</th>\n",
       "      <td>Clever Programmer</td>\n",
       "      <td>Clever Programmer</td>\n",
       "      <td>UCh9nVJoWXmFb7sLApWGcLPQ</td>\n",
       "      <td>youtube#channel</td>\n",
       "      <td>https://www.youtube.com/ImranSayedDev</td>\n",
       "      <td>Hey Aliens!!!\\nI make free programming tutoria...</td>\n",
       "      <td>US</td>\n",
       "      <td>NaN</td>\n",
       "      <td>NaN</td>\n",
       "      <td>NaN</td>\n",
       "      <td>2018-04-28T14:50:54Z</td>\n",
       "      <td>UUbjozK_PYCTLEluFlrJ8UZg</td>\n",
       "    </tr>\n",
       "    <tr>\n",
       "      <th>freq</th>\n",
       "      <td>1</td>\n",
       "      <td>1</td>\n",
       "      <td>1</td>\n",
       "      <td>68</td>\n",
       "      <td>1</td>\n",
       "      <td>1</td>\n",
       "      <td>31</td>\n",
       "      <td>NaN</td>\n",
       "      <td>NaN</td>\n",
       "      <td>NaN</td>\n",
       "      <td>1</td>\n",
       "      <td>1</td>\n",
       "    </tr>\n",
       "    <tr>\n",
       "      <th>mean</th>\n",
       "      <td>NaN</td>\n",
       "      <td>NaN</td>\n",
       "      <td>NaN</td>\n",
       "      <td>NaN</td>\n",
       "      <td>NaN</td>\n",
       "      <td>NaN</td>\n",
       "      <td>NaN</td>\n",
       "      <td>4.944904e+07</td>\n",
       "      <td>6.456419e+05</td>\n",
       "      <td>711.558824</td>\n",
       "      <td>NaN</td>\n",
       "      <td>NaN</td>\n",
       "    </tr>\n",
       "    <tr>\n",
       "      <th>std</th>\n",
       "      <td>NaN</td>\n",
       "      <td>NaN</td>\n",
       "      <td>NaN</td>\n",
       "      <td>NaN</td>\n",
       "      <td>NaN</td>\n",
       "      <td>NaN</td>\n",
       "      <td>NaN</td>\n",
       "      <td>8.010686e+07</td>\n",
       "      <td>1.005828e+06</td>\n",
       "      <td>1938.219019</td>\n",
       "      <td>NaN</td>\n",
       "      <td>NaN</td>\n",
       "    </tr>\n",
       "    <tr>\n",
       "      <th>min</th>\n",
       "      <td>NaN</td>\n",
       "      <td>NaN</td>\n",
       "      <td>NaN</td>\n",
       "      <td>NaN</td>\n",
       "      <td>NaN</td>\n",
       "      <td>NaN</td>\n",
       "      <td>NaN</td>\n",
       "      <td>5.646000e+03</td>\n",
       "      <td>8.600000e+01</td>\n",
       "      <td>9.000000</td>\n",
       "      <td>NaN</td>\n",
       "      <td>NaN</td>\n",
       "    </tr>\n",
       "    <tr>\n",
       "      <th>25%</th>\n",
       "      <td>NaN</td>\n",
       "      <td>NaN</td>\n",
       "      <td>NaN</td>\n",
       "      <td>NaN</td>\n",
       "      <td>NaN</td>\n",
       "      <td>NaN</td>\n",
       "      <td>NaN</td>\n",
       "      <td>6.728782e+06</td>\n",
       "      <td>9.987500e+04</td>\n",
       "      <td>141.750000</td>\n",
       "      <td>NaN</td>\n",
       "      <td>NaN</td>\n",
       "    </tr>\n",
       "    <tr>\n",
       "      <th>50%</th>\n",
       "      <td>NaN</td>\n",
       "      <td>NaN</td>\n",
       "      <td>NaN</td>\n",
       "      <td>NaN</td>\n",
       "      <td>NaN</td>\n",
       "      <td>NaN</td>\n",
       "      <td>NaN</td>\n",
       "      <td>1.950732e+07</td>\n",
       "      <td>3.050000e+05</td>\n",
       "      <td>310.000000</td>\n",
       "      <td>NaN</td>\n",
       "      <td>NaN</td>\n",
       "    </tr>\n",
       "    <tr>\n",
       "      <th>75%</th>\n",
       "      <td>NaN</td>\n",
       "      <td>NaN</td>\n",
       "      <td>NaN</td>\n",
       "      <td>NaN</td>\n",
       "      <td>NaN</td>\n",
       "      <td>NaN</td>\n",
       "      <td>NaN</td>\n",
       "      <td>5.553355e+07</td>\n",
       "      <td>7.122500e+05</td>\n",
       "      <td>876.750000</td>\n",
       "      <td>NaN</td>\n",
       "      <td>NaN</td>\n",
       "    </tr>\n",
       "    <tr>\n",
       "      <th>max</th>\n",
       "      <td>NaN</td>\n",
       "      <td>NaN</td>\n",
       "      <td>NaN</td>\n",
       "      <td>NaN</td>\n",
       "      <td>NaN</td>\n",
       "      <td>NaN</td>\n",
       "      <td>NaN</td>\n",
       "      <td>5.119376e+08</td>\n",
       "      <td>6.230000e+06</td>\n",
       "      <td>16092.000000</td>\n",
       "      <td>NaN</td>\n",
       "      <td>NaN</td>\n",
       "    </tr>\n",
       "  </tbody>\n",
       "</table>\n",
       "</div>"
      ],
      "text/plain": [
       "              channelName  ...                   uploads\n",
       "count                  68  ...                        68\n",
       "unique                 68  ...                        68\n",
       "top     Clever Programmer  ...  UUbjozK_PYCTLEluFlrJ8UZg\n",
       "freq                    1  ...                         1\n",
       "mean                  NaN  ...                       NaN\n",
       "std                   NaN  ...                       NaN\n",
       "min                   NaN  ...                       NaN\n",
       "25%                   NaN  ...                       NaN\n",
       "50%                   NaN  ...                       NaN\n",
       "75%                   NaN  ...                       NaN\n",
       "max                   NaN  ...                       NaN\n",
       "\n",
       "[11 rows x 12 columns]"
      ]
     },
     "execution_count": 6,
     "metadata": {
      "tags": []
     },
     "output_type": "execute_result"
    }
   ],
   "source": [
    "summery_df.describe(include='all')"
   ]
  },
  {
   "cell_type": "markdown",
   "id": "v3JQqQWWr3i-",
   "metadata": {
    "id": "v3JQqQWWr3i-"
   },
   "source": [
    "The column `kind` contine only one category. The coulum can easly be droped.   \n",
    "We are going to change datetime format of the `publshedAt` column to yyyy-mm-dd."
   ]
  },
  {
   "cell_type": "markdown",
   "id": "Tldia2bKmMrm",
   "metadata": {
    "id": "Tldia2bKmMrm"
   },
   "source": [
    "#### Cleaning the data <a class='anchor' id='section2'>"
   ]
  },
  {
   "cell_type": "markdown",
   "id": "Ku-gp7_RuceT",
   "metadata": {
    "id": "Ku-gp7_RuceT"
   },
   "source": [
    "Let's display rows missing values."
   ]
  },
  {
   "cell_type": "code",
   "execution_count": null,
   "id": "llUvNfF4uNlJ",
   "metadata": {
    "colab": {
     "base_uri": "https://localhost:8080/",
     "height": 501
    },
    "id": "llUvNfF4uNlJ",
    "outputId": "e6b69d38-28c6-4fd4-fdff-ce705dea1549"
   },
   "outputs": [
    {
     "data": {
      "text/html": [
       "<div>\n",
       "<style scoped>\n",
       "    .dataframe tbody tr th:only-of-type {\n",
       "        vertical-align: middle;\n",
       "    }\n",
       "\n",
       "    .dataframe tbody tr th {\n",
       "        vertical-align: top;\n",
       "    }\n",
       "\n",
       "    .dataframe thead th {\n",
       "        text-align: right;\n",
       "    }\n",
       "</style>\n",
       "<table border=\"1\" class=\"dataframe\">\n",
       "  <thead>\n",
       "    <tr style=\"text-align: right;\">\n",
       "      <th></th>\n",
       "      <th>channelName</th>\n",
       "      <th>title</th>\n",
       "      <th>channelId</th>\n",
       "      <th>kind</th>\n",
       "      <th>url</th>\n",
       "      <th>description</th>\n",
       "      <th>country</th>\n",
       "      <th>viewCount</th>\n",
       "      <th>subscriberCount</th>\n",
       "      <th>videoCount</th>\n",
       "      <th>publishedAt</th>\n",
       "      <th>uploads</th>\n",
       "    </tr>\n",
       "  </thead>\n",
       "  <tbody>\n",
       "    <tr>\n",
       "      <th>20</th>\n",
       "      <td>Kalle Hallden</td>\n",
       "      <td>Kalle Hallden</td>\n",
       "      <td>UCWr0mx597DnSGLFk1WfvSkQ</td>\n",
       "      <td>youtube#channel</td>\n",
       "      <td>https://www.youtube.com/channel/UCWr0mx597DnSG...</td>\n",
       "      <td>Hi, I am 300 moons old. I count everything in ...</td>\n",
       "      <td>NaN</td>\n",
       "      <td>31976843</td>\n",
       "      <td>503000</td>\n",
       "      <td>186</td>\n",
       "      <td>2015-10-18T20:39:56Z</td>\n",
       "      <td>UUWr0mx597DnSGLFk1WfvSkQ</td>\n",
       "    </tr>\n",
       "    <tr>\n",
       "      <th>32</th>\n",
       "      <td>Kyle Cook</td>\n",
       "      <td>Kyle Cook</td>\n",
       "      <td>UC_ov4ZPZej97M9kN1_lgtMg</td>\n",
       "      <td>youtube#channel</td>\n",
       "      <td>https://www.youtube.com/c/WebDevSimplified/pla...</td>\n",
       "      <td>Kyle Cook, Director\\nWestern Branch Middle Sch...</td>\n",
       "      <td>NaN</td>\n",
       "      <td>10652</td>\n",
       "      <td>161</td>\n",
       "      <td>9</td>\n",
       "      <td>2020-03-27T01:36:14.126848Z</td>\n",
       "      <td>UU_ov4ZPZej97M9kN1_lgtMg</td>\n",
       "    </tr>\n",
       "    <tr>\n",
       "      <th>33</th>\n",
       "      <td>Scott Hansellman</td>\n",
       "      <td>Scott Hanselman</td>\n",
       "      <td>UCL-fHOdarou-CR2XUmK48Og</td>\n",
       "      <td>youtube#channel</td>\n",
       "      <td>https://www.youtube.com/user/shanselman</td>\n",
       "      <td>I'm a teacher. I speak all over to whomever wi...</td>\n",
       "      <td>NaN</td>\n",
       "      <td>8895355</td>\n",
       "      <td>124000</td>\n",
       "      <td>307</td>\n",
       "      <td>2006-03-15T10:14:39Z</td>\n",
       "      <td>UUL-fHOdarou-CR2XUmK48Og</td>\n",
       "    </tr>\n",
       "    <tr>\n",
       "      <th>40</th>\n",
       "      <td>CodingEntrepreneurs</td>\n",
       "      <td>CodingEntrepreneurs</td>\n",
       "      <td>UCWEHue8kksIaktO8KTTN_zg</td>\n",
       "      <td>youtube#channel</td>\n",
       "      <td>https://www.youtube.com/user/CodingEntrepreneurs</td>\n",
       "      <td>Coding for Entrepreneurs is a Programming Seri...</td>\n",
       "      <td>NaN</td>\n",
       "      <td>15688637</td>\n",
       "      <td>178000</td>\n",
       "      <td>671</td>\n",
       "      <td>2013-06-30T00:56:13Z</td>\n",
       "      <td>UUWEHue8kksIaktO8KTTN_zg</td>\n",
       "    </tr>\n",
       "    <tr>\n",
       "      <th>50</th>\n",
       "      <td>Chris Coyier</td>\n",
       "      <td>Chris Coyier</td>\n",
       "      <td>UCADyUOnhyEoQqrw_RrsGleA</td>\n",
       "      <td>youtube#channel</td>\n",
       "      <td>https://www.youtube.com/user/realcsstricks</td>\n",
       "      <td>This is the official YouTube channel for CSS-T...</td>\n",
       "      <td>NaN</td>\n",
       "      <td>3641360</td>\n",
       "      <td>59200</td>\n",
       "      <td>292</td>\n",
       "      <td>2011-05-12T01:53:15Z</td>\n",
       "      <td>UUADyUOnhyEoQqrw_RrsGleA</td>\n",
       "    </tr>\n",
       "    <tr>\n",
       "      <th>54</th>\n",
       "      <td>chuck severance</td>\n",
       "      <td>Chuck Severance</td>\n",
       "      <td>UChYfrRp_CWyqOt-ZYJGOgmA</td>\n",
       "      <td>youtube#channel</td>\n",
       "      <td>https://m.youtube.com/user/csev</td>\n",
       "      <td>NaN</td>\n",
       "      <td>NaN</td>\n",
       "      <td>7701297</td>\n",
       "      <td>61200</td>\n",
       "      <td>876</td>\n",
       "      <td>2006-08-19T14:24:00Z</td>\n",
       "      <td>UUhYfrRp_CWyqOt-ZYJGOgmA</td>\n",
       "    </tr>\n",
       "  </tbody>\n",
       "</table>\n",
       "</div>"
      ],
      "text/plain": [
       "            channelName  ...                   uploads\n",
       "20        Kalle Hallden  ...  UUWr0mx597DnSGLFk1WfvSkQ\n",
       "32            Kyle Cook  ...  UU_ov4ZPZej97M9kN1_lgtMg\n",
       "33     Scott Hansellman  ...  UUL-fHOdarou-CR2XUmK48Og\n",
       "40  CodingEntrepreneurs  ...  UUWEHue8kksIaktO8KTTN_zg\n",
       "50         Chris Coyier  ...  UUADyUOnhyEoQqrw_RrsGleA\n",
       "54      chuck severance  ...  UUhYfrRp_CWyqOt-ZYJGOgmA\n",
       "\n",
       "[6 rows x 12 columns]"
      ]
     },
     "execution_count": 7,
     "metadata": {
      "tags": []
     },
     "output_type": "execute_result"
    }
   ],
   "source": [
    "summery_df[summery_df.isnull().any(axis=1)]"
   ]
  },
  {
   "cell_type": "code",
   "execution_count": null,
   "id": "69e86c8b",
   "metadata": {
    "colab": {
     "base_uri": "https://localhost:8080/"
    },
    "id": "69e86c8b",
    "outputId": "17d30bfa-ecd3-47aa-f962-a730718c8edd",
    "scrolled": false
   },
   "outputs": [
    {
     "data": {
      "text/plain": [
       "US    31\n",
       "IN    11\n",
       "CA     5\n",
       "AU     3\n",
       "NO     2\n",
       "GB     2\n",
       "DK     1\n",
       "RO     1\n",
       "EE     1\n",
       "KR     1\n",
       "PK     1\n",
       "PL     1\n",
       "DE     1\n",
       "PE     1\n",
       "Name: country, dtype: int64"
      ]
     },
     "execution_count": 8,
     "metadata": {
      "tags": []
     },
     "output_type": "execute_result"
    }
   ],
   "source": [
    "country_count = summery_df.country.value_counts()\n",
    "country_count"
   ]
  },
  {
   "cell_type": "markdown",
   "id": "XUSd8CoK4uZM",
   "metadata": {
    "id": "XUSd8CoK4uZM"
   },
   "source": [
    "The `US` is the `mode` of the `country` column, we can just replace the missing value in this column with `US`. \n",
    "```\n",
    "summery_df['country'] = summery_df['country'].fillna(summery_df['country'].mode()[0])\n",
    "```\n",
    "Since we only have six missing values, we can check the YouTube web page for channels with a missing value to see if we can find the complete the missing values.   \n",
    "After quick research we find all missing value in the country column, the missing values were all `US` (big suprise).\n",
    "For the channel `Kyle Cook` we notice that we made a big mistake, we used the `channelId` of another YouTube channel with the exact name [Kyle Cook](https://www.youtube.com/user/StalkingKyle/featured) to collate the data of this channel.   \n",
    "In fact, `Kyle Cook` has a YouTube channel related to programming but the channel name is [Web Dev Simplified](https://www.youtube.com/c/WebDevSimplified/pla...).\n",
    "To fix the data on row `32`. \n",
    "We will make a query in this web site [https://developers.google.com](https://developers.google.com/youtube/v3/docs/channels/list?apix_params=%7B%22part%22%3A%5B%22snippet%2CcontentDetails%2Cstatistics%22%5D%2C%22id%22%3A%5B%22UCFbNIlppjAuEX4znoulh0Cw%22%5D%7D&apix=true) and copy the response.\n"
   ]
  },
  {
   "cell_type": "code",
   "execution_count": null,
   "id": "grDhJ9qWCJx8",
   "metadata": {
    "id": "grDhJ9qWCJx8"
   },
   "outputs": [],
   "source": [
    "#filling the missing data\n",
    "summery_df.country.fillna('US', inplace=True) #.value_counts()"
   ]
  },
  {
   "cell_type": "code",
   "execution_count": null,
   "id": "OkPJZeDCClr7",
   "metadata": {
    "colab": {
     "base_uri": "https://localhost:8080/"
    },
    "id": "OkPJZeDCClr7",
    "outputId": "3f201fd6-637b-4ca9-c9c4-a1f22d018ac7"
   },
   "outputs": [
    {
     "data": {
      "text/plain": [
       "US    37\n",
       "IN    11\n",
       "CA     5\n",
       "AU     3\n",
       "NO     2\n",
       "GB     2\n",
       "DK     1\n",
       "RO     1\n",
       "EE     1\n",
       "KR     1\n",
       "PK     1\n",
       "PL     1\n",
       "DE     1\n",
       "PE     1\n",
       "Name: country, dtype: int64"
      ]
     },
     "execution_count": 10,
     "metadata": {
      "tags": []
     },
     "output_type": "execute_result"
    }
   ],
   "source": [
    "country_count = summery_df.country.value_counts()\n",
    "country_count"
   ]
  },
  {
   "cell_type": "code",
   "execution_count": null,
   "id": "bGXAN75hIdsG",
   "metadata": {
    "colab": {
     "base_uri": "https://localhost:8080/"
    },
    "id": "bGXAN75hIdsG",
    "outputId": "d371aa7e-5d9e-4872-c763-cbe9c453e5ba"
   },
   "outputs": [
    {
     "name": "stdout",
     "output_type": "stream",
     "text": [
      "<class 'pandas.core.frame.DataFrame'>\n",
      "Int64Index: 68 entries, 0 to 67\n",
      "Data columns (total 12 columns):\n",
      " #   Column           Non-Null Count  Dtype \n",
      "---  ------           --------------  ----- \n",
      " 0   channelName      68 non-null     object\n",
      " 1   title            68 non-null     object\n",
      " 2   channelId        68 non-null     object\n",
      " 3   kind             68 non-null     object\n",
      " 4   url              68 non-null     object\n",
      " 5   description      67 non-null     object\n",
      " 6   country          68 non-null     object\n",
      " 7   viewCount        68 non-null     object\n",
      " 8   subscriberCount  68 non-null     object\n",
      " 9   videoCount       68 non-null     object\n",
      " 10  publishedAt      68 non-null     object\n",
      " 11  uploads          68 non-null     object\n",
      "dtypes: object(12)\n",
      "memory usage: 9.4+ KB\n"
     ]
    }
   ],
   "source": [
    "summery_df.info()"
   ]
  },
  {
   "cell_type": "markdown",
   "id": "Jge-dlXGDvaH",
   "metadata": {
    "id": "Jge-dlXGDvaH"
   },
   "source": [
    "we will convert the type of `viewCount`, `subscriCount` and `videoCount` columnsto `int`."
   ]
  },
  {
   "cell_type": "code",
   "execution_count": null,
   "id": "IK1uQIL7JIZs",
   "metadata": {
    "id": "IK1uQIL7JIZs"
   },
   "outputs": [],
   "source": [
    "summery_df = summery_df.astype({'viewCount':'int64', 'subscriberCount':'int32', 'videoCount':'int32'}).copy()"
   ]
  },
  {
   "cell_type": "markdown",
   "id": "RggTsjYOJpDr",
   "metadata": {
    "id": "RggTsjYOJpDr"
   },
   "source": [
    "we convert the type of `publishedAt` column to `datetime` type and keep only the date part, to result we be saved in new column `publishedDate`."
   ]
  },
  {
   "cell_type": "code",
   "execution_count": null,
   "id": "TgXo1QusJqXj",
   "metadata": {
    "id": "TgXo1QusJqXj"
   },
   "outputs": [],
   "source": [
    "summery_df['publishedDate'] = pd.to_datetime(pd.to_datetime(summery_df.publishedAt).dt.date)"
   ]
  },
  {
   "cell_type": "code",
   "execution_count": null,
   "id": "wjRvvJU3J-sy",
   "metadata": {
    "colab": {
     "base_uri": "https://localhost:8080/"
    },
    "id": "wjRvvJU3J-sy",
    "outputId": "cd31f707-55cd-4d1d-9941-548187ec77e2"
   },
   "outputs": [
    {
     "name": "stdout",
     "output_type": "stream",
     "text": [
      "<class 'pandas.core.frame.DataFrame'>\n",
      "Int64Index: 68 entries, 0 to 67\n",
      "Data columns (total 13 columns):\n",
      " #   Column           Non-Null Count  Dtype         \n",
      "---  ------           --------------  -----         \n",
      " 0   channelName      68 non-null     object        \n",
      " 1   title            68 non-null     object        \n",
      " 2   channelId        68 non-null     object        \n",
      " 3   kind             68 non-null     object        \n",
      " 4   url              68 non-null     object        \n",
      " 5   description      67 non-null     object        \n",
      " 6   country          68 non-null     object        \n",
      " 7   viewCount        68 non-null     int64         \n",
      " 8   subscriberCount  68 non-null     int32         \n",
      " 9   videoCount       68 non-null     int32         \n",
      " 10  publishedAt      68 non-null     object        \n",
      " 11  uploads          68 non-null     object        \n",
      " 12  publishedDate    68 non-null     datetime64[ns]\n",
      "dtypes: datetime64[ns](1), int32(2), int64(1), object(9)\n",
      "memory usage: 9.4+ KB\n"
     ]
    }
   ],
   "source": [
    "summery_df.info()"
   ]
  },
  {
   "cell_type": "code",
   "execution_count": null,
   "id": "asiq3ybPKF0t",
   "metadata": {
    "colab": {
     "base_uri": "https://localhost:8080/"
    },
    "id": "asiq3ybPKF0t",
    "outputId": "fbd357fe-34bb-4e05-ee47-c8d29688f89e"
   },
   "outputs": [
    {
     "data": {
      "text/plain": [
       "youtube#channel    68\n",
       "Name: kind, dtype: int64"
      ]
     },
     "execution_count": 20,
     "metadata": {
      "tags": []
     },
     "output_type": "execute_result"
    }
   ],
   "source": [
    "summery_df.kind.value_counts()"
   ]
  },
  {
   "cell_type": "markdown",
   "id": "K38sjvYRHByg",
   "metadata": {
    "id": "K38sjvYRHByg"
   },
   "source": [
    "We will drop `kind` column."
   ]
  },
  {
   "cell_type": "code",
   "execution_count": null,
   "id": "roiAs4qiKaSl",
   "metadata": {
    "id": "roiAs4qiKaSl"
   },
   "outputs": [],
   "source": [
    "summery_df.drop('kind', axis=1, inplace=True)"
   ]
  },
  {
   "cell_type": "markdown",
   "id": "PT3s5Ci-nA09",
   "metadata": {
    "id": "PT3s5Ci-nA09"
   },
   "source": [
    "#### Adding new features <a class='anchor' id='section3'>"
   ]
  },
  {
   "cell_type": "markdown",
   "id": "smeLTZ9mHURT",
   "metadata": {
    "id": "smeLTZ9mHURT"
   },
   "source": [
    "Adding new features to a data set can improve the performance of a model. "
   ]
  },
  {
   "cell_type": "code",
   "execution_count": null,
   "id": "Y29r6UqEnAi_",
   "metadata": {
    "colab": {
     "base_uri": "https://localhost:8080/"
    },
    "id": "Y29r6UqEnAi_",
    "outputId": "a964765f-6443-4499-cbe7-d273aaae239c"
   },
   "outputs": [
    {
     "data": {
      "text/plain": [
       "US    37\n",
       "IN    11\n",
       "CA     5\n",
       "AU     3\n",
       "NO     2\n",
       "GB     2\n",
       "DK     1\n",
       "RO     1\n",
       "EE     1\n",
       "KR     1\n",
       "PK     1\n",
       "PL     1\n",
       "DE     1\n",
       "PE     1\n",
       "Name: country, dtype: int64"
      ]
     },
     "execution_count": 22,
     "metadata": {
      "tags": []
     },
     "output_type": "execute_result"
    }
   ],
   "source": [
    "country_count = summery_df.country.value_counts()\n",
    "country_count"
   ]
  },
  {
   "cell_type": "markdown",
   "id": "51cc3c56",
   "metadata": {
    "id": "51cc3c56"
   },
   "source": [
    "##### Country name column"
   ]
  },
  {
   "cell_type": "markdown",
   "id": "x6FjkIIgwS7O",
   "metadata": {
    "id": "x6FjkIIgwS7O"
   },
   "source": [
    "It will be easier to recognize the country if we add the country name instead of only having the country code.  \n",
    "In [The two-letter country code](country_abbreviation.ipynb) jupyter notebook, we have created a database that associates each country with the corresponding country code. This dataset will be used to create the new column `country` and the current column `country` will be renamed `countryCode`."
   ]
  },
  {
   "cell_type": "code",
   "execution_count": null,
   "id": "12f46be7",
   "metadata": {
    "id": "12f46be7"
   },
   "outputs": [],
   "source": [
    "country_code = pd.read_csv('data/two_letter_country_code.csv', index_col=0,  squeeze=True)"
   ]
  },
  {
   "cell_type": "code",
   "execution_count": null,
   "id": "iy_N9iOSv88l",
   "metadata": {
    "colab": {
     "base_uri": "https://localhost:8080/"
    },
    "id": "iy_N9iOSv88l",
    "outputId": "c4c77727-d891-4ad2-ac4a-1e4f0baa056f"
   },
   "outputs": [
    {
     "data": {
      "text/plain": [
       "ISO 3166 ALPHA-2\n",
       "AF       Afghanistan\n",
       "AX     Aland Islands\n",
       "AL           Albania\n",
       "DZ           Algeria\n",
       "AS    American Samoa\n",
       "Name: Country, dtype: object"
      ]
     },
     "execution_count": 24,
     "metadata": {
      "tags": []
     },
     "output_type": "execute_result"
    }
   ],
   "source": [
    "country_code.head()"
   ]
  },
  {
   "cell_type": "code",
   "execution_count": null,
   "id": "178b7491",
   "metadata": {
    "colab": {
     "base_uri": "https://localhost:8080/"
    },
    "id": "178b7491",
    "outputId": "bf97badc-c58f-475b-f1f7-845a63332bd5"
   },
   "outputs": [
    {
     "data": {
      "text/plain": [
       "Index(['US', 'IN', 'CA', 'AU', 'NO', 'GB', 'DK', 'RO', 'EE', 'KR', 'PK', 'PL',\n",
       "       'DE', 'PE'],\n",
       "      dtype='object')"
      ]
     },
     "execution_count": 25,
     "metadata": {
      "tags": []
     },
     "output_type": "execute_result"
    }
   ],
   "source": [
    "country_list = country_count.index\n",
    "country_list"
   ]
  },
  {
   "cell_type": "markdown",
   "id": "123b32b7",
   "metadata": {
    "id": "123b32b7"
   },
   "source": [
    "Map the country code to the country name."
   ]
  },
  {
   "cell_type": "code",
   "execution_count": null,
   "id": "a4afd2ec",
   "metadata": {
    "id": "a4afd2ec"
   },
   "outputs": [],
   "source": [
    "country_map = {index:country_code[index] for index in country_list}"
   ]
  },
  {
   "cell_type": "code",
   "execution_count": null,
   "id": "c6a8c1ac",
   "metadata": {
    "colab": {
     "base_uri": "https://localhost:8080/"
    },
    "id": "c6a8c1ac",
    "outputId": "8c906f29-5036-4f6a-ec6f-07c0515d71a4",
    "scrolled": false
   },
   "outputs": [
    {
     "data": {
      "text/plain": [
       "{'AU': 'Australia',\n",
       " 'CA': 'Canada',\n",
       " 'DE': 'Germany',\n",
       " 'DK': 'Denmark',\n",
       " 'EE': 'Estonia',\n",
       " 'GB': 'United Kingdom',\n",
       " 'IN': 'India',\n",
       " 'KR': 'South Korea',\n",
       " 'NO': 'Norway',\n",
       " 'PE': 'Peru',\n",
       " 'PK': 'Pakistan',\n",
       " 'PL': 'Poland',\n",
       " 'RO': 'Romania',\n",
       " 'US': 'United States'}"
      ]
     },
     "execution_count": 27,
     "metadata": {
      "tags": []
     },
     "output_type": "execute_result"
    }
   ],
   "source": [
    "country_map"
   ]
  },
  {
   "cell_type": "markdown",
   "id": "4e43eda5",
   "metadata": {
    "id": "4e43eda5"
   },
   "source": [
    "Groupe all the country with a single channel to a category called `Other`."
   ]
  },
  {
   "cell_type": "code",
   "execution_count": null,
   "id": "c245d52d",
   "metadata": {
    "id": "c245d52d"
   },
   "outputs": [],
   "source": [
    "country_map2 = {index:country_code[index]  if country_count.loc[index] > 1 else 'Other' for index in country_list}"
   ]
  },
  {
   "cell_type": "code",
   "execution_count": null,
   "id": "31e855af",
   "metadata": {
    "colab": {
     "base_uri": "https://localhost:8080/"
    },
    "id": "31e855af",
    "outputId": "90978327-43ca-4970-9db9-58674fd35d82"
   },
   "outputs": [
    {
     "data": {
      "text/plain": [
       "{'AU': 'Australia',\n",
       " 'CA': 'Canada',\n",
       " 'DE': 'Other',\n",
       " 'DK': 'Other',\n",
       " 'EE': 'Other',\n",
       " 'GB': 'United Kingdom',\n",
       " 'IN': 'India',\n",
       " 'KR': 'Other',\n",
       " 'NO': 'Norway',\n",
       " 'PE': 'Other',\n",
       " 'PK': 'Other',\n",
       " 'PL': 'Other',\n",
       " 'RO': 'Other',\n",
       " 'US': 'United States'}"
      ]
     },
     "execution_count": 29,
     "metadata": {
      "tags": []
     },
     "output_type": "execute_result"
    }
   ],
   "source": [
    "country_map2"
   ]
  },
  {
   "cell_type": "markdown",
   "id": "e9a5bf3d",
   "metadata": {
    "id": "e9a5bf3d"
   },
   "source": [
    "Rename the current `country` column to `countryCode`."
   ]
  },
  {
   "cell_type": "code",
   "execution_count": null,
   "id": "bf04b49d",
   "metadata": {
    "id": "bf04b49d"
   },
   "outputs": [],
   "source": [
    "summery_df.rename({'country':'countryCode'}, axis=1, inplace=True)"
   ]
  },
  {
   "cell_type": "markdown",
   "id": "1b1fd3e4",
   "metadata": {
    "id": "1b1fd3e4"
   },
   "source": [
    "Create the new `country` column."
   ]
  },
  {
   "cell_type": "code",
   "execution_count": null,
   "id": "c2497f3d",
   "metadata": {
    "id": "c2497f3d"
   },
   "outputs": [],
   "source": [
    "summery_df['country'] = summery_df.countryCode.map(country_map)"
   ]
  },
  {
   "cell_type": "markdown",
   "id": "44b32c4b",
   "metadata": {
    "id": "44b32c4b"
   },
   "source": [
    "Create  new column called `countryOther`."
   ]
  },
  {
   "cell_type": "code",
   "execution_count": null,
   "id": "3d433cdc",
   "metadata": {
    "id": "3d433cdc"
   },
   "outputs": [],
   "source": [
    "summery_df['countryOther'] = summery_df.countryCode.map(country_map2)"
   ]
  },
  {
   "cell_type": "code",
   "execution_count": null,
   "id": "29c3aa4a",
   "metadata": {
    "colab": {
     "base_uri": "https://localhost:8080/",
     "height": 556
    },
    "id": "29c3aa4a",
    "outputId": "f150ef53-c33c-404c-a070-c07416c7b798",
    "scrolled": true
   },
   "outputs": [
    {
     "data": {
      "text/html": [
       "<div>\n",
       "<style scoped>\n",
       "    .dataframe tbody tr th:only-of-type {\n",
       "        vertical-align: middle;\n",
       "    }\n",
       "\n",
       "    .dataframe tbody tr th {\n",
       "        vertical-align: top;\n",
       "    }\n",
       "\n",
       "    .dataframe thead th {\n",
       "        text-align: right;\n",
       "    }\n",
       "</style>\n",
       "<table border=\"1\" class=\"dataframe\">\n",
       "  <thead>\n",
       "    <tr style=\"text-align: right;\">\n",
       "      <th></th>\n",
       "      <th>channelName</th>\n",
       "      <th>title</th>\n",
       "      <th>channelId</th>\n",
       "      <th>url</th>\n",
       "      <th>description</th>\n",
       "      <th>countryCode</th>\n",
       "      <th>viewCount</th>\n",
       "      <th>subscriberCount</th>\n",
       "      <th>videoCount</th>\n",
       "      <th>publishedAt</th>\n",
       "      <th>uploads</th>\n",
       "      <th>publishedDate</th>\n",
       "      <th>country</th>\n",
       "      <th>countryOther</th>\n",
       "    </tr>\n",
       "  </thead>\n",
       "  <tbody>\n",
       "    <tr>\n",
       "      <th>0</th>\n",
       "      <td>Programming with Mosh</td>\n",
       "      <td>Programming with Mosh</td>\n",
       "      <td>UCWv7vMbMWH4-V0ZXdmDpPBA</td>\n",
       "      <td>https://www.youtube.com/c/programmingwithmosh/...</td>\n",
       "      <td>I train professional software engineers that c...</td>\n",
       "      <td>AU</td>\n",
       "      <td>79813920</td>\n",
       "      <td>1790000</td>\n",
       "      <td>160</td>\n",
       "      <td>2014-10-07T00:40:53Z</td>\n",
       "      <td>UUWv7vMbMWH4-V0ZXdmDpPBA</td>\n",
       "      <td>2014-10-07</td>\n",
       "      <td>Australia</td>\n",
       "      <td>Australia</td>\n",
       "    </tr>\n",
       "    <tr>\n",
       "      <th>1</th>\n",
       "      <td>Traversy Media</td>\n",
       "      <td>Traversy Media</td>\n",
       "      <td>UC29ju8bIPH5as8OGnQzwJyA</td>\n",
       "      <td>https://www.youtube.com/user/TechGuyWeb</td>\n",
       "      <td>Traversy Media features the best online web de...</td>\n",
       "      <td>US</td>\n",
       "      <td>140038994</td>\n",
       "      <td>1540000</td>\n",
       "      <td>879</td>\n",
       "      <td>2009-10-30T21:33:14Z</td>\n",
       "      <td>UU29ju8bIPH5as8OGnQzwJyA</td>\n",
       "      <td>2009-10-30</td>\n",
       "      <td>United States</td>\n",
       "      <td>United States</td>\n",
       "    </tr>\n",
       "    <tr>\n",
       "      <th>2</th>\n",
       "      <td>Corey Schafer</td>\n",
       "      <td>Corey Schafer</td>\n",
       "      <td>UCCezIgC97PvUuR4_gbFUs5g</td>\n",
       "      <td>https://www.youtube.com/user/schafer5</td>\n",
       "      <td>Welcome to my Channel. This channel is focused...</td>\n",
       "      <td>US</td>\n",
       "      <td>57821417</td>\n",
       "      <td>782000</td>\n",
       "      <td>230</td>\n",
       "      <td>2006-05-31T22:49:22Z</td>\n",
       "      <td>UUCezIgC97PvUuR4_gbFUs5g</td>\n",
       "      <td>2006-05-31</td>\n",
       "      <td>United States</td>\n",
       "      <td>United States</td>\n",
       "    </tr>\n",
       "    <tr>\n",
       "      <th>3</th>\n",
       "      <td>Tech With Tim</td>\n",
       "      <td>Tech With Tim</td>\n",
       "      <td>UC4JX40jDee_tINbkjycV4Sg</td>\n",
       "      <td>https://m.youtube.com/channel/UC4JX40jDee_tINb...</td>\n",
       "      <td>Learn programming, software engineering, machi...</td>\n",
       "      <td>CA</td>\n",
       "      <td>50278115</td>\n",
       "      <td>664000</td>\n",
       "      <td>591</td>\n",
       "      <td>2014-04-23T01:57:10Z</td>\n",
       "      <td>UU4JX40jDee_tINbkjycV4Sg</td>\n",
       "      <td>2014-04-23</td>\n",
       "      <td>Canada</td>\n",
       "      <td>Canada</td>\n",
       "    </tr>\n",
       "    <tr>\n",
       "      <th>4</th>\n",
       "      <td>Krish Naik</td>\n",
       "      <td>Krish Naik</td>\n",
       "      <td>UCNU_lfiiWBdtULKOw6X0Dig</td>\n",
       "      <td>https://www.youtube.com/user/krishnaik06/playl...</td>\n",
       "      <td>I work as a Lead Data Scientist, pioneering in...</td>\n",
       "      <td>IN</td>\n",
       "      <td>26639800</td>\n",
       "      <td>375000</td>\n",
       "      <td>1061</td>\n",
       "      <td>2012-02-11T04:05:06Z</td>\n",
       "      <td>UUNU_lfiiWBdtULKOw6X0Dig</td>\n",
       "      <td>2012-02-11</td>\n",
       "      <td>India</td>\n",
       "      <td>India</td>\n",
       "    </tr>\n",
       "  </tbody>\n",
       "</table>\n",
       "</div>"
      ],
      "text/plain": [
       "             channelName                  title  ...        country   countryOther\n",
       "0  Programming with Mosh  Programming with Mosh  ...      Australia      Australia\n",
       "1         Traversy Media         Traversy Media  ...  United States  United States\n",
       "2          Corey Schafer          Corey Schafer  ...  United States  United States\n",
       "3          Tech With Tim          Tech With Tim  ...         Canada         Canada\n",
       "4             Krish Naik             Krish Naik  ...          India          India\n",
       "\n",
       "[5 rows x 14 columns]"
      ]
     },
     "execution_count": 33,
     "metadata": {
      "tags": []
     },
     "output_type": "execute_result"
    }
   ],
   "source": [
    "summery_df.head(5)"
   ]
  },
  {
   "cell_type": "code",
   "execution_count": null,
   "id": "Bb0ohGI4KNt5",
   "metadata": {
    "colab": {
     "base_uri": "https://localhost:8080/"
    },
    "id": "Bb0ohGI4KNt5",
    "outputId": "56018678-fa12-4995-ebf0-90fe945a16ff"
   },
   "outputs": [
    {
     "data": {
      "text/plain": [
       "United States     37\n",
       "India             11\n",
       "Other              8\n",
       "Canada             5\n",
       "Australia          3\n",
       "Norway             2\n",
       "United Kingdom     2\n",
       "Name: countryOther, dtype: int64"
      ]
     },
     "execution_count": 34,
     "metadata": {
      "tags": []
     },
     "output_type": "execute_result"
    }
   ],
   "source": [
    "summery_df.countryOther.value_counts()"
   ]
  },
  {
   "cell_type": "code",
   "execution_count": null,
   "id": "3d6dc396",
   "metadata": {
    "colab": {
     "base_uri": "https://localhost:8080/"
    },
    "id": "3d6dc396",
    "outputId": "04b2a9bc-7524-4332-fbe4-48d93e852ccf"
   },
   "outputs": [
    {
     "name": "stdout",
     "output_type": "stream",
     "text": [
      "<class 'pandas.core.frame.DataFrame'>\n",
      "Int64Index: 68 entries, 0 to 67\n",
      "Data columns (total 14 columns):\n",
      " #   Column           Non-Null Count  Dtype         \n",
      "---  ------           --------------  -----         \n",
      " 0   channelName      68 non-null     object        \n",
      " 1   title            68 non-null     object        \n",
      " 2   channelId        68 non-null     object        \n",
      " 3   url              68 non-null     object        \n",
      " 4   description      67 non-null     object        \n",
      " 5   countryCode      68 non-null     object        \n",
      " 6   viewCount        68 non-null     int64         \n",
      " 7   subscriberCount  68 non-null     int32         \n",
      " 8   videoCount       68 non-null     int32         \n",
      " 9   publishedAt      68 non-null     object        \n",
      " 10  uploads          68 non-null     object        \n",
      " 11  publishedDate    68 non-null     datetime64[ns]\n",
      " 12  country          68 non-null     object        \n",
      " 13  countryOther     68 non-null     object        \n",
      "dtypes: datetime64[ns](1), int32(2), int64(1), object(10)\n",
      "memory usage: 9.9+ KB\n"
     ]
    }
   ],
   "source": [
    "summery_df.info()"
   ]
  },
  {
   "cell_type": "markdown",
   "id": "tcsvzyocnTr1",
   "metadata": {
    "id": "tcsvzyocnTr1"
   },
   "source": [
    "##### Continent name column"
   ]
  },
  {
   "cell_type": "code",
   "execution_count": null,
   "id": "451c2eb5",
   "metadata": {
    "id": "451c2eb5"
   },
   "outputs": [],
   "source": [
    "continent =  pd.read_csv('/content/drive/My Drive/summery_df/continent_country_code.csv', keep_default_na=False, index_col='a-2')"
   ]
  },
  {
   "cell_type": "code",
   "execution_count": null,
   "id": "6e602a7e",
   "metadata": {
    "colab": {
     "base_uri": "https://localhost:8080/",
     "height": 238
    },
    "id": "6e602a7e",
    "outputId": "aad59157-3a01-4bde-8fc3-bbc580b99146"
   },
   "outputs": [
    {
     "data": {
      "text/html": [
       "<div>\n",
       "<style scoped>\n",
       "    .dataframe tbody tr th:only-of-type {\n",
       "        vertical-align: middle;\n",
       "    }\n",
       "\n",
       "    .dataframe tbody tr th {\n",
       "        vertical-align: top;\n",
       "    }\n",
       "\n",
       "    .dataframe thead th {\n",
       "        text-align: right;\n",
       "    }\n",
       "</style>\n",
       "<table border=\"1\" class=\"dataframe\">\n",
       "  <thead>\n",
       "    <tr style=\"text-align: right;\">\n",
       "      <th></th>\n",
       "      <th>CC</th>\n",
       "      <th>continent</th>\n",
       "    </tr>\n",
       "    <tr>\n",
       "      <th>a-2</th>\n",
       "      <th></th>\n",
       "      <th></th>\n",
       "    </tr>\n",
       "  </thead>\n",
       "  <tbody>\n",
       "    <tr>\n",
       "      <th>AF</th>\n",
       "      <td>AS</td>\n",
       "      <td>Asia</td>\n",
       "    </tr>\n",
       "    <tr>\n",
       "      <th>AL</th>\n",
       "      <td>EU</td>\n",
       "      <td>Europe</td>\n",
       "    </tr>\n",
       "    <tr>\n",
       "      <th>AQ</th>\n",
       "      <td>AN</td>\n",
       "      <td>Antarctica</td>\n",
       "    </tr>\n",
       "    <tr>\n",
       "      <th>DZ</th>\n",
       "      <td>AF</td>\n",
       "      <td>Africa</td>\n",
       "    </tr>\n",
       "    <tr>\n",
       "      <th>AS</th>\n",
       "      <td>OC</td>\n",
       "      <td>Oceania</td>\n",
       "    </tr>\n",
       "  </tbody>\n",
       "</table>\n",
       "</div>"
      ],
      "text/plain": [
       "     CC   continent\n",
       "a-2                \n",
       "AF   AS        Asia\n",
       "AL   EU      Europe\n",
       "AQ   AN  Antarctica\n",
       "DZ   AF      Africa\n",
       "AS   OC     Oceania"
      ]
     },
     "execution_count": 37,
     "metadata": {
      "tags": []
     },
     "output_type": "execute_result"
    }
   ],
   "source": [
    "continent.head()"
   ]
  },
  {
   "cell_type": "markdown",
   "id": "daaf7cd6",
   "metadata": {
    "id": "daaf7cd6"
   },
   "source": [
    "Map the country  to continent name"
   ]
  },
  {
   "cell_type": "code",
   "execution_count": null,
   "id": "10f00d87",
   "metadata": {
    "id": "10f00d87"
   },
   "outputs": [],
   "source": [
    "continent_map = {index:continent.continent[index] for index in country_list}"
   ]
  },
  {
   "cell_type": "code",
   "execution_count": null,
   "id": "0ca4ccc6",
   "metadata": {
    "colab": {
     "base_uri": "https://localhost:8080/"
    },
    "id": "0ca4ccc6",
    "outputId": "3a4658fc-157c-4149-fad1-e8bcefb1dc34"
   },
   "outputs": [
    {
     "data": {
      "text/plain": [
       "{'AU': 'Oceania',\n",
       " 'CA': 'North america',\n",
       " 'DE': 'Europe',\n",
       " 'DK': 'Europe',\n",
       " 'EE': 'Europe',\n",
       " 'GB': 'Europe',\n",
       " 'IN': 'Asia',\n",
       " 'KR': 'Asia',\n",
       " 'NO': 'Europe',\n",
       " 'PE': 'South america',\n",
       " 'PK': 'Asia',\n",
       " 'PL': 'Europe',\n",
       " 'RO': 'Europe',\n",
       " 'US': 'North america'}"
      ]
     },
     "execution_count": 39,
     "metadata": {
      "tags": []
     },
     "output_type": "execute_result"
    }
   ],
   "source": [
    "continent_map"
   ]
  },
  {
   "cell_type": "markdown",
   "id": "56e6508a",
   "metadata": {
    "id": "56e6508a"
   },
   "source": [
    "Create new column `continent`"
   ]
  },
  {
   "cell_type": "code",
   "execution_count": null,
   "id": "7a8274e0",
   "metadata": {
    "id": "7a8274e0"
   },
   "outputs": [],
   "source": [
    "summery_df['continent'] = summery_df.countryCode.map(continent_map)"
   ]
  },
  {
   "cell_type": "code",
   "execution_count": null,
   "id": "n5PFAoiAKbxV",
   "metadata": {
    "colab": {
     "base_uri": "https://localhost:8080/"
    },
    "id": "n5PFAoiAKbxV",
    "outputId": "4e5b7370-cb99-4a58-a66f-02d63f4bff3d"
   },
   "outputs": [
    {
     "data": {
      "text/plain": [
       "North america    42\n",
       "Asia             13\n",
       "Europe            9\n",
       "Oceania           3\n",
       "South america     1\n",
       "Name: continent, dtype: int64"
      ]
     },
     "execution_count": 41,
     "metadata": {
      "tags": []
     },
     "output_type": "execute_result"
    }
   ],
   "source": [
    "summery_df['continent'].value_counts()"
   ]
  },
  {
   "cell_type": "code",
   "execution_count": null,
   "id": "766a085b",
   "metadata": {
    "colab": {
     "base_uri": "https://localhost:8080/",
     "height": 556
    },
    "id": "766a085b",
    "outputId": "9f3e2640-b8fe-40bc-c04f-197d99f1b84a"
   },
   "outputs": [
    {
     "data": {
      "text/html": [
       "<div>\n",
       "<style scoped>\n",
       "    .dataframe tbody tr th:only-of-type {\n",
       "        vertical-align: middle;\n",
       "    }\n",
       "\n",
       "    .dataframe tbody tr th {\n",
       "        vertical-align: top;\n",
       "    }\n",
       "\n",
       "    .dataframe thead th {\n",
       "        text-align: right;\n",
       "    }\n",
       "</style>\n",
       "<table border=\"1\" class=\"dataframe\">\n",
       "  <thead>\n",
       "    <tr style=\"text-align: right;\">\n",
       "      <th></th>\n",
       "      <th>channelName</th>\n",
       "      <th>title</th>\n",
       "      <th>channelId</th>\n",
       "      <th>url</th>\n",
       "      <th>description</th>\n",
       "      <th>countryCode</th>\n",
       "      <th>viewCount</th>\n",
       "      <th>subscriberCount</th>\n",
       "      <th>videoCount</th>\n",
       "      <th>publishedAt</th>\n",
       "      <th>uploads</th>\n",
       "      <th>publishedDate</th>\n",
       "      <th>country</th>\n",
       "      <th>countryOther</th>\n",
       "      <th>continent</th>\n",
       "    </tr>\n",
       "  </thead>\n",
       "  <tbody>\n",
       "    <tr>\n",
       "      <th>0</th>\n",
       "      <td>Programming with Mosh</td>\n",
       "      <td>Programming with Mosh</td>\n",
       "      <td>UCWv7vMbMWH4-V0ZXdmDpPBA</td>\n",
       "      <td>https://www.youtube.com/c/programmingwithmosh/...</td>\n",
       "      <td>I train professional software engineers that c...</td>\n",
       "      <td>AU</td>\n",
       "      <td>79813920</td>\n",
       "      <td>1790000</td>\n",
       "      <td>160</td>\n",
       "      <td>2014-10-07T00:40:53Z</td>\n",
       "      <td>UUWv7vMbMWH4-V0ZXdmDpPBA</td>\n",
       "      <td>2014-10-07</td>\n",
       "      <td>Australia</td>\n",
       "      <td>Australia</td>\n",
       "      <td>Oceania</td>\n",
       "    </tr>\n",
       "    <tr>\n",
       "      <th>1</th>\n",
       "      <td>Traversy Media</td>\n",
       "      <td>Traversy Media</td>\n",
       "      <td>UC29ju8bIPH5as8OGnQzwJyA</td>\n",
       "      <td>https://www.youtube.com/user/TechGuyWeb</td>\n",
       "      <td>Traversy Media features the best online web de...</td>\n",
       "      <td>US</td>\n",
       "      <td>140038994</td>\n",
       "      <td>1540000</td>\n",
       "      <td>879</td>\n",
       "      <td>2009-10-30T21:33:14Z</td>\n",
       "      <td>UU29ju8bIPH5as8OGnQzwJyA</td>\n",
       "      <td>2009-10-30</td>\n",
       "      <td>United States</td>\n",
       "      <td>United States</td>\n",
       "      <td>North america</td>\n",
       "    </tr>\n",
       "    <tr>\n",
       "      <th>2</th>\n",
       "      <td>Corey Schafer</td>\n",
       "      <td>Corey Schafer</td>\n",
       "      <td>UCCezIgC97PvUuR4_gbFUs5g</td>\n",
       "      <td>https://www.youtube.com/user/schafer5</td>\n",
       "      <td>Welcome to my Channel. This channel is focused...</td>\n",
       "      <td>US</td>\n",
       "      <td>57821417</td>\n",
       "      <td>782000</td>\n",
       "      <td>230</td>\n",
       "      <td>2006-05-31T22:49:22Z</td>\n",
       "      <td>UUCezIgC97PvUuR4_gbFUs5g</td>\n",
       "      <td>2006-05-31</td>\n",
       "      <td>United States</td>\n",
       "      <td>United States</td>\n",
       "      <td>North america</td>\n",
       "    </tr>\n",
       "    <tr>\n",
       "      <th>3</th>\n",
       "      <td>Tech With Tim</td>\n",
       "      <td>Tech With Tim</td>\n",
       "      <td>UC4JX40jDee_tINbkjycV4Sg</td>\n",
       "      <td>https://m.youtube.com/channel/UC4JX40jDee_tINb...</td>\n",
       "      <td>Learn programming, software engineering, machi...</td>\n",
       "      <td>CA</td>\n",
       "      <td>50278115</td>\n",
       "      <td>664000</td>\n",
       "      <td>591</td>\n",
       "      <td>2014-04-23T01:57:10Z</td>\n",
       "      <td>UU4JX40jDee_tINbkjycV4Sg</td>\n",
       "      <td>2014-04-23</td>\n",
       "      <td>Canada</td>\n",
       "      <td>Canada</td>\n",
       "      <td>North america</td>\n",
       "    </tr>\n",
       "    <tr>\n",
       "      <th>4</th>\n",
       "      <td>Krish Naik</td>\n",
       "      <td>Krish Naik</td>\n",
       "      <td>UCNU_lfiiWBdtULKOw6X0Dig</td>\n",
       "      <td>https://www.youtube.com/user/krishnaik06/playl...</td>\n",
       "      <td>I work as a Lead Data Scientist, pioneering in...</td>\n",
       "      <td>IN</td>\n",
       "      <td>26639800</td>\n",
       "      <td>375000</td>\n",
       "      <td>1061</td>\n",
       "      <td>2012-02-11T04:05:06Z</td>\n",
       "      <td>UUNU_lfiiWBdtULKOw6X0Dig</td>\n",
       "      <td>2012-02-11</td>\n",
       "      <td>India</td>\n",
       "      <td>India</td>\n",
       "      <td>Asia</td>\n",
       "    </tr>\n",
       "  </tbody>\n",
       "</table>\n",
       "</div>"
      ],
      "text/plain": [
       "             channelName                  title  ...   countryOther      continent\n",
       "0  Programming with Mosh  Programming with Mosh  ...      Australia        Oceania\n",
       "1         Traversy Media         Traversy Media  ...  United States  North america\n",
       "2          Corey Schafer          Corey Schafer  ...  United States  North america\n",
       "3          Tech With Tim          Tech With Tim  ...         Canada  North america\n",
       "4             Krish Naik             Krish Naik  ...          India           Asia\n",
       "\n",
       "[5 rows x 15 columns]"
      ]
     },
     "execution_count": 42,
     "metadata": {
      "tags": []
     },
     "output_type": "execute_result"
    }
   ],
   "source": [
    "summery_df.head()"
   ]
  },
  {
   "cell_type": "code",
   "execution_count": null,
   "id": "7359a912",
   "metadata": {
    "colab": {
     "base_uri": "https://localhost:8080/"
    },
    "id": "7359a912",
    "outputId": "f41a1035-17c9-4d10-84c2-ec44f7cdf56a"
   },
   "outputs": [
    {
     "name": "stdout",
     "output_type": "stream",
     "text": [
      "<class 'pandas.core.frame.DataFrame'>\n",
      "Int64Index: 68 entries, 0 to 67\n",
      "Data columns (total 15 columns):\n",
      " #   Column           Non-Null Count  Dtype         \n",
      "---  ------           --------------  -----         \n",
      " 0   channelName      68 non-null     object        \n",
      " 1   title            68 non-null     object        \n",
      " 2   channelId        68 non-null     object        \n",
      " 3   url              68 non-null     object        \n",
      " 4   description      67 non-null     object        \n",
      " 5   countryCode      68 non-null     object        \n",
      " 6   viewCount        68 non-null     int64         \n",
      " 7   subscriberCount  68 non-null     int32         \n",
      " 8   videoCount       68 non-null     int32         \n",
      " 9   publishedAt      68 non-null     object        \n",
      " 10  uploads          68 non-null     object        \n",
      " 11  publishedDate    68 non-null     datetime64[ns]\n",
      " 12  country          68 non-null     object        \n",
      " 13  countryOther     68 non-null     object        \n",
      " 14  continent        68 non-null     object        \n",
      "dtypes: datetime64[ns](1), int32(2), int64(1), object(11)\n",
      "memory usage: 10.5+ KB\n"
     ]
    }
   ],
   "source": [
    "summery_df.info()"
   ]
  },
  {
   "cell_type": "markdown",
   "id": "8fb6e42a",
   "metadata": {
    "id": "8fb6e42a"
   },
   "source": [
    "We will  convert the type of the columns `country`, `countryCode`, `countryOther` and `continent` to categorical."
   ]
  },
  {
   "cell_type": "code",
   "execution_count": null,
   "id": "V3IALt3OOn0j",
   "metadata": {
    "id": "V3IALt3OOn0j"
   },
   "outputs": [],
   "source": [
    "summery_df = summery_df.astype({'country':'category', 'countryCode':'category', 'countryOther':'category', 'continent':'category'}).copy()"
   ]
  },
  {
   "cell_type": "code",
   "execution_count": null,
   "id": "mdqWwJDEPgNw",
   "metadata": {
    "colab": {
     "base_uri": "https://localhost:8080/"
    },
    "id": "mdqWwJDEPgNw",
    "outputId": "ea87f646-64e1-4cbe-d2f9-9c10db9df42d"
   },
   "outputs": [
    {
     "name": "stdout",
     "output_type": "stream",
     "text": [
      "<class 'pandas.core.frame.DataFrame'>\n",
      "Int64Index: 68 entries, 0 to 67\n",
      "Data columns (total 15 columns):\n",
      " #   Column           Non-Null Count  Dtype         \n",
      "---  ------           --------------  -----         \n",
      " 0   channelName      68 non-null     object        \n",
      " 1   title            68 non-null     object        \n",
      " 2   channelId        68 non-null     object        \n",
      " 3   url              68 non-null     object        \n",
      " 4   description      67 non-null     object        \n",
      " 5   countryCode      68 non-null     category      \n",
      " 6   viewCount        68 non-null     int64         \n",
      " 7   subscriberCount  68 non-null     int32         \n",
      " 8   videoCount       68 non-null     int32         \n",
      " 9   publishedAt      68 non-null     object        \n",
      " 10  uploads          68 non-null     object        \n",
      " 11  publishedDate    68 non-null     datetime64[ns]\n",
      " 12  country          68 non-null     category      \n",
      " 13  countryOther     68 non-null     category      \n",
      " 14  continent        68 non-null     category      \n",
      "dtypes: category(4), datetime64[ns](1), int32(2), int64(1), object(7)\n",
      "memory usage: 10.6+ KB\n"
     ]
    }
   ],
   "source": [
    "summery_df.info()"
   ]
  },
  {
   "cell_type": "markdown",
   "id": "dR78lbhmKzwT",
   "metadata": {
    "id": "dR78lbhmKzwT"
   },
   "source": [
    "##### Gender column"
   ]
  },
  {
   "cell_type": "markdown",
   "id": "-7dJQ4g4Lhtl",
   "metadata": {
    "id": "-7dJQ4g4Lhtl"
   },
   "source": [
    "It is well known that the tech industry is still a male-dominated sector. This article about [\" women in technology\"] (https://builtin.com/women-tech/women-in-tech-workplace-statistics) provides some statistical insight about this important topic.   \n",
    "To we are adding `gender` column to dataset, we asking someone to through the dataset to add. \n"
   ]
  },
  {
   "cell_type": "markdown",
   "id": "Li9W1llhL2sZ",
   "metadata": {
    "id": "Li9W1llhL2sZ"
   },
   "source": [
    " issue with gender diversity"
   ]
  },
  {
   "cell_type": "code",
   "execution_count": null,
   "id": "Cdl1Uw6wLhEg",
   "metadata": {
    "id": "Cdl1Uw6wLhEg"
   },
   "outputs": [],
   "source": []
  },
  {
   "cell_type": "code",
   "execution_count": null,
   "id": "JfJBRpcsKy6g",
   "metadata": {
    "id": "JfJBRpcsKy6g"
   },
   "outputs": [],
   "source": []
  },
  {
   "cell_type": "code",
   "execution_count": null,
   "id": "igIj3Thfinmu",
   "metadata": {
    "colab": {
     "base_uri": "https://localhost:8080/"
    },
    "id": "igIj3Thfinmu",
    "outputId": "2bbc5244-adb6-46f5-9e0a-d812d20728fc"
   },
   "outputs": [
    {
     "data": {
      "text/plain": [
       "m    65\n",
       "f     2\n",
       "Name: gender, dtype: int64"
      ]
     },
     "execution_count": 50,
     "metadata": {
      "tags": []
     },
     "output_type": "execute_result"
    }
   ],
   "source": [
    "summery_df.gender.value_counts()"
   ]
  },
  {
   "cell_type": "code",
   "execution_count": null,
   "id": "gaLuAFHli0ej",
   "metadata": {
    "colab": {
     "base_uri": "https://localhost:8080/",
     "height": 184
    },
    "id": "gaLuAFHli0ej",
    "outputId": "16cf8c2f-6237-464d-c0fd-cdcc08f836e7"
   },
   "outputs": [
    {
     "data": {
      "text/html": [
       "<div>\n",
       "<style scoped>\n",
       "    .dataframe tbody tr th:only-of-type {\n",
       "        vertical-align: middle;\n",
       "    }\n",
       "\n",
       "    .dataframe tbody tr th {\n",
       "        vertical-align: top;\n",
       "    }\n",
       "\n",
       "    .dataframe thead th {\n",
       "        text-align: right;\n",
       "    }\n",
       "</style>\n",
       "<table border=\"1\" class=\"dataframe\">\n",
       "  <thead>\n",
       "    <tr style=\"text-align: right;\">\n",
       "      <th></th>\n",
       "      <th>channelName</th>\n",
       "      <th>title</th>\n",
       "      <th>channelId</th>\n",
       "      <th>url</th>\n",
       "      <th>description</th>\n",
       "      <th>countryCode</th>\n",
       "      <th>viewCount</th>\n",
       "      <th>subscriberCount</th>\n",
       "      <th>videoCount</th>\n",
       "      <th>publishedAt</th>\n",
       "      <th>uploads</th>\n",
       "      <th>publishedDate</th>\n",
       "      <th>country</th>\n",
       "      <th>countryOther</th>\n",
       "      <th>continent</th>\n",
       "      <th>gender</th>\n",
       "    </tr>\n",
       "  </thead>\n",
       "  <tbody>\n",
       "    <tr>\n",
       "      <th>5</th>\n",
       "      <td>freeCodeCamp.org</td>\n",
       "      <td>freeCodeCamp.org</td>\n",
       "      <td>UC8butISFwT-Wl7EV0hUK0BQ</td>\n",
       "      <td>https://www.youtube.com/channel/UC8butISFwT-Wl...</td>\n",
       "      <td>Learn to code for free.</td>\n",
       "      <td>US</td>\n",
       "      <td>188631396</td>\n",
       "      <td>3660000</td>\n",
       "      <td>1151</td>\n",
       "      <td>2014-12-16T21:18:48Z</td>\n",
       "      <td>UU8butISFwT-Wl7EV0hUK0BQ</td>\n",
       "      <td>2014-12-16</td>\n",
       "      <td>United States</td>\n",
       "      <td>United States</td>\n",
       "      <td>North america</td>\n",
       "      <td>NaN</td>\n",
       "    </tr>\n",
       "    <tr>\n",
       "      <th>54</th>\n",
       "      <td>chuck severance</td>\n",
       "      <td>Chuck Severance</td>\n",
       "      <td>UChYfrRp_CWyqOt-ZYJGOgmA</td>\n",
       "      <td>https://m.youtube.com/user/csev</td>\n",
       "      <td>NaN</td>\n",
       "      <td>US</td>\n",
       "      <td>7701297</td>\n",
       "      <td>61200</td>\n",
       "      <td>876</td>\n",
       "      <td>2006-08-19T14:24:00Z</td>\n",
       "      <td>UUhYfrRp_CWyqOt-ZYJGOgmA</td>\n",
       "      <td>2006-08-19</td>\n",
       "      <td>United States</td>\n",
       "      <td>United States</td>\n",
       "      <td>North america</td>\n",
       "      <td>m</td>\n",
       "    </tr>\n",
       "  </tbody>\n",
       "</table>\n",
       "</div>"
      ],
      "text/plain": [
       "         channelName             title  ...      continent gender\n",
       "5   freeCodeCamp.org  freeCodeCamp.org  ...  North america    NaN\n",
       "54   chuck severance   Chuck Severance  ...  North america      m\n",
       "\n",
       "[2 rows x 16 columns]"
      ]
     },
     "execution_count": 51,
     "metadata": {
      "tags": []
     },
     "output_type": "execute_result"
    }
   ],
   "source": [
    "summery_df[summery_df.isnull().any(axis=1)]"
   ]
  },
  {
   "cell_type": "markdown",
   "id": "HBtsAudHnrTr",
   "metadata": {
    "id": "HBtsAudHnrTr"
   },
   "source": [
    "### Creating Visualizations <a class='anchor' id='chapter3'>"
   ]
  },
  {
   "cell_type": "markdown",
   "id": "IF_fMVLSA_CZ",
   "metadata": {
    "id": "IF_fMVLSA_CZ"
   },
   "source": [
    "##### Country & Continent column"
   ]
  },
  {
   "cell_type": "code",
   "execution_count": null,
   "id": "d2452ea8",
   "metadata": {
    "colab": {
     "base_uri": "https://localhost:8080/",
     "height": 366
    },
    "id": "d2452ea8",
    "outputId": "6893c1bf-8432-4383-ad49-f7134ffac63e",
    "scrolled": true
   },
   "outputs": [
    {
     "data": {
      "image/png": "[encoded data removed]",
      "text/plain": [
       "<Figure size 432x288 with 1 Axes>"
      ]
     },
     "metadata": {
      "needs_background": "light",
      "tags": []
     },
     "output_type": "display_data"
    }
   ],
   "source": [
    "import matplotlib.pyplot as plt\n",
    "import seaborn as sns\n",
    "\n",
    "plt.figure()\n",
    "_ = summery_df['country'].value_counts().plot.bar()\n",
    "plt.xlabel('Country')\n",
    "plt.ylabel('Number of channels')\n",
    "plt.title('The number of channels by country')\n",
    "plt.show()"
   ]
  },
  {
   "cell_type": "code",
   "execution_count": null,
   "id": "fd35f094",
   "metadata": {
    "colab": {
     "base_uri": "https://localhost:8080/",
     "height": 366
    },
    "id": "fd35f094",
    "outputId": "fd4dcf39-cefd-48e9-954e-bf29406b5dd5",
    "scrolled": false
   },
   "outputs": [
    {
     "data": {
      "image/png": "[encoded data removed]",
      "text/plain": [
       "<Figure size 432x288 with 1 Axes>"
      ]
     },
     "metadata": {
      "needs_background": "light",
      "tags": []
     },
     "output_type": "display_data"
    }
   ],
   "source": [
    "plt.figure()\n",
    "_ = summery_df['countryOther'].value_counts().plot.bar()\n",
    "plt.xlabel('Country')\n",
    "plt.ylabel('Number of channels')\n",
    "plt.title('The number of channels by country ')\n",
    "plt.show()"
   ]
  },
  {
   "cell_type": "code",
   "execution_count": null,
   "id": "46911671",
   "metadata": {
    "colab": {
     "base_uri": "https://localhost:8080/",
     "height": 265
    },
    "id": "46911671",
    "outputId": "21e5324c-458c-421d-9a68-b9abf1de7af3"
   },
   "outputs": [
    {
     "data": {
      "image/png": "[encoded data removed]",
      "text/plain": [
       "<Figure size 432x288 with 1 Axes>"
      ]
     },
     "metadata": {
      "needs_background": "light",
      "tags": []
     },
     "output_type": "display_data"
    }
   ],
   "source": [
    "# we can horizontal plot\n",
    "_ = summery_df['countryOther'].value_counts().plot.barh()"
   ]
  },
  {
   "cell_type": "code",
   "execution_count": null,
   "id": "3828a14d",
   "metadata": {
    "colab": {
     "base_uri": "https://localhost:8080/",
     "height": 264
    },
    "id": "3828a14d",
    "outputId": "94379438-707a-4767-965d-7c38ae2ff0fa"
   },
   "outputs": [
    {
     "data": {
      "image/png": "[encoded data removed]",
      "text/plain": [
       "<Figure size 432x288 with 1 Axes>"
      ]
     },
     "metadata": {
      "tags": []
     },
     "output_type": "display_data"
    }
   ],
   "source": [
    "explode = (0,0,0, 0.15,0.15, 0.15,0.15,)\n",
    "summery_df['countryOther'].value_counts().plot.pie(explode=explode,autopct='%1.1f%%')\n",
    "plt.title('Pie chart of the number of channels by country ')\n",
    "plt.show()"
   ]
  },
  {
   "cell_type": "markdown",
   "id": "ehQ__LiI4Ty-",
   "metadata": {
    "id": "ehQ__LiI4Ty-"
   },
   "source": [
    "Plot show that the half of the channels are based in US than in India."
   ]
  },
  {
   "cell_type": "code",
   "execution_count": null,
   "id": "ImMg7i0X4jGL",
   "metadata": {
    "colab": {
     "base_uri": "https://localhost:8080/"
    },
    "id": "ImMg7i0X4jGL",
    "outputId": "3a001a7e-48a5-482a-cf23-ee637aaccd56"
   },
   "outputs": [
    {
     "data": {
      "text/plain": [
       "North america    42\n",
       "Asia             13\n",
       "Europe            9\n",
       "Oceania           3\n",
       "South america     1\n",
       "Name: continent, dtype: int64"
      ]
     },
     "execution_count": 59,
     "metadata": {
      "tags": []
     },
     "output_type": "execute_result"
    }
   ],
   "source": [
    "summery_df.continent.value_counts()"
   ]
  },
  {
   "cell_type": "code",
   "execution_count": null,
   "id": "xx6XRWcf1v3D",
   "metadata": {
    "colab": {
     "base_uri": "https://localhost:8080/",
     "height": 264
    },
    "id": "xx6XRWcf1v3D",
    "outputId": "4205b178-0538-4589-bc15-3f042c4ef81b"
   },
   "outputs": [
    {
     "data": {
      "image/png": "[encoded data removed]",
      "text/plain": [
       "<Figure size 432x288 with 1 Axes>"
      ]
     },
     "metadata": {
      "tags": []
     },
     "output_type": "display_data"
    }
   ],
   "source": [
    "explode = (0,0,0, 0.2,0.2,)\n",
    "summery_df['continent'].value_counts().plot.pie(explode=explode,autopct='%1.1f%%')\n",
    "plt.title('Pie chart of the number of channels by continent ')\n",
    "plt.show()"
   ]
  },
  {
   "cell_type": "markdown",
   "id": "tcTarIUxBPIO",
   "metadata": {
    "id": "tcTarIUxBPIO"
   },
   "source": [
    "##### Top 10"
   ]
  },
  {
   "cell_type": "markdown",
   "id": "kYLotSk-bOBc",
   "metadata": {
    "id": "kYLotSk-bOBc"
   },
   "source": [
    "###### Video Count"
   ]
  },
  {
   "cell_type": "code",
   "execution_count": null,
   "id": "zWCCOaCr68hP",
   "metadata": {
    "id": "zWCCOaCr68hP"
   },
   "outputs": [],
   "source": [
    "def top10(df,column,sort_ascending=False,n=10, set_index=None):\n",
    "  '''\n",
    "  return the n top value in given DataFrame for give column\n",
    "\n",
    "  Args:\n",
    "  df (DataFrame):\n",
    "  column (string): column name\n",
    "  sort_ascending (bool): sort ascending the value if True\n",
    "  n (int): number of rows to return\n",
    "  set_index: \n",
    "\n",
    "  return:\n",
    "  DataFrame with n rows\n",
    "  '''\n",
    "\n",
    "  if set_index:\n",
    "\n",
    "    return df.set_index(set_index).sort_values(by=column,ascending=sort_ascending).videoCount.head(n)\n",
    "    \n",
    "  else:\n",
    "\n",
    "    return df.sort_values(by=column,ascending=sort_ascending).videoCount.head(n)"
   ]
  },
  {
   "cell_type": "code",
   "execution_count": null,
   "id": "kO3cUDRQ9dX2",
   "metadata": {
    "colab": {
     "base_uri": "https://localhost:8080/"
    },
    "id": "kO3cUDRQ9dX2",
    "outputId": "d7cf6a3e-3dd5-400e-cf56-2bcc28e8df47"
   },
   "outputs": [
    {
     "data": {
      "text/plain": [
       "title\n",
       "Durga Software Solutions    16092\n",
       "Telusko                      1458\n",
       "Caleb Curry                  1386\n",
       "Perfect Web Solutions        1283\n",
       "CodeWithHarry                1244\n",
       "sentdex                      1225\n",
       "Derek Banas                  1158\n",
       "freeCodeCamp.org             1151\n",
       "The Coding Train             1112\n",
       "Ben Awad                     1082\n",
       "Name: videoCount, dtype: int32"
      ]
     },
     "execution_count": 62,
     "metadata": {
      "tags": []
     },
     "output_type": "execute_result"
    }
   ],
   "source": [
    "top10(summery_df,'videoCount',sort_ascending=False,n=10, set_index='title')"
   ]
  },
  {
   "cell_type": "code",
   "execution_count": null,
   "id": "91a48527",
   "metadata": {
    "id": "91a48527",
    "scrolled": false
   },
   "outputs": [],
   "source": [
    "top10VideoCount = summery_df.set_index('title').sort_values(by=['videoCount'],ascending=False).videoCount.head(10)"
   ]
  },
  {
   "cell_type": "code",
   "execution_count": null,
   "id": "YZs02MwuJiy_",
   "metadata": {
    "colab": {
     "base_uri": "https://localhost:8080/"
    },
    "id": "YZs02MwuJiy_",
    "outputId": "8149e0c2-c711-4c86-b480-b81214e873dc"
   },
   "outputs": [
    {
     "data": {
      "text/plain": [
       "title\n",
       "Durga Software Solutions    16092\n",
       "Telusko                      1458\n",
       "Caleb Curry                  1386\n",
       "Perfect Web Solutions        1283\n",
       "CodeWithHarry                1244\n",
       "sentdex                      1225\n",
       "Derek Banas                  1158\n",
       "freeCodeCamp.org             1151\n",
       "The Coding Train             1112\n",
       "Ben Awad                     1082\n",
       "Name: videoCount, dtype: int32"
      ]
     },
     "execution_count": 64,
     "metadata": {
      "tags": []
     },
     "output_type": "execute_result"
    }
   ],
   "source": [
    "top10VideoCount"
   ]
  },
  {
   "cell_type": "code",
   "execution_count": null,
   "id": "-k5SoMvJJ-hl",
   "metadata": {
    "colab": {
     "base_uri": "https://localhost:8080/",
     "height": 394
    },
    "id": "-k5SoMvJJ-hl",
    "outputId": "272d8fb0-88c6-4abe-bc82-2c3a366dea84"
   },
   "outputs": [
    {
     "data": {
      "text/html": [
       "<div>\n",
       "<style scoped>\n",
       "    .dataframe tbody tr th:only-of-type {\n",
       "        vertical-align: middle;\n",
       "    }\n",
       "\n",
       "    .dataframe tbody tr th {\n",
       "        vertical-align: top;\n",
       "    }\n",
       "\n",
       "    .dataframe thead th {\n",
       "        text-align: right;\n",
       "    }\n",
       "</style>\n",
       "<table border=\"1\" class=\"dataframe\">\n",
       "  <thead>\n",
       "    <tr style=\"text-align: right;\">\n",
       "      <th></th>\n",
       "      <th>videoCount</th>\n",
       "      <th>country</th>\n",
       "      <th>publishedDate</th>\n",
       "    </tr>\n",
       "    <tr>\n",
       "      <th>title</th>\n",
       "      <th></th>\n",
       "      <th></th>\n",
       "      <th></th>\n",
       "    </tr>\n",
       "  </thead>\n",
       "  <tbody>\n",
       "    <tr>\n",
       "      <th>Durga Software Solutions</th>\n",
       "      <td>16092</td>\n",
       "      <td>India</td>\n",
       "      <td>2014-02-03</td>\n",
       "    </tr>\n",
       "    <tr>\n",
       "      <th>Telusko</th>\n",
       "      <td>1458</td>\n",
       "      <td>India</td>\n",
       "      <td>2014-04-29</td>\n",
       "    </tr>\n",
       "    <tr>\n",
       "      <th>Caleb Curry</th>\n",
       "      <td>1386</td>\n",
       "      <td>United States</td>\n",
       "      <td>2009-08-18</td>\n",
       "    </tr>\n",
       "    <tr>\n",
       "      <th>Perfect Web Solutions</th>\n",
       "      <td>1283</td>\n",
       "      <td>Pakistan</td>\n",
       "      <td>2015-06-26</td>\n",
       "    </tr>\n",
       "    <tr>\n",
       "      <th>CodeWithHarry</th>\n",
       "      <td>1244</td>\n",
       "      <td>India</td>\n",
       "      <td>2018-04-28</td>\n",
       "    </tr>\n",
       "    <tr>\n",
       "      <th>sentdex</th>\n",
       "      <td>1225</td>\n",
       "      <td>United States</td>\n",
       "      <td>2012-12-16</td>\n",
       "    </tr>\n",
       "    <tr>\n",
       "      <th>Derek Banas</th>\n",
       "      <td>1158</td>\n",
       "      <td>United States</td>\n",
       "      <td>2008-08-12</td>\n",
       "    </tr>\n",
       "    <tr>\n",
       "      <th>freeCodeCamp.org</th>\n",
       "      <td>1151</td>\n",
       "      <td>United States</td>\n",
       "      <td>2014-12-16</td>\n",
       "    </tr>\n",
       "    <tr>\n",
       "      <th>The Coding Train</th>\n",
       "      <td>1112</td>\n",
       "      <td>United States</td>\n",
       "      <td>2006-07-03</td>\n",
       "    </tr>\n",
       "    <tr>\n",
       "      <th>Ben Awad</th>\n",
       "      <td>1082</td>\n",
       "      <td>United States</td>\n",
       "      <td>2011-10-01</td>\n",
       "    </tr>\n",
       "  </tbody>\n",
       "</table>\n",
       "</div>"
      ],
      "text/plain": [
       "                          videoCount        country publishedDate\n",
       "title                                                            \n",
       "Durga Software Solutions       16092          India    2014-02-03\n",
       "Telusko                         1458          India    2014-04-29\n",
       "Caleb Curry                     1386  United States    2009-08-18\n",
       "Perfect Web Solutions           1283       Pakistan    2015-06-26\n",
       "CodeWithHarry                   1244          India    2018-04-28\n",
       "sentdex                         1225  United States    2012-12-16\n",
       "Derek Banas                     1158  United States    2008-08-12\n",
       "freeCodeCamp.org                1151  United States    2014-12-16\n",
       "The Coding Train                1112  United States    2006-07-03\n",
       "Ben Awad                        1082  United States    2011-10-01"
      ]
     },
     "execution_count": 65,
     "metadata": {
      "tags": []
     },
     "output_type": "execute_result"
    }
   ],
   "source": [
    "summery_df.set_index('title').sort_values(by=['videoCount'],ascending=False)[['videoCount', 'country', 'publishedDate']].head(10)"
   ]
  },
  {
   "cell_type": "code",
   "execution_count": null,
   "id": "mFQT_GQAJRD_",
   "metadata": {
    "colab": {
     "base_uri": "https://localhost:8080/",
     "height": 295
    },
    "id": "mFQT_GQAJRD_",
    "outputId": "9a82f5a7-785f-410e-9fe5-783148ae0ffc"
   },
   "outputs": [
    {
     "data": {
      "image/png": "[encoded data removed]",
      "text/plain": [
       "<Figure size 432x288 with 1 Axes>"
      ]
     },
     "metadata": {
      "needs_background": "light",
      "tags": []
     },
     "output_type": "display_data"
    }
   ],
   "source": [
    "plt.figure()\n",
    "top10VideoCount.plot.barh()\n",
    "plt.xlabel('Video Count')\n",
    "plt.ylabel('channel title')\n",
    "plt.title('The video Count by channel ')\n",
    "plt.show()"
   ]
  },
  {
   "cell_type": "markdown",
   "id": "h9rUFC0zSjhQ",
   "metadata": {
    "id": "h9rUFC0zSjhQ"
   },
   "source": [
    "The Durga Software Solutions channel has by far the largest number of videos, ten times more than the channel that comes next.  look like an outlers.   \n",
    "DURGA Software Solutions is also an institute in Hyderabad, one of the largest cities in India, which may explain this number.\n"
   ]
  },
  {
   "cell_type": "markdown",
   "id": "I6wiAfafXYCk",
   "metadata": {
    "id": "I6wiAfafXYCk"
   },
   "source": [
    "The plot above suggests, that there is an ouliers,  we use boxplot t. "
   ]
  },
  {
   "cell_type": "code",
   "execution_count": null,
   "id": "dgGUFSGhWiSt",
   "metadata": {
    "colab": {
     "base_uri": "https://localhost:8080/",
     "height": 265
    },
    "id": "dgGUFSGhWiSt",
    "outputId": "8ba06f70-1560-4ba5-81e5-ccc6b077c75e"
   },
   "outputs": [
    {
     "data": {
      "image/png": "[encoded data removed]",
      "text/plain": [
       "<Figure size 432x288 with 1 Axes>"
      ]
     },
     "metadata": {
      "needs_background": "light",
      "tags": []
     },
     "output_type": "display_data"
    }
   ],
   "source": [
    "import seaborn as sns\n",
    "sns.boxplot(x=summery_df.videoCount.values)\n",
    "plt.show()"
   ]
  },
  {
   "cell_type": "markdown",
   "id": "FhniXG1UZk7C",
   "metadata": {
    "id": "FhniXG1UZk7C"
   },
   "source": [
    "the is outlier, it plotted as individual points."
   ]
  },
  {
   "cell_type": "code",
   "execution_count": null,
   "id": "o5tEGjB3Zhlp",
   "metadata": {
    "colab": {
     "base_uri": "https://localhost:8080/",
     "height": 265
    },
    "id": "o5tEGjB3Zhlp",
    "outputId": "fb64b28c-4036-4a30-c0de-c0703be3a878"
   },
   "outputs": [
    {
     "data": {
      "image/png": "[encoded data removed]",
      "text/plain": [
       "<Figure size 432x288 with 1 Axes>"
      ]
     },
     "metadata": {
      "needs_background": "light",
      "tags": []
     },
     "output_type": "display_data"
    }
   ],
   "source": [
    "sns.boxplot(x=summery_df.sort_values(by=['videoCount'],ascending=False).videoCount.loc[1:].values)\n",
    "plt.show()"
   ]
  },
  {
   "cell_type": "markdown",
   "id": "ccN1DqvQakKj",
   "metadata": {
    "id": "ccN1DqvQakKj"
   },
   "source": [
    "the boxplot when we remove Durga Software Solutions channe row."
   ]
  },
  {
   "cell_type": "markdown",
   "id": "GfpFbwqMbY3S",
   "metadata": {
    "id": "GfpFbwqMbY3S"
   },
   "source": [
    "###### View Count"
   ]
  },
  {
   "cell_type": "code",
   "execution_count": null,
   "id": "B_SXNYDWA50w",
   "metadata": {
    "id": "B_SXNYDWA50w"
   },
   "outputs": [],
   "source": [
    "top10ViewCount = summery_df.set_index('title').sort_values(by=['viewCount'],ascending=False).viewCount.head(10)\n"
   ]
  },
  {
   "cell_type": "code",
   "execution_count": null,
   "id": "53749086",
   "metadata": {
    "colab": {
     "base_uri": "https://localhost:8080/",
     "height": 295
    },
    "id": "53749086",
    "outputId": "015acd24-2e59-408a-d9fd-cc6380f93f2c",
    "scrolled": true
   },
   "outputs": [
    {
     "data": {
      "image/png": "[encoded data removed]",
      "text/plain": [
       "<Figure size 432x288 with 1 Axes>"
      ]
     },
     "metadata": {
      "needs_background": "light",
      "tags": []
     },
     "output_type": "display_data"
    }
   ],
   "source": [
    "plt.figure()\n",
    "top10ViewCount.plot.barh()\n",
    "plt.xlabel('View Count')\n",
    "plt.ylabel('channel title')\n",
    "plt.title('The View Count by channel ')\n",
    "plt.show()"
   ]
  },
  {
   "cell_type": "markdown",
   "id": "jG1sqTUVdSSq",
   "metadata": {
    "id": "jG1sqTUVdSSq"
   },
   "source": [
    "Life of Boris has most view count, if check the channel you will find that the continte  this more  bout liesstyle, cooking and gaming than coding. the same go for  Michael reeves channel it more about robotic."
   ]
  },
  {
   "cell_type": "code",
   "execution_count": null,
   "id": "POqphrjhcoZK",
   "metadata": {
    "colab": {
     "base_uri": "https://localhost:8080/",
     "height": 278
    },
    "id": "POqphrjhcoZK",
    "outputId": "82efee45-4b1d-43c9-d263-8af7f50c6e7f"
   },
   "outputs": [
    {
     "data": {
      "image/png": "[encoded data removed]",
      "text/plain": [
       "<Figure size 432x288 with 1 Axes>"
      ]
     },
     "metadata": {
      "needs_background": "light",
      "tags": []
     },
     "output_type": "display_data"
    }
   ],
   "source": [
    "sns.boxplot(x=summery_df.viewCount.values)\n",
    "plt.show()"
   ]
  },
  {
   "cell_type": "code",
   "execution_count": null,
   "id": "je2ZxWxrjsmK",
   "metadata": {
    "colab": {
     "base_uri": "https://localhost:8080/",
     "height": 278
    },
    "id": "je2ZxWxrjsmK",
    "outputId": "87613ceb-df12-4b9d-fb27-9f27d4e02c22"
   },
   "outputs": [
    {
     "data": {
      "image/png": "[encoded data removed]",
      "text/plain": [
       "<Figure size 432x288 with 1 Axes>"
      ]
     },
     "metadata": {
      "needs_background": "light",
      "tags": []
     },
     "output_type": "display_data"
    }
   ],
   "source": [
    "sns.boxplot(x=summery_df.sort_values(by=['viewCount'],ascending=False).viewCount.loc[2:].values)\n",
    "plt.show()"
   ]
  },
  {
   "cell_type": "markdown",
   "id": "Oz0YTuFVkQaC",
   "metadata": {
    "id": "Oz0YTuFVkQaC"
   },
   "source": [
    "the boxplot when we remove Life of Boris and  Solutions channe row."
   ]
  },
  {
   "cell_type": "markdown",
   "id": "ncNNiil-m19p",
   "metadata": {
    "id": "ncNNiil-m19p"
   },
   "source": [
    "###### Subscriber Count"
   ]
  },
  {
   "cell_type": "code",
   "execution_count": null,
   "id": "rN3mBtENkOX7",
   "metadata": {
    "id": "rN3mBtENkOX7"
   },
   "outputs": [],
   "source": [
    "top10subscriberCount =  summery_df.set_index('title').sort_values(by=['subscriberCount'],ascending=False).subscriberCount.head(10)"
   ]
  },
  {
   "cell_type": "code",
   "execution_count": null,
   "id": "t0E-65uInOTw",
   "metadata": {
    "colab": {
     "base_uri": "https://localhost:8080/",
     "height": 295
    },
    "id": "t0E-65uInOTw",
    "outputId": "eb70cee7-1b00-4608-f01b-59e03c19552d"
   },
   "outputs": [
    {
     "data": {
      "image/png": "[encoded data removed]",
      "text/plain": [
       "<Figure size 432x288 with 1 Axes>"
      ]
     },
     "metadata": {
      "needs_background": "light",
      "tags": []
     },
     "output_type": "display_data"
    }
   ],
   "source": [
    "plt.figure()\n",
    "top10subscriberCount.plot.barh()\n",
    "plt.xlabel('View Count')\n",
    "plt.ylabel('channel title')\n",
    "plt.title('The View Count by channel ')\n",
    "plt.show()"
   ]
  },
  {
   "cell_type": "code",
   "execution_count": null,
   "id": "iw5UJ0-fnzHh",
   "metadata": {
    "colab": {
     "base_uri": "https://localhost:8080/",
     "height": 278
    },
    "id": "iw5UJ0-fnzHh",
    "outputId": "b24400e7-9e67-4005-97d9-85ef61936fae"
   },
   "outputs": [
    {
     "data": {
      "image/png": "[encoded data removed]",
      "text/plain": [
       "<Figure size 432x288 with 1 Axes>"
      ]
     },
     "metadata": {
      "needs_background": "light",
      "tags": []
     },
     "output_type": "display_data"
    }
   ],
   "source": [
    "sns.boxplot(x=summery_df.subscriberCount.values)\n",
    "plt.show()"
   ]
  },
  {
   "cell_type": "code",
   "execution_count": null,
   "id": "328fc57b",
   "metadata": {
    "colab": {
     "base_uri": "https://localhost:8080/"
    },
    "id": "328fc57b",
    "outputId": "784f5421-a89f-48fe-b0ff-2283e29eef07",
    "scrolled": true
   },
   "outputs": [
    {
     "data": {
      "text/plain": [
       "datetime.date(2020, 3, 7)"
      ]
     },
     "execution_count": 76,
     "metadata": {
      "tags": []
     },
     "output_type": "execute_result"
    }
   ],
   "source": [
    "# display the yougest channel\n",
    "summery_df.publishedDate.max().date()"
   ]
  },
  {
   "cell_type": "code",
   "execution_count": null,
   "id": "283bca0a",
   "metadata": {
    "colab": {
     "base_uri": "https://localhost:8080/",
     "height": 1000
    },
    "id": "283bca0a",
    "outputId": "ba245bb0-54af-46bd-e2bd-43f2f400bed4"
   },
   "outputs": [
    {
     "data": {
      "text/html": [
       "<div>\n",
       "<style scoped>\n",
       "    .dataframe tbody tr th:only-of-type {\n",
       "        vertical-align: middle;\n",
       "    }\n",
       "\n",
       "    .dataframe tbody tr th {\n",
       "        vertical-align: top;\n",
       "    }\n",
       "\n",
       "    .dataframe thead th {\n",
       "        text-align: right;\n",
       "    }\n",
       "</style>\n",
       "<table border=\"1\" class=\"dataframe\">\n",
       "  <thead>\n",
       "    <tr style=\"text-align: right;\">\n",
       "      <th></th>\n",
       "      <th>channelName</th>\n",
       "      <th>title</th>\n",
       "      <th>channelId</th>\n",
       "      <th>url</th>\n",
       "      <th>description</th>\n",
       "      <th>countryCode</th>\n",
       "      <th>viewCount</th>\n",
       "      <th>subscriberCount</th>\n",
       "      <th>videoCount</th>\n",
       "      <th>publishedAt</th>\n",
       "      <th>uploads</th>\n",
       "      <th>publishedDate</th>\n",
       "      <th>country</th>\n",
       "      <th>countryOther</th>\n",
       "      <th>continent</th>\n",
       "      <th>gender</th>\n",
       "    </tr>\n",
       "  </thead>\n",
       "  <tbody>\n",
       "    <tr>\n",
       "      <th>24</th>\n",
       "      <td>WesBos</td>\n",
       "      <td>Wes Bos</td>\n",
       "      <td>UCoebwHSTvwalADTJhps0emA</td>\n",
       "      <td>https://www.youtube.com/user/wesbos</td>\n",
       "      <td>HTML, CSS, JavaScript and WordPress web develo...</td>\n",
       "      <td>CA</td>\n",
       "      <td>6790590</td>\n",
       "      <td>131000</td>\n",
       "      <td>234</td>\n",
       "      <td>2006-01-26T04:15:36Z</td>\n",
       "      <td>UUoebwHSTvwalADTJhps0emA</td>\n",
       "      <td>2006-01-26</td>\n",
       "      <td>Canada</td>\n",
       "      <td>Canada</td>\n",
       "      <td>North america</td>\n",
       "      <td>Male</td>\n",
       "    </tr>\n",
       "    <tr>\n",
       "      <th>33</th>\n",
       "      <td>Scott Hansellman</td>\n",
       "      <td>Scott Hanselman</td>\n",
       "      <td>UCL-fHOdarou-CR2XUmK48Og</td>\n",
       "      <td>https://www.youtube.com/user/shanselman</td>\n",
       "      <td>I'm a teacher. I speak all over to whomever wi...</td>\n",
       "      <td>US</td>\n",
       "      <td>8895355</td>\n",
       "      <td>124000</td>\n",
       "      <td>307</td>\n",
       "      <td>2006-03-15T10:14:39Z</td>\n",
       "      <td>UUL-fHOdarou-CR2XUmK48Og</td>\n",
       "      <td>2006-03-15</td>\n",
       "      <td>United States</td>\n",
       "      <td>United States</td>\n",
       "      <td>North america</td>\n",
       "      <td>Male</td>\n",
       "    </tr>\n",
       "    <tr>\n",
       "      <th>2</th>\n",
       "      <td>Corey Schafer</td>\n",
       "      <td>Corey Schafer</td>\n",
       "      <td>UCCezIgC97PvUuR4_gbFUs5g</td>\n",
       "      <td>https://www.youtube.com/user/schafer5</td>\n",
       "      <td>Welcome to my Channel. This channel is focused...</td>\n",
       "      <td>US</td>\n",
       "      <td>57821417</td>\n",
       "      <td>782000</td>\n",
       "      <td>230</td>\n",
       "      <td>2006-05-31T22:49:22Z</td>\n",
       "      <td>UUCezIgC97PvUuR4_gbFUs5g</td>\n",
       "      <td>2006-05-31</td>\n",
       "      <td>United States</td>\n",
       "      <td>United States</td>\n",
       "      <td>North america</td>\n",
       "      <td>Male</td>\n",
       "    </tr>\n",
       "    <tr>\n",
       "      <th>16</th>\n",
       "      <td>The Coding Train</td>\n",
       "      <td>The Coding Train</td>\n",
       "      <td>UCvjgXvBlbQiydffZU7m1_aw</td>\n",
       "      <td>https://thecodingtrain.com and https://www.you...</td>\n",
       "      <td>All aboard! The Coding Train is on its way wit...</td>\n",
       "      <td>US</td>\n",
       "      <td>85934046</td>\n",
       "      <td>1280000</td>\n",
       "      <td>1112</td>\n",
       "      <td>2006-07-03T18:24:29Z</td>\n",
       "      <td>UUvjgXvBlbQiydffZU7m1_aw</td>\n",
       "      <td>2006-07-03</td>\n",
       "      <td>United States</td>\n",
       "      <td>United States</td>\n",
       "      <td>North america</td>\n",
       "      <td>Male</td>\n",
       "    </tr>\n",
       "    <tr>\n",
       "      <th>54</th>\n",
       "      <td>chuck severance</td>\n",
       "      <td>Chuck Severance</td>\n",
       "      <td>UChYfrRp_CWyqOt-ZYJGOgmA</td>\n",
       "      <td>https://m.youtube.com/user/csev</td>\n",
       "      <td>NaN</td>\n",
       "      <td>US</td>\n",
       "      <td>7701297</td>\n",
       "      <td>61200</td>\n",
       "      <td>876</td>\n",
       "      <td>2006-08-19T14:24:00Z</td>\n",
       "      <td>UUhYfrRp_CWyqOt-ZYJGOgmA</td>\n",
       "      <td>2006-08-19</td>\n",
       "      <td>United States</td>\n",
       "      <td>United States</td>\n",
       "      <td>North america</td>\n",
       "      <td>Male</td>\n",
       "    </tr>\n",
       "    <tr>\n",
       "      <th>63</th>\n",
       "      <td>Ryan Dhungel</td>\n",
       "      <td>Ryan Dhungel</td>\n",
       "      <td>UCu47q4mYoq9t0bINCWaTsgA</td>\n",
       "      <td>https://www.youtube.com/c/narayandhungel</td>\n",
       "      <td>Simplified Web Development Tutorials on PHP, L...</td>\n",
       "      <td>AU</td>\n",
       "      <td>248023</td>\n",
       "      <td>1950</td>\n",
       "      <td>162</td>\n",
       "      <td>2007-03-30T18:08:53Z</td>\n",
       "      <td>UUu47q4mYoq9t0bINCWaTsgA</td>\n",
       "      <td>2007-03-30</td>\n",
       "      <td>Australia</td>\n",
       "      <td>Australia</td>\n",
       "      <td>Oceania</td>\n",
       "      <td>Male</td>\n",
       "    </tr>\n",
       "    <tr>\n",
       "      <th>45</th>\n",
       "      <td>Derek Banas</td>\n",
       "      <td>Derek Banas</td>\n",
       "      <td>UCwRXb5dUK4cvsHbx-rGzSgw</td>\n",
       "      <td>https://www.youtube.com/c/derekbanas</td>\n",
       "      <td>I make tutorials based on your requests. I wil...</td>\n",
       "      <td>US</td>\n",
       "      <td>107285975</td>\n",
       "      <td>1130000</td>\n",
       "      <td>1158</td>\n",
       "      <td>2008-08-12T15:35:35Z</td>\n",
       "      <td>UUwRXb5dUK4cvsHbx-rGzSgw</td>\n",
       "      <td>2008-08-12</td>\n",
       "      <td>United States</td>\n",
       "      <td>United States</td>\n",
       "      <td>North america</td>\n",
       "      <td>Male</td>\n",
       "    </tr>\n",
       "    <tr>\n",
       "      <th>61</th>\n",
       "      <td>Abhishek Thakur</td>\n",
       "      <td>Abhishek Thakur</td>\n",
       "      <td>UCBPRJjIWfyNG4X-CRbnv78A</td>\n",
       "      <td>https://www.youtube.com/c/AbhishekThakurAbhi</td>\n",
       "      <td>I make videos about applied machine learning, ...</td>\n",
       "      <td>NO</td>\n",
       "      <td>940855</td>\n",
       "      <td>47100</td>\n",
       "      <td>92</td>\n",
       "      <td>2009-05-24T11:41:32Z</td>\n",
       "      <td>UUBPRJjIWfyNG4X-CRbnv78A</td>\n",
       "      <td>2009-05-24</td>\n",
       "      <td>Norway</td>\n",
       "      <td>Norway</td>\n",
       "      <td>Europe</td>\n",
       "      <td>Male</td>\n",
       "    </tr>\n",
       "    <tr>\n",
       "      <th>8</th>\n",
       "      <td>Caleb Curry</td>\n",
       "      <td>Caleb Curry</td>\n",
       "      <td>UCZUyPT9DkJWmS_DzdOi7RIA</td>\n",
       "      <td>https://www.youtube.com/user/CalebTheVideoMaker2</td>\n",
       "      <td>Programming Made Fun and Simple  \\n\\nHigh qual...</td>\n",
       "      <td>US</td>\n",
       "      <td>27947936</td>\n",
       "      <td>379000</td>\n",
       "      <td>1386</td>\n",
       "      <td>2009-08-18T18:32:42Z</td>\n",
       "      <td>UUZUyPT9DkJWmS_DzdOi7RIA</td>\n",
       "      <td>2009-08-18</td>\n",
       "      <td>United States</td>\n",
       "      <td>United States</td>\n",
       "      <td>North america</td>\n",
       "      <td>Male</td>\n",
       "    </tr>\n",
       "    <tr>\n",
       "      <th>1</th>\n",
       "      <td>Traversy Media</td>\n",
       "      <td>Traversy Media</td>\n",
       "      <td>UC29ju8bIPH5as8OGnQzwJyA</td>\n",
       "      <td>https://www.youtube.com/user/TechGuyWeb</td>\n",
       "      <td>Traversy Media features the best online web de...</td>\n",
       "      <td>US</td>\n",
       "      <td>140038994</td>\n",
       "      <td>1540000</td>\n",
       "      <td>879</td>\n",
       "      <td>2009-10-30T21:33:14Z</td>\n",
       "      <td>UU29ju8bIPH5as8OGnQzwJyA</td>\n",
       "      <td>2009-10-30</td>\n",
       "      <td>United States</td>\n",
       "      <td>United States</td>\n",
       "      <td>North america</td>\n",
       "      <td>Male</td>\n",
       "    </tr>\n",
       "  </tbody>\n",
       "</table>\n",
       "</div>"
      ],
      "text/plain": [
       "         channelName             title  ...      continent gender\n",
       "24            WesBos           Wes Bos  ...  North america   Male\n",
       "33  Scott Hansellman   Scott Hanselman  ...  North america   Male\n",
       "2      Corey Schafer     Corey Schafer  ...  North america   Male\n",
       "16  The Coding Train  The Coding Train  ...  North america   Male\n",
       "54   chuck severance   Chuck Severance  ...  North america   Male\n",
       "63      Ryan Dhungel      Ryan Dhungel  ...        Oceania   Male\n",
       "45       Derek Banas       Derek Banas  ...  North america   Male\n",
       "61  Abhishek Thakur    Abhishek Thakur  ...         Europe   Male\n",
       "8        Caleb Curry       Caleb Curry  ...  North america   Male\n",
       "1     Traversy Media    Traversy Media  ...  North america   Male\n",
       "\n",
       "[10 rows x 16 columns]"
      ]
     },
     "execution_count": 77,
     "metadata": {
      "tags": []
     },
     "output_type": "execute_result"
    }
   ],
   "source": [
    "summery_df.sort_values(by='publishedDate').head(10)"
   ]
  },
  {
   "cell_type": "code",
   "execution_count": null,
   "id": "d6a02e7e",
   "metadata": {
    "id": "d6a02e7e"
   },
   "outputs": [],
   "source": [
    "summery_df.to_csv('summeryCleanDB.csv' ,index=False) #"
   ]
  },
  {
   "cell_type": "markdown",
   "id": "XRhMmezkDg6E",
   "metadata": {
    "id": "XRhMmezkDg6E"
   },
   "source": [
    "##### group by year of creation"
   ]
  },
  {
   "cell_type": "code",
   "execution_count": null,
   "id": "XHvxfJxYI9Uo",
   "metadata": {
    "id": "XHvxfJxYI9Uo"
   },
   "outputs": [],
   "source": [
    "summery_df['year'] = summery_df.publishedDate.dt.year"
   ]
  },
  {
   "cell_type": "code",
   "execution_count": null,
   "id": "FoexB65lMUpZ",
   "metadata": {
    "colab": {
     "base_uri": "https://localhost:8080/"
    },
    "id": "FoexB65lMUpZ",
    "outputId": "0e951bea-17e8-4042-ebcc-e724e4500f7e"
   },
   "outputs": [
    {
     "data": {
      "text/plain": [
       "CategoricalIndex(['United States', 'India', 'Other', 'Canada', 'Australia',\n",
       "                  'United Kingdom', 'Norway'],\n",
       "                 categories=['Australia', 'Canada', 'India', 'Norway', 'Other', 'United Kingdom', 'United States'], ordered=False, dtype='category')"
      ]
     },
     "execution_count": 80,
     "metadata": {
      "tags": []
     },
     "output_type": "execute_result"
    }
   ],
   "source": [
    "summery_df.countryOther.value_counts().index"
   ]
  },
  {
   "cell_type": "markdown",
   "id": "ln4zfnYgDoGK",
   "metadata": {
    "id": "ln4zfnYgDoGK"
   },
   "source": [
    "##### viewsCounts vs subric vd videosCount"
   ]
  },
  {
   "cell_type": "markdown",
   "id": "PYzL-xFZWTf_",
   "metadata": {
    "id": "PYzL-xFZWTf_"
   },
   "source": [
    "In next section, we will be using Z-score to to fetlter outiers.  \n",
    "corrolation between `viewCount`, `subscriberCount` and `videoCount` column."
   ]
  },
  {
   "cell_type": "code",
   "execution_count": null,
   "id": "9AKNeTp9IBOR",
   "metadata": {
    "id": "9AKNeTp9IBOR"
   },
   "outputs": [],
   "source": [
    "from scipy.stats import  zscore\n",
    "import numpy as np\n",
    "\n",
    "\n",
    "\n",
    "z_scores = zscore(summery_df[[\"viewCount\", \"subscriberCount\",  'videoCount']])\n",
    "abs_z_scores = np.abs(z_scores)\n",
    "\n",
    "filtered_entries = (abs_z_scores < 3).all(axis=1)\n",
    "\n",
    "df = summery_df[filtered_entries]"
   ]
  },
  {
   "cell_type": "code",
   "execution_count": null,
   "id": "oSPpPDSTlLk0",
   "metadata": {
    "colab": {
     "base_uri": "https://localhost:8080/"
    },
    "id": "oSPpPDSTlLk0",
    "outputId": "849f53ed-1d4f-456e-9372-bac78716be65"
   },
   "outputs": [
    {
     "data": {
      "text/plain": [
       "(2010.0, 2015.0]      28\n",
       "(2015.0, 2020.0]      24\n",
       "(2005.999, 2010.0]    12\n",
       "Name: year, dtype: int64"
      ]
     },
     "execution_count": 82,
     "metadata": {
      "tags": []
     },
     "output_type": "execute_result"
    }
   ],
   "source": [
    "pd.cut(df.year, [2006, 2010, 2015, 2020], include_lowest=True).value_counts()"
   ]
  },
  {
   "cell_type": "code",
   "execution_count": null,
   "id": "lRZNjb34V_Hm",
   "metadata": {
    "colab": {
     "base_uri": "https://localhost:8080/"
    },
    "id": "lRZNjb34V_Hm",
    "outputId": "06285d6e-a452-4f25-b0b9-ccb492e7ded0"
   },
   "outputs": [
    {
     "name": "stderr",
     "output_type": "stream",
     "text": [
      "/usr/local/lib/python3.7/dist-packages/ipykernel_launcher.py:1: SettingWithCopyWarning: \n",
      "A value is trying to be set on a copy of a slice from a DataFrame.\n",
      "Try using .loc[row_indexer,col_indexer] = value instead\n",
      "\n",
      "See the caveats in the documentation: https://pandas.pydata.org/pandas-docs/stable/user_guide/indexing.html#returning-a-view-versus-a-copy\n",
      "  \"\"\"Entry point for launching an IPython kernel.\n"
     ]
    }
   ],
   "source": [
    "df['yearClass'] = pd.cut(df.year, [2006, 2010, 2015, 2020], include_lowest=True)"
   ]
  },
  {
   "cell_type": "code",
   "execution_count": null,
   "id": "2YVADp2HL30A",
   "metadata": {
    "colab": {
     "base_uri": "https://localhost:8080/",
     "height": 296
    },
    "id": "2YVADp2HL30A",
    "outputId": "34d40839-b77e-48e8-acb5-daa00471ccf4"
   },
   "outputs": [
    {
     "data": {
      "text/plain": [
       "<matplotlib.axes._subplots.AxesSubplot at 0x7fd96ec6f090>"
      ]
     },
     "execution_count": 84,
     "metadata": {
      "tags": []
     },
     "output_type": "execute_result"
    },
    {
     "data": {
      "image/png": "[encoded data removed]",
      "text/plain": [
       "<Figure size 432x288 with 1 Axes>"
      ]
     },
     "metadata": {
      "needs_background": "light",
      "tags": []
     },
     "output_type": "display_data"
    }
   ],
   "source": [
    "sns.countplot(y=\"countryOther\", hue=\"yearClass\", data=df)"
   ]
  },
  {
   "cell_type": "code",
   "execution_count": null,
   "id": "cT2tE_CKIwT_",
   "metadata": {
    "colab": {
     "base_uri": "https://localhost:8080/"
    },
    "id": "cT2tE_CKIwT_",
    "outputId": "41fc3de6-0339-4d5c-994c-8f4b5ce80b76"
   },
   "outputs": [
    {
     "data": {
      "text/plain": [
       "(64, 18)"
      ]
     },
     "execution_count": 85,
     "metadata": {
      "tags": []
     },
     "output_type": "execute_result"
    }
   ],
   "source": [
    "df.shape"
   ]
  },
  {
   "cell_type": "code",
   "execution_count": null,
   "id": "6sJJqCmZDl_R",
   "metadata": {
    "colab": {
     "base_uri": "https://localhost:8080/",
     "height": 370
    },
    "id": "6sJJqCmZDl_R",
    "outputId": "2908777a-010f-4e71-9281-a7bfca49cc28"
   },
   "outputs": [
    {
     "data": {
      "image/png": "[encoded data removed]",
      "text/plain": [
       "<Figure size 360x360 with 1 Axes>"
      ]
     },
     "metadata": {
      "needs_background": "light",
      "tags": []
     },
     "output_type": "display_data"
    }
   ],
   "source": [
    "\n",
    "_ = sns.relplot(x=\"viewCount\", y=\"subscriberCount\",  data=df)#hue=\"size\","
   ]
  },
  {
   "cell_type": "code",
   "execution_count": null,
   "id": "_pGsgHfAHHnv",
   "metadata": {
    "colab": {
     "base_uri": "https://localhost:8080/",
     "height": 370
    },
    "id": "_pGsgHfAHHnv",
    "outputId": "4321fb97-0874-48a5-9e1a-3e03fc946e28"
   },
   "outputs": [
    {
     "data": {
      "image/png": "[encoded data removed]",
      "text/plain": [
       "<Figure size 424.75x360 with 1 Axes>"
      ]
     },
     "metadata": {
      "needs_background": "light",
      "tags": []
     },
     "output_type": "display_data"
    }
   ],
   "source": [
    "_ = sns.relplot(x=\"viewCount\", y=\"subscriberCount\",  hue='videoCount',data=df)"
   ]
  },
  {
   "cell_type": "code",
   "execution_count": null,
   "id": "9yRgXel9JVf1",
   "metadata": {
    "colab": {
     "base_uri": "https://localhost:8080/"
    },
    "id": "9yRgXel9JVf1",
    "outputId": "9869d6c8-69c8-463a-a9e3-6dac64a19b83"
   },
   "outputs": [
    {
     "data": {
      "text/plain": [
       "2016    10\n",
       "2015     9\n",
       "2018     7\n",
       "2012     6\n",
       "2014     5\n",
       "2011     5\n",
       "2006     5\n",
       "2017     4\n",
       "2013     3\n",
       "2009     3\n",
       "2019     2\n",
       "2010     2\n",
       "2020     1\n",
       "2008     1\n",
       "2007     1\n",
       "Name: year, dtype: int64"
      ]
     },
     "execution_count": 88,
     "metadata": {
      "tags": []
     },
     "output_type": "execute_result"
    }
   ],
   "source": [
    "df['year'].value_counts()"
   ]
  },
  {
   "cell_type": "code",
   "execution_count": null,
   "id": "9RihHot9ImlJ",
   "metadata": {
    "colab": {
     "base_uri": "https://localhost:8080/",
     "height": 370
    },
    "id": "9RihHot9ImlJ",
    "outputId": "74bd45d6-82c5-4a39-910e-dbe1af835143"
   },
   "outputs": [
    {
     "data": {
      "image/png": "[encoded data removed]",
      "text/plain": [
       "<Figure size 360x360 with 1 Axes>"
      ]
     },
     "metadata": {
      "needs_background": "light",
      "tags": []
     },
     "output_type": "display_data"
    }
   ],
   "source": [
    "_ = sns.relplot(x=\"viewCount\", y=\"subscriberCount\",  data=df)"
   ]
  },
  {
   "cell_type": "code",
   "execution_count": null,
   "id": "Vi_sK6cOISBs",
   "metadata": {
    "colab": {
     "base_uri": "https://localhost:8080/",
     "height": 290
    },
    "id": "Vi_sK6cOISBs",
    "outputId": "e6924079-4b54-4157-ec1c-a04f42c43cb9"
   },
   "outputs": [
    {
     "data": {
      "image/png": "[encoded data removed]",
      "text/plain": [
       "<Figure size 432x288 with 1 Axes>"
      ]
     },
     "metadata": {
      "needs_background": "light",
      "tags": []
     },
     "output_type": "display_data"
    }
   ],
   "source": [
    "_ = sns.regplot(x=\"viewCount\", y=\"subscriberCount\",data=df,  x_estimator=np.mean)"
   ]
  },
  {
   "cell_type": "code",
   "execution_count": null,
   "id": "iGa4q11BJF1w",
   "metadata": {
    "colab": {
     "base_uri": "https://localhost:8080/",
     "height": 425
    },
    "id": "iGa4q11BJF1w",
    "outputId": "7e79acb0-8aa0-4d89-e300-9b41e08eee86"
   },
   "outputs": [
    {
     "name": "stderr",
     "output_type": "stream",
     "text": [
      "/usr/local/lib/python3.7/dist-packages/statsmodels/tools/_testing.py:19: FutureWarning: pandas.util.testing is deprecated. Use the functions in the public API at pandas.testing instead.\n",
      "  import pandas.util.testing as tm\n"
     ]
    },
    {
     "data": {
      "image/png": "[encoded data removed]",
      "text/plain": [
       "<Figure size 360x360 with 1 Axes>"
      ]
     },
     "metadata": {
      "needs_background": "light",
      "tags": []
     },
     "output_type": "display_data"
    }
   ],
   "source": [
    "\n",
    "_ = sns.lmplot(x=\"viewCount\", y=\"subscriberCount\",data=df,  lowess=True)"
   ]
  },
  {
   "cell_type": "code",
   "execution_count": null,
   "id": "TcE3_iNFJibA",
   "metadata": {
    "colab": {
     "base_uri": "https://localhost:8080/",
     "height": 175
    },
    "id": "TcE3_iNFJibA",
    "outputId": "e5f44bbc-6380-49dc-a56a-7d77bd233b99"
   },
   "outputs": [
    {
     "data": {
      "text/html": [
       "<div>\n",
       "<style scoped>\n",
       "    .dataframe tbody tr th:only-of-type {\n",
       "        vertical-align: middle;\n",
       "    }\n",
       "\n",
       "    .dataframe tbody tr th {\n",
       "        vertical-align: top;\n",
       "    }\n",
       "\n",
       "    .dataframe thead th {\n",
       "        text-align: right;\n",
       "    }\n",
       "</style>\n",
       "<table border=\"1\" class=\"dataframe\">\n",
       "  <thead>\n",
       "    <tr style=\"text-align: right;\">\n",
       "      <th></th>\n",
       "      <th>viewCount</th>\n",
       "      <th>subscriberCount</th>\n",
       "      <th>videoCount</th>\n",
       "      <th>year</th>\n",
       "    </tr>\n",
       "  </thead>\n",
       "  <tbody>\n",
       "    <tr>\n",
       "      <th>viewCount</th>\n",
       "      <td>1.000000</td>\n",
       "      <td>0.915660</td>\n",
       "      <td>0.348746</td>\n",
       "      <td>-0.084516</td>\n",
       "    </tr>\n",
       "    <tr>\n",
       "      <th>subscriberCount</th>\n",
       "      <td>0.915660</td>\n",
       "      <td>1.000000</td>\n",
       "      <td>0.180674</td>\n",
       "      <td>0.012036</td>\n",
       "    </tr>\n",
       "    <tr>\n",
       "      <th>videoCount</th>\n",
       "      <td>0.348746</td>\n",
       "      <td>0.180674</td>\n",
       "      <td>1.000000</td>\n",
       "      <td>-0.355324</td>\n",
       "    </tr>\n",
       "    <tr>\n",
       "      <th>year</th>\n",
       "      <td>-0.084516</td>\n",
       "      <td>0.012036</td>\n",
       "      <td>-0.355324</td>\n",
       "      <td>1.000000</td>\n",
       "    </tr>\n",
       "  </tbody>\n",
       "</table>\n",
       "</div>"
      ],
      "text/plain": [
       "                 viewCount  subscriberCount  videoCount      year\n",
       "viewCount         1.000000         0.915660    0.348746 -0.084516\n",
       "subscriberCount   0.915660         1.000000    0.180674  0.012036\n",
       "videoCount        0.348746         0.180674    1.000000 -0.355324\n",
       "year             -0.084516         0.012036   -0.355324  1.000000"
      ]
     },
     "execution_count": 92,
     "metadata": {
      "tags": []
     },
     "output_type": "execute_result"
    }
   ],
   "source": [
    "\n",
    "# Compute the correlation matrix\n",
    "corr = df.corr()\n",
    "corr"
   ]
  },
  {
   "cell_type": "markdown",
   "id": "9JowASq4K2UO",
   "metadata": {
    "id": "9JowASq4K2UO"
   },
   "source": [
    "corrolation strong between `viewCount` and `subscriberCount`"
   ]
  },
  {
   "cell_type": "code",
   "execution_count": null,
   "id": "ELMUi2sLKG_C",
   "metadata": {
    "colab": {
     "base_uri": "https://localhost:8080/",
     "height": 537
    },
    "id": "ELMUi2sLKG_C",
    "outputId": "8fc53b29-6bd8-4bbe-d979-69192f5fe00a"
   },
   "outputs": [
    {
     "data": {
      "image/png": "[encoded data removed]",
      "text/plain": [
       "<Figure size 792x648 with 2 Axes>"
      ]
     },
     "metadata": {
      "needs_background": "light",
      "tags": []
     },
     "output_type": "display_data"
    }
   ],
   "source": [
    "# code from https://seaborn.pydata.org/examples/many_pairwise_correlations.html\n",
    "# Generate a mask for the upper triangle\n",
    "mask = np.triu(np.ones_like(corr, dtype=bool))\n",
    "\n",
    "# Set up the matplotlib figure\n",
    "f, ax = plt.subplots(figsize=(11, 9))\n",
    "\n",
    "# Generate a custom diverging colormap\n",
    "cmap = sns.diverging_palette(230, 20, as_cmap=True)\n",
    "\n",
    "# Draw the heatmap with the mask and correct aspect ratio\n",
    "sns.heatmap(corr, mask=mask, cmap=cmap, vmax=1, center=0,\n",
    "            square=True, linewidths=.5, cbar_kws={\"shrink\": .5})\n",
    "plt.show()\n"
   ]
  },
  {
   "cell_type": "markdown",
   "id": "odRGj448LuGd",
   "metadata": {
    "id": "odRGj448LuGd"
   },
   "source": [
    "It is weak correlation between `year` and `videoCount` . the intuitive idea that the  younber the channel is the lower is the total number of uploeded videos."
   ]
  },
  {
   "cell_type": "code",
   "execution_count": null,
   "id": "TnrHoAevmQXS",
   "metadata": {
    "colab": {
     "base_uri": "https://localhost:8080/"
    },
    "id": "TnrHoAevmQXS",
    "outputId": "476b0d7f-4ea5-4dbb-bebd-ce21288b0f74"
   },
   "outputs": [
    {
     "name": "stdout",
     "output_type": "stream",
     "text": [
      "<class 'pandas.core.frame.DataFrame'>\n",
      "Int64Index: 64 entries, 0 to 67\n",
      "Data columns (total 18 columns):\n",
      " #   Column           Non-Null Count  Dtype         \n",
      "---  ------           --------------  -----         \n",
      " 0   channelName      64 non-null     object        \n",
      " 1   title            64 non-null     object        \n",
      " 2   channelId        64 non-null     object        \n",
      " 3   url              64 non-null     object        \n",
      " 4   description      63 non-null     object        \n",
      " 5   countryCode      64 non-null     category      \n",
      " 6   viewCount        64 non-null     int64         \n",
      " 7   subscriberCount  64 non-null     int32         \n",
      " 8   videoCount       64 non-null     int32         \n",
      " 9   publishedAt      64 non-null     object        \n",
      " 10  uploads          64 non-null     object        \n",
      " 11  publishedDate    64 non-null     datetime64[ns]\n",
      " 12  country          64 non-null     category      \n",
      " 13  countryOther     64 non-null     category      \n",
      " 14  continent        64 non-null     category      \n",
      " 15  gender           64 non-null     object        \n",
      " 16  year             64 non-null     int64         \n",
      " 17  yearClass        64 non-null     category      \n",
      "dtypes: category(5), datetime64[ns](1), int32(2), int64(2), object(8)\n",
      "memory usage: 11.5+ KB\n"
     ]
    }
   ],
   "source": [
    "df.info()"
   ]
  },
  {
   "cell_type": "code",
   "execution_count": null,
   "id": "-10-pvjimyfq",
   "metadata": {
    "colab": {
     "base_uri": "https://localhost:8080/",
     "height": 175
    },
    "id": "-10-pvjimyfq",
    "outputId": "d1b8e901-4cb2-4dfc-b840-f159e3980bbe"
   },
   "outputs": [
    {
     "data": {
      "text/html": [
       "<div>\n",
       "<style scoped>\n",
       "    .dataframe tbody tr th:only-of-type {\n",
       "        vertical-align: middle;\n",
       "    }\n",
       "\n",
       "    .dataframe tbody tr th {\n",
       "        vertical-align: top;\n",
       "    }\n",
       "\n",
       "    .dataframe thead th {\n",
       "        text-align: right;\n",
       "    }\n",
       "</style>\n",
       "<table border=\"1\" class=\"dataframe\">\n",
       "  <thead>\n",
       "    <tr style=\"text-align: right;\">\n",
       "      <th></th>\n",
       "      <th>countryCode</th>\n",
       "      <th>country</th>\n",
       "      <th>countryOther</th>\n",
       "      <th>continent</th>\n",
       "      <th>yearClass</th>\n",
       "    </tr>\n",
       "  </thead>\n",
       "  <tbody>\n",
       "    <tr>\n",
       "      <th>count</th>\n",
       "      <td>64</td>\n",
       "      <td>64</td>\n",
       "      <td>64</td>\n",
       "      <td>64</td>\n",
       "      <td>64</td>\n",
       "    </tr>\n",
       "    <tr>\n",
       "      <th>unique</th>\n",
       "      <td>13</td>\n",
       "      <td>13</td>\n",
       "      <td>7</td>\n",
       "      <td>5</td>\n",
       "      <td>3</td>\n",
       "    </tr>\n",
       "    <tr>\n",
       "      <th>top</th>\n",
       "      <td>US</td>\n",
       "      <td>United States</td>\n",
       "      <td>United States</td>\n",
       "      <td>North america</td>\n",
       "      <td>(2010.0, 2015.0]</td>\n",
       "    </tr>\n",
       "    <tr>\n",
       "      <th>freq</th>\n",
       "      <td>35</td>\n",
       "      <td>35</td>\n",
       "      <td>35</td>\n",
       "      <td>40</td>\n",
       "      <td>28</td>\n",
       "    </tr>\n",
       "  </tbody>\n",
       "</table>\n",
       "</div>"
      ],
      "text/plain": [
       "       countryCode        country  ...      continent         yearClass\n",
       "count           64             64  ...             64                64\n",
       "unique          13             13  ...              5                 3\n",
       "top             US  United States  ...  North america  (2010.0, 2015.0]\n",
       "freq            35             35  ...             40                28\n",
       "\n",
       "[4 rows x 5 columns]"
      ]
     },
     "execution_count": 95,
     "metadata": {
      "tags": []
     },
     "output_type": "execute_result"
    }
   ],
   "source": [
    "df.describe(include='category')\n"
   ]
  },
  {
   "cell_type": "code",
   "execution_count": null,
   "id": "pmW2Kaj2VyZA",
   "metadata": {
    "colab": {
     "base_uri": "https://localhost:8080/",
     "height": 279
    },
    "id": "pmW2Kaj2VyZA",
    "outputId": "ab253405-fac8-4079-e272-12e366b5627b"
   },
   "outputs": [
    {
     "data": {
      "image/png": "[encoded data removed]",
      "text/plain": [
       "<Figure size 432x288 with 1 Axes>"
      ]
     },
     "metadata": {
      "needs_background": "light",
      "tags": []
     },
     "output_type": "display_data"
    }
   ],
   "source": [
    "_ = sns.regplot(x=\"videoCount\", y=\"year\", data=df)"
   ]
  },
  {
   "cell_type": "code",
   "execution_count": null,
   "id": "fFK_WUqkK1oK",
   "metadata": {
    "colab": {
     "base_uri": "https://localhost:8080/",
     "height": 383
    },
    "id": "fFK_WUqkK1oK",
    "outputId": "df397329-821e-415f-f10a-0c4468fcb904"
   },
   "outputs": [
    {
     "data": {
      "image/png": "[encoded data removed]",
      "text/plain": [
       "<Figure size 421.375x360 with 1 Axes>"
      ]
     },
     "metadata": {
      "needs_background": "light",
      "tags": []
     },
     "output_type": "display_data"
    }
   ],
   "source": [
    "_ = sns.relplot(x=\"videoCount\", y=\"year\", hue='year', data=df)"
   ]
  },
  {
   "cell_type": "code",
   "execution_count": null,
   "id": "ShCwyVlMLtym",
   "metadata": {
    "colab": {
     "base_uri": "https://localhost:8080/",
     "height": 383
    },
    "id": "ShCwyVlMLtym",
    "outputId": "b70cbcd4-621e-435f-9283-fd2a6cdab784"
   },
   "outputs": [
    {
     "data": {
      "image/png": "[encoded data removed]",
      "text/plain": [
       "<Figure size 492.375x360 with 1 Axes>"
      ]
     },
     "metadata": {
      "needs_background": "light",
      "tags": []
     },
     "output_type": "display_data"
    }
   ],
   "source": [
    "sns.relplot(x=\"videoCount\", y=\"year\", hue='yearClass', data=df)\n",
    "plt.hlines(2015.8, 0, df.videoCount.max())\n",
    "plt.hlines(2010.3, 0, df.videoCount.max())\n",
    "plt.vlines(400, 2006, 2020)\n",
    "plt.vlines(800, 2006, 2020)\n",
    "plt.show()"
   ]
  },
  {
   "cell_type": "code",
   "execution_count": null,
   "id": "WVpA7o1_KNiw",
   "metadata": {
    "colab": {
     "base_uri": "https://localhost:8080/",
     "height": 383
    },
    "id": "WVpA7o1_KNiw",
    "outputId": "d655dce2-8eb8-45b5-c4a8-77c9072889e6"
   },
   "outputs": [
    {
     "data": {
      "image/png": "[encoded data removed]",
      "text/plain": [
       "<Figure size 492.375x360 with 1 Axes>"
      ]
     },
     "metadata": {
      "needs_background": "light",
      "tags": []
     },
     "output_type": "display_data"
    }
   ],
   "source": [
    "sns.relplot(x=\"videoCount\", y=\"year\", hue='yearClass', size='subscriberCount',data=df)\n",
    "plt.hlines(2015.8, 0, df.videoCount.max())\n",
    "plt.hlines(2010.3, 0, df.videoCount.max())\n",
    "plt.vlines(400, 2006, 2020)\n",
    "plt.vlines(800, 2006, 2020)\n",
    "plt.show()"
   ]
  },
  {
   "cell_type": "markdown",
   "id": "GAW4ChI0KNOc",
   "metadata": {
    "id": "GAW4ChI0KNOc"
   },
   "source": []
  },
  {
   "cell_type": "markdown",
   "id": "FY84UFckIdip",
   "metadata": {
    "id": "FY84UFckIdip"
   },
   "source": [
    "We tree custer, In to top right group the most of the new channels created in 2016 or later, In to bottom  left to have less than 400 videos. the were there for created in 2010 or before have more than 800 videos. "
   ]
  },
  {
   "cell_type": "code",
   "execution_count": null,
   "id": "om-u3OaFLX32",
   "metadata": {
    "colab": {
     "base_uri": "https://localhost:8080/",
     "height": 296
    },
    "id": "om-u3OaFLX32",
    "outputId": "94ca520a-0ac5-4821-828b-893bee1949d5"
   },
   "outputs": [
    {
     "data": {
      "text/plain": [
       "<matplotlib.axes._subplots.AxesSubplot at 0x7fd965f9f910>"
      ]
     },
     "execution_count": 100,
     "metadata": {
      "tags": []
     },
     "output_type": "execute_result"
    },
    {
     "data": {
      "image/png": "[encoded data removed]",
      "text/plain": [
       "<Figure size 432x288 with 1 Axes>"
      ]
     },
     "metadata": {
      "needs_background": "light",
      "tags": []
     },
     "output_type": "display_data"
    }
   ],
   "source": [
    "sns.countplot(y=\"countryOther\", hue=\"yearClass\",order=summery_df.countryOther.value_counts().index, data=df)"
   ]
  },
  {
   "cell_type": "code",
   "execution_count": null,
   "id": "W4r8q-_9u2WL",
   "metadata": {
    "colab": {
     "base_uri": "https://localhost:8080/",
     "height": 370
    },
    "id": "W4r8q-_9u2WL",
    "outputId": "f2029d73-5020-40af-b68b-6efd2ae1801e"
   },
   "outputs": [
    {
     "data": {
      "image/png": "[encoded data removed]",
      "text/plain": [
       "<Figure size 492.375x360 with 1 Axes>"
      ]
     },
     "metadata": {
      "needs_background": "light",
      "tags": []
     },
     "output_type": "display_data"
    }
   ],
   "source": [
    "_ = sns.relplot(x=\"viewCount\", y=\"subscriberCount\",  hue='yearClass',data=df)"
   ]
  },
  {
   "cell_type": "code",
   "execution_count": null,
   "id": "kfBrho_TiGIa",
   "metadata": {
    "colab": {
     "base_uri": "https://localhost:8080/"
    },
    "id": "kfBrho_TiGIa",
    "outputId": "625e1373-4814-4497-cdc3-ab3c1cf11b7e"
   },
   "outputs": [
    {
     "data": {
      "text/plain": [
       "2006"
      ]
     },
     "execution_count": 102,
     "metadata": {
      "tags": []
     },
     "output_type": "execute_result"
    }
   ],
   "source": [
    "df.year.min()"
   ]
  },
  {
   "cell_type": "code",
   "execution_count": null,
   "id": "trKtGy_hiJG5",
   "metadata": {
    "colab": {
     "base_uri": "https://localhost:8080/"
    },
    "id": "trKtGy_hiJG5",
    "outputId": "c19e41bd-7b91-468d-d4a0-a4e8a6f791e6"
   },
   "outputs": [
    {
     "data": {
      "text/plain": [
       "2020"
      ]
     },
     "execution_count": 103,
     "metadata": {
      "tags": []
     },
     "output_type": "execute_result"
    }
   ],
   "source": [
    "df.year.max()"
   ]
  },
  {
   "cell_type": "code",
   "execution_count": null,
   "id": "mfTmq0e_iOJV",
   "metadata": {
    "colab": {
     "base_uri": "https://localhost:8080/",
     "height": 296
    },
    "id": "mfTmq0e_iOJV",
    "outputId": "9f1ac04d-1a96-4df8-e401-fa3cca0137f0"
   },
   "outputs": [
    {
     "data": {
      "text/plain": [
       "<matplotlib.axes._subplots.AxesSubplot at 0x7fd96f016510>"
      ]
     },
     "execution_count": 104,
     "metadata": {
      "tags": []
     },
     "output_type": "execute_result"
    },
    {
     "data": {
      "image/png": "[encoded data removed]",
      "text/plain": [
       "<Figure size 432x288 with 1 Axes>"
      ]
     },
     "metadata": {
      "needs_background": "light",
      "tags": []
     },
     "output_type": "display_data"
    }
   ],
   "source": [
    "sns.histplot(df, x='videoCount')"
   ]
  },
  {
   "cell_type": "code",
   "execution_count": null,
   "id": "liqQr2Pny8jl",
   "metadata": {
    "colab": {
     "base_uri": "https://localhost:8080/",
     "height": 279
    },
    "id": "liqQr2Pny8jl",
    "outputId": "99e6192d-2945-4639-dea0-590231fd9a04"
   },
   "outputs": [
    {
     "data": {
      "image/png": "[encoded data removed]",
      "text/plain": [
       "<Figure size 432x288 with 1 Axes>"
      ]
     },
     "metadata": {
      "needs_background": "light",
      "tags": []
     },
     "output_type": "display_data"
    }
   ],
   "source": [
    "_ = sns.histplot(df, x='subscriberCount',)"
   ]
  },
  {
   "cell_type": "code",
   "execution_count": null,
   "id": "Agwne8F1zfxe",
   "metadata": {
    "colab": {
     "base_uri": "https://localhost:8080/",
     "height": 279
    },
    "id": "Agwne8F1zfxe",
    "outputId": "cfeaa127-0dd5-4874-9e2c-0349e10767f0"
   },
   "outputs": [
    {
     "data": {
      "image/png": "[encoded data removed]",
      "text/plain": [
       "<Figure size 432x288 with 1 Axes>"
      ]
     },
     "metadata": {
      "needs_background": "light",
      "tags": []
     },
     "output_type": "display_data"
    }
   ],
   "source": [
    "_ = sns.histplot(df, x='subscriberCount', hue='yearClass')"
   ]
  },
  {
   "cell_type": "code",
   "execution_count": null,
   "id": "mC5xW6aozgdr",
   "metadata": {
    "colab": {
     "base_uri": "https://localhost:8080/",
     "height": 296
    },
    "id": "mC5xW6aozgdr",
    "outputId": "87a4a42c-0652-400a-ddaa-c169e11cbbb3"
   },
   "outputs": [
    {
     "data": {
      "text/plain": [
       "<matplotlib.collections.LineCollection at 0x7fd96ee5dad0>"
      ]
     },
     "execution_count": 107,
     "metadata": {
      "tags": []
     },
     "output_type": "execute_result"
    },
    {
     "data": {
      "image/png": "[encoded data removed]",
      "text/plain": [
       "<Figure size 432x288 with 1 Axes>"
      ]
     },
     "metadata": {
      "needs_background": "light",
      "tags": []
     },
     "output_type": "display_data"
    }
   ],
   "source": [
    "sns.histplot(df, x='subscriberCount', hue='yearClass', multiple=\"stack\")\n",
    "plt.vlines(df.subscriberCount.median(),0,35, colors='red')"
   ]
  },
  {
   "cell_type": "code",
   "execution_count": null,
   "id": "84w-0aMf1Pnj",
   "metadata": {
    "colab": {
     "base_uri": "https://localhost:8080/",
     "height": 276
    },
    "id": "84w-0aMf1Pnj",
    "outputId": "0fc71622-04aa-49ee-a92c-07c10ea9f8e9"
   },
   "outputs": [
    {
     "data": {
      "image/png": "[encoded data removed]",
      "text/plain": [
       "<Figure size 432x288 with 1 Axes>"
      ]
     },
     "metadata": {
      "needs_background": "light",
      "tags": []
     },
     "output_type": "display_data"
    }
   ],
   "source": [
    "_ = sns.boxplot(data=df.subscriberCount)"
   ]
  },
  {
   "cell_type": "code",
   "execution_count": null,
   "id": "kcdQZRfw4Z01",
   "metadata": {
    "colab": {
     "base_uri": "https://localhost:8080/"
    },
    "id": "kcdQZRfw4Z01",
    "outputId": "9d745521-1a5f-4817-c22e-2555bba63ea4"
   },
   "outputs": [
    {
     "data": {
      "text/plain": [
       "0.25     99875.0\n",
       "0.50    290000.0\n",
       "0.75    667500.0\n",
       "Name: subscriberCount, dtype: float64"
      ]
     },
     "execution_count": 109,
     "metadata": {
      "tags": []
     },
     "output_type": "execute_result"
    }
   ],
   "source": [
    "quantiles = df.subscriberCount.quantile([0.25,0.5,0.75])\n",
    "quantiles"
   ]
  },
  {
   "cell_type": "code",
   "execution_count": null,
   "id": "AOUSmbm64zjb",
   "metadata": {
    "colab": {
     "base_uri": "https://localhost:8080/"
    },
    "id": "AOUSmbm64zjb",
    "outputId": "f2f1645a-6279-4bb3-dd2f-1e3ed183de39"
   },
   "outputs": [
    {
     "name": "stderr",
     "output_type": "stream",
     "text": [
      "/usr/local/lib/python3.7/dist-packages/ipykernel_launcher.py:1: SettingWithCopyWarning: \n",
      "A value is trying to be set on a copy of a slice from a DataFrame.\n",
      "Try using .loc[row_indexer,col_indexer] = value instead\n",
      "\n",
      "See the caveats in the documentation: https://pandas.pydata.org/pandas-docs/stable/user_guide/indexing.html#returning-a-view-versus-a-copy\n",
      "  \"\"\"Entry point for launching an IPython kernel.\n"
     ]
    }
   ],
   "source": [
    "df['subscriberCountClass'] = pd.cut(df.subscriberCount, [0, quantiles[0.25], quantiles[0.75], df.subscriberCount.max()], include_lowest=True)"
   ]
  },
  {
   "cell_type": "code",
   "execution_count": null,
   "id": "G1kS3v285b5d",
   "metadata": {
    "colab": {
     "base_uri": "https://localhost:8080/"
    },
    "id": "G1kS3v285b5d",
    "outputId": "911535f4-5f85-4f7d-9fa0-0f56ad541c93"
   },
   "outputs": [
    {
     "data": {
      "text/plain": [
       "(99875.0, 667500.0]      32\n",
       "(667500.0, 2380000.0]    16\n",
       "(-0.001, 99875.0]        16\n",
       "Name: subscriberCountClass, dtype: int64"
      ]
     },
     "execution_count": 111,
     "metadata": {
      "tags": []
     },
     "output_type": "execute_result"
    }
   ],
   "source": [
    "df['subscriberCountClass'].value_counts()"
   ]
  },
  {
   "cell_type": "code",
   "execution_count": null,
   "id": "Vt2G2qUT5odO",
   "metadata": {
    "colab": {
     "base_uri": "https://localhost:8080/",
     "height": 383
    },
    "id": "Vt2G2qUT5odO",
    "outputId": "2c906d4f-d1f6-4452-b0d6-9bf5d23ee14a"
   },
   "outputs": [
    {
     "data": {
      "image/png": "[encoded data removed]",
      "text/plain": [
       "<Figure size 510.875x360 with 1 Axes>"
      ]
     },
     "metadata": {
      "needs_background": "light",
      "tags": []
     },
     "output_type": "display_data"
    }
   ],
   "source": [
    "sns.relplot(x=\"videoCount\", y=\"year\", hue='yearClass', size='subscriberCountClass',data=df)\n",
    "plt.hlines(2015.8, 0, df.videoCount.max())\n",
    "plt.hlines(2010.3, 0, df.videoCount.max())\n",
    "plt.vlines(400, 2006, 2020)\n",
    "plt.vlines(800, 2006, 2020)\n",
    "plt.show()"
   ]
  },
  {
   "cell_type": "code",
   "execution_count": null,
   "id": "7Eq8M17A2uQe",
   "metadata": {
    "id": "7Eq8M17A2uQe"
   },
   "outputs": [],
   "source": [
    "from sklearn.preprocessing import MinMaxScaler\n",
    "\n",
    "# create a scaler object\n",
    "scaler = MinMaxScaler()\n",
    "# fit and transform the data\n",
    "numerics = ['int16', 'int32', 'int64', 'float16', 'float32', 'float64']\n",
    "df_norm = pd.DataFrame(scaler.fit_transform(df.select_dtypes(include=numerics)), columns=df.select_dtypes(include=numerics).columns)"
   ]
  },
  {
   "cell_type": "code",
   "execution_count": null,
   "id": "68o-d3yw3Syi",
   "metadata": {
    "colab": {
     "base_uri": "https://localhost:8080/",
     "height": 282
    },
    "id": "68o-d3yw3Syi",
    "outputId": "5285592a-31f2-46d0-a549-bad22048b41f"
   },
   "outputs": [
    {
     "data": {
      "text/plain": [
       "<matplotlib.axes._subplots.AxesSubplot at 0x7fd964cdf750>"
      ]
     },
     "execution_count": 114,
     "metadata": {
      "tags": []
     },
     "output_type": "execute_result"
    },
    {
     "data": {
      "image/png": "[encoded data removed]",
      "text/plain": [
       "<Figure size 432x288 with 1 Axes>"
      ]
     },
     "metadata": {
      "needs_background": "light",
      "tags": []
     },
     "output_type": "display_data"
    }
   ],
   "source": [
    "sns.boxplot(data=df_norm)"
   ]
  },
  {
   "cell_type": "code",
   "execution_count": null,
   "id": "VZClcuI90l1r",
   "metadata": {
    "colab": {
     "base_uri": "https://localhost:8080/"
    },
    "id": "VZClcuI90l1r",
    "outputId": "3046d6b8-d5f1-4267-b3ce-bfc52406c628"
   },
   "outputs": [
    {
     "data": {
      "text/plain": [
       "290000.0"
      ]
     },
     "execution_count": 115,
     "metadata": {
      "tags": []
     },
     "output_type": "execute_result"
    }
   ],
   "source": [
    "df.subscriberCount.median()"
   ]
  },
  {
   "cell_type": "code",
   "execution_count": null,
   "id": "RnglcsPk-MrE",
   "metadata": {
    "id": "RnglcsPk-MrE"
   },
   "outputs": [],
   "source": [
    "df.to_csv('data.csv', index=False)"
   ]
  },
  {
   "cell_type": "markdown",
   "id": "e70e5f06",
   "metadata": {
    "id": "e70e5f06"
   },
   "source": [
    "### The next step\n",
    "We will be collecting data for each video and playlist in a single channel. See [Extract YouTube video statistics and playlist]()"
   ]
  }
 ],
 "metadata": {
  "colab": {
   "collapsed_sections": [],
   "name": "dataVisualization.ipynb",
   "provenance": []
  },
  "kernelspec": {
   "display_name": "Python 3",
   "language": "python",
   "name": "python3"
  },
  "language_info": {
   "codemirror_mode": {
    "name": "ipython",
    "version": 3
   },
   "file_extension": ".py",
   "mimetype": "text/x-python",
   "name": "python",
   "nbconvert_exporter": "python",
   "pygments_lexer": "ipython3",
   "version": "3.8.10"
  }
 },
 "nbformat": 4,
 "nbformat_minor": 5
}
