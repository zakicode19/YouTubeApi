{
 "cells": [
  {
   "cell_type": "markdown",
   "id": "1cdf6573",
   "metadata": {},
   "source": [
    "# USING AN API TO EXTRACT DATA FROM ANY YOUTUBE CHANNEL\n",
    "\n",
    "Last month, I came across this video [Python YouTube API Tutorial: Calculating the Duration of a Playlist](https://www.youtube.com/watch?v=coZbOM6E47I&t=16s). The video shows how to calculate the duration of any playlist on YouTube.  This video is part of a tutorial on the YouTube API. The video inspired me to work on my first personal data science project.  Even though the idea is simple, extract and analyze data from YouTube.   \n",
    "The first step of the project is to collect data for a specific YouTube channel by retrieving metric information from each video uploaded to that channel, then the data will be saved and stored to be used later without the need to run the script again.   \n",
    "In the second part of the project (will came soon) we will use data science tools to analyze the data and to get insights from it. We can look for the most popular videos on the channel, the most watched playlist, the relationship between duration and number of views, the relationship between video duration and number of comments, the ratio between likes and dislikes. \n"
   ]
  },
  {
   "cell_type": "markdown",
   "id": "4bc97db8",
   "metadata": {},
   "source": [
    "##  Creating an API Key\n",
    "\n",
    "First things first, we need a YOUTUBE API KEY. I used this video https://www.youtube.com/watch?v=th5_9woFJmk&t=2s to set up my API key and install the packages we need. It's a clear and well explained video. At the end of this video, you can make your first YouTube API request. "
   ]
  },
  {
   "cell_type": "code",
   "execution_count": null,
   "id": "b3b2284b",
   "metadata": {},
   "outputs": [],
   "source": [
    "from googleapiclient.discovery import build\n",
    "import os\n",
    "import pandas as pd\n",
    "import re\n",
    "from datetime import date\n",
    "from dotenv import load_dotenv\n",
    "import json"
   ]
  },
  {
   "cell_type": "markdown",
   "id": "37005cc7",
   "metadata": {},
   "source": [
    "## Hiding the API key\n",
    "we will store the API key in a fille called `.env` and use `dotenv` module to  read it.  \n",
    "check http://jonathansoma.com/lede/foundations-2019/classes/apis/keeping-api-keys-secret/"
   ]
  },
  {
   "cell_type": "code",
   "execution_count": null,
   "id": "d4975b00",
   "metadata": {},
   "outputs": [],
   "source": [
    "load_dotenv()\n",
    "API_KEY = os.getenv('api_key')"
   ]
  },
  {
   "cell_type": "markdown",
   "id": "ebc805f0",
   "metadata": {},
   "source": [
    "## Building a service object\n",
    "\n",
    "Before using the Youtube API to make requests, we need to build a service object.\n",
    "We will use the [`build()`](https://googleapis.github.io/google-api-python-client/docs/epy/googleapiclient.discovery-module.html#build) function to create the service object, we will need to specify the name of the service, in our case `youtube`, the API version as `v3` and we will also need a developer key.\n",
    "For more information, you can always check the [Getting Started](https://github.com/googleapis/google-api-python-client/blob/master/docs/start.md) document from [\n",
    "google-api-python-client documentation](https://github.com/googleapis/google-api-python-client).\n"
   ]
  },
  {
   "cell_type": "code",
   "execution_count": null,
   "id": "1abb514c",
   "metadata": {},
   "outputs": [],
   "source": [
    "youtube = build('youtube', 'v3', developerKey=API_KEY)"
   ]
  },
  {
   "cell_type": "markdown",
   "id": "758d82a6",
   "metadata": {},
   "source": [
    "## Retrieve Statistics for Any YouTube Channel\n",
    "\n",
    "we are ready to make our first request. Since our goal is to collect data for a specific YouTube channel. We need a parameter which uniquely identifies the YouTube channel.   \n",
    "In order to request information about a particular channel, we call the `channel.list` method, and to identify the channel, we can use the channel ID or the username associated with that channel.  \n",
    "Perhaps you are wondering how to find the ID of a channel? Me too.  \n",
    "One way to do it based on this post on [stackoverflow](https://stackoverflow.com/questions/14366648/how-can-i-get-a-channel-id-from-youtube), is to look for either `data-channel-external-id` or `externalId` in the source code  of the channel page. If you fund a better solution, please share it with us.\n"
   ]
  },
  {
   "cell_type": "markdown",
   "id": "f88e731d",
   "metadata": {},
   "source": [
    "In this project we will use the YouTube channel [Corey Schafer](https://www.youtube.com/channel/UCCezIgC97PvUuR4_gbFUs5g) as an example. Because this project is inspired from his YouTube API tutorial. Thanks [Corey Schafer](https://coreyms.com/).  "
   ]
  },
  {
   "cell_type": "code",
   "execution_count": null,
   "id": "cfbcef6d",
   "metadata": {},
   "outputs": [],
   "source": [
    "user_name = 'schafer5' \n",
    "channel_id = 'UCCezIgC97PvUuR4_gbFUs5g'\n",
    "\n",
    "\n",
    "\n",
    "request = youtube.channels().list(\n",
    "        part=\"statistics\",\n",
    "        forUsername=user_name\n",
    "    )\n",
    "response = request.execute()"
   ]
  },
  {
   "cell_type": "code",
   "execution_count": null,
   "id": "b7604d6b",
   "metadata": {
    "scrolled": false
   },
   "outputs": [],
   "source": [
    "print(json.dumps(response, indent=4,sort_keys=True))"
   ]
  },
  {
   "cell_type": "markdown",
   "id": "1a176e7f",
   "metadata": {},
   "source": [
    "We can look for more than one channel, by passing a list of channel ids.     \n",
    "we created a list of channel IDs, by selecting the top 10 channels from the [Top Programmer Guru](https://noonies.tech/award/top-programming-guru) list."
   ]
  },
  {
   "cell_type": "code",
   "execution_count": null,
   "id": "56f8df33",
   "metadata": {},
   "outputs": [],
   "source": [
    "channel_ids = [\"UCWv7vMbMWH4-V0ZXdmDpPBA\", \"UC29ju8bIPH5as8OGnQzwJyA\", \"UCCezIgC97PvUuR4_gbFUs5g\", \"UC4JX40jDee_tINbkjycV4Sg\", \"UCNU_lfiiWBdtULKOw6X0Dig\", \"UC8butISFwT-Wl7EV0hUK0BQ\", \"UCXgGY0wkgOzynnHvSEVmE3A\", \"UCqrILQNl5Ed9Dz6CGMyvMTQ\", \"UCStj-ORBZ7TGK1FwtGAUgbQ\",\"UCZUyPT9DkJWmS_DzdOi7RIA\"  ]"
   ]
  },
  {
   "cell_type": "code",
   "execution_count": null,
   "id": "43b75300",
   "metadata": {},
   "outputs": [],
   "source": [
    "request = youtube.channels().list(\n",
    "        part=\"snippet,contentDetails,statistics\",\n",
    "        id=channel_ids\n",
    "    )\n",
    "response = request.execute()"
   ]
  },
  {
   "cell_type": "code",
   "execution_count": null,
   "id": "c92dbb5b",
   "metadata": {},
   "outputs": [],
   "source": [
    "print(json.dumps(response, indent=4,sort_keys=True))"
   ]
  },
  {
   "cell_type": "markdown",
   "id": "d64463ae",
   "metadata": {},
   "source": [
    "#### Let's see if your favorite channels for learning coding  are in the top 10.\n",
    "(The order in which the channel titles are displayed is random)."
   ]
  },
  {
   "cell_type": "code",
   "execution_count": null,
   "id": "05b7c1c2",
   "metadata": {
    "scrolled": true
   },
   "outputs": [],
   "source": [
    "for item in response['items']:\n",
    "    print(item['snippet']['title'])"
   ]
  },
  {
   "cell_type": "markdown",
   "id": "3785a2b1",
   "metadata": {},
   "source": [
    "#### Let's display the data we collocate for a one channel."
   ]
  },
  {
   "cell_type": "code",
   "execution_count": null,
   "id": "7d4e583a",
   "metadata": {
    "scrolled": true
   },
   "outputs": [],
   "source": [
    "\n",
    "print(json.dumps(item, indent=4,sort_keys=True))"
   ]
  },
  {
   "cell_type": "markdown",
   "id": "a35d7ca3",
   "metadata": {},
   "source": [
    "#### Let's store to result in DataFrame\n",
    "The response to the request can be stored in a table (like DataFrame) to have a better display, also . We are going to save the data as a `csv` file to avoid making requests every time we run the script, to use it for other projects and share it with this jupyter notebook.  \n",
    "We should mention that  using the YouTube API is free, but there is limit quoto of request per day. The qota is about 10,000 units per day. each oparation have different cost retrieveing a list of channels, videos, plalists can cost 1 unit, but search request costs 100 units.   \n",
    "You can check this link for more details about [Calculation quota usage](https://developers.google.com/youtube/v3/getting-started#calculating-quota-usage).            \n",
    "For this reason will limit to collaction of data for only one channel "
   ]
  },
  {
   "cell_type": "code",
   "execution_count": null,
   "id": "76ecdc28",
   "metadata": {
    "scrolled": false
   },
   "outputs": [],
   "source": [
    "channels_stat = {}\n",
    "\n",
    "channels_stat['channelId'] = []\n",
    "channels_stat['title'] = []\n",
    "channels_stat['description'] = []\n",
    "channels_stat['country'] = []\n",
    "channels_stat['viewCount'] = []\n",
    "channels_stat['subscriberCount'] = []\n",
    "channels_stat['videoCount'] = []\n",
    "channels_stat['subscriberCount'] = []\n",
    "channels_stat['publishedAt'] = []\n",
    "channels_stat['uploads'] = []\n",
    "for item in response['items']:\n",
    "    \n",
    "    channels_stat['channelId'].append(item['id'])\n",
    "    channels_stat['title'].append(item['snippet']['title'])\n",
    "    channels_stat['description'].append(item['snippet']['description'])\n",
    "    channels_stat['country'].append(item['snippet']['country'])\n",
    "    channels_stat['viewCount'].append(item['statistics']['viewCount'])\n",
    "    channels_stat['videoCount'].append(item['statistics']['videoCount'])\n",
    "    channels_stat['subscriberCount'].append(item['statistics']['subscriberCount'])\n",
    "    channels_stat['publishedAt'].append(item['snippet']['publishedAt'])\n",
    "    channels_stat['uploads'].append(item['contentDetails']['relatedPlaylists']['uploads'])\n",
    "\n",
    "channels_stat"
   ]
  },
  {
   "cell_type": "code",
   "execution_count": null,
   "id": "7e04cbeb",
   "metadata": {
    "scrolled": true
   },
   "outputs": [],
   "source": [
    "channels_stat = pd.DataFrame.from_dict(channels_stat)\n",
    "channels_stat"
   ]
  },
  {
   "cell_type": "code",
   "execution_count": null,
   "id": "1f8c3ae2",
   "metadata": {},
   "outputs": [],
   "source": [
    "channels_stat.to_csv('channelsDB.csv')"
   ]
  },
  {
   "cell_type": "code",
   "execution_count": null,
   "id": "e0a62ace",
   "metadata": {},
   "outputs": [],
   "source": [
    "channels_stat = pd.read_csv('channelsDB.csv', index_col=0)"
   ]
  },
  {
   "cell_type": "code",
   "execution_count": null,
   "id": "ae8a5829",
   "metadata": {},
   "outputs": [],
   "source": [
    "channels_stat"
   ]
  },
  {
   "cell_type": "code",
   "execution_count": null,
   "id": "69e86c8b",
   "metadata": {},
   "outputs": [],
   "source": [
    "channels_stat.country.value_counts()"
   ]
  },
  {
   "cell_type": "code",
   "execution_count": null,
   "id": "91a48527",
   "metadata": {},
   "outputs": [],
   "source": [
    "channels_stat.videoCount.sort_values()"
   ]
  },
  {
   "cell_type": "code",
   "execution_count": null,
   "id": "53749086",
   "metadata": {
    "scrolled": true
   },
   "outputs": [],
   "source": [
    "channels_stat.describe(include='all')"
   ]
  },
  {
   "cell_type": "markdown",
   "id": "e70e5f06",
   "metadata": {},
   "source": [
    "### The next step\n",
    "We will be collecting data for each video and playlist in a single channel. Just to make sure we can finish the project before we surpass the request quota limit."
   ]
  },
  {
   "cell_type": "code",
   "execution_count": null,
   "id": "f10d1e41",
   "metadata": {},
   "outputs": [],
   "source": [
    "def getVideosId(youtube, channelId):\n",
    "    '''\n",
    "    Get list of all videos ids in youtube channle\n",
    "    \n",
    "    Args:\n",
    "        youtube (servibe object):\n",
    "        channelId (string): the channel id \n",
    "        \n",
    "    Return:\n",
    "        a list of videos ids\n",
    "    '''\n",
    "    videosIdList = []\n",
    "    nextPageToken = None\n",
    "\n",
    "    while True:\n",
    "\n",
    "        request = youtube.search().list(\n",
    "            part=\"snippet\",\n",
    "                channelId=channelId,\n",
    "                maxResults=50,\n",
    "                regionCode='US',\n",
    "                pageToken=nextPageToken,\n",
    "            )\n",
    "        response = request.execute()\n",
    "\n",
    "\n",
    "\n",
    "        for item in response['items']:\n",
    "\n",
    "            if item['id']['kind'] == \"youtube#video\":\n",
    "\n",
    "                videosIdList.append(item['id']['videoId'])\n",
    "\n",
    "        nextPageToken = response.get('nextPageToken')\n",
    "        if not nextPageToken:\n",
    "            break\n",
    "\n",
    "    return videosIdList"
   ]
  },
  {
   "cell_type": "markdown",
   "id": "418fbe7c",
   "metadata": {},
   "source": [
    "### A list of all videos in a youtube channel\n",
    "we will only work with one. we have limit quota of 10.000 on request for "
   ]
  },
  {
   "cell_type": "code",
   "execution_count": null,
   "id": "5f0f0c2a",
   "metadata": {},
   "outputs": [],
   "source": [
    "channelId = channels_stat.loc[9, 'channelId']\n",
    "videosIdList = getVideosId(youtube, channelId)"
   ]
  },
  {
   "cell_type": "code",
   "execution_count": null,
   "id": "fd7256a2",
   "metadata": {},
   "outputs": [],
   "source": [
    "len(videosIdList)"
   ]
  },
  {
   "cell_type": "code",
   "execution_count": null,
   "id": "c78efbdd",
   "metadata": {},
   "outputs": [],
   "source": [
    "today = date.today()"
   ]
  },
  {
   "cell_type": "code",
   "execution_count": null,
   "id": "c49b6ea3",
   "metadata": {
    "scrolled": true
   },
   "outputs": [],
   "source": [
    "f'The channel {channels_stat.loc[9, \"title\"]} has  { len(videosIdList)} videos until {today}.'"
   ]
  },
  {
   "cell_type": "markdown",
   "id": "05fd749d",
   "metadata": {},
   "source": [
    "### A table of all playlists in  youtube channel"
   ]
  },
  {
   "cell_type": "code",
   "execution_count": null,
   "id": "5cf877c1",
   "metadata": {},
   "outputs": [],
   "source": [
    "def getPlaylistId(youtube, channelId):\n",
    "\n",
    "    '''\n",
    "    Get list of all playlist for given channeId  and save result in to database \n",
    "\n",
    "    return:\n",
    "\n",
    "        df (DataFrame): dataframe withe the following columns\n",
    "            plylistId | title | description | itmCount | channelId\n",
    "\n",
    "    '''\n",
    "    pl_dict = {'playlistId':[], 'title': [], 'description': [] ,'itmCount':[], 'channelId':[]}\n",
    "\n",
    "    nextPageToken = None\n",
    "\n",
    "    while True:\n",
    "\n",
    "        pl_request = youtube.playlists().list(\n",
    "            part ='contentDetails, snippet',\n",
    "            channelId=channelId,\n",
    "            maxResults=50,\n",
    "            pageToken=nextPageToken,)\n",
    "        pl_response = pl_request.execute()\n",
    "\n",
    "\n",
    "        for item in pl_response['items']:\n",
    "\n",
    "            pl_dict['playlistId'].append(item['id'])\n",
    "            pl_dict['title'].append(item['snippet']['title'])\n",
    "            pl_dict['description'].append(item['snippet']['description'])\n",
    "            pl_dict['itmCount'].append(item['contentDetails']['itemCount'])\n",
    "            pl_dict['channelId'].append(channelId)\n",
    "\n",
    "        nextPageToken = response.get('nextPageToken')\n",
    "\n",
    "        if not nextPageToken:\n",
    "        \n",
    "            break\n",
    "\n",
    "    df = pd.DataFrame.from_dict(pl_dict)\n",
    "\n",
    "    return df"
   ]
  },
  {
   "cell_type": "code",
   "execution_count": null,
   "id": "60043c94",
   "metadata": {},
   "outputs": [],
   "source": [
    "playlistDb = getPlaylistId(youtube, channelId)"
   ]
  },
  {
   "cell_type": "code",
   "execution_count": null,
   "id": "0547e1fc",
   "metadata": {
    "scrolled": true
   },
   "outputs": [],
   "source": [
    "playlistDb"
   ]
  },
  {
   "cell_type": "code",
   "execution_count": null,
   "id": "d5816d7d",
   "metadata": {},
   "outputs": [],
   "source": [
    "playlistDb.info()"
   ]
  },
  {
   "cell_type": "markdown",
   "id": "afcdbfa8",
   "metadata": {},
   "source": [
    "What the table above miss is some statistics about each playlistId, \n",
    "\tlike the  number of view and duration. \n",
    "\tTo add this information and more we can not use the youtube api diractly, \n",
    "\twe have to go aroud, \n",
    "\tone way to do this is going through each videos in  a playlist."
   ]
  },
  {
   "cell_type": "code",
   "execution_count": null,
   "id": "59c3c303",
   "metadata": {},
   "outputs": [],
   "source": [
    "def getPlaylistItems(youtube, playlist_id):\n",
    "    '''\n",
    "    return videos id  in given  playlist\n",
    "    Args:\n",
    "        youtube (youtube api): youtube api\n",
    "    playlist_id (string): the playlist id\n",
    "    return dic: {video_id: list ,playlist_id: list}\n",
    "    '''\n",
    "\n",
    "    nextPageToken = None\n",
    "    playlist_items = {'videoId': [], 'playlistId': []}\n",
    "\n",
    "    while True:\n",
    "        pl_request = youtube.playlistItems().list(\n",
    "            part ='contentDetails',\n",
    "            playlistId=playlist_id,\n",
    "            maxResults=50,\n",
    "            pageToken=nextPageToken,\n",
    "            )\n",
    "\n",
    "        pl_response = pl_request.execute()\n",
    "\n",
    "\n",
    "        for item in pl_response['items']:\n",
    "\n",
    "            video_id = item['contentDetails']['videoId']\n",
    "            playlist_items['playlistId'].append(playlist_id)\n",
    "            playlist_items['videoId'].append(video_id) # video can in more then one playlist\n",
    "\n",
    "\n",
    "\n",
    "\n",
    "        nextPageToken = pl_response.get('nextPageToken')\n",
    "\n",
    "        if not nextPageToken:\n",
    "            break\n",
    "\n",
    "    return playlist_items"
   ]
  },
  {
   "cell_type": "code",
   "execution_count": null,
   "id": "1f24dcc7",
   "metadata": {},
   "outputs": [],
   "source": [
    "\n",
    "playlists_items = {'videoId': [], 'playlistId': []}\n",
    "# list of all the playlist\n",
    "playlistIds = playlistDb['playlistId'].values \n",
    "\n",
    "def dictUpdate(dict1, dict2):\n",
    "    \n",
    "    '''\n",
    "        councatinute the value of two dictionary with the same keys\n",
    "    '''\n",
    "    \n",
    "    dict3 = {}\n",
    "\n",
    "    for key in dict1:\n",
    "\n",
    "        dict3[key] = dict1[key] + dict2[key]\n",
    "\n",
    "    return dict3"
   ]
  },
  {
   "cell_type": "code",
   "execution_count": null,
   "id": "03d8e027",
   "metadata": {},
   "outputs": [],
   "source": [
    "# get the items in each playlist\n",
    "for playlist_id in playlistIds:\n",
    "\n",
    "    playlist_items = getPlaylistItems(youtube, playlist_id)\n",
    "\n",
    "    playlists_items = dictUpdate(playlists_items, playlist_items)"
   ]
  },
  {
   "cell_type": "markdown",
   "id": "c906864b",
   "metadata": {},
   "source": [
    "Let's save the resuls we get in DataFrame."
   ]
  },
  {
   "cell_type": "code",
   "execution_count": null,
   "id": "5c72e2d0",
   "metadata": {},
   "outputs": [],
   "source": [
    "playlistItemsDB = pd.DataFrame.from_dict(playlists_items)\n",
    "playlistItemsDB['channelId'] = channelId\n"
   ]
  },
  {
   "cell_type": "code",
   "execution_count": null,
   "id": "7a256a7f",
   "metadata": {},
   "outputs": [],
   "source": [
    "playlistItemsDB.head()"
   ]
  },
  {
   "cell_type": "code",
   "execution_count": null,
   "id": "fe350f5b",
   "metadata": {},
   "outputs": [],
   "source": [
    "playlistItemsDB.shape"
   ]
  },
  {
   "cell_type": "code",
   "execution_count": null,
   "id": "300ec2e5",
   "metadata": {},
   "outputs": [],
   "source": [
    "len(playlistItemsDB['videoId'].unique())"
   ]
  },
  {
   "cell_type": "markdown",
   "id": "09151a14",
   "metadata": {},
   "source": [
    "A video can be in more  than one playlist, it can also not belong to any playlist"
   ]
  },
  {
   "cell_type": "markdown",
   "id": "a19399a8",
   "metadata": {},
   "source": [
    "### A table of all videos in  youtube channel\n",
    "We will create dataset of statistics information of each video in the channel."
   ]
  },
  {
   "cell_type": "code",
   "execution_count": null,
   "id": "5331b0db",
   "metadata": {},
   "outputs": [],
   "source": [
    "def getVideoStat(youtube, videos_id_list):\n",
    "\n",
    "    '''\n",
    "    Get statistics about each videos in list \n",
    "    Args:\n",
    "        youtube (youtube api): youtube api\n",
    "        videos_id_list (list): a list of videos id, with less 50 elements\n",
    "    \n",
    "    '''\n",
    "    videos_request = youtube.videos().list(\n",
    "        part='contentDetails, statistics, snippet',\n",
    "        id = ','.join(videos_id_list),\n",
    "    )\n",
    "\n",
    "    videos_response = videos_request.execute()\n",
    "\n",
    "    for item in videos_response['items']:\n",
    "\n",
    "        # vid_dict['playlistId'].append(playlist_id) this column will be add using join\n",
    "        vid_dict['videoId'].append(item['id'])\n",
    "        vid_dict['title'].append(item['snippet']['title'])\n",
    "        vid_dict['tags'].append(item['snippet']['tags'])\n",
    "        vid_dict['viewCount'].append(item['statistics']['viewCount'])\n",
    "        vid_dict['likeCount'].append(item['statistics']['likeCount'])\n",
    "        vid_dict['dislikeCount'].append(item['statistics']['dislikeCount'])\n",
    "        vid_dict['commentCount'].append(item['statistics']['commentCount'])\n",
    "        vid_dict['duration'].append(item['contentDetails']['duration'])\n",
    "        vid_dict['date'].append(item['snippet']['publishedAt'])\n",
    "        vid_dict['channelId'].append(item['snippet']['channelId'])\n",
    "\n"
   ]
  },
  {
   "cell_type": "code",
   "execution_count": null,
   "id": "1af7a16e",
   "metadata": {},
   "outputs": [],
   "source": [
    "import math\n",
    "\n",
    "def make_chunks(data, chunk_size):\n",
    "    \n",
    "    '''Split a data into chunk of given size'''\n",
    "    \n",
    "    num_chunks = math.ceil(len(data) / chunk_size)\n",
    "    \n",
    "    return [data[i:i+chunk_size] for i in range(0, len(data), chunk_size)]"
   ]
  },
  {
   "cell_type": "code",
   "execution_count": null,
   "id": "b58166fc",
   "metadata": {},
   "outputs": [],
   "source": [
    "chunks = make_chunks(videosIdList, 50)"
   ]
  },
  {
   "cell_type": "code",
   "execution_count": null,
   "id": "6bf1f1df",
   "metadata": {},
   "outputs": [],
   "source": [
    "len(chunks)"
   ]
  },
  {
   "cell_type": "code",
   "execution_count": null,
   "id": "17c76663",
   "metadata": {},
   "outputs": [],
   "source": [
    "getVideoStat(youtube, chunks[0])"
   ]
  },
  {
   "cell_type": "code",
   "execution_count": null,
   "id": "7541d409",
   "metadata": {},
   "outputs": [],
   "source": [
    "list_columns = ['videoId','title', 'tags', 'viewCount', 'likeCount', 'dislikeCount', 'commentCount', 'duration','channelId','date']\n",
    "vid_dict = {key : [] for key in list_columns}\n",
    "\n",
    "for chunk in chunks:\n",
    "    getVideoStat(youtube, chunk)\n",
    "\n",
    "videosDB = pd.DataFrame.from_dict(vid_dict)\n",
    "\n",
    "videosDB"
   ]
  },
  {
   "cell_type": "markdown",
   "id": "f9cdacde",
   "metadata": {},
   "source": [
    "It's time to  save all to data we colleact `videosDB` `playlistItemsDB` and `playlistDb` to `csv` file, to use it later "
   ]
  },
  {
   "cell_type": "code",
   "execution_count": null,
   "id": "36006817",
   "metadata": {},
   "outputs": [],
   "source": [
    "videosDB.to_csv('videosDB.csv')\n",
    "playlistItemsDB.to_csv('playlistItemsDB.csv')\n",
    "playlistDb.to_csv('playlistDb.csv')"
   ]
  }
 ],
 "metadata": {
  "kernelspec": {
   "display_name": "Python 3",
   "language": "python",
   "name": "python3"
  },
  "language_info": {
   "codemirror_mode": {
    "name": "ipython",
    "version": 3
   },
   "file_extension": ".py",
   "mimetype": "text/x-python",
   "name": "python",
   "nbconvert_exporter": "python",
   "pygments_lexer": "ipython3",
   "version": "3.8.6"
  }
 },
 "nbformat": 4,
 "nbformat_minor": 5
}
